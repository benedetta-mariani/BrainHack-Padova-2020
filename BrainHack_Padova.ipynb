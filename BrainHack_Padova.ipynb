{
  "nbformat": 4,
  "nbformat_minor": 0,
  "metadata": {
    "colab": {
      "name": "BrainHack_Padova.ipynb",
      "provenance": [],
      "toc_visible": true
    },
    "kernelspec": {
      "name": "python3",
      "display_name": "Python 3"
    }
  },
  "cells": [
    {
      "cell_type": "code",
      "metadata": {
        "id": "j5nkVfOr73gH"
      },
      "source": [
        "from statsmodels.regression import linear_model as sm\n",
        "import pandas as pd\n",
        "import numpy as np\n",
        "import matplotlib.pyplot as plt\n",
        "import seaborn as sns\n",
        "import statsmodels.api as sm2"
      ],
      "execution_count": null,
      "outputs": []
    },
    {
      "cell_type": "code",
      "metadata": {
        "id": "wDWg4hniXdqn"
      },
      "source": [
        "import os\n",
        "import pingouin"
      ],
      "execution_count": null,
      "outputs": []
    },
    {
      "cell_type": "code",
      "metadata": {
        "colab": {
          "base_uri": "https://localhost:8080/",
          "height": 481
        },
        "id": "2qqVbcgK1wCR",
        "outputId": "35fe52c9-4eb6-486b-e7b5-27365139b2e0"
      },
      "source": [
        "csvfile = sorted(os.listdir())[1]\n",
        "df = pd.read_csv(csvfile, sep =  '\\t', index_col = 0)\n",
        "fd.head()"
      ],
      "execution_count": 185,
      "outputs": [
        {
          "output_type": "execute_result",
          "data": {
            "text/html": [
              "<div>\n",
              "<style scoped>\n",
              "    .dataframe tbody tr th:only-of-type {\n",
              "        vertical-align: middle;\n",
              "    }\n",
              "\n",
              "    .dataframe tbody tr th {\n",
              "        vertical-align: top;\n",
              "    }\n",
              "\n",
              "    .dataframe thead th {\n",
              "        text-align: right;\n",
              "    }\n",
              "</style>\n",
              "<table border=\"1\" class=\"dataframe\">\n",
              "  <thead>\n",
              "    <tr style=\"text-align: right;\">\n",
              "      <th></th>\n",
              "      <th>tract</th>\n",
              "      <th>tags</th>\n",
              "      <th>number of tracts</th>\n",
              "      <th>mean length(mm)</th>\n",
              "      <th>span(mm)</th>\n",
              "      <th>curl</th>\n",
              "      <th>elongation</th>\n",
              "      <th>diameter(mm)</th>\n",
              "      <th>volume(mm^3)</th>\n",
              "      <th>trunk volume(mm^3)</th>\n",
              "      <th>branch volume(mm^3)</th>\n",
              "      <th>total surface area(mm^2)</th>\n",
              "      <th>total radius of end regions(mm)</th>\n",
              "      <th>total area of end regions(mm^2)</th>\n",
              "      <th>irregularity</th>\n",
              "      <th>area of end region 1(mm^2)</th>\n",
              "      <th>radius of end region 1(mm)</th>\n",
              "      <th>irregularity of end region 1</th>\n",
              "      <th>area of end region 2(mm^2)</th>\n",
              "      <th>radius of end region 2(mm)</th>\n",
              "      <th>irregularity of end region 2</th>\n",
              "      <th>qa</th>\n",
              "      <th>nqa</th>\n",
              "      <th>dti_fa</th>\n",
              "      <th>md</th>\n",
              "      <th>ad</th>\n",
              "      <th>rd</th>\n",
              "      <th>gfa</th>\n",
              "      <th>iso</th>\n",
              "      <th>rdi</th>\n",
              "      <th>nrdi02L</th>\n",
              "      <th>nrdi04L</th>\n",
              "      <th>nrdi06L</th>\n",
              "      <th>Family_ID</th>\n",
              "      <th>Release</th>\n",
              "      <th>Acquisition</th>\n",
              "      <th>Gender</th>\n",
              "      <th>Gender.1</th>\n",
              "      <th>Age</th>\n",
              "      <th>Age_in_Yrs</th>\n",
              "      <th>...</th>\n",
              "      <th>NEORAW_31</th>\n",
              "      <th>NEORAW_32</th>\n",
              "      <th>NEORAW_33</th>\n",
              "      <th>NEORAW_34</th>\n",
              "      <th>NEORAW_35</th>\n",
              "      <th>NEORAW_36</th>\n",
              "      <th>NEORAW_37</th>\n",
              "      <th>NEORAW_38</th>\n",
              "      <th>NEORAW_39</th>\n",
              "      <th>NEORAW_40</th>\n",
              "      <th>NEORAW_41</th>\n",
              "      <th>NEORAW_42</th>\n",
              "      <th>NEORAW_43</th>\n",
              "      <th>NEORAW_44</th>\n",
              "      <th>NEORAW_45</th>\n",
              "      <th>NEORAW_46</th>\n",
              "      <th>NEORAW_47</th>\n",
              "      <th>NEORAW_48</th>\n",
              "      <th>NEORAW_49</th>\n",
              "      <th>NEORAW_50</th>\n",
              "      <th>NEORAW_51</th>\n",
              "      <th>NEORAW_52</th>\n",
              "      <th>NEORAW_53</th>\n",
              "      <th>NEORAW_54</th>\n",
              "      <th>NEORAW_55</th>\n",
              "      <th>NEORAW_56</th>\n",
              "      <th>NEORAW_57</th>\n",
              "      <th>NEORAW_58</th>\n",
              "      <th>NEORAW_59</th>\n",
              "      <th>NEORAW_60</th>\n",
              "      <th>Noise_Comp</th>\n",
              "      <th>Odor_Unadj</th>\n",
              "      <th>Odor_AgeAdj</th>\n",
              "      <th>PainIntens_RawScore</th>\n",
              "      <th>PainInterf_Tscore</th>\n",
              "      <th>Taste_Unadj</th>\n",
              "      <th>Taste_AgeAdj</th>\n",
              "      <th>Mars_Log_Score</th>\n",
              "      <th>Mars_Errs</th>\n",
              "      <th>Mars_Final</th>\n",
              "    </tr>\n",
              "  </thead>\n",
              "  <tbody>\n",
              "    <tr>\n",
              "      <th>100307</th>\n",
              "      <td>Cingulum_Parahippocampal_R</td>\n",
              "      <td>dsi-studio-atk</td>\n",
              "      <td>2337.0</td>\n",
              "      <td>43.7799</td>\n",
              "      <td>20.4513</td>\n",
              "      <td>2.14069</td>\n",
              "      <td>3.83889</td>\n",
              "      <td>11.40430</td>\n",
              "      <td>4472.0</td>\n",
              "      <td>4109.0</td>\n",
              "      <td>363.0</td>\n",
              "      <td>9244.0</td>\n",
              "      <td>11.9302</td>\n",
              "      <td>1534.0</td>\n",
              "      <td>5.89341</td>\n",
              "      <td>779.0</td>\n",
              "      <td>6.33728</td>\n",
              "      <td>0.161964</td>\n",
              "      <td>755.0</td>\n",
              "      <td>5.59291</td>\n",
              "      <td>0.130160</td>\n",
              "      <td>0.158864</td>\n",
              "      <td>0.174994</td>\n",
              "      <td>0.269702</td>\n",
              "      <td>0.644917</td>\n",
              "      <td>0.833841</td>\n",
              "      <td>0.550457</td>\n",
              "      <td>0.099691</td>\n",
              "      <td>0.335815</td>\n",
              "      <td>0.298586</td>\n",
              "      <td>0.205559</td>\n",
              "      <td>0.031494</td>\n",
              "      <td>0.0</td>\n",
              "      <td>51488_81352</td>\n",
              "      <td>Q1</td>\n",
              "      <td>Q01</td>\n",
              "      <td>F</td>\n",
              "      <td>1</td>\n",
              "      <td>26-30</td>\n",
              "      <td>27</td>\n",
              "      <td>...</td>\n",
              "      <td>A</td>\n",
              "      <td>A</td>\n",
              "      <td>D</td>\n",
              "      <td>A</td>\n",
              "      <td>A</td>\n",
              "      <td>SD</td>\n",
              "      <td>A</td>\n",
              "      <td>N</td>\n",
              "      <td>D</td>\n",
              "      <td>A</td>\n",
              "      <td>D</td>\n",
              "      <td>D</td>\n",
              "      <td>N</td>\n",
              "      <td>D</td>\n",
              "      <td>D</td>\n",
              "      <td>A</td>\n",
              "      <td>A</td>\n",
              "      <td>D</td>\n",
              "      <td>A</td>\n",
              "      <td>A</td>\n",
              "      <td>D</td>\n",
              "      <td>SA</td>\n",
              "      <td>A</td>\n",
              "      <td>SD</td>\n",
              "      <td>D</td>\n",
              "      <td>D</td>\n",
              "      <td>D</td>\n",
              "      <td>D</td>\n",
              "      <td>SD</td>\n",
              "      <td>A</td>\n",
              "      <td>3.6</td>\n",
              "      <td>101.12</td>\n",
              "      <td>86.45</td>\n",
              "      <td>0.0</td>\n",
              "      <td>38.6</td>\n",
              "      <td>71.69</td>\n",
              "      <td>71.76</td>\n",
              "      <td>1.76</td>\n",
              "      <td>0.0</td>\n",
              "      <td>1.76</td>\n",
              "    </tr>\n",
              "    <tr>\n",
              "      <th>100408</th>\n",
              "      <td>Cingulum_Parahippocampal_R</td>\n",
              "      <td>dsi-studio-atk</td>\n",
              "      <td>2048.0</td>\n",
              "      <td>41.5856</td>\n",
              "      <td>19.1108</td>\n",
              "      <td>2.17602</td>\n",
              "      <td>3.62726</td>\n",
              "      <td>11.46470</td>\n",
              "      <td>4293.0</td>\n",
              "      <td>3958.0</td>\n",
              "      <td>335.0</td>\n",
              "      <td>9403.0</td>\n",
              "      <td>13.6456</td>\n",
              "      <td>1284.0</td>\n",
              "      <td>6.27783</td>\n",
              "      <td>725.0</td>\n",
              "      <td>6.60314</td>\n",
              "      <td>0.188935</td>\n",
              "      <td>559.0</td>\n",
              "      <td>7.04248</td>\n",
              "      <td>0.278734</td>\n",
              "      <td>0.106728</td>\n",
              "      <td>0.130743</td>\n",
              "      <td>0.220135</td>\n",
              "      <td>0.586714</td>\n",
              "      <td>0.722629</td>\n",
              "      <td>0.518758</td>\n",
              "      <td>0.077641</td>\n",
              "      <td>0.300476</td>\n",
              "      <td>0.263596</td>\n",
              "      <td>0.176899</td>\n",
              "      <td>0.025041</td>\n",
              "      <td>0.0</td>\n",
              "      <td>51730_81594</td>\n",
              "      <td>Q3</td>\n",
              "      <td>Q03</td>\n",
              "      <td>M</td>\n",
              "      <td>2</td>\n",
              "      <td>31-35</td>\n",
              "      <td>33</td>\n",
              "      <td>...</td>\n",
              "      <td>A</td>\n",
              "      <td>D</td>\n",
              "      <td>D</td>\n",
              "      <td>A</td>\n",
              "      <td>A</td>\n",
              "      <td>SD</td>\n",
              "      <td>A</td>\n",
              "      <td>SD</td>\n",
              "      <td>D</td>\n",
              "      <td>A</td>\n",
              "      <td>D</td>\n",
              "      <td>N</td>\n",
              "      <td>D</td>\n",
              "      <td>N</td>\n",
              "      <td>D</td>\n",
              "      <td>N</td>\n",
              "      <td>A</td>\n",
              "      <td>D</td>\n",
              "      <td>SA</td>\n",
              "      <td>A</td>\n",
              "      <td>D</td>\n",
              "      <td>A</td>\n",
              "      <td>A</td>\n",
              "      <td>N</td>\n",
              "      <td>D</td>\n",
              "      <td>N</td>\n",
              "      <td>D</td>\n",
              "      <td>A</td>\n",
              "      <td>A</td>\n",
              "      <td>A</td>\n",
              "      <td>2.0</td>\n",
              "      <td>108.79</td>\n",
              "      <td>98.04</td>\n",
              "      <td>2.0</td>\n",
              "      <td>52.6</td>\n",
              "      <td>114.01</td>\n",
              "      <td>113.59</td>\n",
              "      <td>1.76</td>\n",
              "      <td>2.0</td>\n",
              "      <td>1.68</td>\n",
              "    </tr>\n",
              "    <tr>\n",
              "      <th>101107</th>\n",
              "      <td>Cingulum_Parahippocampal_R</td>\n",
              "      <td>dsi-studio-atk</td>\n",
              "      <td>2270.0</td>\n",
              "      <td>46.6641</td>\n",
              "      <td>21.6664</td>\n",
              "      <td>2.15375</td>\n",
              "      <td>4.19130</td>\n",
              "      <td>11.13360</td>\n",
              "      <td>4543.0</td>\n",
              "      <td>3761.0</td>\n",
              "      <td>782.0</td>\n",
              "      <td>10681.0</td>\n",
              "      <td>12.2051</td>\n",
              "      <td>1276.0</td>\n",
              "      <td>6.54401</td>\n",
              "      <td>797.0</td>\n",
              "      <td>7.03697</td>\n",
              "      <td>0.195192</td>\n",
              "      <td>479.0</td>\n",
              "      <td>5.16817</td>\n",
              "      <td>0.175181</td>\n",
              "      <td>0.151999</td>\n",
              "      <td>0.170913</td>\n",
              "      <td>0.234074</td>\n",
              "      <td>0.613259</td>\n",
              "      <td>0.764008</td>\n",
              "      <td>0.537886</td>\n",
              "      <td>0.083518</td>\n",
              "      <td>0.392506</td>\n",
              "      <td>0.344580</td>\n",
              "      <td>0.234404</td>\n",
              "      <td>0.034626</td>\n",
              "      <td>0.0</td>\n",
              "      <td>51969_81833</td>\n",
              "      <td>S500</td>\n",
              "      <td>Q06</td>\n",
              "      <td>M</td>\n",
              "      <td>2</td>\n",
              "      <td>22-25</td>\n",
              "      <td>22</td>\n",
              "      <td>...</td>\n",
              "      <td>A</td>\n",
              "      <td>N</td>\n",
              "      <td>D</td>\n",
              "      <td>A</td>\n",
              "      <td>SA</td>\n",
              "      <td>SA</td>\n",
              "      <td>N</td>\n",
              "      <td>N</td>\n",
              "      <td>N</td>\n",
              "      <td>SA</td>\n",
              "      <td>SD</td>\n",
              "      <td>N</td>\n",
              "      <td>D</td>\n",
              "      <td>A</td>\n",
              "      <td>SD</td>\n",
              "      <td>N</td>\n",
              "      <td>A</td>\n",
              "      <td>SD</td>\n",
              "      <td>SA</td>\n",
              "      <td>A</td>\n",
              "      <td>SD</td>\n",
              "      <td>SA</td>\n",
              "      <td>SA</td>\n",
              "      <td>A</td>\n",
              "      <td>D</td>\n",
              "      <td>N</td>\n",
              "      <td>SD</td>\n",
              "      <td>A</td>\n",
              "      <td>D</td>\n",
              "      <td>A</td>\n",
              "      <td>6.8</td>\n",
              "      <td>108.79</td>\n",
              "      <td>97.19</td>\n",
              "      <td>1.0</td>\n",
              "      <td>50.1</td>\n",
              "      <td>134.65</td>\n",
              "      <td>131.38</td>\n",
              "      <td>1.84</td>\n",
              "      <td>0.0</td>\n",
              "      <td>1.84</td>\n",
              "    </tr>\n",
              "    <tr>\n",
              "      <th>102311</th>\n",
              "      <td>Cingulum_Parahippocampal_R</td>\n",
              "      <td>dsi-studio-atk</td>\n",
              "      <td>2107.0</td>\n",
              "      <td>48.5477</td>\n",
              "      <td>23.2403</td>\n",
              "      <td>2.08895</td>\n",
              "      <td>4.86750</td>\n",
              "      <td>9.97384</td>\n",
              "      <td>3793.0</td>\n",
              "      <td>3580.0</td>\n",
              "      <td>213.0</td>\n",
              "      <td>7910.0</td>\n",
              "      <td>11.9670</td>\n",
              "      <td>1384.0</td>\n",
              "      <td>5.19991</td>\n",
              "      <td>825.0</td>\n",
              "      <td>6.44167</td>\n",
              "      <td>0.158013</td>\n",
              "      <td>559.0</td>\n",
              "      <td>5.52537</td>\n",
              "      <td>0.171578</td>\n",
              "      <td>0.158681</td>\n",
              "      <td>0.162494</td>\n",
              "      <td>0.277497</td>\n",
              "      <td>0.581316</td>\n",
              "      <td>0.756130</td>\n",
              "      <td>0.493914</td>\n",
              "      <td>0.095551</td>\n",
              "      <td>0.354995</td>\n",
              "      <td>0.315542</td>\n",
              "      <td>0.212849</td>\n",
              "      <td>0.030610</td>\n",
              "      <td>0.0</td>\n",
              "      <td>51679_81543</td>\n",
              "      <td>S500</td>\n",
              "      <td>Q06</td>\n",
              "      <td>F</td>\n",
              "      <td>1</td>\n",
              "      <td>26-30</td>\n",
              "      <td>26</td>\n",
              "      <td>...</td>\n",
              "      <td>D</td>\n",
              "      <td>A</td>\n",
              "      <td>D</td>\n",
              "      <td>A</td>\n",
              "      <td>SA</td>\n",
              "      <td>D</td>\n",
              "      <td>D</td>\n",
              "      <td>SD</td>\n",
              "      <td>D</td>\n",
              "      <td>SA</td>\n",
              "      <td>SD</td>\n",
              "      <td>A</td>\n",
              "      <td>A</td>\n",
              "      <td>D</td>\n",
              "      <td>SD</td>\n",
              "      <td>D</td>\n",
              "      <td>A</td>\n",
              "      <td>D</td>\n",
              "      <td>A</td>\n",
              "      <td>SA</td>\n",
              "      <td>SD</td>\n",
              "      <td>A</td>\n",
              "      <td>A</td>\n",
              "      <td>N</td>\n",
              "      <td>D</td>\n",
              "      <td>D</td>\n",
              "      <td>D</td>\n",
              "      <td>N</td>\n",
              "      <td>A</td>\n",
              "      <td>SA</td>\n",
              "      <td>4.4</td>\n",
              "      <td>122.25</td>\n",
              "      <td>110.45</td>\n",
              "      <td>1.0</td>\n",
              "      <td>52.2</td>\n",
              "      <td>98.31</td>\n",
              "      <td>99.06</td>\n",
              "      <td>1.80</td>\n",
              "      <td>0.0</td>\n",
              "      <td>1.80</td>\n",
              "    </tr>\n",
              "    <tr>\n",
              "      <th>102513</th>\n",
              "      <td>Cingulum_Parahippocampal_R</td>\n",
              "      <td>dsi-studio-atk</td>\n",
              "      <td>2200.0</td>\n",
              "      <td>44.1844</td>\n",
              "      <td>20.5590</td>\n",
              "      <td>2.14915</td>\n",
              "      <td>4.07241</td>\n",
              "      <td>10.84970</td>\n",
              "      <td>4085.0</td>\n",
              "      <td>3727.0</td>\n",
              "      <td>358.0</td>\n",
              "      <td>9206.0</td>\n",
              "      <td>13.1741</td>\n",
              "      <td>1358.0</td>\n",
              "      <td>6.11274</td>\n",
              "      <td>676.0</td>\n",
              "      <td>6.70717</td>\n",
              "      <td>0.209065</td>\n",
              "      <td>682.0</td>\n",
              "      <td>6.46696</td>\n",
              "      <td>0.192649</td>\n",
              "      <td>0.108588</td>\n",
              "      <td>0.143061</td>\n",
              "      <td>0.250944</td>\n",
              "      <td>0.598906</td>\n",
              "      <td>0.763821</td>\n",
              "      <td>0.516445</td>\n",
              "      <td>0.090047</td>\n",
              "      <td>0.258702</td>\n",
              "      <td>0.228528</td>\n",
              "      <td>0.154511</td>\n",
              "      <td>0.022394</td>\n",
              "      <td>0.0</td>\n",
              "      <td>56077_85897</td>\n",
              "      <td>S900</td>\n",
              "      <td>Q10</td>\n",
              "      <td>M</td>\n",
              "      <td>2</td>\n",
              "      <td>26-30</td>\n",
              "      <td>30</td>\n",
              "      <td>...</td>\n",
              "      <td>N</td>\n",
              "      <td>D</td>\n",
              "      <td>N</td>\n",
              "      <td>A</td>\n",
              "      <td>N</td>\n",
              "      <td>D</td>\n",
              "      <td>N</td>\n",
              "      <td>SD</td>\n",
              "      <td>N</td>\n",
              "      <td>A</td>\n",
              "      <td>D</td>\n",
              "      <td>N</td>\n",
              "      <td>A</td>\n",
              "      <td>N</td>\n",
              "      <td>A</td>\n",
              "      <td>D</td>\n",
              "      <td>N</td>\n",
              "      <td>SD</td>\n",
              "      <td>A</td>\n",
              "      <td>N</td>\n",
              "      <td>SD</td>\n",
              "      <td>A</td>\n",
              "      <td>SA</td>\n",
              "      <td>N</td>\n",
              "      <td>D</td>\n",
              "      <td>SD</td>\n",
              "      <td>A</td>\n",
              "      <td>SA</td>\n",
              "      <td>A</td>\n",
              "      <td>SA</td>\n",
              "      <td>5.2</td>\n",
              "      <td>108.79</td>\n",
              "      <td>98.04</td>\n",
              "      <td>2.0</td>\n",
              "      <td>54.3</td>\n",
              "      <td>84.07</td>\n",
              "      <td>82.37</td>\n",
              "      <td>1.92</td>\n",
              "      <td>0.0</td>\n",
              "      <td>1.92</td>\n",
              "    </tr>\n",
              "  </tbody>\n",
              "</table>\n",
              "<p>5 rows × 618 columns</p>\n",
              "</div>"
            ],
            "text/plain": [
              "                             tract            tags  ...  Mars_Errs  Mars_Final\n",
              "100307  Cingulum_Parahippocampal_R  dsi-studio-atk  ...        0.0        1.76\n",
              "100408  Cingulum_Parahippocampal_R  dsi-studio-atk  ...        2.0        1.68\n",
              "101107  Cingulum_Parahippocampal_R  dsi-studio-atk  ...        0.0        1.84\n",
              "102311  Cingulum_Parahippocampal_R  dsi-studio-atk  ...        0.0        1.80\n",
              "102513  Cingulum_Parahippocampal_R  dsi-studio-atk  ...        0.0        1.92\n",
              "\n",
              "[5 rows x 618 columns]"
            ]
          },
          "metadata": {
            "tags": []
          },
          "execution_count": 185
        }
      ]
    },
    {
      "cell_type": "code",
      "metadata": {
        "colab": {
          "base_uri": "https://localhost:8080/"
        },
        "id": "rGaYYLcT2BSc",
        "outputId": "b7f51715-9bb9-4c24-a4f1-44bae4a6f9df"
      },
      "source": [
        "diff_labels = df.columns[df.columns.tolist().index(\"qa\"):df.columns.tolist().index(\"rdi\") + 1].tolist()\n",
        "pers_labels = df.columns[df.columns.tolist().index(\"NEOFAC_A\"):df.columns.tolist().index(\"NEOFAC_E\") + 1].tolist()\n",
        "diff_labels, pers_labels\n",
        "\n",
        "\n",
        "# same as doing\n",
        "\n",
        "#diff_labels = [\"qa\", \"nqa\", \"dti_fa\", \"md\", \"ad\", \"rd\", \"gfa\", \"iso\",\"rdi\"]\n",
        "#pers_labels = [\"NEOFAC_A\",\"NEOFAC_O\", \"NEOFAC_C\", \"NEOFAC_N\", \"NEOFAC_E\"]"
      ],
      "execution_count": 186,
      "outputs": [
        {
          "output_type": "execute_result",
          "data": {
            "text/plain": [
              "(['qa', 'nqa', 'dti_fa', 'md', 'ad', 'rd', 'gfa', 'iso', 'rdi'],\n",
              " ['NEOFAC_A', 'NEOFAC_O', 'NEOFAC_C', 'NEOFAC_N', 'NEOFAC_E'])"
            ]
          },
          "metadata": {
            "tags": []
          },
          "execution_count": 186
        }
      ]
    },
    {
      "cell_type": "code",
      "metadata": {
        "id": "y5FIDwUpcG_A"
      },
      "source": [
        "!pip install pingouin"
      ],
      "execution_count": null,
      "outputs": []
    },
    {
      "cell_type": "code",
      "metadata": {
        "colab": {
          "base_uri": "https://localhost:8080/"
        },
        "id": "_9PTlE9TXitO",
        "outputId": "c39b84bc-d4c6-4ec8-bda6-46f5f1352c90"
      },
      "source": [
        "pval = []\n",
        "features = []\n",
        "coef = []\n",
        "intercept = []\n",
        "xs = []\n",
        "for file in sorted(os.listdir()):\n",
        "  if \"tsv\" in file:\n",
        "    print(file)\n",
        "    for s in pers_labels:\n",
        "      for l in diff_labels:\n",
        "        fd = pd.read_csv(file, sep =  '\\t', index_col = 0)\n",
        "        x = np.delete(np.array(fd[s]),339)\n",
        "        y = np.delete(np.array(fd[l]),339)\n",
        "        idx = np.where(np.isnan(x) == 1)\n",
        "        idx2 = np.where(np.isnan(y) == 1) \n",
        "        x = np.delete(np.array(x),idx)\n",
        "        x = np.delete(np.array(x),idx2)\n",
        "        y = np.delete(np.array(y),idx2)\n",
        "        y = np.delete(np.array(y),idx)\n",
        "        x2 = sm2.add_constant(x)\n",
        "        ls = sm.OLS(y, x2).fit()\n",
        "        pval.append(ls.pvalues[1])\n",
        "        coef.append(ls.params[1])\n",
        "        intercept.append(ls.params[0])\n",
        "        xs.append(x)\n",
        "        features.append([file,s,l])"
      ],
      "execution_count": 187,
      "outputs": [
        {
          "output_type": "stream",
          "text": [
            "Arcuate_Fasciculus_L.tsv\n",
            "Arcuate_Fasciculus_R.tsv\n",
            "Cingulum_Frontal_Parahippocampal_L.tsv\n",
            "Cingulum_Frontal_Parahippocampal_R.tsv\n",
            "Cingulum_Frontal_Parietal_L.tsv\n",
            "Cingulum_Frontal_Parietal_R.tsv\n",
            "Cingulum_Parahippocampal_L.tsv\n",
            "Cingulum_Parahippocampal_Parietal_L.tsv\n",
            "Cingulum_Parahippocampal_Parietal_R.tsv\n",
            "Cingulum_Parahippocampal_R.tsv\n",
            "Cingulum_Rarolfactory_L.tsv\n",
            "Cingulum_Rarolfactory_R.tsv\n",
            "Corpus_Callosum_Body.tsv\n",
            "Corpus_Callosum_Forceps_Major.tsv\n",
            "Corpus_Callosum_Forceps_Minor.tsv\n",
            "Corpus_Callosum_Tapetum.tsv\n",
            "Corticobulbar_Tract_L.tsv\n",
            "Corticobulbar_Tract_R.tsv\n",
            "Corticopontine_Tract_Frontal_L.tsv\n",
            "Corticopontine_Tract_Frontal_R.tsv\n",
            "Corticopontine_Tract_Occipital_L.tsv\n",
            "Corticopontine_Tract_Occipital_R.tsv\n",
            "Corticopontine_Tract_Parietal_L.tsv\n",
            "Corticopontine_Tract_Parietal_R.tsv\n",
            "Corticospinal_Tract_L.tsv\n",
            "Corticospinal_Tract_R.tsv\n",
            "Corticostriatal_Tract_Anterior_L.tsv\n",
            "Corticostriatal_Tract_Anterior_R.tsv\n",
            "Corticostriatal_Tract_Posterior_L.tsv\n",
            "Corticostriatal_Tract_Posterior_R.tsv\n",
            "Corticostriatal_Tract_Superior_L.tsv\n",
            "Corticostriatal_Tract_Superior_R.tsv\n",
            "Dentatorubrothalamic_Tract_L.tsv\n",
            "Dentatorubrothalamic_Tract_R.tsv\n",
            "Fornix_L.tsv\n",
            "Fornix_R.tsv\n",
            "Frontal_Aslant_Tract_L.tsv\n",
            "Frontal_Aslant_Tract_R.tsv\n",
            "Inferior_Cerebellar_Peduncle_L.tsv\n",
            "Inferior_Cerebellar_Peduncle_R.tsv\n",
            "Inferior_Fronto_Occipital_Fasciculus_L.tsv\n",
            "Inferior_Fronto_Occipital_Fasciculus_R.tsv\n",
            "Inferior_Longitudinal_Fasciculus_L.tsv\n",
            "Inferior_Longitudinal_Fasciculus_R.tsv\n",
            "Middle_Cerebellar_Peduncle.tsv\n",
            "Middle_Longitudinal_Fasciculus_L.tsv\n",
            "Middle_Longitudinal_Fasciculus_R.tsv\n",
            "Optic_Radiation_L.tsv\n",
            "Optic_Radiation_R.tsv\n",
            "Parietal_Aslant_Tract_L.tsv\n",
            "Parietal_Aslant_Tract_R.tsv\n",
            "Superior_Cerebellar_Peduncle.tsv\n",
            "Superior_Longitudinal_Fasciculus1_L.tsv\n",
            "Superior_Longitudinal_Fasciculus1_R.tsv\n",
            "Superior_Longitudinal_Fasciculus2_L.tsv\n",
            "Superior_Longitudinal_Fasciculus2_R.tsv\n",
            "Superior_Longitudinal_Fasciculus3_L.tsv\n",
            "Superior_Longitudinal_Fasciculus3_R.tsv\n",
            "Thalamic_Radiation_Anterior_L.tsv\n",
            "Thalamic_Radiation_Anterior_R.tsv\n",
            "Thalamic_Radiation_Posterior_L.tsv\n",
            "Thalamic_Radiation_Posterior_R.tsv\n",
            "Thalamic_Radiation_Superior_L.tsv\n",
            "Thalamic_Radiation_Superior_R.tsv\n",
            "Uncinate_Fasciculus_L.tsv\n",
            "Uncinate_Fasciculus_R.tsv\n",
            "Vertical_Occipital_Fasciculus_L.tsv\n",
            "Vertical_Occipital_Fasciculus_R.tsv\n"
          ],
          "name": "stdout"
        }
      ]
    },
    {
      "cell_type": "code",
      "metadata": {
        "id": "1owFQ8rUgBrt",
        "colab": {
          "base_uri": "https://localhost:8080/"
        },
        "outputId": "a3accbd1-8b70-40c2-8336-cd97cf1cb1e9"
      },
      "source": [
        "files = np.array(features)[np.array(pval) < 0.0005]\n",
        "pval.index(min(pval))"
      ],
      "execution_count": 189,
      "outputs": [
        {
          "output_type": "execute_result",
          "data": {
            "text/plain": [
              "409"
            ]
          },
          "metadata": {
            "tags": []
          },
          "execution_count": 189
        }
      ]
    },
    {
      "cell_type": "code",
      "metadata": {
        "colab": {
          "base_uri": "https://localhost:8080/"
        },
        "id": "J9fqiqdSsY4X",
        "outputId": "eaf4d445-2012-4d56-f023-3c7a057dcc12"
      },
      "source": [
        "pval[409]"
      ],
      "execution_count": 160,
      "outputs": [
        {
          "output_type": "execute_result",
          "data": {
            "text/plain": [
              "0.00043917757328590064"
            ]
          },
          "metadata": {
            "tags": []
          },
          "execution_count": 160
        }
      ]
    },
    {
      "cell_type": "code",
      "metadata": {
        "colab": {
          "base_uri": "https://localhost:8080/"
        },
        "id": "ezmSPPAU1Kvr",
        "outputId": "f90b0470-a518-4ef5-fc17-ab1f049f1445"
      },
      "source": [
        "features[409]"
      ],
      "execution_count": 190,
      "outputs": [
        {
          "output_type": "execute_result",
          "data": {
            "text/plain": [
              "['Cingulum_Parahippocampal_R.tsv', 'NEOFAC_A', 'ad']"
            ]
          },
          "metadata": {
            "tags": []
          },
          "execution_count": 190
        }
      ]
    },
    {
      "cell_type": "code",
      "metadata": {
        "colab": {
          "base_uri": "https://localhost:8080/"
        },
        "id": "M3TGVk4FsYXH",
        "outputId": "6dae9b42-8ba4-45da-f7d3-2e20c9585cf7"
      },
      "source": [
        "files"
      ],
      "execution_count": 191,
      "outputs": [
        {
          "output_type": "execute_result",
          "data": {
            "text/plain": [
              "array([['Cingulum_Parahippocampal_R.tsv', 'NEOFAC_A', 'ad'],\n",
              "       ['Inferior_Cerebellar_Peduncle_L.tsv', 'NEOFAC_N', 'nqa']],\n",
              "      dtype='<U42')"
            ]
          },
          "metadata": {
            "tags": []
          },
          "execution_count": 191
        }
      ]
    },
    {
      "cell_type": "code",
      "metadata": {
        "colab": {
          "base_uri": "https://localhost:8080/"
        },
        "id": "2WpY56vOnq-2",
        "outputId": "47773b65-4797-4cbd-aa49-9b99226c7f12"
      },
      "source": [
        "files"
      ],
      "execution_count": null,
      "outputs": [
        {
          "output_type": "execute_result",
          "data": {
            "text/plain": [
              "array([['Cingulum_Parahippocampal_R.tsv', 'ad', 'NEOFAC_A'],\n",
              "       ['Inferior_Cerebellar_Peduncle_L.tsv', 'nqa', 'NEOFAC_N']],\n",
              "      dtype='<U42')"
            ]
          },
          "metadata": {
            "tags": []
          },
          "execution_count": 154
        }
      ]
    },
    {
      "cell_type": "code",
      "metadata": {
        "colab": {
          "base_uri": "https://localhost:8080/",
          "height": 610
        },
        "id": "IkvxqKzPfciK",
        "outputId": "a9b5da34-ae96-4415-fe5e-7fd647be48c5"
      },
      "source": [
        "for r in range(len(files)):\n",
        "  f = files[r][0]\n",
        "  s = files[r][1]\n",
        "  l = files[r][2]\n",
        "  fd = pd.read_csv(f, sep =  '\\t', index_col = 0)\n",
        "  x = np.delete(np.array(fd[s]),339)\n",
        "  y = np.delete(np.array(fd[l]),339)\n",
        "  idx = np.where(np.isnan(x) == 1)\n",
        "  idx2 = np.where(np.isnan(y) == 1) \n",
        "  y = np.delete(np.array(y),idx2)\n",
        "  y = np.delete(np.array(y),idx)\n",
        "  x = np.delete(np.array(x),idx)\n",
        "  x = np.delete(np.array(x),idx2)\n",
        "  #x = np.delete(np.array(x),13) # outlier\n",
        "  #y = np.delete(np.array(y),13) #outlier\n",
        "  x = (x- np.mean(x))/np.std(x) # z-score\n",
        "  y = (y- np.mean(y))/np.std(y) # z-score\n",
        "  x2 = sm2.add_constant(x)\n",
        "  ls = sm.OLS(y, x2).fit()\n",
        "  plt.figure()\n",
        "  plt.plot(x, ls.params[0] + ls.params[1]*x, 'r-')\n",
        "  print('Slope coeff and pvalue: ',ls.params[1], ls.pvalues[1])\n",
        "  ls.summary()\n",
        "  plt.title(f)\n",
        "  plt.plot(x,y, 'b.')\n",
        "  plt.xlabel(s)\n",
        "  plt.ylabel(l)\n",
        "  plt.show()"
      ],
      "execution_count": 188,
      "outputs": [
        {
          "output_type": "stream",
          "text": [
            "Slope coeff and pvalue:  0.1680255096498464 0.00043917757328588514\n"
          ],
          "name": "stdout"
        },
        {
          "output_type": "display_data",
          "data": {
            "image/png": "[encoded data removed]",
            "text/plain": [
              "<Figure size 432x288 with 1 Axes>"
            ]
          },
          "metadata": {
            "tags": [],
            "needs_background": "light"
          }
        },
        {
          "output_type": "stream",
          "text": [
            "Slope coeff and pvalue:  0.1672802212988919 0.000466075991889743\n"
          ],
          "name": "stdout"
        },
        {
          "output_type": "display_data",
          "data": {
            "image/png": "[encoded data removed]",
            "text/plain": [
              "<Figure size 432x288 with 1 Axes>"
            ]
          },
          "metadata": {
            "tags": [],
            "needs_background": "light"
          }
        }
      ]
    },
    {
      "cell_type": "code",
      "metadata": {
        "id": "7ebilBTrlfcc"
      },
      "source": [
        ""
      ],
      "execution_count": null,
      "outputs": []
    },
    {
      "cell_type": "markdown",
      "metadata": {
        "id": "jVlxlBbv08ZJ"
      },
      "source": [
        "## Taking into account some covariates"
      ]
    },
    {
      "cell_type": "code",
      "metadata": {
        "id": "tsNGFl3w1VD4"
      },
      "source": [
        "import pingouin\n",
        "s = files[0][1]\n",
        "l = files[0][2]\n",
        "fd = pd.read_csv(files[0][0], sep =  '\\t', index_col = 0)"
      ],
      "execution_count": 164,
      "outputs": []
    },
    {
      "cell_type": "code",
      "metadata": {
        "colab": {
          "base_uri": "https://localhost:8080/",
          "height": 35
        },
        "id": "jDxSA0AD1iSi",
        "outputId": "3863931a-e6e5-4082-b431-61157d2a6c79"
      },
      "source": [
        "s"
      ],
      "execution_count": 165,
      "outputs": [
        {
          "output_type": "execute_result",
          "data": {
            "application/vnd.google.colaboratory.intrinsic+json": {
              "type": "string"
            },
            "text/plain": [
              "'NEOFAC_A'"
            ]
          },
          "metadata": {
            "tags": []
          },
          "execution_count": 165
        }
      ]
    },
    {
      "cell_type": "code",
      "metadata": {
        "colab": {
          "base_uri": "https://localhost:8080/"
        },
        "id": "BurYpiKRl5Cb",
        "outputId": "d2634ef7-2888-4367-ec20-256b2534e0e7"
      },
      "source": [
        "fd[\"Gender.1\"]"
      ],
      "execution_count": null,
      "outputs": [
        {
          "output_type": "execute_result",
          "data": {
            "text/plain": [
              "100307    1\n",
              "100408    2\n",
              "101107    2\n",
              "102311    1\n",
              "102513    2\n",
              "         ..\n",
              "971160    2\n",
              "973770    2\n",
              "987983    1\n",
              "990366    2\n",
              "995174    2\n",
              "Name: Gender.1, Length: 435, dtype: int64"
            ]
          },
          "metadata": {
            "tags": []
          },
          "execution_count": 118
        }
      ]
    },
    {
      "cell_type": "code",
      "metadata": {
        "colab": {
          "base_uri": "https://localhost:8080/",
          "height": 81
        },
        "id": "qSp4egFAe4iu",
        "outputId": "fb2fbd9e-2aae-48d7-8459-31faa1bac849"
      },
      "source": [
        "pingouin.partial_corr(fd,s,l)\n"
      ],
      "execution_count": 166,
      "outputs": [
        {
          "output_type": "execute_result",
          "data": {
            "text/html": [
              "<div>\n",
              "<style scoped>\n",
              "    .dataframe tbody tr th:only-of-type {\n",
              "        vertical-align: middle;\n",
              "    }\n",
              "\n",
              "    .dataframe tbody tr th {\n",
              "        vertical-align: top;\n",
              "    }\n",
              "\n",
              "    .dataframe thead th {\n",
              "        text-align: right;\n",
              "    }\n",
              "</style>\n",
              "<table border=\"1\" class=\"dataframe\">\n",
              "  <thead>\n",
              "    <tr style=\"text-align: right;\">\n",
              "      <th></th>\n",
              "      <th>n</th>\n",
              "      <th>r</th>\n",
              "      <th>CI95%</th>\n",
              "      <th>r2</th>\n",
              "      <th>adj_r2</th>\n",
              "      <th>p-val</th>\n",
              "      <th>BF10</th>\n",
              "      <th>power</th>\n",
              "    </tr>\n",
              "  </thead>\n",
              "  <tbody>\n",
              "    <tr>\n",
              "      <th>pearson</th>\n",
              "      <td>434</td>\n",
              "      <td>0.168026</td>\n",
              "      <td>[0.08, 0.26]</td>\n",
              "      <td>0.028233</td>\n",
              "      <td>0.023723</td>\n",
              "      <td>0.000439</td>\n",
              "      <td>28.398</td>\n",
              "      <td>0.941261</td>\n",
              "    </tr>\n",
              "  </tbody>\n",
              "</table>\n",
              "</div>"
            ],
            "text/plain": [
              "           n         r         CI95%  ...     p-val    BF10     power\n",
              "pearson  434  0.168026  [0.08, 0.26]  ...  0.000439  28.398  0.941261\n",
              "\n",
              "[1 rows x 8 columns]"
            ]
          },
          "metadata": {
            "tags": []
          },
          "execution_count": 166
        }
      ]
    },
    {
      "cell_type": "code",
      "metadata": {
        "colab": {
          "base_uri": "https://localhost:8080/",
          "height": 81
        },
        "id": "vDUJrsy9mgzF",
        "outputId": "0136ca5d-e763-4ec0-8251-26f5878131ed"
      },
      "source": [
        "pingouin.partial_corr(fd,s,l, \"Gender.1\")\n"
      ],
      "execution_count": 167,
      "outputs": [
        {
          "output_type": "execute_result",
          "data": {
            "text/html": [
              "<div>\n",
              "<style scoped>\n",
              "    .dataframe tbody tr th:only-of-type {\n",
              "        vertical-align: middle;\n",
              "    }\n",
              "\n",
              "    .dataframe tbody tr th {\n",
              "        vertical-align: top;\n",
              "    }\n",
              "\n",
              "    .dataframe thead th {\n",
              "        text-align: right;\n",
              "    }\n",
              "</style>\n",
              "<table border=\"1\" class=\"dataframe\">\n",
              "  <thead>\n",
              "    <tr style=\"text-align: right;\">\n",
              "      <th></th>\n",
              "      <th>n</th>\n",
              "      <th>r</th>\n",
              "      <th>CI95%</th>\n",
              "      <th>r2</th>\n",
              "      <th>adj_r2</th>\n",
              "      <th>p-val</th>\n",
              "      <th>BF10</th>\n",
              "      <th>power</th>\n",
              "    </tr>\n",
              "  </thead>\n",
              "  <tbody>\n",
              "    <tr>\n",
              "      <th>pearson</th>\n",
              "      <td>434</td>\n",
              "      <td>0.077907</td>\n",
              "      <td>[-0.02, 0.17]</td>\n",
              "      <td>0.006069</td>\n",
              "      <td>0.001457</td>\n",
              "      <td>0.105063</td>\n",
              "      <td>0.223</td>\n",
              "      <td>0.367949</td>\n",
              "    </tr>\n",
              "  </tbody>\n",
              "</table>\n",
              "</div>"
            ],
            "text/plain": [
              "           n         r          CI95%  ...     p-val   BF10     power\n",
              "pearson  434  0.077907  [-0.02, 0.17]  ...  0.105063  0.223  0.367949\n",
              "\n",
              "[1 rows x 8 columns]"
            ]
          },
          "metadata": {
            "tags": []
          },
          "execution_count": 167
        }
      ]
    },
    {
      "cell_type": "code",
      "metadata": {
        "id": "d45vh9VpmR2n"
      },
      "source": [
        "rs = pingouin.partial_corr(fd,s,l, [\"Gender.1\", \"Age_in_Yrs\"])"
      ],
      "execution_count": 168,
      "outputs": []
    },
    {
      "cell_type": "code",
      "metadata": {
        "colab": {
          "base_uri": "https://localhost:8080/",
          "height": 81
        },
        "id": "vSBvO8C4pcTw",
        "outputId": "42743855-877c-4b8b-ee0b-4f1b7ef2d10f"
      },
      "source": [
        "rs[\"p-val\"]\n",
        "rs"
      ],
      "execution_count": 169,
      "outputs": [
        {
          "output_type": "execute_result",
          "data": {
            "text/html": [
              "<div>\n",
              "<style scoped>\n",
              "    .dataframe tbody tr th:only-of-type {\n",
              "        vertical-align: middle;\n",
              "    }\n",
              "\n",
              "    .dataframe tbody tr th {\n",
              "        vertical-align: top;\n",
              "    }\n",
              "\n",
              "    .dataframe thead th {\n",
              "        text-align: right;\n",
              "    }\n",
              "</style>\n",
              "<table border=\"1\" class=\"dataframe\">\n",
              "  <thead>\n",
              "    <tr style=\"text-align: right;\">\n",
              "      <th></th>\n",
              "      <th>n</th>\n",
              "      <th>r</th>\n",
              "      <th>CI95%</th>\n",
              "      <th>r2</th>\n",
              "      <th>adj_r2</th>\n",
              "      <th>p-val</th>\n",
              "      <th>BF10</th>\n",
              "      <th>power</th>\n",
              "    </tr>\n",
              "  </thead>\n",
              "  <tbody>\n",
              "    <tr>\n",
              "      <th>pearson</th>\n",
              "      <td>434</td>\n",
              "      <td>0.097825</td>\n",
              "      <td>[0.0, 0.19]</td>\n",
              "      <td>0.00957</td>\n",
              "      <td>0.004974</td>\n",
              "      <td>0.041653</td>\n",
              "      <td>0.475</td>\n",
              "      <td>0.53171</td>\n",
              "    </tr>\n",
              "  </tbody>\n",
              "</table>\n",
              "</div>"
            ],
            "text/plain": [
              "           n         r        CI95%  ...     p-val   BF10    power\n",
              "pearson  434  0.097825  [0.0, 0.19]  ...  0.041653  0.475  0.53171\n",
              "\n",
              "[1 rows x 8 columns]"
            ]
          },
          "metadata": {
            "tags": []
          },
          "execution_count": 169
        }
      ]
    },
    {
      "cell_type": "code",
      "metadata": {
        "id": "bh-fqX39pcX7"
      },
      "source": [
        ""
      ],
      "execution_count": null,
      "outputs": []
    },
    {
      "cell_type": "code",
      "metadata": {
        "id": "netM70qnpccT"
      },
      "source": [
        ""
      ],
      "execution_count": null,
      "outputs": []
    }
  ]
}
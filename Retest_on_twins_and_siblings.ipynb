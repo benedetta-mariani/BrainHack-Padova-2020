{
  "nbformat": 4,
  "nbformat_minor": 0,
  "metadata": {
    "colab": {
      "name": "Retest on  twins and siblings.ipynb",
      "provenance": [],
      "collapsed_sections": []
    },
    "kernelspec": {
      "name": "python3",
      "display_name": "Python 3"
    }
  },
  "cells": [
    {
      "cell_type": "code",
      "metadata": {
        "id": "j5nkVfOr73gH"
      },
      "source": [
        "from statsmodels.regression import linear_model as sm\n",
        "import pandas as pd\n",
        "import numpy as np\n",
        "import matplotlib.pyplot as plt\n",
        "import seaborn as sns\n",
        "import statsmodels.api as sm2\n",
        "from sklearn.metrics import r2_score\n",
        "import scipy"
      ],
      "execution_count": 152,
      "outputs": []
    },
    {
      "cell_type": "code",
      "metadata": {
        "id": "3dviRXyA721I"
      },
      "source": [
        "#from google.colab import drive\n",
        "#drive.mount('/content/drive')"
      ],
      "execution_count": 153,
      "outputs": []
    },
    {
      "cell_type": "code",
      "metadata": {
        "id": "wDWg4hniXdqn"
      },
      "source": [
        "import os\n",
        "#os.chdir('/content/drive/MyDrive/Colab Notebooks')\n",
        "l = []\n",
        "for file in os.listdir():\n",
        "  if \"tsv\" in file:\n",
        "    l.append(file)\n"
      ],
      "execution_count": 154,
      "outputs": []
    },
    {
      "cell_type": "markdown",
      "metadata": {
        "id": "Q-pMgbA9EqFJ"
      },
      "source": [
        "#**Association of Microstructural white matter and personality traits based on Human connectome project dataset**"
      ]
    },
    {
      "cell_type": "code",
      "metadata": {
        "colab": {
          "base_uri": "https://localhost:8080/",
          "height": 481
        },
        "id": "2qqVbcgK1wCR",
        "outputId": "dc2aed37-6be1-45fa-c629-c9e76e2a9f1b"
      },
      "source": [
        "csvfile = sorted(os.listdir())[1]\n",
        "example = pd.read_csv(csvfile, sep =  '\\t', index_col = 0)\n",
        "col =example.columns\n",
        "example[col[:]].head()\n",
        "# first column (index of the pandas DataFrame): subjects ID"
      ],
      "execution_count": 155,
      "outputs": [
        {
          "output_type": "execute_result",
          "data": {
            "text/html": [
              "<div>\n",
              "<style scoped>\n",
              "    .dataframe tbody tr th:only-of-type {\n",
              "        vertical-align: middle;\n",
              "    }\n",
              "\n",
              "    .dataframe tbody tr th {\n",
              "        vertical-align: top;\n",
              "    }\n",
              "\n",
              "    .dataframe thead th {\n",
              "        text-align: right;\n",
              "    }\n",
              "</style>\n",
              "<table border=\"1\" class=\"dataframe\">\n",
              "  <thead>\n",
              "    <tr style=\"text-align: right;\">\n",
              "      <th></th>\n",
              "      <th>tract</th>\n",
              "      <th>tags</th>\n",
              "      <th>number of tracts</th>\n",
              "      <th>mean length(mm)</th>\n",
              "      <th>span(mm)</th>\n",
              "      <th>curl</th>\n",
              "      <th>elongation</th>\n",
              "      <th>diameter(mm)</th>\n",
              "      <th>volume(mm^3)</th>\n",
              "      <th>trunk volume(mm^3)</th>\n",
              "      <th>branch volume(mm^3)</th>\n",
              "      <th>total surface area(mm^2)</th>\n",
              "      <th>total radius of end regions(mm)</th>\n",
              "      <th>total area of end regions(mm^2)</th>\n",
              "      <th>irregularity</th>\n",
              "      <th>area of end region 1(mm^2)</th>\n",
              "      <th>radius of end region 1(mm)</th>\n",
              "      <th>irregularity of end region 1</th>\n",
              "      <th>area of end region 2(mm^2)</th>\n",
              "      <th>radius of end region 2(mm)</th>\n",
              "      <th>irregularity of end region 2</th>\n",
              "      <th>qa</th>\n",
              "      <th>nqa</th>\n",
              "      <th>dti_fa</th>\n",
              "      <th>md</th>\n",
              "      <th>ad</th>\n",
              "      <th>rd</th>\n",
              "      <th>gfa</th>\n",
              "      <th>iso</th>\n",
              "      <th>rdi</th>\n",
              "      <th>nrdi02L</th>\n",
              "      <th>nrdi04L</th>\n",
              "      <th>nrdi06L</th>\n",
              "      <th>Release</th>\n",
              "      <th>Acquisition</th>\n",
              "      <th>Gender</th>\n",
              "      <th>Gender.1</th>\n",
              "      <th>Age</th>\n",
              "      <th>Age.1</th>\n",
              "      <th>3T_Full_MR_Compl</th>\n",
              "      <th>...</th>\n",
              "      <th>NEORAW_31</th>\n",
              "      <th>NEORAW_32</th>\n",
              "      <th>NEORAW_33</th>\n",
              "      <th>NEORAW_34</th>\n",
              "      <th>NEORAW_35</th>\n",
              "      <th>NEORAW_36</th>\n",
              "      <th>NEORAW_37</th>\n",
              "      <th>NEORAW_38</th>\n",
              "      <th>NEORAW_39</th>\n",
              "      <th>NEORAW_40</th>\n",
              "      <th>NEORAW_41</th>\n",
              "      <th>NEORAW_42</th>\n",
              "      <th>NEORAW_43</th>\n",
              "      <th>NEORAW_44</th>\n",
              "      <th>NEORAW_45</th>\n",
              "      <th>NEORAW_46</th>\n",
              "      <th>NEORAW_47</th>\n",
              "      <th>NEORAW_48</th>\n",
              "      <th>NEORAW_49</th>\n",
              "      <th>NEORAW_50</th>\n",
              "      <th>NEORAW_51</th>\n",
              "      <th>NEORAW_52</th>\n",
              "      <th>NEORAW_53</th>\n",
              "      <th>NEORAW_54</th>\n",
              "      <th>NEORAW_55</th>\n",
              "      <th>NEORAW_56</th>\n",
              "      <th>NEORAW_57</th>\n",
              "      <th>NEORAW_58</th>\n",
              "      <th>NEORAW_59</th>\n",
              "      <th>NEORAW_60</th>\n",
              "      <th>Noise_Comp</th>\n",
              "      <th>Odor_Unadj</th>\n",
              "      <th>Odor_AgeAdj</th>\n",
              "      <th>PainIntens_RawScore</th>\n",
              "      <th>PainInterf_Tscore</th>\n",
              "      <th>Taste_Unadj</th>\n",
              "      <th>Taste_AgeAdj</th>\n",
              "      <th>Mars_Log_Score</th>\n",
              "      <th>Mars_Errs</th>\n",
              "      <th>Mars_Final</th>\n",
              "    </tr>\n",
              "  </thead>\n",
              "  <tbody>\n",
              "    <tr>\n",
              "      <th>100206</th>\n",
              "      <td>Arcuate_Fasciculus_L</td>\n",
              "      <td>dsi-studio-atk</td>\n",
              "      <td>19408.0</td>\n",
              "      <td>143.146</td>\n",
              "      <td>36.0387</td>\n",
              "      <td>3.97200</td>\n",
              "      <td>7.80815</td>\n",
              "      <td>18.3329</td>\n",
              "      <td>37786.0</td>\n",
              "      <td>30964.0</td>\n",
              "      <td>6822.0</td>\n",
              "      <td>66463.0</td>\n",
              "      <td>24.5641</td>\n",
              "      <td>6700.0</td>\n",
              "      <td>8.06158</td>\n",
              "      <td>3930.0</td>\n",
              "      <td>15.6829</td>\n",
              "      <td>0.196613</td>\n",
              "      <td>2770.0</td>\n",
              "      <td>8.88117</td>\n",
              "      <td>0.089456</td>\n",
              "      <td>0.220487</td>\n",
              "      <td>0.276894</td>\n",
              "      <td>0.423249</td>\n",
              "      <td>0.533732</td>\n",
              "      <td>0.790515</td>\n",
              "      <td>0.405684</td>\n",
              "      <td>0.136696</td>\n",
              "      <td>0.317688</td>\n",
              "      <td>0.305848</td>\n",
              "      <td>0.200755</td>\n",
              "      <td>0.026358</td>\n",
              "      <td>0.0</td>\n",
              "      <td>S900</td>\n",
              "      <td>Q11</td>\n",
              "      <td>M</td>\n",
              "      <td>2</td>\n",
              "      <td>26-30</td>\n",
              "      <td>28.0</td>\n",
              "      <td>1</td>\n",
              "      <td>...</td>\n",
              "      <td>N</td>\n",
              "      <td>N</td>\n",
              "      <td>D</td>\n",
              "      <td>A</td>\n",
              "      <td>A</td>\n",
              "      <td>N</td>\n",
              "      <td>A</td>\n",
              "      <td>N</td>\n",
              "      <td>D</td>\n",
              "      <td>N</td>\n",
              "      <td>N</td>\n",
              "      <td>D</td>\n",
              "      <td>D</td>\n",
              "      <td>A</td>\n",
              "      <td>A</td>\n",
              "      <td>N</td>\n",
              "      <td>N</td>\n",
              "      <td>N</td>\n",
              "      <td>A</td>\n",
              "      <td>N</td>\n",
              "      <td>N</td>\n",
              "      <td>A</td>\n",
              "      <td>A</td>\n",
              "      <td>D</td>\n",
              "      <td>N</td>\n",
              "      <td>D</td>\n",
              "      <td>N</td>\n",
              "      <td>D</td>\n",
              "      <td>A</td>\n",
              "      <td>N</td>\n",
              "      <td>6.0</td>\n",
              "      <td>108.79</td>\n",
              "      <td>97.19</td>\n",
              "      <td>1.0</td>\n",
              "      <td>49.7</td>\n",
              "      <td>72.63</td>\n",
              "      <td>72.03</td>\n",
              "      <td>1.84</td>\n",
              "      <td>0.0</td>\n",
              "      <td>1.84</td>\n",
              "    </tr>\n",
              "    <tr>\n",
              "      <th>100610</th>\n",
              "      <td>Arcuate_Fasciculus_L</td>\n",
              "      <td>dsi-studio-atk</td>\n",
              "      <td>17768.0</td>\n",
              "      <td>126.265</td>\n",
              "      <td>39.6110</td>\n",
              "      <td>3.18762</td>\n",
              "      <td>6.68010</td>\n",
              "      <td>18.9016</td>\n",
              "      <td>35430.0</td>\n",
              "      <td>34032.0</td>\n",
              "      <td>1398.0</td>\n",
              "      <td>59757.0</td>\n",
              "      <td>25.7529</td>\n",
              "      <td>6951.0</td>\n",
              "      <td>7.96998</td>\n",
              "      <td>3323.0</td>\n",
              "      <td>13.0736</td>\n",
              "      <td>0.161588</td>\n",
              "      <td>3628.0</td>\n",
              "      <td>12.67940</td>\n",
              "      <td>0.139212</td>\n",
              "      <td>0.205058</td>\n",
              "      <td>0.212183</td>\n",
              "      <td>0.354390</td>\n",
              "      <td>0.583224</td>\n",
              "      <td>0.810979</td>\n",
              "      <td>0.469420</td>\n",
              "      <td>0.123328</td>\n",
              "      <td>0.341505</td>\n",
              "      <td>0.319828</td>\n",
              "      <td>0.212939</td>\n",
              "      <td>0.029438</td>\n",
              "      <td>0.0</td>\n",
              "      <td>S900</td>\n",
              "      <td>Q08</td>\n",
              "      <td>M</td>\n",
              "      <td>2</td>\n",
              "      <td>26-30</td>\n",
              "      <td>28.0</td>\n",
              "      <td>1</td>\n",
              "      <td>...</td>\n",
              "      <td>SA</td>\n",
              "      <td>D</td>\n",
              "      <td>D</td>\n",
              "      <td>A</td>\n",
              "      <td>A</td>\n",
              "      <td>SD</td>\n",
              "      <td>D</td>\n",
              "      <td>N</td>\n",
              "      <td>A</td>\n",
              "      <td>A</td>\n",
              "      <td>SD</td>\n",
              "      <td>N</td>\n",
              "      <td>A</td>\n",
              "      <td>A</td>\n",
              "      <td>D</td>\n",
              "      <td>A</td>\n",
              "      <td>D</td>\n",
              "      <td>D</td>\n",
              "      <td>SA</td>\n",
              "      <td>A</td>\n",
              "      <td>SD</td>\n",
              "      <td>N</td>\n",
              "      <td>SA</td>\n",
              "      <td>SD</td>\n",
              "      <td>D</td>\n",
              "      <td>A</td>\n",
              "      <td>SA</td>\n",
              "      <td>SA</td>\n",
              "      <td>D</td>\n",
              "      <td>A</td>\n",
              "      <td>2.0</td>\n",
              "      <td>122.25</td>\n",
              "      <td>110.45</td>\n",
              "      <td>0.0</td>\n",
              "      <td>38.6</td>\n",
              "      <td>84.84</td>\n",
              "      <td>85.31</td>\n",
              "      <td>1.92</td>\n",
              "      <td>1.0</td>\n",
              "      <td>1.88</td>\n",
              "    </tr>\n",
              "    <tr>\n",
              "      <th>101006</th>\n",
              "      <td>Arcuate_Fasciculus_L</td>\n",
              "      <td>dsi-studio-atk</td>\n",
              "      <td>17162.0</td>\n",
              "      <td>118.315</td>\n",
              "      <td>29.9799</td>\n",
              "      <td>3.94649</td>\n",
              "      <td>5.63901</td>\n",
              "      <td>20.9816</td>\n",
              "      <td>40908.0</td>\n",
              "      <td>39282.0</td>\n",
              "      <td>1626.0</td>\n",
              "      <td>67965.0</td>\n",
              "      <td>25.5830</td>\n",
              "      <td>7279.0</td>\n",
              "      <td>8.71476</td>\n",
              "      <td>4310.0</td>\n",
              "      <td>15.2387</td>\n",
              "      <td>0.169265</td>\n",
              "      <td>2969.0</td>\n",
              "      <td>10.34430</td>\n",
              "      <td>0.113226</td>\n",
              "      <td>0.197688</td>\n",
              "      <td>0.234582</td>\n",
              "      <td>0.345588</td>\n",
              "      <td>0.556724</td>\n",
              "      <td>0.767215</td>\n",
              "      <td>0.451466</td>\n",
              "      <td>0.112722</td>\n",
              "      <td>0.363678</td>\n",
              "      <td>0.335583</td>\n",
              "      <td>0.223994</td>\n",
              "      <td>0.031119</td>\n",
              "      <td>0.0</td>\n",
              "      <td>S500</td>\n",
              "      <td>Q06</td>\n",
              "      <td>F</td>\n",
              "      <td>1</td>\n",
              "      <td>31-35</td>\n",
              "      <td>33.0</td>\n",
              "      <td>1</td>\n",
              "      <td>...</td>\n",
              "      <td>A</td>\n",
              "      <td>N</td>\n",
              "      <td>A</td>\n",
              "      <td>A</td>\n",
              "      <td>A</td>\n",
              "      <td>SD</td>\n",
              "      <td>A</td>\n",
              "      <td>A</td>\n",
              "      <td>SD</td>\n",
              "      <td>A</td>\n",
              "      <td>D</td>\n",
              "      <td>N</td>\n",
              "      <td>A</td>\n",
              "      <td>D</td>\n",
              "      <td>A</td>\n",
              "      <td>D</td>\n",
              "      <td>N</td>\n",
              "      <td>D</td>\n",
              "      <td>SA</td>\n",
              "      <td>SA</td>\n",
              "      <td>SD</td>\n",
              "      <td>A</td>\n",
              "      <td>N</td>\n",
              "      <td>N</td>\n",
              "      <td>SD</td>\n",
              "      <td>SD</td>\n",
              "      <td>N</td>\n",
              "      <td>N</td>\n",
              "      <td>SD</td>\n",
              "      <td>SA</td>\n",
              "      <td>6.0</td>\n",
              "      <td>122.25</td>\n",
              "      <td>111.41</td>\n",
              "      <td>0.0</td>\n",
              "      <td>38.6</td>\n",
              "      <td>123.80</td>\n",
              "      <td>123.31</td>\n",
              "      <td>1.80</td>\n",
              "      <td>0.0</td>\n",
              "      <td>1.80</td>\n",
              "    </tr>\n",
              "    <tr>\n",
              "      <th>101309</th>\n",
              "      <td>Arcuate_Fasciculus_L</td>\n",
              "      <td>dsi-studio-atk</td>\n",
              "      <td>19508.0</td>\n",
              "      <td>134.388</td>\n",
              "      <td>38.3946</td>\n",
              "      <td>3.50019</td>\n",
              "      <td>7.82612</td>\n",
              "      <td>17.1718</td>\n",
              "      <td>31123.0</td>\n",
              "      <td>24708.0</td>\n",
              "      <td>6415.0</td>\n",
              "      <td>56605.0</td>\n",
              "      <td>23.6644</td>\n",
              "      <td>6397.0</td>\n",
              "      <td>7.80779</td>\n",
              "      <td>4061.0</td>\n",
              "      <td>13.6400</td>\n",
              "      <td>0.143928</td>\n",
              "      <td>2336.0</td>\n",
              "      <td>10.02440</td>\n",
              "      <td>0.135143</td>\n",
              "      <td>0.182549</td>\n",
              "      <td>0.279228</td>\n",
              "      <td>0.414419</td>\n",
              "      <td>0.516641</td>\n",
              "      <td>0.755973</td>\n",
              "      <td>0.397166</td>\n",
              "      <td>0.127402</td>\n",
              "      <td>0.287287</td>\n",
              "      <td>0.274467</td>\n",
              "      <td>0.180802</td>\n",
              "      <td>0.024038</td>\n",
              "      <td>0.0</td>\n",
              "      <td>S500</td>\n",
              "      <td>Q06</td>\n",
              "      <td>M</td>\n",
              "      <td>2</td>\n",
              "      <td>26-30</td>\n",
              "      <td>28.0</td>\n",
              "      <td>1</td>\n",
              "      <td>...</td>\n",
              "      <td>SA</td>\n",
              "      <td>N</td>\n",
              "      <td>SD</td>\n",
              "      <td>SA</td>\n",
              "      <td>A</td>\n",
              "      <td>N</td>\n",
              "      <td>A</td>\n",
              "      <td>SA</td>\n",
              "      <td>N</td>\n",
              "      <td>SA</td>\n",
              "      <td>SD</td>\n",
              "      <td>N</td>\n",
              "      <td>SD</td>\n",
              "      <td>N</td>\n",
              "      <td>D</td>\n",
              "      <td>SA</td>\n",
              "      <td>N</td>\n",
              "      <td>A</td>\n",
              "      <td>SA</td>\n",
              "      <td>SA</td>\n",
              "      <td>SD</td>\n",
              "      <td>N</td>\n",
              "      <td>A</td>\n",
              "      <td>SD</td>\n",
              "      <td>D</td>\n",
              "      <td>SD</td>\n",
              "      <td>D</td>\n",
              "      <td>A</td>\n",
              "      <td>SD</td>\n",
              "      <td>A</td>\n",
              "      <td>5.2</td>\n",
              "      <td>122.25</td>\n",
              "      <td>110.45</td>\n",
              "      <td>0.0</td>\n",
              "      <td>38.6</td>\n",
              "      <td>106.39</td>\n",
              "      <td>104.39</td>\n",
              "      <td>1.80</td>\n",
              "      <td>0.0</td>\n",
              "      <td>1.80</td>\n",
              "    </tr>\n",
              "    <tr>\n",
              "      <th>101410</th>\n",
              "      <td>Arcuate_Fasciculus_L</td>\n",
              "      <td>dsi-studio-atk</td>\n",
              "      <td>17495.0</td>\n",
              "      <td>126.067</td>\n",
              "      <td>35.1831</td>\n",
              "      <td>3.58318</td>\n",
              "      <td>6.46317</td>\n",
              "      <td>19.5055</td>\n",
              "      <td>37671.0</td>\n",
              "      <td>26072.0</td>\n",
              "      <td>11599.0</td>\n",
              "      <td>68381.0</td>\n",
              "      <td>25.6253</td>\n",
              "      <td>6622.0</td>\n",
              "      <td>8.85168</td>\n",
              "      <td>2864.0</td>\n",
              "      <td>14.5607</td>\n",
              "      <td>0.232564</td>\n",
              "      <td>3758.0</td>\n",
              "      <td>11.06450</td>\n",
              "      <td>0.102343</td>\n",
              "      <td>0.171985</td>\n",
              "      <td>0.266361</td>\n",
              "      <td>0.376660</td>\n",
              "      <td>0.581214</td>\n",
              "      <td>0.819929</td>\n",
              "      <td>0.461950</td>\n",
              "      <td>0.127460</td>\n",
              "      <td>0.277252</td>\n",
              "      <td>0.261590</td>\n",
              "      <td>0.175235</td>\n",
              "      <td>0.024646</td>\n",
              "      <td>0.0</td>\n",
              "      <td>S500</td>\n",
              "      <td>Q06</td>\n",
              "      <td>M</td>\n",
              "      <td>2</td>\n",
              "      <td>26-30</td>\n",
              "      <td>28.0</td>\n",
              "      <td>0</td>\n",
              "      <td>...</td>\n",
              "      <td>A</td>\n",
              "      <td>N</td>\n",
              "      <td>D</td>\n",
              "      <td>A</td>\n",
              "      <td>A</td>\n",
              "      <td>D</td>\n",
              "      <td>N</td>\n",
              "      <td>D</td>\n",
              "      <td>D</td>\n",
              "      <td>N</td>\n",
              "      <td>D</td>\n",
              "      <td>N</td>\n",
              "      <td>D</td>\n",
              "      <td>N</td>\n",
              "      <td>D</td>\n",
              "      <td>A</td>\n",
              "      <td>N</td>\n",
              "      <td>D</td>\n",
              "      <td>SA</td>\n",
              "      <td>SA</td>\n",
              "      <td>SD</td>\n",
              "      <td>SA</td>\n",
              "      <td>A</td>\n",
              "      <td>D</td>\n",
              "      <td>D</td>\n",
              "      <td>D</td>\n",
              "      <td>N</td>\n",
              "      <td>N</td>\n",
              "      <td>D</td>\n",
              "      <td>SA</td>\n",
              "      <td>6.8</td>\n",
              "      <td>122.25</td>\n",
              "      <td>111.41</td>\n",
              "      <td>3.0</td>\n",
              "      <td>50.1</td>\n",
              "      <td>73.86</td>\n",
              "      <td>71.78</td>\n",
              "      <td>1.80</td>\n",
              "      <td>0.0</td>\n",
              "      <td>1.80</td>\n",
              "    </tr>\n",
              "  </tbody>\n",
              "</table>\n",
              "<p>5 rows × 616 columns</p>\n",
              "</div>"
            ],
            "text/plain": [
              "                       tract            tags  ...  Mars_Errs  Mars_Final\n",
              "100206  Arcuate_Fasciculus_L  dsi-studio-atk  ...        0.0        1.84\n",
              "100610  Arcuate_Fasciculus_L  dsi-studio-atk  ...        1.0        1.88\n",
              "101006  Arcuate_Fasciculus_L  dsi-studio-atk  ...        0.0        1.80\n",
              "101309  Arcuate_Fasciculus_L  dsi-studio-atk  ...        0.0        1.80\n",
              "101410  Arcuate_Fasciculus_L  dsi-studio-atk  ...        0.0        1.80\n",
              "\n",
              "[5 rows x 616 columns]"
            ]
          },
          "metadata": {
            "tags": []
          },
          "execution_count": 155
        }
      ]
    },
    {
      "cell_type": "code",
      "metadata": {
        "colab": {
          "base_uri": "https://localhost:8080/",
          "height": 273
        },
        "id": "NjS1ZdQYnAcf",
        "outputId": "2ab725b7-b417-4ae2-c66b-e684b5e1c868"
      },
      "source": [
        "example[col[30:]].head()"
      ],
      "execution_count": 156,
      "outputs": [
        {
          "output_type": "execute_result",
          "data": {
            "text/html": [
              "<div>\n",
              "<style scoped>\n",
              "    .dataframe tbody tr th:only-of-type {\n",
              "        vertical-align: middle;\n",
              "    }\n",
              "\n",
              "    .dataframe tbody tr th {\n",
              "        vertical-align: top;\n",
              "    }\n",
              "\n",
              "    .dataframe thead th {\n",
              "        text-align: right;\n",
              "    }\n",
              "</style>\n",
              "<table border=\"1\" class=\"dataframe\">\n",
              "  <thead>\n",
              "    <tr style=\"text-align: right;\">\n",
              "      <th></th>\n",
              "      <th>nrdi02L</th>\n",
              "      <th>nrdi04L</th>\n",
              "      <th>nrdi06L</th>\n",
              "      <th>Release</th>\n",
              "      <th>Acquisition</th>\n",
              "      <th>Gender</th>\n",
              "      <th>Gender.1</th>\n",
              "      <th>Age</th>\n",
              "      <th>Age.1</th>\n",
              "      <th>3T_Full_MR_Compl</th>\n",
              "      <th>T1_Count</th>\n",
              "      <th>T2_Count</th>\n",
              "      <th>3T_RS-fMRI_Count</th>\n",
              "      <th>3T_RS-fMRI_PctCompl</th>\n",
              "      <th>3T_Full_Task_fMRI</th>\n",
              "      <th>3T_tMRI_PctCompl</th>\n",
              "      <th>fMRI_WM_PctCompl</th>\n",
              "      <th>fMRI_Gamb_PctCompl</th>\n",
              "      <th>fMRI_Mot_PctCompl</th>\n",
              "      <th>fMRI_Lang_PctCompl</th>\n",
              "      <th>fMRI_Soc_PctCompl</th>\n",
              "      <th>fMRI_Rel_PctCompl</th>\n",
              "      <th>fMRI_Emo_PctCompl</th>\n",
              "      <th>3T_dMRI_Compl</th>\n",
              "      <th>3T_dMRI_PctCompl</th>\n",
              "      <th>dMRI_3T_ReconVrs</th>\n",
              "      <th>fMRI_3T_ReconVrs</th>\n",
              "      <th>7T_Full_MR_Compl</th>\n",
              "      <th>7T_RS-fMRI_Count</th>\n",
              "      <th>7T_RS-fMRI_PctCompl</th>\n",
              "      <th>7T_Full_Task_fMRI</th>\n",
              "      <th>7T_tMRI_PctCompl</th>\n",
              "      <th>fMRI_Movie_Compl</th>\n",
              "      <th>fMRI_Movie_PctCompl</th>\n",
              "      <th>fMRI_Ret_Compl</th>\n",
              "      <th>fMRI_Ret_PctCompl</th>\n",
              "      <th>7T_dMRI_Compl</th>\n",
              "      <th>7T_dMRI_PctCompl</th>\n",
              "      <th>7T_fMRI_Mov_Vrs</th>\n",
              "      <th>MEG_AnyData</th>\n",
              "      <th>...</th>\n",
              "      <th>NEORAW_31</th>\n",
              "      <th>NEORAW_32</th>\n",
              "      <th>NEORAW_33</th>\n",
              "      <th>NEORAW_34</th>\n",
              "      <th>NEORAW_35</th>\n",
              "      <th>NEORAW_36</th>\n",
              "      <th>NEORAW_37</th>\n",
              "      <th>NEORAW_38</th>\n",
              "      <th>NEORAW_39</th>\n",
              "      <th>NEORAW_40</th>\n",
              "      <th>NEORAW_41</th>\n",
              "      <th>NEORAW_42</th>\n",
              "      <th>NEORAW_43</th>\n",
              "      <th>NEORAW_44</th>\n",
              "      <th>NEORAW_45</th>\n",
              "      <th>NEORAW_46</th>\n",
              "      <th>NEORAW_47</th>\n",
              "      <th>NEORAW_48</th>\n",
              "      <th>NEORAW_49</th>\n",
              "      <th>NEORAW_50</th>\n",
              "      <th>NEORAW_51</th>\n",
              "      <th>NEORAW_52</th>\n",
              "      <th>NEORAW_53</th>\n",
              "      <th>NEORAW_54</th>\n",
              "      <th>NEORAW_55</th>\n",
              "      <th>NEORAW_56</th>\n",
              "      <th>NEORAW_57</th>\n",
              "      <th>NEORAW_58</th>\n",
              "      <th>NEORAW_59</th>\n",
              "      <th>NEORAW_60</th>\n",
              "      <th>Noise_Comp</th>\n",
              "      <th>Odor_Unadj</th>\n",
              "      <th>Odor_AgeAdj</th>\n",
              "      <th>PainIntens_RawScore</th>\n",
              "      <th>PainInterf_Tscore</th>\n",
              "      <th>Taste_Unadj</th>\n",
              "      <th>Taste_AgeAdj</th>\n",
              "      <th>Mars_Log_Score</th>\n",
              "      <th>Mars_Errs</th>\n",
              "      <th>Mars_Final</th>\n",
              "    </tr>\n",
              "  </thead>\n",
              "  <tbody>\n",
              "    <tr>\n",
              "      <th>100206</th>\n",
              "      <td>0.200755</td>\n",
              "      <td>0.026358</td>\n",
              "      <td>0.0</td>\n",
              "      <td>S900</td>\n",
              "      <td>Q11</td>\n",
              "      <td>M</td>\n",
              "      <td>2</td>\n",
              "      <td>26-30</td>\n",
              "      <td>28.0</td>\n",
              "      <td>1</td>\n",
              "      <td>1</td>\n",
              "      <td>1</td>\n",
              "      <td>4</td>\n",
              "      <td>100.0</td>\n",
              "      <td>1</td>\n",
              "      <td>100.0</td>\n",
              "      <td>100</td>\n",
              "      <td>100.0</td>\n",
              "      <td>100</td>\n",
              "      <td>100.0</td>\n",
              "      <td>100</td>\n",
              "      <td>100</td>\n",
              "      <td>100.0</td>\n",
              "      <td>1</td>\n",
              "      <td>100.0</td>\n",
              "      <td>r227</td>\n",
              "      <td>r227</td>\n",
              "      <td>0</td>\n",
              "      <td>0</td>\n",
              "      <td>0.0</td>\n",
              "      <td>0</td>\n",
              "      <td>0.0</td>\n",
              "      <td>0</td>\n",
              "      <td>0.0</td>\n",
              "      <td>0</td>\n",
              "      <td>0</td>\n",
              "      <td>0</td>\n",
              "      <td>0</td>\n",
              "      <td>NaN</td>\n",
              "      <td>0</td>\n",
              "      <td>...</td>\n",
              "      <td>N</td>\n",
              "      <td>N</td>\n",
              "      <td>D</td>\n",
              "      <td>A</td>\n",
              "      <td>A</td>\n",
              "      <td>N</td>\n",
              "      <td>A</td>\n",
              "      <td>N</td>\n",
              "      <td>D</td>\n",
              "      <td>N</td>\n",
              "      <td>N</td>\n",
              "      <td>D</td>\n",
              "      <td>D</td>\n",
              "      <td>A</td>\n",
              "      <td>A</td>\n",
              "      <td>N</td>\n",
              "      <td>N</td>\n",
              "      <td>N</td>\n",
              "      <td>A</td>\n",
              "      <td>N</td>\n",
              "      <td>N</td>\n",
              "      <td>A</td>\n",
              "      <td>A</td>\n",
              "      <td>D</td>\n",
              "      <td>N</td>\n",
              "      <td>D</td>\n",
              "      <td>N</td>\n",
              "      <td>D</td>\n",
              "      <td>A</td>\n",
              "      <td>N</td>\n",
              "      <td>6.0</td>\n",
              "      <td>108.79</td>\n",
              "      <td>97.19</td>\n",
              "      <td>1.0</td>\n",
              "      <td>49.7</td>\n",
              "      <td>72.63</td>\n",
              "      <td>72.03</td>\n",
              "      <td>1.84</td>\n",
              "      <td>0.0</td>\n",
              "      <td>1.84</td>\n",
              "    </tr>\n",
              "    <tr>\n",
              "      <th>100610</th>\n",
              "      <td>0.212939</td>\n",
              "      <td>0.029438</td>\n",
              "      <td>0.0</td>\n",
              "      <td>S900</td>\n",
              "      <td>Q08</td>\n",
              "      <td>M</td>\n",
              "      <td>2</td>\n",
              "      <td>26-30</td>\n",
              "      <td>28.0</td>\n",
              "      <td>1</td>\n",
              "      <td>2</td>\n",
              "      <td>1</td>\n",
              "      <td>4</td>\n",
              "      <td>100.0</td>\n",
              "      <td>1</td>\n",
              "      <td>100.0</td>\n",
              "      <td>100</td>\n",
              "      <td>100.0</td>\n",
              "      <td>100</td>\n",
              "      <td>100.0</td>\n",
              "      <td>100</td>\n",
              "      <td>100</td>\n",
              "      <td>100.0</td>\n",
              "      <td>1</td>\n",
              "      <td>100.0</td>\n",
              "      <td>r227</td>\n",
              "      <td>r227</td>\n",
              "      <td>1</td>\n",
              "      <td>4</td>\n",
              "      <td>100.0</td>\n",
              "      <td>1</td>\n",
              "      <td>100.0</td>\n",
              "      <td>1</td>\n",
              "      <td>100.0</td>\n",
              "      <td>1</td>\n",
              "      <td>100</td>\n",
              "      <td>1</td>\n",
              "      <td>100</td>\n",
              "      <td>2.0</td>\n",
              "      <td>0</td>\n",
              "      <td>...</td>\n",
              "      <td>SA</td>\n",
              "      <td>D</td>\n",
              "      <td>D</td>\n",
              "      <td>A</td>\n",
              "      <td>A</td>\n",
              "      <td>SD</td>\n",
              "      <td>D</td>\n",
              "      <td>N</td>\n",
              "      <td>A</td>\n",
              "      <td>A</td>\n",
              "      <td>SD</td>\n",
              "      <td>N</td>\n",
              "      <td>A</td>\n",
              "      <td>A</td>\n",
              "      <td>D</td>\n",
              "      <td>A</td>\n",
              "      <td>D</td>\n",
              "      <td>D</td>\n",
              "      <td>SA</td>\n",
              "      <td>A</td>\n",
              "      <td>SD</td>\n",
              "      <td>N</td>\n",
              "      <td>SA</td>\n",
              "      <td>SD</td>\n",
              "      <td>D</td>\n",
              "      <td>A</td>\n",
              "      <td>SA</td>\n",
              "      <td>SA</td>\n",
              "      <td>D</td>\n",
              "      <td>A</td>\n",
              "      <td>2.0</td>\n",
              "      <td>122.25</td>\n",
              "      <td>110.45</td>\n",
              "      <td>0.0</td>\n",
              "      <td>38.6</td>\n",
              "      <td>84.84</td>\n",
              "      <td>85.31</td>\n",
              "      <td>1.92</td>\n",
              "      <td>1.0</td>\n",
              "      <td>1.88</td>\n",
              "    </tr>\n",
              "    <tr>\n",
              "      <th>101006</th>\n",
              "      <td>0.223994</td>\n",
              "      <td>0.031119</td>\n",
              "      <td>0.0</td>\n",
              "      <td>S500</td>\n",
              "      <td>Q06</td>\n",
              "      <td>F</td>\n",
              "      <td>1</td>\n",
              "      <td>31-35</td>\n",
              "      <td>33.0</td>\n",
              "      <td>1</td>\n",
              "      <td>2</td>\n",
              "      <td>2</td>\n",
              "      <td>4</td>\n",
              "      <td>100.0</td>\n",
              "      <td>1</td>\n",
              "      <td>100.0</td>\n",
              "      <td>100</td>\n",
              "      <td>100.0</td>\n",
              "      <td>100</td>\n",
              "      <td>100.0</td>\n",
              "      <td>100</td>\n",
              "      <td>100</td>\n",
              "      <td>100.0</td>\n",
              "      <td>1</td>\n",
              "      <td>100.0</td>\n",
              "      <td>r227</td>\n",
              "      <td>r227</td>\n",
              "      <td>0</td>\n",
              "      <td>0</td>\n",
              "      <td>0.0</td>\n",
              "      <td>0</td>\n",
              "      <td>0.0</td>\n",
              "      <td>0</td>\n",
              "      <td>0.0</td>\n",
              "      <td>0</td>\n",
              "      <td>0</td>\n",
              "      <td>0</td>\n",
              "      <td>0</td>\n",
              "      <td>NaN</td>\n",
              "      <td>0</td>\n",
              "      <td>...</td>\n",
              "      <td>A</td>\n",
              "      <td>N</td>\n",
              "      <td>A</td>\n",
              "      <td>A</td>\n",
              "      <td>A</td>\n",
              "      <td>SD</td>\n",
              "      <td>A</td>\n",
              "      <td>A</td>\n",
              "      <td>SD</td>\n",
              "      <td>A</td>\n",
              "      <td>D</td>\n",
              "      <td>N</td>\n",
              "      <td>A</td>\n",
              "      <td>D</td>\n",
              "      <td>A</td>\n",
              "      <td>D</td>\n",
              "      <td>N</td>\n",
              "      <td>D</td>\n",
              "      <td>SA</td>\n",
              "      <td>SA</td>\n",
              "      <td>SD</td>\n",
              "      <td>A</td>\n",
              "      <td>N</td>\n",
              "      <td>N</td>\n",
              "      <td>SD</td>\n",
              "      <td>SD</td>\n",
              "      <td>N</td>\n",
              "      <td>N</td>\n",
              "      <td>SD</td>\n",
              "      <td>SA</td>\n",
              "      <td>6.0</td>\n",
              "      <td>122.25</td>\n",
              "      <td>111.41</td>\n",
              "      <td>0.0</td>\n",
              "      <td>38.6</td>\n",
              "      <td>123.80</td>\n",
              "      <td>123.31</td>\n",
              "      <td>1.80</td>\n",
              "      <td>0.0</td>\n",
              "      <td>1.80</td>\n",
              "    </tr>\n",
              "    <tr>\n",
              "      <th>101309</th>\n",
              "      <td>0.180802</td>\n",
              "      <td>0.024038</td>\n",
              "      <td>0.0</td>\n",
              "      <td>S500</td>\n",
              "      <td>Q06</td>\n",
              "      <td>M</td>\n",
              "      <td>2</td>\n",
              "      <td>26-30</td>\n",
              "      <td>28.0</td>\n",
              "      <td>1</td>\n",
              "      <td>1</td>\n",
              "      <td>1</td>\n",
              "      <td>4</td>\n",
              "      <td>100.0</td>\n",
              "      <td>1</td>\n",
              "      <td>100.0</td>\n",
              "      <td>100</td>\n",
              "      <td>100.0</td>\n",
              "      <td>100</td>\n",
              "      <td>100.0</td>\n",
              "      <td>100</td>\n",
              "      <td>100</td>\n",
              "      <td>100.0</td>\n",
              "      <td>1</td>\n",
              "      <td>100.0</td>\n",
              "      <td>r227</td>\n",
              "      <td>r227</td>\n",
              "      <td>0</td>\n",
              "      <td>0</td>\n",
              "      <td>0.0</td>\n",
              "      <td>0</td>\n",
              "      <td>0.0</td>\n",
              "      <td>0</td>\n",
              "      <td>0.0</td>\n",
              "      <td>0</td>\n",
              "      <td>0</td>\n",
              "      <td>0</td>\n",
              "      <td>0</td>\n",
              "      <td>NaN</td>\n",
              "      <td>0</td>\n",
              "      <td>...</td>\n",
              "      <td>SA</td>\n",
              "      <td>N</td>\n",
              "      <td>SD</td>\n",
              "      <td>SA</td>\n",
              "      <td>A</td>\n",
              "      <td>N</td>\n",
              "      <td>A</td>\n",
              "      <td>SA</td>\n",
              "      <td>N</td>\n",
              "      <td>SA</td>\n",
              "      <td>SD</td>\n",
              "      <td>N</td>\n",
              "      <td>SD</td>\n",
              "      <td>N</td>\n",
              "      <td>D</td>\n",
              "      <td>SA</td>\n",
              "      <td>N</td>\n",
              "      <td>A</td>\n",
              "      <td>SA</td>\n",
              "      <td>SA</td>\n",
              "      <td>SD</td>\n",
              "      <td>N</td>\n",
              "      <td>A</td>\n",
              "      <td>SD</td>\n",
              "      <td>D</td>\n",
              "      <td>SD</td>\n",
              "      <td>D</td>\n",
              "      <td>A</td>\n",
              "      <td>SD</td>\n",
              "      <td>A</td>\n",
              "      <td>5.2</td>\n",
              "      <td>122.25</td>\n",
              "      <td>110.45</td>\n",
              "      <td>0.0</td>\n",
              "      <td>38.6</td>\n",
              "      <td>106.39</td>\n",
              "      <td>104.39</td>\n",
              "      <td>1.80</td>\n",
              "      <td>0.0</td>\n",
              "      <td>1.80</td>\n",
              "    </tr>\n",
              "    <tr>\n",
              "      <th>101410</th>\n",
              "      <td>0.175235</td>\n",
              "      <td>0.024646</td>\n",
              "      <td>0.0</td>\n",
              "      <td>S500</td>\n",
              "      <td>Q06</td>\n",
              "      <td>M</td>\n",
              "      <td>2</td>\n",
              "      <td>26-30</td>\n",
              "      <td>28.0</td>\n",
              "      <td>0</td>\n",
              "      <td>2</td>\n",
              "      <td>1</td>\n",
              "      <td>2</td>\n",
              "      <td>50.0</td>\n",
              "      <td>1</td>\n",
              "      <td>100.0</td>\n",
              "      <td>100</td>\n",
              "      <td>100.0</td>\n",
              "      <td>100</td>\n",
              "      <td>100.0</td>\n",
              "      <td>100</td>\n",
              "      <td>100</td>\n",
              "      <td>100.0</td>\n",
              "      <td>1</td>\n",
              "      <td>100.0</td>\n",
              "      <td>r227</td>\n",
              "      <td>r227</td>\n",
              "      <td>0</td>\n",
              "      <td>0</td>\n",
              "      <td>0.0</td>\n",
              "      <td>0</td>\n",
              "      <td>0.0</td>\n",
              "      <td>0</td>\n",
              "      <td>0.0</td>\n",
              "      <td>0</td>\n",
              "      <td>0</td>\n",
              "      <td>0</td>\n",
              "      <td>0</td>\n",
              "      <td>NaN</td>\n",
              "      <td>0</td>\n",
              "      <td>...</td>\n",
              "      <td>A</td>\n",
              "      <td>N</td>\n",
              "      <td>D</td>\n",
              "      <td>A</td>\n",
              "      <td>A</td>\n",
              "      <td>D</td>\n",
              "      <td>N</td>\n",
              "      <td>D</td>\n",
              "      <td>D</td>\n",
              "      <td>N</td>\n",
              "      <td>D</td>\n",
              "      <td>N</td>\n",
              "      <td>D</td>\n",
              "      <td>N</td>\n",
              "      <td>D</td>\n",
              "      <td>A</td>\n",
              "      <td>N</td>\n",
              "      <td>D</td>\n",
              "      <td>SA</td>\n",
              "      <td>SA</td>\n",
              "      <td>SD</td>\n",
              "      <td>SA</td>\n",
              "      <td>A</td>\n",
              "      <td>D</td>\n",
              "      <td>D</td>\n",
              "      <td>D</td>\n",
              "      <td>N</td>\n",
              "      <td>N</td>\n",
              "      <td>D</td>\n",
              "      <td>SA</td>\n",
              "      <td>6.8</td>\n",
              "      <td>122.25</td>\n",
              "      <td>111.41</td>\n",
              "      <td>3.0</td>\n",
              "      <td>50.1</td>\n",
              "      <td>73.86</td>\n",
              "      <td>71.78</td>\n",
              "      <td>1.80</td>\n",
              "      <td>0.0</td>\n",
              "      <td>1.80</td>\n",
              "    </tr>\n",
              "  </tbody>\n",
              "</table>\n",
              "<p>5 rows × 586 columns</p>\n",
              "</div>"
            ],
            "text/plain": [
              "         nrdi02L   nrdi04L  nrdi06L  ... Mars_Log_Score Mars_Errs Mars_Final\n",
              "100206  0.200755  0.026358      0.0  ...           1.84       0.0       1.84\n",
              "100610  0.212939  0.029438      0.0  ...           1.92       1.0       1.88\n",
              "101006  0.223994  0.031119      0.0  ...           1.80       0.0       1.80\n",
              "101309  0.180802  0.024038      0.0  ...           1.80       0.0       1.80\n",
              "101410  0.175235  0.024646      0.0  ...           1.80       0.0       1.80\n",
              "\n",
              "[5 rows x 586 columns]"
            ]
          },
          "metadata": {
            "tags": []
          },
          "execution_count": 156
        }
      ]
    },
    {
      "cell_type": "code",
      "metadata": {
        "colab": {
          "base_uri": "https://localhost:8080/"
        },
        "id": "rGaYYLcT2BSc",
        "outputId": "911ca18d-0e8c-4570-919e-417d433a693e"
      },
      "source": [
        "diff_labels = example.columns[example.columns.tolist().index(\"qa\"):example.columns.tolist().index(\"rdi\") + 1].tolist()\n",
        "pers_labels = example.columns[example.columns.tolist().index(\"NEOFAC_A\"):example.columns.tolist().index(\"NEOFAC_E\") + 1].tolist()\n",
        "diff_labels, pers_labels\n",
        "\n",
        "\n",
        "#same as doing\n",
        "\n",
        "#diff_labels = [\"qa\", \"nqa\", \"dti_fa\", \"md\", \"ad\", \"rd\", \"gfa\", \"iso\",\"rdi\"]\n",
        "#pers_labels = [\"NEOFAC_A\",\"NEOFAC_O\", \"NEOFAC_C\", \"NEOFAC_N\", \"NEOFAC_E\"]"
      ],
      "execution_count": 157,
      "outputs": [
        {
          "output_type": "execute_result",
          "data": {
            "text/plain": [
              "(['qa', 'nqa', 'dti_fa', 'md', 'ad', 'rd', 'gfa', 'iso', 'rdi'],\n",
              " ['NEOFAC_A', 'NEOFAC_O', 'NEOFAC_C', 'NEOFAC_N', 'NEOFAC_E'])"
            ]
          },
          "metadata": {
            "tags": []
          },
          "execution_count": 157
        }
      ]
    },
    {
      "cell_type": "code",
      "metadata": {
        "id": "y5FIDwUpcG_A",
        "colab": {
          "base_uri": "https://localhost:8080/"
        },
        "outputId": "f0187f3a-203b-4818-ccaf-d8c059383c63"
      },
      "source": [
        "!pip install pingouin"
      ],
      "execution_count": 158,
      "outputs": [
        {
          "output_type": "stream",
          "text": [
            "Requirement already satisfied: pingouin in /usr/local/lib/python3.6/dist-packages (0.3.8)\n",
            "Requirement already satisfied: pandas-flavor>=0.1.2 in /usr/local/lib/python3.6/dist-packages (from pingouin) (0.2.0)\n",
            "Requirement already satisfied: outdated in /usr/local/lib/python3.6/dist-packages (from pingouin) (0.2.0)\n",
            "Requirement already satisfied: seaborn>=0.9.0 in /usr/local/lib/python3.6/dist-packages (from pingouin) (0.11.0)\n",
            "Requirement already satisfied: numpy>=1.15 in /usr/local/lib/python3.6/dist-packages (from pingouin) (1.19.4)\n",
            "Requirement already satisfied: scipy>=1.3 in /usr/local/lib/python3.6/dist-packages (from pingouin) (1.4.1)\n",
            "Requirement already satisfied: pandas>=0.24 in /usr/local/lib/python3.6/dist-packages (from pingouin) (1.1.5)\n",
            "Requirement already satisfied: tabulate in /usr/local/lib/python3.6/dist-packages (from pingouin) (0.8.7)\n",
            "Requirement already satisfied: statsmodels>=0.10.0 in /usr/local/lib/python3.6/dist-packages (from pingouin) (0.10.2)\n",
            "Requirement already satisfied: scikit-learn in /usr/local/lib/python3.6/dist-packages (from pingouin) (0.22.2.post1)\n",
            "Requirement already satisfied: matplotlib>=3.0.2 in /usr/local/lib/python3.6/dist-packages (from pingouin) (3.2.2)\n",
            "Requirement already satisfied: xarray in /usr/local/lib/python3.6/dist-packages (from pandas-flavor>=0.1.2->pingouin) (0.15.1)\n",
            "Requirement already satisfied: requests in /usr/local/lib/python3.6/dist-packages (from outdated->pingouin) (2.23.0)\n",
            "Requirement already satisfied: littleutils in /usr/local/lib/python3.6/dist-packages (from outdated->pingouin) (0.2.2)\n",
            "Requirement already satisfied: pytz>=2017.2 in /usr/local/lib/python3.6/dist-packages (from pandas>=0.24->pingouin) (2018.9)\n",
            "Requirement already satisfied: python-dateutil>=2.7.3 in /usr/local/lib/python3.6/dist-packages (from pandas>=0.24->pingouin) (2.8.1)\n",
            "Requirement already satisfied: patsy>=0.4.0 in /usr/local/lib/python3.6/dist-packages (from statsmodels>=0.10.0->pingouin) (0.5.1)\n",
            "Requirement already satisfied: joblib>=0.11 in /usr/local/lib/python3.6/dist-packages (from scikit-learn->pingouin) (1.0.0)\n",
            "Requirement already satisfied: pyparsing!=2.0.4,!=2.1.2,!=2.1.6,>=2.0.1 in /usr/local/lib/python3.6/dist-packages (from matplotlib>=3.0.2->pingouin) (2.4.7)\n",
            "Requirement already satisfied: cycler>=0.10 in /usr/local/lib/python3.6/dist-packages (from matplotlib>=3.0.2->pingouin) (0.10.0)\n",
            "Requirement already satisfied: kiwisolver>=1.0.1 in /usr/local/lib/python3.6/dist-packages (from matplotlib>=3.0.2->pingouin) (1.3.1)\n",
            "Requirement already satisfied: setuptools>=41.2 in /usr/local/lib/python3.6/dist-packages (from xarray->pandas-flavor>=0.1.2->pingouin) (51.0.0)\n",
            "Requirement already satisfied: chardet<4,>=3.0.2 in /usr/local/lib/python3.6/dist-packages (from requests->outdated->pingouin) (3.0.4)\n",
            "Requirement already satisfied: certifi>=2017.4.17 in /usr/local/lib/python3.6/dist-packages (from requests->outdated->pingouin) (2020.12.5)\n",
            "Requirement already satisfied: urllib3!=1.25.0,!=1.25.1,<1.26,>=1.21.1 in /usr/local/lib/python3.6/dist-packages (from requests->outdated->pingouin) (1.24.3)\n",
            "Requirement already satisfied: idna<3,>=2.5 in /usr/local/lib/python3.6/dist-packages (from requests->outdated->pingouin) (2.10)\n",
            "Requirement already satisfied: six>=1.5 in /usr/local/lib/python3.6/dist-packages (from python-dateutil>=2.7.3->pandas>=0.24->pingouin) (1.15.0)\n"
          ],
          "name": "stdout"
        }
      ]
    },
    {
      "cell_type": "code",
      "metadata": {
        "id": "IdAJXF0dKCoE"
      },
      "source": [
        "import pingouin"
      ],
      "execution_count": 159,
      "outputs": []
    },
    {
      "cell_type": "markdown",
      "metadata": {
        "id": "Q2uAexxdKDKs"
      },
      "source": [
        "## Linear regression"
      ]
    },
    {
      "cell_type": "code",
      "metadata": {
        "id": "_9PTlE9TXitO"
      },
      "source": [
        "dic = {\"pval\": [], \"coef\" : [], \"file\" : [], \"diff_labels\":[], \"pers_labels\" : []}\n",
        "pval = []\n",
        "features = []\n",
        "coef = []\n",
        "intercept = []\n",
        "xs = []\n",
        "for file in sorted(os.listdir()):\n",
        "  if \"tsv\" in file:\n",
        "    fd = pd.read_csv(file, sep =  '\\t', index_col = 0)\n",
        "    for s in diff_labels:\n",
        "      for l in pers_labels:\n",
        "        x = fd[s]\n",
        "        idx = np.where(np.isnan(x))\n",
        "        y = fd[l]\n",
        "        idx2 = np.where(np.isnan(y)) \n",
        "        x = np.delete(np.array(x),idx2[0].tolist()+ idx[0].tolist())\n",
        "        y = np.delete(np.array(y),idx2[0].tolist()+ idx[0].tolist())\n",
        "        x2 = sm2.add_constant(x)\n",
        "        ls = sm.OLS(y, x2).fit()\n",
        "        pval.append(ls.pvalues[1])\n",
        "        dic[\"pval\"].append(ls.pvalues[1])\n",
        "        coef.append(ls.params[1])\n",
        "        dic[\"coef\"].append(ls.params[1])\n",
        "        intercept.append(ls.params[0])\n",
        "        features.append([file,s,l])\n",
        "        dic[\"file\"].append(file)\n",
        "        dic[\"diff_labels\"].append(s)\n",
        "        dic[\"pers_labels\"].append(l)\n",
        "        # here make a dictionary"
      ],
      "execution_count": 160,
      "outputs": []
    },
    {
      "cell_type": "code",
      "metadata": {
        "id": "gA3ki0mD7stS"
      },
      "source": [
        ""
      ],
      "execution_count": 160,
      "outputs": []
    },
    {
      "cell_type": "code",
      "metadata": {
        "id": "1owFQ8rUgBrt",
        "colab": {
          "base_uri": "https://localhost:8080/"
        },
        "outputId": "3b75fb8c-d1e5-40a0-ab12-e64de1355c48"
      },
      "source": [
        "files = np.array(features)[np.array(pval) < 0.0007]\n",
        "len(files)"
      ],
      "execution_count": 161,
      "outputs": [
        {
          "output_type": "execute_result",
          "data": {
            "text/plain": [
              "37"
            ]
          },
          "metadata": {
            "tags": []
          },
          "execution_count": 161
        }
      ]
    },
    {
      "cell_type": "code",
      "metadata": {
        "colab": {
          "base_uri": "https://localhost:8080/"
        },
        "id": "q7cFRL4jO17N",
        "outputId": "b4310e40-fd47-41fc-8b4c-08fff0934431"
      },
      "source": [
        "id = pval.index(min(pval))\n",
        "pval[id]"
      ],
      "execution_count": 162,
      "outputs": [
        {
          "output_type": "execute_result",
          "data": {
            "text/plain": [
              "1.447933784055021e-06"
            ]
          },
          "metadata": {
            "tags": []
          },
          "execution_count": 162
        }
      ]
    },
    {
      "cell_type": "code",
      "metadata": {
        "colab": {
          "base_uri": "https://localhost:8080/"
        },
        "id": "ezmSPPAU1Kvr",
        "outputId": "26edc6d7-ca8c-4bf6-940b-65991260f34c"
      },
      "source": [
        "features[id]"
      ],
      "execution_count": 163,
      "outputs": [
        {
          "output_type": "execute_result",
          "data": {
            "text/plain": [
              "['Cingulum_Parahippocampal_L siblings.tsv', 'ad', 'NEOFAC_A']"
            ]
          },
          "metadata": {
            "tags": []
          },
          "execution_count": 163
        }
      ]
    },
    {
      "cell_type": "code",
      "metadata": {
        "id": "IkvxqKzPfciK"
      },
      "source": [
        "for r in range(len(files)):\n",
        "  f = files[r][0]\n",
        "  s = files[r][1]\n",
        "  l = files[r][2]\n",
        "  if l == \"NEOFAC_A\":\n",
        "    l2 = \"Agreeableness\"\n",
        "  elif l == \"NEOFAC_O\":\n",
        "    l2 = \"Openness to experience\"\n",
        "  elif l == \"NEOFAC_E\":\n",
        "    l2 = \"Extraversion\"\n",
        "  elif l == \"NEOFAC_C\":\n",
        "    l2 = \"Coscientiousness\"\n",
        "  else:\n",
        "    l2 = \"Neuroticism\"\n",
        "  fd = pd.read_csv(f, sep =  '\\t', index_col = 0)\n",
        "  index = [\"Slope coefficient\",\"P-value\",\"R2\"]\n",
        "  variable = \"Tract: %s, Variables: %s vs %s\" %(files[r][0][:-4],l2, s)\n",
        "  if r == 0:\n",
        "    table1 = pd.DataFrame(columns = index)\n",
        "  \n",
        "  x = fd[s]\n",
        "  y = fd[l] \n",
        "  idx = np.where(np.isnan(x))\n",
        "  idx2 = np.where(np.isnan(y))\n",
        "  y = np.delete(np.array(y),idx2[0].tolist()+ idx[0].tolist())\n",
        "  x = np.delete(np.array(x),idx2[0].tolist()+ idx[0].tolist())\n",
        "  \n",
        "  x = (x- np.mean(x))/np.std(x) # z-score\n",
        "  y = (y- np.mean(y))/np.std(y) # z-score\n",
        "  x2 = sm2.add_constant(x)\n",
        "  ls = sm.OLS(y, x2).fit()\n",
        "\n",
        "  table1.loc[variable] = [0,0,0]\n",
        "\n",
        "  table1[index[0]][variable] = \"%.2f +- %.2f\" %(round(ls.params[1],2),round(ls.bse[1],2))\n",
        "  table1[index[1]][variable] = round(ls.pvalues[1],4)\n",
        "  table1[index[2]][variable] = r\"%.2f %%\" %round(r2_score(y,ls.params[0] + ls.params[1]*x)*100,2)"
      ],
      "execution_count": 164,
      "outputs": []
    },
    {
      "cell_type": "code",
      "metadata": {
        "colab": {
          "base_uri": "https://localhost:8080/",
          "height": 1000
        },
        "id": "dLSm0eAhew9G",
        "outputId": "c71cf3e4-db47-4e61-ae29-0530a95f946c"
      },
      "source": [
        "table1"
      ],
      "execution_count": 165,
      "outputs": [
        {
          "output_type": "execute_result",
          "data": {
            "text/html": [
              "<div>\n",
              "<style scoped>\n",
              "    .dataframe tbody tr th:only-of-type {\n",
              "        vertical-align: middle;\n",
              "    }\n",
              "\n",
              "    .dataframe tbody tr th {\n",
              "        vertical-align: top;\n",
              "    }\n",
              "\n",
              "    .dataframe thead th {\n",
              "        text-align: right;\n",
              "    }\n",
              "</style>\n",
              "<table border=\"1\" class=\"dataframe\">\n",
              "  <thead>\n",
              "    <tr style=\"text-align: right;\">\n",
              "      <th></th>\n",
              "      <th>Slope coefficient</th>\n",
              "      <th>P-value</th>\n",
              "      <th>R2</th>\n",
              "    </tr>\n",
              "  </thead>\n",
              "  <tbody>\n",
              "    <tr>\n",
              "      <th>Tract: Cingulum_Frontal_Parahippocampal_R siblings, Variables: Agreeableness vs ad</th>\n",
              "      <td>0.14 +- 0.04</td>\n",
              "      <td>0.0004</td>\n",
              "      <td>2.00 %</td>\n",
              "    </tr>\n",
              "    <tr>\n",
              "      <th>Tract: Cingulum_Parahippocampal_L siblings, Variables: Agreeableness vs qa</th>\n",
              "      <td>0.15 +- 0.04</td>\n",
              "      <td>0.0001</td>\n",
              "      <td>2.39 %</td>\n",
              "    </tr>\n",
              "    <tr>\n",
              "      <th>Tract: Cingulum_Parahippocampal_L siblings, Variables: Agreeableness vs ad</th>\n",
              "      <td>0.19 +- 0.04</td>\n",
              "      <td>0</td>\n",
              "      <td>3.67 %</td>\n",
              "    </tr>\n",
              "    <tr>\n",
              "      <th>Tract: Cingulum_Parahippocampal_Parietal_L siblings, Variables: Agreeableness vs ad</th>\n",
              "      <td>0.14 +- 0.04</td>\n",
              "      <td>0.0003</td>\n",
              "      <td>2.05 %</td>\n",
              "    </tr>\n",
              "    <tr>\n",
              "      <th>Tract: Cingulum_Parahippocampal_R siblings, Variables: Agreeableness vs ad</th>\n",
              "      <td>0.15 +- 0.04</td>\n",
              "      <td>0.0001</td>\n",
              "      <td>2.29 %</td>\n",
              "    </tr>\n",
              "    <tr>\n",
              "      <th>Tract: Corpus_Callosum_Body siblings, Variables: Agreeableness vs ad</th>\n",
              "      <td>0.14 +- 0.04</td>\n",
              "      <td>0.0003</td>\n",
              "      <td>2.10 %</td>\n",
              "    </tr>\n",
              "    <tr>\n",
              "      <th>Tract: Corticobulbar_Tract_L siblings, Variables: Agreeableness vs ad</th>\n",
              "      <td>0.14 +- 0.04</td>\n",
              "      <td>0.0006</td>\n",
              "      <td>1.95 %</td>\n",
              "    </tr>\n",
              "    <tr>\n",
              "      <th>Tract: Corticobulbar_Tract_R siblings, Variables: Agreeableness vs ad</th>\n",
              "      <td>0.17 +- 0.04</td>\n",
              "      <td>0</td>\n",
              "      <td>2.88 %</td>\n",
              "    </tr>\n",
              "    <tr>\n",
              "      <th>Tract: Corticobulbar_Tract_R siblings, Variables: Agreeableness vs gfa</th>\n",
              "      <td>0.16 +- 0.04</td>\n",
              "      <td>0.0001</td>\n",
              "      <td>2.67 %</td>\n",
              "    </tr>\n",
              "    <tr>\n",
              "      <th>Tract: Corticopontine_Tract_Frontal_L siblings, Variables: Agreeableness vs dti_fa</th>\n",
              "      <td>0.16 +- 0.04</td>\n",
              "      <td>0.0001</td>\n",
              "      <td>2.50 %</td>\n",
              "    </tr>\n",
              "    <tr>\n",
              "      <th>Tract: Corticopontine_Tract_Frontal_L siblings, Variables: Agreeableness vs ad</th>\n",
              "      <td>0.17 +- 0.04</td>\n",
              "      <td>0</td>\n",
              "      <td>2.96 %</td>\n",
              "    </tr>\n",
              "    <tr>\n",
              "      <th>Tract: Corticopontine_Tract_Frontal_L siblings, Variables: Agreeableness vs gfa</th>\n",
              "      <td>0.17 +- 0.04</td>\n",
              "      <td>0</td>\n",
              "      <td>2.95 %</td>\n",
              "    </tr>\n",
              "    <tr>\n",
              "      <th>Tract: Corticopontine_Tract_Frontal_R siblings, Variables: Agreeableness vs md</th>\n",
              "      <td>0.15 +- 0.04</td>\n",
              "      <td>0.0001</td>\n",
              "      <td>2.36 %</td>\n",
              "    </tr>\n",
              "    <tr>\n",
              "      <th>Tract: Corticopontine_Tract_Frontal_R siblings, Variables: Agreeableness vs ad</th>\n",
              "      <td>0.18 +- 0.04</td>\n",
              "      <td>0</td>\n",
              "      <td>3.31 %</td>\n",
              "    </tr>\n",
              "    <tr>\n",
              "      <th>Tract: Corticopontine_Tract_Occipital_L siblings, Variables: Agreeableness vs ad</th>\n",
              "      <td>0.16 +- 0.04</td>\n",
              "      <td>0.0003</td>\n",
              "      <td>2.49 %</td>\n",
              "    </tr>\n",
              "    <tr>\n",
              "      <th>Tract: Corticopontine_Tract_Occipital_R siblings, Variables: Agreeableness vs ad</th>\n",
              "      <td>0.18 +- 0.04</td>\n",
              "      <td>0.0001</td>\n",
              "      <td>3.12 %</td>\n",
              "    </tr>\n",
              "    <tr>\n",
              "      <th>Tract: Corticopontine_Tract_Parietal_L siblings, Variables: Agreeableness vs ad</th>\n",
              "      <td>0.17 +- 0.04</td>\n",
              "      <td>0</td>\n",
              "      <td>3.06 %</td>\n",
              "    </tr>\n",
              "    <tr>\n",
              "      <th>Tract: Corticopontine_Tract_Parietal_L siblings, Variables: Agreeableness vs gfa</th>\n",
              "      <td>0.16 +- 0.04</td>\n",
              "      <td>0.0001</td>\n",
              "      <td>2.41 %</td>\n",
              "    </tr>\n",
              "    <tr>\n",
              "      <th>Tract: Corticopontine_Tract_Parietal_R siblings, Variables: Agreeableness vs ad</th>\n",
              "      <td>0.15 +- 0.04</td>\n",
              "      <td>0.0002</td>\n",
              "      <td>2.24 %</td>\n",
              "    </tr>\n",
              "    <tr>\n",
              "      <th>Tract: Corticospinal_Tract_L siblings, Variables: Agreeableness vs ad</th>\n",
              "      <td>0.17 +- 0.04</td>\n",
              "      <td>0</td>\n",
              "      <td>2.79 %</td>\n",
              "    </tr>\n",
              "    <tr>\n",
              "      <th>Tract: Corticostriatal_Tract_Superior_L siblings, Variables: Agreeableness vs ad</th>\n",
              "      <td>0.14 +- 0.04</td>\n",
              "      <td>0.0006</td>\n",
              "      <td>1.89 %</td>\n",
              "    </tr>\n",
              "    <tr>\n",
              "      <th>Tract: Dentatorubrothalamic_Tract_L siblings, Variables: Agreeableness vs qa</th>\n",
              "      <td>0.14 +- 0.04</td>\n",
              "      <td>0.0003</td>\n",
              "      <td>2.04 %</td>\n",
              "    </tr>\n",
              "    <tr>\n",
              "      <th>Tract: Dentatorubrothalamic_Tract_L siblings, Variables: Agreeableness vs ad</th>\n",
              "      <td>0.15 +- 0.04</td>\n",
              "      <td>0.0001</td>\n",
              "      <td>2.36 %</td>\n",
              "    </tr>\n",
              "    <tr>\n",
              "      <th>Tract: Dentatorubrothalamic_Tract_L siblings, Variables: Agreeableness vs gfa</th>\n",
              "      <td>0.14 +- 0.04</td>\n",
              "      <td>0.0004</td>\n",
              "      <td>1.97 %</td>\n",
              "    </tr>\n",
              "    <tr>\n",
              "      <th>Tract: Dentatorubrothalamic_Tract_R siblings, Variables: Agreeableness vs qa</th>\n",
              "      <td>0.14 +- 0.04</td>\n",
              "      <td>0.0007</td>\n",
              "      <td>1.84 %</td>\n",
              "    </tr>\n",
              "    <tr>\n",
              "      <th>Tract: Dentatorubrothalamic_Tract_R siblings, Variables: Agreeableness vs dti_fa</th>\n",
              "      <td>0.14 +- 0.04</td>\n",
              "      <td>0.0003</td>\n",
              "      <td>2.07 %</td>\n",
              "    </tr>\n",
              "    <tr>\n",
              "      <th>Tract: Dentatorubrothalamic_Tract_R siblings, Variables: Agreeableness vs gfa</th>\n",
              "      <td>0.14 +- 0.04</td>\n",
              "      <td>0.0006</td>\n",
              "      <td>1.89 %</td>\n",
              "    </tr>\n",
              "    <tr>\n",
              "      <th>Tract: Fornix_L siblings, Variables: Agreeableness vs qa</th>\n",
              "      <td>0.14 +- 0.04</td>\n",
              "      <td>0.0004</td>\n",
              "      <td>2.01 %</td>\n",
              "    </tr>\n",
              "    <tr>\n",
              "      <th>Tract: Fornix_L siblings, Variables: Agreeableness vs gfa</th>\n",
              "      <td>0.16 +- 0.04</td>\n",
              "      <td>0.0001</td>\n",
              "      <td>2.55 %</td>\n",
              "    </tr>\n",
              "    <tr>\n",
              "      <th>Tract: Fornix_R siblings, Variables: Agreeableness vs qa</th>\n",
              "      <td>0.14 +- 0.04</td>\n",
              "      <td>0.0006</td>\n",
              "      <td>1.88 %</td>\n",
              "    </tr>\n",
              "    <tr>\n",
              "      <th>Tract: Fornix_R siblings, Variables: Agreeableness vs dti_fa</th>\n",
              "      <td>0.14 +- 0.04</td>\n",
              "      <td>0.0005</td>\n",
              "      <td>1.93 %</td>\n",
              "    </tr>\n",
              "    <tr>\n",
              "      <th>Tract: Fornix_R siblings, Variables: Agreeableness vs gfa</th>\n",
              "      <td>0.17 +- 0.04</td>\n",
              "      <td>0</td>\n",
              "      <td>2.84 %</td>\n",
              "    </tr>\n",
              "    <tr>\n",
              "      <th>Tract: Inferior_Fronto_Occipital_Fasciculus_R siblings, Variables: Agreeableness vs gfa</th>\n",
              "      <td>0.14 +- 0.04</td>\n",
              "      <td>0.0005</td>\n",
              "      <td>1.93 %</td>\n",
              "    </tr>\n",
              "    <tr>\n",
              "      <th>Tract: Middle_Cerebellar_Peduncle siblings, Variables: Agreeableness vs ad</th>\n",
              "      <td>0.16 +- 0.04</td>\n",
              "      <td>0.0001</td>\n",
              "      <td>2.42 %</td>\n",
              "    </tr>\n",
              "    <tr>\n",
              "      <th>Tract: Middle_Cerebellar_Peduncle siblings, Variables: Agreeableness vs gfa</th>\n",
              "      <td>0.14 +- 0.04</td>\n",
              "      <td>0.0007</td>\n",
              "      <td>1.85 %</td>\n",
              "    </tr>\n",
              "    <tr>\n",
              "      <th>Tract: Superior_Cerebellar_Peduncle siblings, Variables: Agreeableness vs qa</th>\n",
              "      <td>0.14 +- 0.04</td>\n",
              "      <td>0.0007</td>\n",
              "      <td>1.84 %</td>\n",
              "    </tr>\n",
              "    <tr>\n",
              "      <th>Tract: Superior_Longitudinal_Fasciculus1_L siblings, Variables: Agreeableness vs ad</th>\n",
              "      <td>0.16 +- 0.04</td>\n",
              "      <td>0.0001</td>\n",
              "      <td>2.42 %</td>\n",
              "    </tr>\n",
              "  </tbody>\n",
              "</table>\n",
              "</div>"
            ],
            "text/plain": [
              "                                                   Slope coefficient  ...      R2\n",
              "Tract: Cingulum_Frontal_Parahippocampal_R sibli...      0.14 +- 0.04  ...  2.00 %\n",
              "Tract: Cingulum_Parahippocampal_L siblings, Var...      0.15 +- 0.04  ...  2.39 %\n",
              "Tract: Cingulum_Parahippocampal_L siblings, Var...      0.19 +- 0.04  ...  3.67 %\n",
              "Tract: Cingulum_Parahippocampal_Parietal_L sibl...      0.14 +- 0.04  ...  2.05 %\n",
              "Tract: Cingulum_Parahippocampal_R siblings, Var...      0.15 +- 0.04  ...  2.29 %\n",
              "Tract: Corpus_Callosum_Body siblings, Variables...      0.14 +- 0.04  ...  2.10 %\n",
              "Tract: Corticobulbar_Tract_L siblings, Variable...      0.14 +- 0.04  ...  1.95 %\n",
              "Tract: Corticobulbar_Tract_R siblings, Variable...      0.17 +- 0.04  ...  2.88 %\n",
              "Tract: Corticobulbar_Tract_R siblings, Variable...      0.16 +- 0.04  ...  2.67 %\n",
              "Tract: Corticopontine_Tract_Frontal_L siblings,...      0.16 +- 0.04  ...  2.50 %\n",
              "Tract: Corticopontine_Tract_Frontal_L siblings,...      0.17 +- 0.04  ...  2.96 %\n",
              "Tract: Corticopontine_Tract_Frontal_L siblings,...      0.17 +- 0.04  ...  2.95 %\n",
              "Tract: Corticopontine_Tract_Frontal_R siblings,...      0.15 +- 0.04  ...  2.36 %\n",
              "Tract: Corticopontine_Tract_Frontal_R siblings,...      0.18 +- 0.04  ...  3.31 %\n",
              "Tract: Corticopontine_Tract_Occipital_L sibling...      0.16 +- 0.04  ...  2.49 %\n",
              "Tract: Corticopontine_Tract_Occipital_R sibling...      0.18 +- 0.04  ...  3.12 %\n",
              "Tract: Corticopontine_Tract_Parietal_L siblings...      0.17 +- 0.04  ...  3.06 %\n",
              "Tract: Corticopontine_Tract_Parietal_L siblings...      0.16 +- 0.04  ...  2.41 %\n",
              "Tract: Corticopontine_Tract_Parietal_R siblings...      0.15 +- 0.04  ...  2.24 %\n",
              "Tract: Corticospinal_Tract_L siblings, Variable...      0.17 +- 0.04  ...  2.79 %\n",
              "Tract: Corticostriatal_Tract_Superior_L sibling...      0.14 +- 0.04  ...  1.89 %\n",
              "Tract: Dentatorubrothalamic_Tract_L siblings, V...      0.14 +- 0.04  ...  2.04 %\n",
              "Tract: Dentatorubrothalamic_Tract_L siblings, V...      0.15 +- 0.04  ...  2.36 %\n",
              "Tract: Dentatorubrothalamic_Tract_L siblings, V...      0.14 +- 0.04  ...  1.97 %\n",
              "Tract: Dentatorubrothalamic_Tract_R siblings, V...      0.14 +- 0.04  ...  1.84 %\n",
              "Tract: Dentatorubrothalamic_Tract_R siblings, V...      0.14 +- 0.04  ...  2.07 %\n",
              "Tract: Dentatorubrothalamic_Tract_R siblings, V...      0.14 +- 0.04  ...  1.89 %\n",
              "Tract: Fornix_L siblings, Variables: Agreeablen...      0.14 +- 0.04  ...  2.01 %\n",
              "Tract: Fornix_L siblings, Variables: Agreeablen...      0.16 +- 0.04  ...  2.55 %\n",
              "Tract: Fornix_R siblings, Variables: Agreeablen...      0.14 +- 0.04  ...  1.88 %\n",
              "Tract: Fornix_R siblings, Variables: Agreeablen...      0.14 +- 0.04  ...  1.93 %\n",
              "Tract: Fornix_R siblings, Variables: Agreeablen...      0.17 +- 0.04  ...  2.84 %\n",
              "Tract: Inferior_Fronto_Occipital_Fasciculus_R s...      0.14 +- 0.04  ...  1.93 %\n",
              "Tract: Middle_Cerebellar_Peduncle siblings, Var...      0.16 +- 0.04  ...  2.42 %\n",
              "Tract: Middle_Cerebellar_Peduncle siblings, Var...      0.14 +- 0.04  ...  1.85 %\n",
              "Tract: Superior_Cerebellar_Peduncle siblings, V...      0.14 +- 0.04  ...  1.84 %\n",
              "Tract: Superior_Longitudinal_Fasciculus1_L sibl...      0.16 +- 0.04  ...  2.42 %\n",
              "\n",
              "[37 rows x 3 columns]"
            ]
          },
          "metadata": {
            "tags": []
          },
          "execution_count": 165
        }
      ]
    },
    {
      "cell_type": "code",
      "metadata": {
        "id": "HSQr3ONYRbHx"
      },
      "source": [
        ""
      ],
      "execution_count": 165,
      "outputs": []
    },
    {
      "cell_type": "code",
      "metadata": {
        "colab": {
          "base_uri": "https://localhost:8080/"
        },
        "id": "VHs0o0V24kXV",
        "outputId": "b6ef9850-1c2e-4b2b-98af-384a31e289e6"
      },
      "source": [
        "scipy.stats.spearmanr(x,y)"
      ],
      "execution_count": 166,
      "outputs": [
        {
          "output_type": "execute_result",
          "data": {
            "text/plain": [
              "SpearmanrResult(correlation=0.15070121100789266, pvalue=0.00015967019182563493)"
            ]
          },
          "metadata": {
            "tags": []
          },
          "execution_count": 166
        }
      ]
    },
    {
      "cell_type": "code",
      "metadata": {
        "id": "IgDGhbW-30zX",
        "colab": {
          "base_uri": "https://localhost:8080/"
        },
        "outputId": "37a60a21-4956-4baf-b18e-fe60f7e37f60"
      },
      "source": [
        "np.corrcoef(x,y)[0,1]"
      ],
      "execution_count": 167,
      "outputs": [
        {
          "output_type": "execute_result",
          "data": {
            "text/plain": [
              "0.15546066116927376"
            ]
          },
          "metadata": {
            "tags": []
          },
          "execution_count": 167
        }
      ]
    },
    {
      "cell_type": "code",
      "metadata": {
        "colab": {
          "base_uri": "https://localhost:8080/"
        },
        "id": "4gdkfiIshCpn",
        "outputId": "cfd74c6e-a909-4034-9574-77e64d036db4"
      },
      "source": [
        "ls.params[1]*np.std(x)/np.std(y)"
      ],
      "execution_count": 168,
      "outputs": [
        {
          "output_type": "execute_result",
          "data": {
            "text/plain": [
              "0.15546066116927376"
            ]
          },
          "metadata": {
            "tags": []
          },
          "execution_count": 168
        }
      ]
    },
    {
      "cell_type": "code",
      "metadata": {
        "colab": {
          "base_uri": "https://localhost:8080/"
        },
        "id": "QvB6Q9HrgL9b",
        "outputId": "15552477-beb5-4442-eac2-4d0b4a726487"
      },
      "source": [
        "ls.params[1]*np.std(x)/np.std(y)"
      ],
      "execution_count": 169,
      "outputs": [
        {
          "output_type": "execute_result",
          "data": {
            "text/plain": [
              "0.15546066116927376"
            ]
          },
          "metadata": {
            "tags": []
          },
          "execution_count": 169
        }
      ]
    },
    {
      "cell_type": "markdown",
      "metadata": {
        "id": "jVlxlBbv08ZJ"
      },
      "source": [
        "## Taking into account some covariates"
      ]
    },
    {
      "cell_type": "code",
      "metadata": {
        "id": "oxBKFwEr6qep"
      },
      "source": [
        "import pingouin"
      ],
      "execution_count": 170,
      "outputs": []
    },
    {
      "cell_type": "code",
      "metadata": {
        "id": "bh-fqX39pcX7"
      },
      "source": [
        "pvals = []\n",
        "corrs = []\n",
        "features = []\n",
        "for file in sorted(os.listdir()):\n",
        "  if \"tsv\" in file:\n",
        "    #print(file)\n",
        "    fd = pd.read_csv(file, sep =  '\\t', index_col = 0)\n",
        "    for s in pers_labels:\n",
        "      for l in diff_labels:\n",
        "        rs = pingouin.partial_corr(fd,s,l, [\"Gender.1\", \"Age.1\"])\n",
        "        corrs.append(rs['r'][0])\n",
        "        pvals.append(rs['p-val'][0])\n",
        "        features.append([file,s,l])"
      ],
      "execution_count": 171,
      "outputs": []
    },
    {
      "cell_type": "code",
      "metadata": {
        "id": "SgdLPxXM9D4r"
      },
      "source": [
        "\n",
        "ins = np.argsort(pvals)[:5]"
      ],
      "execution_count": 172,
      "outputs": []
    },
    {
      "cell_type": "code",
      "metadata": {
        "colab": {
          "base_uri": "https://localhost:8080/",
          "height": 81
        },
        "id": "cOGm4XyvCTnm",
        "outputId": "3c98ebba-fd73-4cac-93f9-883c77a05b77"
      },
      "source": [
        "rs"
      ],
      "execution_count": 173,
      "outputs": [
        {
          "output_type": "execute_result",
          "data": {
            "text/html": [
              "<div>\n",
              "<style scoped>\n",
              "    .dataframe tbody tr th:only-of-type {\n",
              "        vertical-align: middle;\n",
              "    }\n",
              "\n",
              "    .dataframe tbody tr th {\n",
              "        vertical-align: top;\n",
              "    }\n",
              "\n",
              "    .dataframe thead th {\n",
              "        text-align: right;\n",
              "    }\n",
              "</style>\n",
              "<table border=\"1\" class=\"dataframe\">\n",
              "  <thead>\n",
              "    <tr style=\"text-align: right;\">\n",
              "      <th></th>\n",
              "      <th>n</th>\n",
              "      <th>r</th>\n",
              "      <th>CI95%</th>\n",
              "      <th>r2</th>\n",
              "      <th>adj_r2</th>\n",
              "      <th>p-val</th>\n",
              "      <th>BF10</th>\n",
              "      <th>power</th>\n",
              "    </tr>\n",
              "  </thead>\n",
              "  <tbody>\n",
              "    <tr>\n",
              "      <th>pearson</th>\n",
              "      <td>623</td>\n",
              "      <td>0.055163</td>\n",
              "      <td>[-0.02, 0.13]</td>\n",
              "      <td>0.003043</td>\n",
              "      <td>-0.000173</td>\n",
              "      <td>0.169084</td>\n",
              "      <td>0.129</td>\n",
              "      <td>0.27999</td>\n",
              "    </tr>\n",
              "  </tbody>\n",
              "</table>\n",
              "</div>"
            ],
            "text/plain": [
              "           n         r          CI95%  ...     p-val   BF10    power\n",
              "pearson  623  0.055163  [-0.02, 0.13]  ...  0.169084  0.129  0.27999\n",
              "\n",
              "[1 rows x 8 columns]"
            ]
          },
          "metadata": {
            "tags": []
          },
          "execution_count": 173
        }
      ]
    },
    {
      "cell_type": "code",
      "metadata": {
        "colab": {
          "base_uri": "https://localhost:8080/"
        },
        "id": "D7sHCoQr-U94",
        "outputId": "1dcb1e61-294b-493d-ae33-9dec406adff7"
      },
      "source": [
        "for i in ins:\n",
        "  print(pvals[i], corrs[i], features[i])"
      ],
      "execution_count": 174,
      "outputs": [
        {
          "output_type": "stream",
          "text": [
            "0.00018081380706236268 0.14947347488614868 ['Superior_Longitudinal_Fasciculus2_L siblings.tsv', 'NEOFAC_A', 'ad']\n",
            "0.0007743848402174965 0.13434609764864186 ['Superior_Longitudinal_Fasciculus3_L siblings.tsv', 'NEOFAC_A', 'ad']\n",
            "0.001977644947834402 0.12391156990876531 ['Corticopontine_Tract_Frontal_R siblings.tsv', 'NEOFAC_A', 'ad']\n",
            "0.003143417576119482 0.11814622488092139 ['Corticostriatal_Tract_Superior_L siblings.tsv', 'NEOFAC_A', 'ad']\n",
            "0.00365612500666608 0.1162807956773348 ['Superior_Longitudinal_Fasciculus1_L siblings.tsv', 'NEOFAC_A', 'ad']\n"
          ],
          "name": "stdout"
        }
      ]
    },
    {
      "cell_type": "code",
      "metadata": {
        "id": "GRAkVLXsB2FT"
      },
      "source": [
        ""
      ],
      "execution_count": 174,
      "outputs": []
    },
    {
      "cell_type": "code",
      "metadata": {
        "id": "hRtSXD0BCG8s"
      },
      "source": [
        ""
      ],
      "execution_count": 174,
      "outputs": []
    },
    {
      "cell_type": "markdown",
      "metadata": {
        "id": "FRDTfZuMHRhd"
      },
      "source": [
        "## Multiple Linear Model"
      ]
    },
    {
      "cell_type": "code",
      "metadata": {
        "id": "BacvRqQa-Y_I"
      },
      "source": [
        "def ordinary_least_squares(Xc, y):\n",
        "\n",
        "  \"\"\" \n",
        "  Function that computes OLS analytically\n",
        "\n",
        "  NB: to take into account also an intercept, a constant vector of 1 needs to be included in Xc.\n",
        "  then theta_hat will contain both the results for the intercept and the result for the coefficients\n",
        "\n",
        "  Equivalent to python functions:\n",
        "  from sklearn.linear_model import LinearRegression\n",
        "  model = LinearRegression() \n",
        "  model.fit(X,y) \n",
        "  or\n",
        "  from statsmodels.regression import linear_model as sm\n",
        "  sm.OLS(y,Xc).fit()\n",
        "\n",
        "  Xc (ndarray): design matrix of shape (n_samples, n_regressors)\n",
        "  y (ndarray): vector of measurements of shape (n_samples)\n",
        "  Returns:\n",
        "  ndarray: estimated parameter values of shape (n_regressors)\n",
        "  \"\"\"\n",
        "\n",
        "\n",
        "  # Compute theta_hat using OLS\n",
        "  theta_hat = np.linalg.inv(Xc.T @ Xc) @ Xc.T @ y\n",
        "\n",
        "  return theta_hat\n",
        "\n"
      ],
      "execution_count": 175,
      "outputs": []
    },
    {
      "cell_type": "code",
      "metadata": {
        "id": "SuQhuJt7S5MN"
      },
      "source": [
        "from sklearn.linear_model import LinearRegression"
      ],
      "execution_count": 176,
      "outputs": []
    },
    {
      "cell_type": "code",
      "metadata": {
        "colab": {
          "base_uri": "https://localhost:8080/",
          "height": 296
        },
        "id": "_5nJdF2HHwuQ",
        "outputId": "a39b5cd7-cff9-427d-fab9-e5a0735d96fc"
      },
      "source": [
        "\n",
        "for r in range(len(files)):\n",
        "  f = files[r][0]\n",
        "\n",
        "  fd = pd.read_csv(f, sep =  '\\t', index_col = 0)\n",
        "  col = diff_labels + [\"Gender.1\"] + [\"Age.1\"] \n",
        "  X = fd[col]\n",
        "  for t in pers_labels:\n",
        "\n",
        "    y = fd[t]\n",
        "\n",
        "    model = LinearRegression()\n",
        "    idx2 = np.where(np.isnan(y))\n",
        "    y = np.array(y)\n",
        "    y = np.delete(y,idx2[0])\n",
        "\n",
        "    X = np.array(X)\n",
        "    Xnew = np.empty((X.shape[0]-1,X.shape[1]))\n",
        "  \n",
        "    for l in range(len(X[0])):\n",
        "      Xnew[:,l] = np.delete(X[:,l], idx2[0])\n",
        "\n",
        "    Xnew2 = sm2.add_constant(Xnew)\n",
        "    model.fit(Xnew,y)\n",
        "    theta_hat = ordinary_least_squares(Xnew2, y)\n",
        "\n",
        "    y_hat = Xnew2 @ theta_hat\n",
        "    # Compute MSE\n",
        "    \n",
        "    #print('Personality tract:', t)\n",
        "    #print(model.score(Xnew,y)*100)\n",
        "    #print(f\"MSE = {np.mean((y - y_hat)**2):.2f}\") \n",
        "\n",
        "plt.figure()\n",
        "plt.title('Personality tract: %s - Fiber %s' %(t,f))\n",
        "plt.plot(model.coef_, 'r.')\n",
        "plt.xlabel('Feature i ')\n",
        "plt.ylabel(r'$\\hat{\\theta}_i$')\n",
        "plt.xticks(np.arange(0,len(col),1), labels = col);\n"
      ],
      "execution_count": 177,
      "outputs": [
        {
          "output_type": "display_data",
          "data": {
            "image/png": "[encoded data removed]",
            "text/plain": [
              "<Figure size 432x288 with 1 Axes>"
            ]
          },
          "metadata": {
            "tags": [],
            "needs_background": "light"
          }
        }
      ]
    },
    {
      "cell_type": "code",
      "metadata": {
        "colab": {
          "base_uri": "https://localhost:8080/"
        },
        "id": "B5xIVLUmPBOO",
        "outputId": "f3532bb0-3eee-4319-e015-4bfb0014add8"
      },
      "source": [
        "print(col)"
      ],
      "execution_count": 178,
      "outputs": [
        {
          "output_type": "stream",
          "text": [
            "['qa', 'nqa', 'dti_fa', 'md', 'ad', 'rd', 'gfa', 'iso', 'rdi', 'Gender.1', 'Age.1']\n"
          ],
          "name": "stdout"
        }
      ]
    },
    {
      "cell_type": "code",
      "metadata": {
        "colab": {
          "base_uri": "https://localhost:8080/"
        },
        "id": "Vky4Ms8ACoYO",
        "outputId": "3b759dca-931e-4eef-ecc4-f40f5a271fed"
      },
      "source": [
        "for r in np.argsort(np.abs(model.coef_))[::-1][:3]:\n",
        "  print(col[r])"
      ],
      "execution_count": 179,
      "outputs": [
        {
          "output_type": "stream",
          "text": [
            "md\n",
            "rd\n",
            "ad\n"
          ],
          "name": "stdout"
        }
      ]
    },
    {
      "cell_type": "code",
      "metadata": {
        "colab": {
          "base_uri": "https://localhost:8080/",
          "height": 314
        },
        "id": "nTmv76MZ8ta0",
        "outputId": "cf1512d9-b027-4609-a655-7811a4d1b7cb"
      },
      "source": [
        "# Plotting the fit of the multiple linear model on two chosen directions\n",
        "\n",
        "# contigous indexes\n",
        "idx1 = 0\n",
        "idx2 = 1\n",
        "print(col[idx1], col[idx2])\n",
        "theta_hat = ordinary_least_squares(Xnew2, y)\n",
        "x_pred = np.linspace(min(Xnew2[:,1+idx1]),max(Xnew2[:,1+idx1]), 50)   \n",
        "y_pred = np.linspace(min(Xnew2[:,1+idx2]),max(Xnew2[:,1+idx2]), 50)  \n",
        "xx, yy = np.meshgrid(x_pred, y_pred)\n",
        "theta_hat = ordinary_least_squares(Xnew2[:,1+idx1:2+idx2], y)\n",
        "y_hat_grid = np.array([xx.flatten(), yy.flatten()]).T @ theta_hat\n",
        "ypred = Xnew2[:,1+idx1:1+idx2+1] @ theta_hat\n",
        "y_hat_grid = y_hat_grid.reshape((50, 50))\n",
        "model_viz = np.array([xx.flatten(), yy.flatten()]).T\n",
        "from sklearn import linear_model\n",
        "ols = linear_model.LinearRegression()\n",
        "model = ols.fit(Xnew[:,idx1:idx2+1], y)\n",
        "ax = plt.subplot(projection='3d')\n",
        "\n",
        "ax.plot(Xnew2[:, 1+idx1], Xnew2[:, 1+idx2], y, 'ro')\n",
        "ax.plot_surface(xx, yy, y_hat_grid.reshape(50,50), linewidth=0, alpha=0.5, color='C1',\n",
        "                cmap=plt.get_cmap('coolwarm'))\n",
        "\n",
        "ax.set(\n",
        "    xlabel='$x_1$',\n",
        "    ylabel='$x_2$',\n",
        "    zlabel='y'\n",
        "\n",
        ")\n",
        "for i in range(len(Xnew2)):\n",
        "  ax.plot((Xnew2[i, 1+idx1], Xnew2[i, 1+idx1]),\n",
        "          (Xnew2[i, 1+idx2], Xnew2[i, 1+ idx2]),\n",
        "          (y[i], ypred[i]),\n",
        "          'b-', alpha=.3)\n",
        "\n",
        "plt.tight_layout()\n"
      ],
      "execution_count": 180,
      "outputs": [
        {
          "output_type": "stream",
          "text": [
            "qa nqa\n"
          ],
          "name": "stdout"
        },
        {
          "output_type": "display_data",
          "data": {
            "image/png": "[encoded data removed]",
            "text/plain": [
              "<Figure size 432x288 with 1 Axes>"
            ]
          },
          "metadata": {
            "tags": [],
            "needs_background": "light"
          }
        }
      ]
    },
    {
      "cell_type": "code",
      "metadata": {
        "id": "3XCv6dk5Q5tT",
        "colab": {
          "base_uri": "https://localhost:8080/",
          "height": 357
        },
        "outputId": "7bbd320d-87eb-40cc-918f-773f426b2414"
      },
      "source": [
        "# Plotting the fit of the multiple linear model on two chosen directions\n",
        "\n",
        "import pandas as pd\n",
        "import numpy as np\n",
        "import matplotlib.pyplot as plt\n",
        "from sklearn import linear_model\n",
        "from mpl_toolkits.mplot3d import Axes3D\n",
        "\n",
        "x1 = Xnew[:,0]\n",
        "x2 = Xnew[:,1]\n",
        "x_pred = np.linspace(min(x1),max(x1), 50)   \n",
        "y_pred = np.linspace(min(x2),max(x2), 50) \n",
        "xx_pred, yy_pred = np.meshgrid(x_pred, y_pred)\n",
        "model_viz = np.array([xx_pred.flatten(), yy_pred.flatten()]).T\n",
        "Y = y\n",
        "z = Y\n",
        "from sklearn import linear_model\n",
        "ols = linear_model.LinearRegression()\n",
        "model = ols.fit(Xnew[:,:2], Y)\n",
        "predicted = model.predict(model_viz)\n",
        "ypred = model.predict(Xnew[:,:2])\n",
        "fig = plt.figure(figsize = (20,6))\n",
        "ax1 = fig.add_subplot(131, projection='3d')\n",
        "ax1.plot(x1,x2, z, color='k', zorder=15, linestyle='none', marker='.', alpha=0.5)\n",
        "ax1.scatter(xx_pred.flatten(), yy_pred.flatten(), predicted, facecolor=(0,0,0,0), s=20, edgecolor='#70b3f0')\n",
        "ax1.locator_params(nbins=4, axis='x')\n",
        "ax1.set_xlabel('x1', fontsize=12)\n",
        "ax1.set_ylabel('x2', fontsize=12)\n",
        "ax1.set_zlabel('y', fontsize=12)\n",
        "ax1.locator_params(nbins=5, axis='x')\n",
        "\n",
        "for i in range(len(Xnew2)):\n",
        "  ax1.plot((Xnew2[i, 1+idx1], Xnew2[i, 1+idx1]),\n",
        "          (Xnew2[i, 1+idx2], Xnew2[i, 1+ idx2]),\n",
        "          (y[i], ypred[i]),\n",
        "          'k-', alpha=.5)\n",
        "ax1.view_init(elev=10, azim=250)"
      ],
      "execution_count": 181,
      "outputs": [
        {
          "output_type": "display_data",
          "data": {
            "image/png": "[encoded data removed]",
            "text/plain": [
              "<Figure size 1440x432 with 1 Axes>"
            ]
          },
          "metadata": {
            "tags": [],
            "needs_background": "light"
          }
        }
      ]
    },
    {
      "cell_type": "markdown",
      "metadata": {
        "id": "_7C0EZtdgzV0"
      },
      "source": [
        "## Replicating the method on shape features (e. g. 'span(mm)', 'curl', 'elongation', 'diameter(mm)', 'volume(mm^3)', 'trunk volume(mm^3)', 'branch volume(mm^3)', 'total surface area(mm^2)', 'total radius of end regions(mm) etc...)"
      ]
    },
    {
      "cell_type": "code",
      "metadata": {
        "id": "YbeALuFqg1cL"
      },
      "source": [
        "shape_labels = fd.columns[fd.columns.tolist().index(\"span(mm)\"):fd.columns.tolist().index('irregularity of end region 2')+1]"
      ],
      "execution_count": 182,
      "outputs": []
    },
    {
      "cell_type": "code",
      "metadata": {
        "colab": {
          "base_uri": "https://localhost:8080/"
        },
        "id": "snj6teAhosie",
        "outputId": "1f7526f2-3b84-4cd3-d269-9555db2ca4b0"
      },
      "source": [
        "shape_labels"
      ],
      "execution_count": 183,
      "outputs": [
        {
          "output_type": "execute_result",
          "data": {
            "text/plain": [
              "Index(['span(mm)', 'curl', 'elongation', 'diameter(mm)', 'volume(mm^3)',\n",
              "       'trunk volume(mm^3)', 'branch volume(mm^3)', 'total surface area(mm^2)',\n",
              "       'total radius of end regions(mm)', 'total area of end regions(mm^2)',\n",
              "       'irregularity', 'area of end region 1(mm^2)',\n",
              "       'radius of end region 1(mm)', 'irregularity of end region 1',\n",
              "       'area of end region 2(mm^2)', 'radius of end region 2(mm)',\n",
              "       'irregularity of end region 2'],\n",
              "      dtype='object')"
            ]
          },
          "metadata": {
            "tags": []
          },
          "execution_count": 183
        }
      ]
    },
    {
      "cell_type": "code",
      "metadata": {
        "id": "HMXuaYPQg1_X"
      },
      "source": [
        "pval = []\n",
        "features = []\n",
        "coef = []\n",
        "intercept = []\n",
        "xs = []\n",
        "for file in sorted(os.listdir()):\n",
        "  if \"tsv\" in file:\n",
        "    #print(file)\n",
        "    fd = pd.read_csv(file, sep =  '\\t', index_col = 0)\n",
        "    for s in shape_labels:\n",
        "      for l in pers_labels:\n",
        "        x = fd[s]\n",
        "        idx = np.where(np.isnan(x))\n",
        "        y = fd[l]\n",
        "        idx2 = np.where(np.isnan(y)) \n",
        "        x = np.delete(np.array(x),idx2[0].tolist()+ idx[0].tolist())\n",
        "        y = np.delete(np.array(y),idx2[0].tolist()+ idx[0].tolist())\n",
        "        x2 = sm2.add_constant(x)\n",
        "        ls = sm.OLS(y, x2).fit()\n",
        "        pval.append(ls.pvalues[1])\n",
        "        coef.append(ls.params[1])\n",
        "        intercept.append(ls.params[0])\n",
        "        xs.append(x)\n",
        "        features.append([file,s,l])"
      ],
      "execution_count": 184,
      "outputs": []
    },
    {
      "cell_type": "code",
      "metadata": {
        "colab": {
          "base_uri": "https://localhost:8080/"
        },
        "id": "oArJQGDDg1_b",
        "outputId": "a1f75cba-7eb0-43d2-91fc-f623505ed396"
      },
      "source": [
        "files = np.array(features)[np.array(pval) < 0.0007]\n",
        "len(files)"
      ],
      "execution_count": 185,
      "outputs": [
        {
          "output_type": "execute_result",
          "data": {
            "text/plain": [
              "25"
            ]
          },
          "metadata": {
            "tags": []
          },
          "execution_count": 185
        }
      ]
    },
    {
      "cell_type": "code",
      "metadata": {
        "colab": {
          "base_uri": "https://localhost:8080/"
        },
        "id": "3TIH6R_Ig1_d",
        "outputId": "5ecf312f-6df5-4510-bcc9-34fead89dcd0"
      },
      "source": [
        "id = pval.index(min(pval))\n",
        "pval[id]"
      ],
      "execution_count": 186,
      "outputs": [
        {
          "output_type": "execute_result",
          "data": {
            "text/plain": [
              "1.6076051633996757e-05"
            ]
          },
          "metadata": {
            "tags": []
          },
          "execution_count": 186
        }
      ]
    },
    {
      "cell_type": "code",
      "metadata": {
        "id": "7n1kYruDg1_j"
      },
      "source": [
        "\n",
        "for r in range(len(files)):\n",
        "  \n",
        "\n",
        "\n",
        "  f = files[r][0]\n",
        "  s = files[r][1]\n",
        "  l = files[r][2]\n",
        "  fd = pd.read_csv(f, sep =  '\\t', index_col = 0)\n",
        "  x = fd[s]\n",
        "  y = fd[l] \n",
        "\n",
        "\n",
        "  index = [\"Slope coefficient\",\"P-value\",\"R2\"]\n",
        "\n",
        "\n",
        "  if l == \"NEOFAC_A\":\n",
        "    l2 = \"Agreeableness\"\n",
        "  elif l == \"NEOFAC_O\":\n",
        "    l2 = \"Openness to experience\"\n",
        "  elif l == \"NEOFAC_E\":\n",
        "    l2 = \"Extraversion\"\n",
        "  elif l == \"NEOFAC_C\":\n",
        "    l2 = \"Coscientiousness\"\n",
        "  else:\n",
        "    l2 = \"Neuroticism\"\n",
        "\n",
        "  variable = \"Tract: %s, Variables: %s vs %s\" %(files[r][0][:-4],l2, s)\n",
        "\n",
        "  if r == 0:\n",
        "    table1 = pd.DataFrame(columns = index)\n",
        "\n",
        "  idx = np.where(np.isnan(x))\n",
        "  idx2 = np.where(np.isnan(y))\n",
        "  \n",
        "  \n",
        "  y = np.delete(np.array(y),idx2[0].tolist()+ idx[0].tolist())\n",
        "  x = np.delete(np.array(x),idx2[0].tolist()+ idx[0].tolist())\n",
        "\n",
        "  x = (x- np.mean(x))/np.std(x) # z-score\n",
        "  y = (y- np.mean(y))/np.std(y) # z-score\n",
        "  x2 = sm2.add_constant(x)\n",
        "  ls = sm.OLS(y, x2).fit()\n",
        "\n",
        "  table1.loc[variable] = [0,0,0]\n",
        "\n",
        "  table1[index[0]][variable] = \"%.2f +- %.2f\" %(round(ls.params[1],2),round(ls.bse[1],2))\n",
        "  table1[index[1]][variable] = round(ls.pvalues[1],10)\n",
        "  table1[index[2]][variable] = r\"%.2f %%\" %round(r2_score(y,ls.params[0] + ls.params[1]*x)*100,2)\n"
      ],
      "execution_count": 187,
      "outputs": []
    },
    {
      "cell_type": "code",
      "metadata": {
        "colab": {
          "base_uri": "https://localhost:8080/"
        },
        "id": "pnXNj9speKNV",
        "outputId": "29b77d6f-f61b-40ed-f9fd-de34e3b5bbee"
      },
      "source": [
        "len(files)"
      ],
      "execution_count": 188,
      "outputs": [
        {
          "output_type": "execute_result",
          "data": {
            "text/plain": [
              "25"
            ]
          },
          "metadata": {
            "tags": []
          },
          "execution_count": 188
        }
      ]
    },
    {
      "cell_type": "code",
      "metadata": {
        "colab": {
          "base_uri": "https://localhost:8080/",
          "height": 1000
        },
        "id": "Kblu53SEW6TA",
        "outputId": "6446321b-fe5a-425a-a857-bee5b0cf3777"
      },
      "source": [
        "table1"
      ],
      "execution_count": 189,
      "outputs": [
        {
          "output_type": "execute_result",
          "data": {
            "text/html": [
              "<div>\n",
              "<style scoped>\n",
              "    .dataframe tbody tr th:only-of-type {\n",
              "        vertical-align: middle;\n",
              "    }\n",
              "\n",
              "    .dataframe tbody tr th {\n",
              "        vertical-align: top;\n",
              "    }\n",
              "\n",
              "    .dataframe thead th {\n",
              "        text-align: right;\n",
              "    }\n",
              "</style>\n",
              "<table border=\"1\" class=\"dataframe\">\n",
              "  <thead>\n",
              "    <tr style=\"text-align: right;\">\n",
              "      <th></th>\n",
              "      <th>Slope coefficient</th>\n",
              "      <th>P-value</th>\n",
              "      <th>R2</th>\n",
              "    </tr>\n",
              "  </thead>\n",
              "  <tbody>\n",
              "    <tr>\n",
              "      <th>Tract: Arcuate_Fasciculus_L siblings, Variables: Coscientiousness vs radius of end region 1(mm)</th>\n",
              "      <td>-0.14 +- 0.04</td>\n",
              "      <td>0.000442178</td>\n",
              "      <td>1.97 %</td>\n",
              "    </tr>\n",
              "    <tr>\n",
              "      <th>Tract: Corpus_Callosum_Forceps_Minor siblings, Variables: Coscientiousness vs branch volume(mm^3)</th>\n",
              "      <td>-0.15 +- 0.04</td>\n",
              "      <td>0.000151961</td>\n",
              "      <td>2.29 %</td>\n",
              "    </tr>\n",
              "    <tr>\n",
              "      <th>Tract: Corticopontine_Tract_Frontal_R siblings, Variables: Neuroticism vs total area of end regions(mm^2)</th>\n",
              "      <td>-0.14 +- 0.04</td>\n",
              "      <td>0.000538302</td>\n",
              "      <td>1.92 %</td>\n",
              "    </tr>\n",
              "    <tr>\n",
              "      <th>Tract: Corticopontine_Tract_Frontal_R siblings, Variables: Coscientiousness vs irregularity of end region 1</th>\n",
              "      <td>-0.14 +- 0.04</td>\n",
              "      <td>0.00051855</td>\n",
              "      <td>1.93 %</td>\n",
              "    </tr>\n",
              "    <tr>\n",
              "      <th>Tract: Corticopontine_Tract_Occipital_L siblings, Variables: Extraversion vs total radius of end regions(mm)</th>\n",
              "      <td>0.15 +- 0.04</td>\n",
              "      <td>0.000439272</td>\n",
              "      <td>2.30 %</td>\n",
              "    </tr>\n",
              "    <tr>\n",
              "      <th>Tract: Corticostriatal_Tract_Anterior_L siblings, Variables: Agreeableness vs span(mm)</th>\n",
              "      <td>-0.14 +- 0.04</td>\n",
              "      <td>0.000284738</td>\n",
              "      <td>2.10 %</td>\n",
              "    </tr>\n",
              "    <tr>\n",
              "      <th>Tract: Corticostriatal_Tract_Anterior_L siblings, Variables: Agreeableness vs area of end region 1(mm^2)</th>\n",
              "      <td>-0.15 +- 0.04</td>\n",
              "      <td>0.000254725</td>\n",
              "      <td>2.13 %</td>\n",
              "    </tr>\n",
              "    <tr>\n",
              "      <th>Tract: Corticostriatal_Tract_Anterior_R siblings, Variables: Agreeableness vs span(mm)</th>\n",
              "      <td>-0.15 +- 0.04</td>\n",
              "      <td>0.00010393</td>\n",
              "      <td>2.40 %</td>\n",
              "    </tr>\n",
              "    <tr>\n",
              "      <th>Tract: Corticostriatal_Tract_Anterior_R siblings, Variables: Agreeableness vs area of end region 1(mm^2)</th>\n",
              "      <td>-0.17 +- 0.04</td>\n",
              "      <td>1.60761e-05</td>\n",
              "      <td>2.95 %</td>\n",
              "    </tr>\n",
              "    <tr>\n",
              "      <th>Tract: Corticostriatal_Tract_Posterior_R siblings, Variables: Agreeableness vs span(mm)</th>\n",
              "      <td>-0.14 +- 0.04</td>\n",
              "      <td>0.000374745</td>\n",
              "      <td>2.02 %</td>\n",
              "    </tr>\n",
              "    <tr>\n",
              "      <th>Tract: Corticostriatal_Tract_Posterior_R siblings, Variables: Coscientiousness vs volume(mm^3)</th>\n",
              "      <td>-0.14 +- 0.04</td>\n",
              "      <td>0.000613173</td>\n",
              "      <td>1.87 %</td>\n",
              "    </tr>\n",
              "    <tr>\n",
              "      <th>Tract: Corticostriatal_Tract_Posterior_R siblings, Variables: Coscientiousness vs area of end region 1(mm^2)</th>\n",
              "      <td>-0.14 +- 0.04</td>\n",
              "      <td>0.000558989</td>\n",
              "      <td>1.90 %</td>\n",
              "    </tr>\n",
              "    <tr>\n",
              "      <th>Tract: Inferior_Fronto_Occipital_Fasciculus_L siblings, Variables: Coscientiousness vs span(mm)</th>\n",
              "      <td>-0.14 +- 0.04</td>\n",
              "      <td>0.000630656</td>\n",
              "      <td>1.87 %</td>\n",
              "    </tr>\n",
              "    <tr>\n",
              "      <th>Tract: Inferior_Fronto_Occipital_Fasciculus_L siblings, Variables: Coscientiousness vs total surface area(mm^2)</th>\n",
              "      <td>-0.15 +- 0.04</td>\n",
              "      <td>0.000132491</td>\n",
              "      <td>2.33 %</td>\n",
              "    </tr>\n",
              "    <tr>\n",
              "      <th>Tract: Inferior_Fronto_Occipital_Fasciculus_R siblings, Variables: Agreeableness vs span(mm)</th>\n",
              "      <td>-0.14 +- 0.04</td>\n",
              "      <td>0.000534436</td>\n",
              "      <td>1.91 %</td>\n",
              "    </tr>\n",
              "    <tr>\n",
              "      <th>Tract: Inferior_Longitudinal_Fasciculus_L siblings, Variables: Coscientiousness vs radius of end region 2(mm)</th>\n",
              "      <td>-0.14 +- 0.04</td>\n",
              "      <td>0.000685481</td>\n",
              "      <td>1.84 %</td>\n",
              "    </tr>\n",
              "    <tr>\n",
              "      <th>Tract: Middle_Cerebellar_Peduncle siblings, Variables: Coscientiousness vs total radius of end regions(mm)</th>\n",
              "      <td>-0.16 +- 0.04</td>\n",
              "      <td>9.32444e-05</td>\n",
              "      <td>2.43 %</td>\n",
              "    </tr>\n",
              "    <tr>\n",
              "      <th>Tract: Middle_Cerebellar_Peduncle siblings, Variables: Coscientiousness vs radius of end region 1(mm)</th>\n",
              "      <td>-0.14 +- 0.04</td>\n",
              "      <td>0.000351974</td>\n",
              "      <td>2.04 %</td>\n",
              "    </tr>\n",
              "    <tr>\n",
              "      <th>Tract: Optic_Radiation_L siblings, Variables: Coscientiousness vs span(mm)</th>\n",
              "      <td>-0.15 +- 0.04</td>\n",
              "      <td>0.000271605</td>\n",
              "      <td>2.11 %</td>\n",
              "    </tr>\n",
              "    <tr>\n",
              "      <th>Tract: Optic_Radiation_R siblings, Variables: Coscientiousness vs span(mm)</th>\n",
              "      <td>-0.16 +- 0.04</td>\n",
              "      <td>7.78098e-05</td>\n",
              "      <td>2.49 %</td>\n",
              "    </tr>\n",
              "    <tr>\n",
              "      <th>Tract: Thalamic_Radiation_Anterior_L siblings, Variables: Agreeableness vs diameter(mm)</th>\n",
              "      <td>-0.14 +- 0.04</td>\n",
              "      <td>0.000669956</td>\n",
              "      <td>1.85 %</td>\n",
              "    </tr>\n",
              "    <tr>\n",
              "      <th>Tract: Thalamic_Radiation_Anterior_L siblings, Variables: Agreeableness vs volume(mm^3)</th>\n",
              "      <td>-0.16 +- 0.04</td>\n",
              "      <td>4.48586e-05</td>\n",
              "      <td>2.65 %</td>\n",
              "    </tr>\n",
              "    <tr>\n",
              "      <th>Tract: Thalamic_Radiation_Anterior_L siblings, Variables: Agreeableness vs total surface area(mm^2)</th>\n",
              "      <td>-0.16 +- 0.04</td>\n",
              "      <td>9.97276e-05</td>\n",
              "      <td>2.41 %</td>\n",
              "    </tr>\n",
              "    <tr>\n",
              "      <th>Tract: Thalamic_Radiation_Anterior_L siblings, Variables: Agreeableness vs area of end region 1(mm^2)</th>\n",
              "      <td>-0.14 +- 0.04</td>\n",
              "      <td>0.000668272</td>\n",
              "      <td>1.85 %</td>\n",
              "    </tr>\n",
              "    <tr>\n",
              "      <th>Tract: Thalamic_Radiation_Posterior_L siblings, Variables: Agreeableness vs total surface area(mm^2)</th>\n",
              "      <td>-0.14 +- 0.04</td>\n",
              "      <td>0.000427575</td>\n",
              "      <td>1.98 %</td>\n",
              "    </tr>\n",
              "  </tbody>\n",
              "</table>\n",
              "</div>"
            ],
            "text/plain": [
              "                                                   Slope coefficient  ...      R2\n",
              "Tract: Arcuate_Fasciculus_L siblings, Variables...     -0.14 +- 0.04  ...  1.97 %\n",
              "Tract: Corpus_Callosum_Forceps_Minor siblings, ...     -0.15 +- 0.04  ...  2.29 %\n",
              "Tract: Corticopontine_Tract_Frontal_R siblings,...     -0.14 +- 0.04  ...  1.92 %\n",
              "Tract: Corticopontine_Tract_Frontal_R siblings,...     -0.14 +- 0.04  ...  1.93 %\n",
              "Tract: Corticopontine_Tract_Occipital_L sibling...      0.15 +- 0.04  ...  2.30 %\n",
              "Tract: Corticostriatal_Tract_Anterior_L sibling...     -0.14 +- 0.04  ...  2.10 %\n",
              "Tract: Corticostriatal_Tract_Anterior_L sibling...     -0.15 +- 0.04  ...  2.13 %\n",
              "Tract: Corticostriatal_Tract_Anterior_R sibling...     -0.15 +- 0.04  ...  2.40 %\n",
              "Tract: Corticostriatal_Tract_Anterior_R sibling...     -0.17 +- 0.04  ...  2.95 %\n",
              "Tract: Corticostriatal_Tract_Posterior_R siblin...     -0.14 +- 0.04  ...  2.02 %\n",
              "Tract: Corticostriatal_Tract_Posterior_R siblin...     -0.14 +- 0.04  ...  1.87 %\n",
              "Tract: Corticostriatal_Tract_Posterior_R siblin...     -0.14 +- 0.04  ...  1.90 %\n",
              "Tract: Inferior_Fronto_Occipital_Fasciculus_L s...     -0.14 +- 0.04  ...  1.87 %\n",
              "Tract: Inferior_Fronto_Occipital_Fasciculus_L s...     -0.15 +- 0.04  ...  2.33 %\n",
              "Tract: Inferior_Fronto_Occipital_Fasciculus_R s...     -0.14 +- 0.04  ...  1.91 %\n",
              "Tract: Inferior_Longitudinal_Fasciculus_L sibli...     -0.14 +- 0.04  ...  1.84 %\n",
              "Tract: Middle_Cerebellar_Peduncle siblings, Var...     -0.16 +- 0.04  ...  2.43 %\n",
              "Tract: Middle_Cerebellar_Peduncle siblings, Var...     -0.14 +- 0.04  ...  2.04 %\n",
              "Tract: Optic_Radiation_L siblings, Variables: C...     -0.15 +- 0.04  ...  2.11 %\n",
              "Tract: Optic_Radiation_R siblings, Variables: C...     -0.16 +- 0.04  ...  2.49 %\n",
              "Tract: Thalamic_Radiation_Anterior_L siblings, ...     -0.14 +- 0.04  ...  1.85 %\n",
              "Tract: Thalamic_Radiation_Anterior_L siblings, ...     -0.16 +- 0.04  ...  2.65 %\n",
              "Tract: Thalamic_Radiation_Anterior_L siblings, ...     -0.16 +- 0.04  ...  2.41 %\n",
              "Tract: Thalamic_Radiation_Anterior_L siblings, ...     -0.14 +- 0.04  ...  1.85 %\n",
              "Tract: Thalamic_Radiation_Posterior_L siblings,...     -0.14 +- 0.04  ...  1.98 %\n",
              "\n",
              "[25 rows x 3 columns]"
            ]
          },
          "metadata": {
            "tags": []
          },
          "execution_count": 189
        }
      ]
    },
    {
      "cell_type": "code",
      "metadata": {
        "id": "LSVLIT3Jh4Sm",
        "colab": {
          "base_uri": "https://localhost:8080/",
          "height": 295
        },
        "outputId": "afaece7e-8509-44db-bd7e-219e13723261"
      },
      "source": [
        "#Multiple Linear Model\n",
        "for r in range(len(files)):\n",
        "  #print('Tract', files[r][0])\n",
        "  f = files[r][0]\n",
        "  fd = pd.read_csv(f, sep =  '\\t', index_col = 0)\n",
        "  col = shape_labels.tolist() + [\"Gender.1\"] + [\"Age.1\"]\n",
        "\n",
        "  X = fd[col]\n",
        "  for t in pers_labels:\n",
        "    \n",
        "    y = fd[t]\n",
        "\n",
        "    model = LinearRegression()\n",
        "    idx2 = np.where(np.isnan(y))\n",
        "\n",
        "    y = np.array(y)\n",
        "    y = np.delete(y,idx2[0])\n",
        "\n",
        "    X = np.array(X)\n",
        "    Xnew = np.empty((X.shape[0]-1,X.shape[1]))\n",
        "\n",
        "    for l in range(len(X[0])):\n",
        "      Xnew[:,l] = np.delete(X[:,l], idx2[0])\n",
        "  \n",
        "    Xnew2 = sm2.add_constant(Xnew)\n",
        "\n",
        "    model.fit(Xnew,y)\n",
        "\n",
        "    theta_hat = ordinary_least_squares(Xnew2,y)\n",
        "\n",
        "    y_hat = Xnew2 @ theta_hat\n",
        "    ols = sm.OLS(y, Xnew2).fit()\n",
        "\n",
        "    \n",
        "    \n",
        "    #print('Personality tract:', t)\n",
        "    #print(model.score(Xnew,y)*100)\n",
        "    #print(f\"MSE = {np.mean((y - y_hat)**2):.2f}\") \n",
        "\n",
        "\n",
        "plt.figure()\n",
        "plt.title('Personality tract: %s - Fiber %s' %(t,f))\n",
        "plt.plot(model.coef_, 'r.')\n",
        "plt.plot(ols.params[1:], 'g.')\n",
        "#plt.xticks(np.arange(0,len(col),1), labels = col)\n",
        "plt.xlabel('Feature i ')\n",
        "plt.ylabel(r'$\\hat{\\theta}_i$');"
      ],
      "execution_count": 190,
      "outputs": [
        {
          "output_type": "display_data",
          "data": {
            "image/png": "[encoded data removed]",
            "text/plain": [
              "<Figure size 432x288 with 1 Axes>"
            ]
          },
          "metadata": {
            "tags": [],
            "needs_background": "light"
          }
        }
      ]
    },
    {
      "cell_type": "code",
      "metadata": {
        "colab": {
          "base_uri": "https://localhost:8080/"
        },
        "id": "j22pvCytBLQm",
        "outputId": "3f52f117-a332-406d-f1cf-4f2e9238be06"
      },
      "source": [
        "for r in np.argsort(np.abs(model.coef_))[::-1][:3]:\n",
        "          print(col[r])"
      ],
      "execution_count": 191,
      "outputs": [
        {
          "output_type": "stream",
          "text": [
            "radius of end region 2(mm)\n",
            "radius of end region 1(mm)\n",
            "total radius of end regions(mm)\n"
          ],
          "name": "stdout"
        }
      ]
    },
    {
      "cell_type": "markdown",
      "metadata": {
        "id": "D9LZrmsAlnAG"
      },
      "source": [
        "## Females"
      ]
    },
    {
      "cell_type": "code",
      "metadata": {
        "id": "gevWx-nuluPo"
      },
      "source": [
        "pval = []\n",
        "features = []\n",
        "coef = []\n",
        "intercept = []\n",
        "xs = []\n",
        "for file in sorted(os.listdir()):\n",
        "  if \"tsv\" in file:\n",
        "    fd = pd.read_csv(file, sep =  '\\t', index_col = 0)\n",
        "    males = []\n",
        "    females = []  \n",
        "    gender = np.array(fd[\"Gender.1\"])\n",
        "    for r in range(len(gender)):\n",
        "      if gender[r] == 1:\n",
        "        females.append(fd.index[r])\n",
        "\n",
        "\n",
        "    #for r in range(len(gender)):\n",
        "     # if gender[r] == 2:\n",
        "      #  males.append(fd.index[r])\n",
        "\n",
        "\n",
        "    #maledf = df.loc[males]\n",
        "    femaledf = fd.loc[females]\n",
        "    #print(len(femaledf))\n",
        "    for s in diff_labels:\n",
        "      for l in pers_labels:\n",
        "        x = femaledf[s]\n",
        "        idx = np.where(np.isnan(x))\n",
        "        y = femaledf[l]\n",
        "        idx2 = np.where(np.isnan(y)) \n",
        "        x = np.delete(np.array(x),idx2[0].tolist()+ idx[0].tolist())\n",
        "        y = np.delete(np.array(y),idx2[0].tolist()+ idx[0].tolist())\n",
        "        x2 = sm2.add_constant(x)\n",
        "        ls = sm.OLS(y, x2).fit()\n",
        "        pval.append(ls.pvalues[1])\n",
        "        coef.append(ls.params[1])\n",
        "        intercept.append(ls.params[0])\n",
        "        xs.append(x)\n",
        "        features.append([file,s,l])"
      ],
      "execution_count": 192,
      "outputs": []
    },
    {
      "cell_type": "code",
      "metadata": {
        "id": "Fd0yRRbcluPq",
        "colab": {
          "base_uri": "https://localhost:8080/"
        },
        "outputId": "dd4bc33c-71d6-4103-8bcf-7398d439cdb6"
      },
      "source": [
        "files = np.array(features)[np.array(pval) < 0.0007]\n",
        "files\n",
        "#p = np.array(pval)[np.array(pval) < 0.005]"
      ],
      "execution_count": 193,
      "outputs": [
        {
          "output_type": "execute_result",
          "data": {
            "text/plain": [
              "array([], shape=(0, 3), dtype='<U51')"
            ]
          },
          "metadata": {
            "tags": []
          },
          "execution_count": 193
        }
      ]
    },
    {
      "cell_type": "code",
      "metadata": {
        "colab": {
          "base_uri": "https://localhost:8080/"
        },
        "id": "z80TG5zDDPYD",
        "outputId": "82dc2de9-3c95-4b2d-bbd5-9fc72438d2ab"
      },
      "source": [
        "files = np.array(features)[np.array(pval) < 0.007]\n",
        "files\n",
        "#p = np.array(pval)[np.array(pval) < 0.005]"
      ],
      "execution_count": 194,
      "outputs": [
        {
          "output_type": "execute_result",
          "data": {
            "text/plain": [
              "array([['Corticobulbar_Tract_R siblings.tsv', 'gfa', 'NEOFAC_A'],\n",
              "       ['Corticopontine_Tract_Frontal_R siblings.tsv', 'ad', 'NEOFAC_A'],\n",
              "       ['Dentatorubrothalamic_Tract_R siblings.tsv', 'dti_fa',\n",
              "        'NEOFAC_A'],\n",
              "       ['Dentatorubrothalamic_Tract_R siblings.tsv', 'gfa', 'NEOFAC_A'],\n",
              "       ['Inferior_Longitudinal_Fasciculus_L siblings.tsv', 'gfa',\n",
              "        'NEOFAC_A'],\n",
              "       ['Superior_Longitudinal_Fasciculus1_L siblings.tsv', 'ad',\n",
              "        'NEOFAC_A'],\n",
              "       ['Superior_Longitudinal_Fasciculus2_L siblings.tsv', 'ad',\n",
              "        'NEOFAC_A']], dtype='<U51')"
            ]
          },
          "metadata": {
            "tags": []
          },
          "execution_count": 194
        }
      ]
    },
    {
      "cell_type": "code",
      "metadata": {
        "id": "qhajTn1smdy2"
      },
      "source": [
        "for r in range(len(files)):\n",
        "  f = files[r][0]\n",
        "  fd = pd.read_csv(f, sep =  '\\t', index_col = 0)\n",
        "  males = []\n",
        "  females = []  \n",
        "  gender = np.array(fd[\"Gender.1\"])\n",
        "  for h in range(len(gender)):\n",
        "    if gender[h] == 1:\n",
        "      females.append(fd.index[h])\n",
        "\n",
        "\n",
        "  #for r in range(len(gender)):\n",
        "    # if gender[r] == 2:\n",
        "    #  males.append(fd.index[r])\n",
        "\n",
        "\n",
        "  #maledf = df.loc[males]\n",
        "  \n",
        "  femaledf = fd.loc[females]\n",
        "\n",
        "  s = files[r][1]\n",
        "  l = files[r][2]\n",
        "\n",
        "\n",
        "  \n",
        "  index = [\"Slope coefficient\",\"P-value\",\"R2\"]\n",
        "\n",
        "\n",
        "  if l == \"NEOFAC_A\":\n",
        "    l2 = \"Agreeableness\"\n",
        "  elif l == \"NEOFAC_O\":\n",
        "    l2 = \"Openness to experience\"\n",
        "  elif l == \"NEOFAC_E\":\n",
        "    l2 = \"Extraversion\"\n",
        "  elif l == \"NEOFAC_C\":\n",
        "    l2 = \"Coscientiousness\"\n",
        "  else:\n",
        "    l2 = \"Neuroticism\"\n",
        "\n",
        "  variable = \"Tract: %s, Variables: %s vs %s\" %(files[r][0][:-4],l2, s)\n",
        "\n",
        "  if r == 0:\n",
        "    table1 = pd.DataFrame(columns = index)\n",
        "\n",
        "  x = femaledf[s]\n",
        "  y = femaledf[l] \n",
        "  idx = np.where(np.isnan(x))\n",
        "  idx2 = np.where(np.isnan(y))\n",
        "  y = np.delete(np.array(y),idx2[0].tolist()+ idx[0].tolist())\n",
        "  x = np.delete(np.array(x),idx2[0].tolist()+ idx[0].tolist())\n",
        "  #x = np.delete(np.array(x),13) # outlier in Cingulum_Parahippocampal_R case\n",
        "  #y = np.delete(np.array(y),13) #outlier in Cingulum_Parahippocampal_R case\n",
        "  x = (x- np.mean(x))/np.std(x) # z-score\n",
        "  y = (y- np.mean(y))/np.std(y) # z-score\n",
        "  x2 = sm2.add_constant(x)\n",
        "  ls = sm.OLS(y, x2).fit()\n",
        "\n",
        "\n",
        "  table1.loc[variable] = [0,0,0]\n",
        "\n",
        "  table1[index[0]][variable] = \"%.2f +- %.2f\" %(round(ls.params[1],2),round(ls.bse[1],2))\n",
        "  table1[index[1]][variable] = round(ls.pvalues[1],4)\n",
        "  table1[index[2]][variable] = r\"%.2f %%\" %round(r2_score(y,ls.params[0] + ls.params[1]*x)*100,2)\n"
      ],
      "execution_count": 195,
      "outputs": []
    },
    {
      "cell_type": "code",
      "metadata": {
        "colab": {
          "base_uri": "https://localhost:8080/",
          "height": 408
        },
        "id": "sGAlijlLmbd9",
        "outputId": "2a274efc-d903-4a90-9ee0-df90aef39f22"
      },
      "source": [
        "table1"
      ],
      "execution_count": 196,
      "outputs": [
        {
          "output_type": "execute_result",
          "data": {
            "text/html": [
              "<div>\n",
              "<style scoped>\n",
              "    .dataframe tbody tr th:only-of-type {\n",
              "        vertical-align: middle;\n",
              "    }\n",
              "\n",
              "    .dataframe tbody tr th {\n",
              "        vertical-align: top;\n",
              "    }\n",
              "\n",
              "    .dataframe thead th {\n",
              "        text-align: right;\n",
              "    }\n",
              "</style>\n",
              "<table border=\"1\" class=\"dataframe\">\n",
              "  <thead>\n",
              "    <tr style=\"text-align: right;\">\n",
              "      <th></th>\n",
              "      <th>Slope coefficient</th>\n",
              "      <th>P-value</th>\n",
              "      <th>R2</th>\n",
              "    </tr>\n",
              "  </thead>\n",
              "  <tbody>\n",
              "    <tr>\n",
              "      <th>Tract: Corticobulbar_Tract_R siblings, Variables: Agreeableness vs gfa</th>\n",
              "      <td>0.17 +- 0.06</td>\n",
              "      <td>0.0032</td>\n",
              "      <td>2.73 %</td>\n",
              "    </tr>\n",
              "    <tr>\n",
              "      <th>Tract: Corticopontine_Tract_Frontal_R siblings, Variables: Agreeableness vs ad</th>\n",
              "      <td>0.16 +- 0.05</td>\n",
              "      <td>0.0027</td>\n",
              "      <td>2.72 %</td>\n",
              "    </tr>\n",
              "    <tr>\n",
              "      <th>Tract: Dentatorubrothalamic_Tract_R siblings, Variables: Agreeableness vs dti_fa</th>\n",
              "      <td>0.16 +- 0.05</td>\n",
              "      <td>0.0037</td>\n",
              "      <td>2.56 %</td>\n",
              "    </tr>\n",
              "    <tr>\n",
              "      <th>Tract: Dentatorubrothalamic_Tract_R siblings, Variables: Agreeableness vs gfa</th>\n",
              "      <td>0.16 +- 0.05</td>\n",
              "      <td>0.0043</td>\n",
              "      <td>2.48 %</td>\n",
              "    </tr>\n",
              "    <tr>\n",
              "      <th>Tract: Inferior_Longitudinal_Fasciculus_L siblings, Variables: Agreeableness vs gfa</th>\n",
              "      <td>0.16 +- 0.05</td>\n",
              "      <td>0.0044</td>\n",
              "      <td>2.46 %</td>\n",
              "    </tr>\n",
              "    <tr>\n",
              "      <th>Tract: Superior_Longitudinal_Fasciculus1_L siblings, Variables: Agreeableness vs ad</th>\n",
              "      <td>0.16 +- 0.05</td>\n",
              "      <td>0.0033</td>\n",
              "      <td>2.62 %</td>\n",
              "    </tr>\n",
              "    <tr>\n",
              "      <th>Tract: Superior_Longitudinal_Fasciculus2_L siblings, Variables: Agreeableness vs ad</th>\n",
              "      <td>0.16 +- 0.05</td>\n",
              "      <td>0.0035</td>\n",
              "      <td>2.59 %</td>\n",
              "    </tr>\n",
              "  </tbody>\n",
              "</table>\n",
              "</div>"
            ],
            "text/plain": [
              "                                                   Slope coefficient  ...      R2\n",
              "Tract: Corticobulbar_Tract_R siblings, Variable...      0.17 +- 0.06  ...  2.73 %\n",
              "Tract: Corticopontine_Tract_Frontal_R siblings,...      0.16 +- 0.05  ...  2.72 %\n",
              "Tract: Dentatorubrothalamic_Tract_R siblings, V...      0.16 +- 0.05  ...  2.56 %\n",
              "Tract: Dentatorubrothalamic_Tract_R siblings, V...      0.16 +- 0.05  ...  2.48 %\n",
              "Tract: Inferior_Longitudinal_Fasciculus_L sibli...      0.16 +- 0.05  ...  2.46 %\n",
              "Tract: Superior_Longitudinal_Fasciculus1_L sibl...      0.16 +- 0.05  ...  2.62 %\n",
              "Tract: Superior_Longitudinal_Fasciculus2_L sibl...      0.16 +- 0.05  ...  2.59 %\n",
              "\n",
              "[7 rows x 3 columns]"
            ]
          },
          "metadata": {
            "tags": []
          },
          "execution_count": 196
        }
      ]
    },
    {
      "cell_type": "code",
      "metadata": {
        "id": "RhIyeLEQmlX8",
        "colab": {
          "base_uri": "https://localhost:8080/",
          "height": 296
        },
        "outputId": "8e0c0b6a-d025-4cc1-cc78-c2653a2d8d7a"
      },
      "source": [
        "#Multiple Linear Model\r\n",
        "for r in range(len(files)):\r\n",
        "\r\n",
        "\r\n",
        "  f = files[r][0]\r\n",
        "  fd = pd.read_csv(f, sep =  '\\t', index_col = 0)\r\n",
        "\r\n",
        "  #males = []\r\n",
        "  females = []  \r\n",
        "  gender = np.array(fd[\"Gender.1\"])\r\n",
        "  for g in range(len(gender)):\r\n",
        "\r\n",
        "    if gender[g] == 1:\r\n",
        "      females.append(fd.index[g])\r\n",
        "\r\n",
        "\r\n",
        "  #for r in range(len(gender)):\r\n",
        "    # if gender[r] == 2:\r\n",
        "    #  males.append(fd.index[r])\r\n",
        "    \r\n",
        "  \r\n",
        "  col = diff_labels + [\"Age.1\"]\r\n",
        "  femaledf = fd.loc[females]\r\n",
        "  X = femaledf[col]\r\n",
        "  for t in pers_labels:\r\n",
        "    \r\n",
        "    \r\n",
        "    y = femaledf[t]\r\n",
        "\r\n",
        "    model = LinearRegression()\r\n",
        "\r\n",
        "\r\n",
        "    idx2 = np.where(np.isnan(y))\r\n",
        "\r\n",
        "    y = np.array(y)\r\n",
        "    if np.any(idx2):\r\n",
        "      y = np.delete(y,idx2[0])\r\n",
        "\r\n",
        "    X = np.array(X)\r\n",
        "    Xnew = np.copy(X)\r\n",
        "    #print(X.shape, Xnew.shape)\r\n",
        "    if np.any(idx2):\r\n",
        "    \r\n",
        "      Xnew = np.empty((X.shape[0]-1, X.shape[1]))\r\n",
        "      for l in range(len(X[0])):\r\n",
        "        Xnew[:,l] = np.delete(X[:,l], idx2[0])\r\n",
        "    else:\r\n",
        "      Xnew = X.copy()\r\n",
        "\r\n",
        "    Xnew2 = sm2.add_constant(Xnew)\r\n",
        "\r\n",
        "    model.fit(Xnew,y)\r\n",
        "\r\n",
        "    theta_hat = ordinary_least_squares(Xnew2,y)\r\n",
        "\r\n",
        "    y_hat = Xnew2 @ theta_hat\r\n",
        "    ols = sm.OLS(y, Xnew2).fit()\r\n",
        "\r\n",
        "      \r\n",
        "      \r\n",
        "\r\n",
        "plt.figure()\r\n",
        "plt.title('Personality trait: %s - Fiber %s' %(t,f))\r\n",
        "plt.plot(model.coef_, 'r.')\r\n",
        "plt.plot(ols.params[1:], 'g.')\r\n",
        "plt.xticks(np.arange(0,len(col),1), labels = col)\r\n",
        "plt.xlabel('Feature i ')\r\n",
        "plt.ylabel(r'$\\hat{\\theta}_i$');"
      ],
      "execution_count": 197,
      "outputs": [
        {
          "output_type": "display_data",
          "data": {
            "image/png": "[encoded data removed]",
            "text/plain": [
              "<Figure size 432x288 with 1 Axes>"
            ]
          },
          "metadata": {
            "tags": [],
            "needs_background": "light"
          }
        }
      ]
    },
    {
      "cell_type": "code",
      "metadata": {
        "id": "XfBn1jazmlax",
        "colab": {
          "base_uri": "https://localhost:8080/"
        },
        "outputId": "e9b334bf-49bb-43fa-81ba-5053bc120fae"
      },
      "source": [
        "np.any([])"
      ],
      "execution_count": 198,
      "outputs": [
        {
          "output_type": "execute_result",
          "data": {
            "text/plain": [
              "False"
            ]
          },
          "metadata": {
            "tags": []
          },
          "execution_count": 198
        }
      ]
    },
    {
      "cell_type": "code",
      "metadata": {
        "id": "A6a6q3Nemld3"
      },
      "source": [
        ""
      ],
      "execution_count": 198,
      "outputs": []
    },
    {
      "cell_type": "markdown",
      "metadata": {
        "id": "Pj0_XqpGmmNo"
      },
      "source": [
        "## Males"
      ]
    },
    {
      "cell_type": "code",
      "metadata": {
        "id": "y2qbywbxmmNr"
      },
      "source": [
        "pval = []\n",
        "features = []\n",
        "coef = []\n",
        "intercept = []\n",
        "xs = []\n",
        "for file in sorted(os.listdir()):\n",
        "  if \"tsv\" in file:\n",
        "   \n",
        "    fd = pd.read_csv(file, sep =  '\\t', index_col = 0)\n",
        "    males = []\n",
        "    females = []  \n",
        "    gender = np.array(fd[\"Gender.1\"])\n",
        "    #for r in range(len(gender)):\n",
        "      #if gender[r] == 1:\n",
        "        #females.append(fd.index[r])\n",
        "\n",
        "\n",
        "    for r in range(len(gender)):\n",
        "      if gender[r] == 2:\n",
        "        males.append(fd.index[r])\n",
        "\n",
        "\n",
        "    maledf = fd.loc[males]\n",
        "    #femaledf = df.loc[females]\n",
        "    for s in diff_labels:\n",
        "      for l in pers_labels:\n",
        "        x = maledf[s]\n",
        "        idx = np.where(np.isnan(x))\n",
        "        y = maledf[l]\n",
        "        idx2 = np.where(np.isnan(y)) \n",
        "        x = np.delete(np.array(x),idx2[0].tolist()+ idx[0].tolist())\n",
        "        y = np.delete(np.array(y),idx2[0].tolist()+ idx[0].tolist())\n",
        "        x2 = sm2.add_constant(x)\n",
        "        ls = sm.OLS(y, x2).fit()\n",
        "        pval.append(ls.pvalues[1])\n",
        "        coef.append(ls.params[1])\n",
        "        intercept.append(ls.params[0])\n",
        "        xs.append(x)\n",
        "        features.append([file,s,l])"
      ],
      "execution_count": 199,
      "outputs": []
    },
    {
      "cell_type": "code",
      "metadata": {
        "id": "XECWeewJnvOS"
      },
      "source": [
        ""
      ],
      "execution_count": 199,
      "outputs": []
    },
    {
      "cell_type": "code",
      "metadata": {
        "colab": {
          "base_uri": "https://localhost:8080/"
        },
        "id": "iept6-xsmmNs",
        "outputId": "5cb4fe14-6141-4a7a-f76f-efd0c731a18c"
      },
      "source": [
        "filess = np.array(features)[np.array(pval) < 0.0005]\n",
        "filess"
      ],
      "execution_count": 200,
      "outputs": [
        {
          "output_type": "execute_result",
          "data": {
            "text/plain": [
              "array([['Vertical_Occipital_Fasciculus_R siblings.tsv', 'gfa',\n",
              "        'NEOFAC_N']], dtype='<U51')"
            ]
          },
          "metadata": {
            "tags": []
          },
          "execution_count": 200
        }
      ]
    },
    {
      "cell_type": "code",
      "metadata": {
        "colab": {
          "base_uri": "https://localhost:8080/"
        },
        "id": "pvowYZR8DlMz",
        "outputId": "4c4ac6e9-7896-42fa-bdc8-2decbec62a39"
      },
      "source": [
        "files = np.array(features)[np.array(pval) < 0.007]\n",
        "files"
      ],
      "execution_count": 201,
      "outputs": [
        {
          "output_type": "execute_result",
          "data": {
            "text/plain": [
              "array([['Inferior_Cerebellar_Peduncle_R siblings.tsv', 'rd', 'NEOFAC_E'],\n",
              "       ['Middle_Cerebellar_Peduncle siblings.tsv', 'dti_fa', 'NEOFAC_E'],\n",
              "       ['Middle_Cerebellar_Peduncle siblings.tsv', 'gfa', 'NEOFAC_E'],\n",
              "       ['Vertical_Occipital_Fasciculus_R siblings.tsv', 'dti_fa',\n",
              "        'NEOFAC_N'],\n",
              "       ['Vertical_Occipital_Fasciculus_R siblings.tsv', 'gfa',\n",
              "        'NEOFAC_N']], dtype='<U51')"
            ]
          },
          "metadata": {
            "tags": []
          },
          "execution_count": 201
        }
      ]
    },
    {
      "cell_type": "code",
      "metadata": {
        "id": "RpVF4IoiqJA4"
      },
      "source": [
        "for r in range(len(files)):\n",
        "  f = files[r][0]\n",
        "  fd = pd.read_csv(f, sep =  '\\t', index_col = 0)\n",
        "  males = []\n",
        "  females = []  \n",
        "  gender = np.array(fd[\"Gender.1\"])\n",
        "  for h in range(len(gender)):\n",
        "    if gender[h] == 2:\n",
        "      males.append(fd.index[h])\n",
        "\n",
        "\n",
        "  #for r in range(len(gender)):\n",
        "    # if gender[r] == 2:\n",
        "    #  males.append(fd.index[r])\n",
        "\n",
        "\n",
        "  #maledf = df.loc[males]\n",
        "  maledf = fd.loc[males]\n",
        "\n",
        "  s = files[r][1]\n",
        "  l = files[r][2]\n",
        "\n",
        "\n",
        "\n",
        "  index = [\"Slope coefficient\",\"P-value\",\"R2\"]\n",
        "\n",
        "\n",
        "  if l == \"NEOFAC_A\":\n",
        "    l2 = \"Agreeableness\"\n",
        "  elif l == \"NEOFAC_O\":\n",
        "    l2 = \"Openness to experience\"\n",
        "  elif l == \"NEOFAC_E\":\n",
        "    l2 = \"Extraversion\"\n",
        "  elif l == \"NEOFAC_C\":\n",
        "    l2 = \"Coscientiousness\"\n",
        "  else:\n",
        "    l2 = \"Neuroticism\"\n",
        "\n",
        "  variable = \"Tract: %s, Variables: %s vs %s\" %(files[r][0][:-4],l2, s)\n",
        "\n",
        "  if r == 0:\n",
        "    table1 = pd.DataFrame(columns = index)\n",
        "\n",
        "  x = maledf[s]\n",
        "  y = maledf[l] \n",
        "  idx = np.where(np.isnan(x))\n",
        "  idx2 = np.where(np.isnan(y))\n",
        "  y = np.delete(np.array(y),idx2[0].tolist()+ idx[0].tolist())\n",
        "  x = np.delete(np.array(x),idx2[0].tolist()+ idx[0].tolist())\n",
        "  x = (x- np.mean(x))/np.std(x) # z-score\n",
        "  y = (y- np.mean(y))/np.std(y) # z-score\n",
        "  x2 = sm2.add_constant(x)\n",
        "  ls = sm.OLS(y, x2).fit()\n",
        "\n",
        "\n",
        "  table1.loc[variable] = [0,0,0]\n",
        "\n",
        "  table1[index[0]][variable] = \"%.2f +- %.2f\" %(round(ls.params[1],2),round(ls.bse[1],2))\n",
        "  table1[index[1]][variable] = round(ls.pvalues[1],4)\n",
        "  table1[index[2]][variable] = r\"%.2f %%\" %round(r2_score(y,ls.params[0] + ls.params[1]*x)*100,2)\n",
        "  \"\"\"\n",
        "  print('R2: ', r2_score(y,ls.params[0] + ls.params[1]*x)*100, '%')\n",
        "  plt.figure()\n",
        "  plt.plot(x, ls.params[0] + ls.params[1]*x, 'r-')\n",
        "  \n",
        "  print('Slope coeff and pvalue: ',ls.params[1], ls.pvalues[1])\n",
        "  ls.summary()\n",
        "  plt.title(f)\n",
        "  plt.plot(x,y, 'b.')\n",
        "  plt.ylabel(l)\n",
        "  plt.xlabel(s)\n",
        "  plt.show()\n",
        "  \"\"\""
      ],
      "execution_count": 202,
      "outputs": []
    },
    {
      "cell_type": "code",
      "metadata": {
        "colab": {
          "base_uri": "https://localhost:8080/",
          "height": 206
        },
        "id": "k6Y7lJTBgoCo",
        "outputId": "a028b433-fa55-44e0-ec3e-9f5b2f3eda4a"
      },
      "source": [
        "table1"
      ],
      "execution_count": 203,
      "outputs": [
        {
          "output_type": "execute_result",
          "data": {
            "text/html": [
              "<div>\n",
              "<style scoped>\n",
              "    .dataframe tbody tr th:only-of-type {\n",
              "        vertical-align: middle;\n",
              "    }\n",
              "\n",
              "    .dataframe tbody tr th {\n",
              "        vertical-align: top;\n",
              "    }\n",
              "\n",
              "    .dataframe thead th {\n",
              "        text-align: right;\n",
              "    }\n",
              "</style>\n",
              "<table border=\"1\" class=\"dataframe\">\n",
              "  <thead>\n",
              "    <tr style=\"text-align: right;\">\n",
              "      <th></th>\n",
              "      <th>Slope coefficient</th>\n",
              "      <th>P-value</th>\n",
              "      <th>R2</th>\n",
              "    </tr>\n",
              "  </thead>\n",
              "  <tbody>\n",
              "    <tr>\n",
              "      <th>Tract: Inferior_Cerebellar_Peduncle_R siblings, Variables: Extraversion vs rd</th>\n",
              "      <td>-0.17 +- 0.06</td>\n",
              "      <td>0.004</td>\n",
              "      <td>2.79 %</td>\n",
              "    </tr>\n",
              "    <tr>\n",
              "      <th>Tract: Middle_Cerebellar_Peduncle siblings, Variables: Extraversion vs dti_fa</th>\n",
              "      <td>0.18 +- 0.06</td>\n",
              "      <td>0.0015</td>\n",
              "      <td>3.37 %</td>\n",
              "    </tr>\n",
              "    <tr>\n",
              "      <th>Tract: Middle_Cerebellar_Peduncle siblings, Variables: Extraversion vs gfa</th>\n",
              "      <td>0.17 +- 0.06</td>\n",
              "      <td>0.0042</td>\n",
              "      <td>2.77 %</td>\n",
              "    </tr>\n",
              "    <tr>\n",
              "      <th>Tract: Vertical_Occipital_Fasciculus_R siblings, Variables: Neuroticism vs dti_fa</th>\n",
              "      <td>-0.16 +- 0.06</td>\n",
              "      <td>0.0063</td>\n",
              "      <td>2.52 %</td>\n",
              "    </tr>\n",
              "    <tr>\n",
              "      <th>Tract: Vertical_Occipital_Fasciculus_R siblings, Variables: Neuroticism vs gfa</th>\n",
              "      <td>-0.21 +- 0.06</td>\n",
              "      <td>0.0002</td>\n",
              "      <td>4.48 %</td>\n",
              "    </tr>\n",
              "  </tbody>\n",
              "</table>\n",
              "</div>"
            ],
            "text/plain": [
              "                                                   Slope coefficient  ...      R2\n",
              "Tract: Inferior_Cerebellar_Peduncle_R siblings,...     -0.17 +- 0.06  ...  2.79 %\n",
              "Tract: Middle_Cerebellar_Peduncle siblings, Var...      0.18 +- 0.06  ...  3.37 %\n",
              "Tract: Middle_Cerebellar_Peduncle siblings, Var...      0.17 +- 0.06  ...  2.77 %\n",
              "Tract: Vertical_Occipital_Fasciculus_R siblings...     -0.16 +- 0.06  ...  2.52 %\n",
              "Tract: Vertical_Occipital_Fasciculus_R siblings...     -0.21 +- 0.06  ...  4.48 %\n",
              "\n",
              "[5 rows x 3 columns]"
            ]
          },
          "metadata": {
            "tags": []
          },
          "execution_count": 203
        }
      ]
    },
    {
      "cell_type": "code",
      "metadata": {
        "colab": {
          "base_uri": "https://localhost:8080/",
          "height": 296
        },
        "id": "Y248FetuQxl-",
        "outputId": "f55da581-166d-4afe-a381-d577910df549"
      },
      "source": [
        "#Multiple Linear Model\r\n",
        "for r in range(len(files)):\r\n",
        "  \r\n",
        "  f = files[r][0]\r\n",
        "  fd = pd.read_csv(f, sep =  '\\t', index_col = 0)\r\n",
        "\r\n",
        "  males = []\r\n",
        "  gender = np.array(fd[\"Gender.1\"])\r\n",
        "\r\n",
        "  for g in range(len(np.array(gender))):\r\n",
        "  \r\n",
        "    if gender[g] == 2:\r\n",
        "      males.append(fd.index[g])\r\n",
        "  col = diff_labels + [\"Age.1\"]\r\n",
        "  maledf = fd.loc[males]\r\n",
        "  X = maledf[col]\r\n",
        "  for t in pers_labels:\r\n",
        "    y = maledf[t]\r\n",
        "    model = LinearRegression()\r\n",
        "    idx2 = np.where(np.isnan(y))\r\n",
        "    y = np.array(y)\r\n",
        "    X = np.array(X)\r\n",
        "    Xnew = np.copy(X)\r\n",
        "    #print(X.shape, Xnew.shape)\r\n",
        "    \r\n",
        "\r\n",
        "    Xnew2 = sm2.add_constant(Xnew)\r\n",
        "\r\n",
        "    model.fit(Xnew,y)\r\n",
        "\r\n",
        "    theta_hat = ordinary_least_squares(Xnew2,y)\r\n",
        "\r\n",
        "    y_hat = Xnew2 @ theta_hat\r\n",
        "    ols = sm.OLS(y, Xnew2).fit()\r\n",
        "\r\n",
        "      \r\n",
        "\r\n",
        "\r\n",
        "\r\n",
        "plt.figure()\r\n",
        "plt.title('Personality trait: %s - Fiber %s' %(t,f))\r\n",
        "plt.plot(model.coef_, 'r.')\r\n",
        "plt.plot(ols.params[1:], 'g.')\r\n",
        "plt.xticks(np.arange(0,len(col),1), labels = col)\r\n",
        "plt.xlabel('Feature i ')\r\n",
        "plt.ylabel(r'$\\hat{\\theta}_i$');"
      ],
      "execution_count": 215,
      "outputs": [
        {
          "output_type": "display_data",
          "data": {
            "image/png": "[encoded data removed]",
            "text/plain": [
              "<Figure size 432x288 with 1 Axes>"
            ]
          },
          "metadata": {
            "tags": [],
            "needs_background": "light"
          }
        }
      ]
    },
    {
      "cell_type": "code",
      "metadata": {
        "id": "4Y-DGfluBqjl"
      },
      "source": [
        ""
      ],
      "execution_count": null,
      "outputs": []
    }
  ]
}
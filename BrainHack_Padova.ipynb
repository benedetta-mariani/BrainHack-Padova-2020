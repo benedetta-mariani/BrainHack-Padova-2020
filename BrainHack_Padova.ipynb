{
  "nbformat": 4,
  "nbformat_minor": 0,
  "metadata": {
    "colab": {
      "name": "BrainHack_Padova.ipynb",
      "provenance": [],
      "collapsed_sections": [],
      "toc_visible": true
    },
    "kernelspec": {
      "name": "python3",
      "display_name": "Python 3"
    }
  },
  "cells": [
    {
      "cell_type": "code",
      "metadata": {
        "id": "j5nkVfOr73gH"
      },
      "source": [
        "from statsmodels.regression import linear_model as sm\n",
        "import pandas as pd\n",
        "import numpy as np\n",
        "import matplotlib.pyplot as plt\n",
        "import seaborn as sns\n",
        "import statsmodels.api as sm2\n",
        "from sklearn.metrics import r2_score\n",
        "import scipy"
      ],
      "execution_count": 66,
      "outputs": []
    },
    {
      "cell_type": "code",
      "metadata": {
        "id": "wDWg4hniXdqn"
      },
      "source": [
        "import os\n",
        "import pingouin"
      ],
      "execution_count": null,
      "outputs": []
    },
    {
      "cell_type": "markdown",
      "metadata": {
        "id": "Q-pMgbA9EqFJ"
      },
      "source": [
        "#**Association of Microstructural white matter and personality traits based on Human connectome project dataset**"
      ]
    },
    {
      "cell_type": "code",
      "metadata": {
        "colab": {
          "base_uri": "https://localhost:8080/",
          "height": 481
        },
        "id": "2qqVbcgK1wCR",
        "outputId": "a3b2a90e-03d2-4503-8ba5-7f47db73cc8b"
      },
      "source": [
        "csvfile = sorted(os.listdir())[1]\n",
        "df = pd.read_csv(csvfile, sep =  '\\t', index_col = 0)\n",
        "col =df.columns\n",
        "df[col[:]].head()"
      ],
      "execution_count": 4,
      "outputs": [
        {
          "output_type": "execute_result",
          "data": {
            "text/html": [
              "<div>\n",
              "<style scoped>\n",
              "    .dataframe tbody tr th:only-of-type {\n",
              "        vertical-align: middle;\n",
              "    }\n",
              "\n",
              "    .dataframe tbody tr th {\n",
              "        vertical-align: top;\n",
              "    }\n",
              "\n",
              "    .dataframe thead th {\n",
              "        text-align: right;\n",
              "    }\n",
              "</style>\n",
              "<table border=\"1\" class=\"dataframe\">\n",
              "  <thead>\n",
              "    <tr style=\"text-align: right;\">\n",
              "      <th></th>\n",
              "      <th>tract</th>\n",
              "      <th>tags</th>\n",
              "      <th>number of tracts</th>\n",
              "      <th>mean length(mm)</th>\n",
              "      <th>span(mm)</th>\n",
              "      <th>curl</th>\n",
              "      <th>elongation</th>\n",
              "      <th>diameter(mm)</th>\n",
              "      <th>volume(mm^3)</th>\n",
              "      <th>trunk volume(mm^3)</th>\n",
              "      <th>branch volume(mm^3)</th>\n",
              "      <th>total surface area(mm^2)</th>\n",
              "      <th>total radius of end regions(mm)</th>\n",
              "      <th>total area of end regions(mm^2)</th>\n",
              "      <th>irregularity</th>\n",
              "      <th>area of end region 1(mm^2)</th>\n",
              "      <th>radius of end region 1(mm)</th>\n",
              "      <th>irregularity of end region 1</th>\n",
              "      <th>area of end region 2(mm^2)</th>\n",
              "      <th>radius of end region 2(mm)</th>\n",
              "      <th>irregularity of end region 2</th>\n",
              "      <th>qa</th>\n",
              "      <th>nqa</th>\n",
              "      <th>dti_fa</th>\n",
              "      <th>md</th>\n",
              "      <th>ad</th>\n",
              "      <th>rd</th>\n",
              "      <th>gfa</th>\n",
              "      <th>iso</th>\n",
              "      <th>rdi</th>\n",
              "      <th>nrdi02L</th>\n",
              "      <th>nrdi04L</th>\n",
              "      <th>nrdi06L</th>\n",
              "      <th>Family_ID</th>\n",
              "      <th>Release</th>\n",
              "      <th>Acquisition</th>\n",
              "      <th>Gender</th>\n",
              "      <th>Gender.1</th>\n",
              "      <th>Age</th>\n",
              "      <th>Age_in_Yrs</th>\n",
              "      <th>...</th>\n",
              "      <th>NEORAW_31</th>\n",
              "      <th>NEORAW_32</th>\n",
              "      <th>NEORAW_33</th>\n",
              "      <th>NEORAW_34</th>\n",
              "      <th>NEORAW_35</th>\n",
              "      <th>NEORAW_36</th>\n",
              "      <th>NEORAW_37</th>\n",
              "      <th>NEORAW_38</th>\n",
              "      <th>NEORAW_39</th>\n",
              "      <th>NEORAW_40</th>\n",
              "      <th>NEORAW_41</th>\n",
              "      <th>NEORAW_42</th>\n",
              "      <th>NEORAW_43</th>\n",
              "      <th>NEORAW_44</th>\n",
              "      <th>NEORAW_45</th>\n",
              "      <th>NEORAW_46</th>\n",
              "      <th>NEORAW_47</th>\n",
              "      <th>NEORAW_48</th>\n",
              "      <th>NEORAW_49</th>\n",
              "      <th>NEORAW_50</th>\n",
              "      <th>NEORAW_51</th>\n",
              "      <th>NEORAW_52</th>\n",
              "      <th>NEORAW_53</th>\n",
              "      <th>NEORAW_54</th>\n",
              "      <th>NEORAW_55</th>\n",
              "      <th>NEORAW_56</th>\n",
              "      <th>NEORAW_57</th>\n",
              "      <th>NEORAW_58</th>\n",
              "      <th>NEORAW_59</th>\n",
              "      <th>NEORAW_60</th>\n",
              "      <th>Noise_Comp</th>\n",
              "      <th>Odor_Unadj</th>\n",
              "      <th>Odor_AgeAdj</th>\n",
              "      <th>PainIntens_RawScore</th>\n",
              "      <th>PainInterf_Tscore</th>\n",
              "      <th>Taste_Unadj</th>\n",
              "      <th>Taste_AgeAdj</th>\n",
              "      <th>Mars_Log_Score</th>\n",
              "      <th>Mars_Errs</th>\n",
              "      <th>Mars_Final</th>\n",
              "    </tr>\n",
              "  </thead>\n",
              "  <tbody>\n",
              "    <tr>\n",
              "      <th>100307</th>\n",
              "      <td>Arcuate_Fasciculus_L</td>\n",
              "      <td>dsi-studio-atk</td>\n",
              "      <td>15410.0</td>\n",
              "      <td>128.685</td>\n",
              "      <td>34.9171</td>\n",
              "      <td>3.68544</td>\n",
              "      <td>7.31386</td>\n",
              "      <td>17.5946</td>\n",
              "      <td>31288.0</td>\n",
              "      <td>27278.0</td>\n",
              "      <td>4010.0</td>\n",
              "      <td>60490.0</td>\n",
              "      <td>25.8050</td>\n",
              "      <td>5974.0</td>\n",
              "      <td>8.50406</td>\n",
              "      <td>4194.0</td>\n",
              "      <td>15.5507</td>\n",
              "      <td>0.181143</td>\n",
              "      <td>1780.0</td>\n",
              "      <td>10.25440</td>\n",
              "      <td>0.185587</td>\n",
              "      <td>0.256980</td>\n",
              "      <td>0.283087</td>\n",
              "      <td>0.393075</td>\n",
              "      <td>0.561520</td>\n",
              "      <td>0.805159</td>\n",
              "      <td>0.439618</td>\n",
              "      <td>0.129344</td>\n",
              "      <td>0.399504</td>\n",
              "      <td>0.379680</td>\n",
              "      <td>0.253480</td>\n",
              "      <td>0.035232</td>\n",
              "      <td>0.0</td>\n",
              "      <td>51488_81352</td>\n",
              "      <td>Q1</td>\n",
              "      <td>Q01</td>\n",
              "      <td>F</td>\n",
              "      <td>1</td>\n",
              "      <td>26-30</td>\n",
              "      <td>27</td>\n",
              "      <td>...</td>\n",
              "      <td>A</td>\n",
              "      <td>A</td>\n",
              "      <td>D</td>\n",
              "      <td>A</td>\n",
              "      <td>A</td>\n",
              "      <td>SD</td>\n",
              "      <td>A</td>\n",
              "      <td>N</td>\n",
              "      <td>D</td>\n",
              "      <td>A</td>\n",
              "      <td>D</td>\n",
              "      <td>D</td>\n",
              "      <td>N</td>\n",
              "      <td>D</td>\n",
              "      <td>D</td>\n",
              "      <td>A</td>\n",
              "      <td>A</td>\n",
              "      <td>D</td>\n",
              "      <td>A</td>\n",
              "      <td>A</td>\n",
              "      <td>D</td>\n",
              "      <td>SA</td>\n",
              "      <td>A</td>\n",
              "      <td>SD</td>\n",
              "      <td>D</td>\n",
              "      <td>D</td>\n",
              "      <td>D</td>\n",
              "      <td>D</td>\n",
              "      <td>SD</td>\n",
              "      <td>A</td>\n",
              "      <td>3.6</td>\n",
              "      <td>101.12</td>\n",
              "      <td>86.45</td>\n",
              "      <td>0.0</td>\n",
              "      <td>38.6</td>\n",
              "      <td>71.69</td>\n",
              "      <td>71.76</td>\n",
              "      <td>1.76</td>\n",
              "      <td>0.0</td>\n",
              "      <td>1.76</td>\n",
              "    </tr>\n",
              "    <tr>\n",
              "      <th>100408</th>\n",
              "      <td>Arcuate_Fasciculus_L</td>\n",
              "      <td>dsi-studio-atk</td>\n",
              "      <td>18813.0</td>\n",
              "      <td>120.789</td>\n",
              "      <td>35.9272</td>\n",
              "      <td>3.36205</td>\n",
              "      <td>6.04143</td>\n",
              "      <td>19.9934</td>\n",
              "      <td>37922.0</td>\n",
              "      <td>37293.0</td>\n",
              "      <td>629.0</td>\n",
              "      <td>61596.0</td>\n",
              "      <td>24.1617</td>\n",
              "      <td>7006.0</td>\n",
              "      <td>8.11874</td>\n",
              "      <td>3796.0</td>\n",
              "      <td>14.0523</td>\n",
              "      <td>0.163425</td>\n",
              "      <td>3210.0</td>\n",
              "      <td>10.10940</td>\n",
              "      <td>0.100022</td>\n",
              "      <td>0.226609</td>\n",
              "      <td>0.277610</td>\n",
              "      <td>0.392587</td>\n",
              "      <td>0.528972</td>\n",
              "      <td>0.760296</td>\n",
              "      <td>0.413328</td>\n",
              "      <td>0.122692</td>\n",
              "      <td>0.373097</td>\n",
              "      <td>0.351102</td>\n",
              "      <td>0.232266</td>\n",
              "      <td>0.031265</td>\n",
              "      <td>0.0</td>\n",
              "      <td>51730_81594</td>\n",
              "      <td>Q3</td>\n",
              "      <td>Q03</td>\n",
              "      <td>M</td>\n",
              "      <td>2</td>\n",
              "      <td>31-35</td>\n",
              "      <td>33</td>\n",
              "      <td>...</td>\n",
              "      <td>A</td>\n",
              "      <td>D</td>\n",
              "      <td>D</td>\n",
              "      <td>A</td>\n",
              "      <td>A</td>\n",
              "      <td>SD</td>\n",
              "      <td>A</td>\n",
              "      <td>SD</td>\n",
              "      <td>D</td>\n",
              "      <td>A</td>\n",
              "      <td>D</td>\n",
              "      <td>N</td>\n",
              "      <td>D</td>\n",
              "      <td>N</td>\n",
              "      <td>D</td>\n",
              "      <td>N</td>\n",
              "      <td>A</td>\n",
              "      <td>D</td>\n",
              "      <td>SA</td>\n",
              "      <td>A</td>\n",
              "      <td>D</td>\n",
              "      <td>A</td>\n",
              "      <td>A</td>\n",
              "      <td>N</td>\n",
              "      <td>D</td>\n",
              "      <td>N</td>\n",
              "      <td>D</td>\n",
              "      <td>A</td>\n",
              "      <td>A</td>\n",
              "      <td>A</td>\n",
              "      <td>2.0</td>\n",
              "      <td>108.79</td>\n",
              "      <td>98.04</td>\n",
              "      <td>2.0</td>\n",
              "      <td>52.6</td>\n",
              "      <td>114.01</td>\n",
              "      <td>113.59</td>\n",
              "      <td>1.76</td>\n",
              "      <td>2.0</td>\n",
              "      <td>1.68</td>\n",
              "    </tr>\n",
              "    <tr>\n",
              "      <th>101107</th>\n",
              "      <td>Arcuate_Fasciculus_L</td>\n",
              "      <td>dsi-studio-atk</td>\n",
              "      <td>16668.0</td>\n",
              "      <td>121.980</td>\n",
              "      <td>32.3953</td>\n",
              "      <td>3.76535</td>\n",
              "      <td>6.26146</td>\n",
              "      <td>19.4810</td>\n",
              "      <td>36358.0</td>\n",
              "      <td>30980.0</td>\n",
              "      <td>5378.0</td>\n",
              "      <td>61361.0</td>\n",
              "      <td>22.9751</td>\n",
              "      <td>6082.0</td>\n",
              "      <td>8.21947</td>\n",
              "      <td>3049.0</td>\n",
              "      <td>13.0326</td>\n",
              "      <td>0.175007</td>\n",
              "      <td>3033.0</td>\n",
              "      <td>9.94253</td>\n",
              "      <td>0.102393</td>\n",
              "      <td>0.279609</td>\n",
              "      <td>0.314404</td>\n",
              "      <td>0.402832</td>\n",
              "      <td>0.532722</td>\n",
              "      <td>0.771320</td>\n",
              "      <td>0.413631</td>\n",
              "      <td>0.126939</td>\n",
              "      <td>0.444134</td>\n",
              "      <td>0.419247</td>\n",
              "      <td>0.278296</td>\n",
              "      <td>0.037951</td>\n",
              "      <td>0.0</td>\n",
              "      <td>51969_81833</td>\n",
              "      <td>S500</td>\n",
              "      <td>Q06</td>\n",
              "      <td>M</td>\n",
              "      <td>2</td>\n",
              "      <td>22-25</td>\n",
              "      <td>22</td>\n",
              "      <td>...</td>\n",
              "      <td>A</td>\n",
              "      <td>N</td>\n",
              "      <td>D</td>\n",
              "      <td>A</td>\n",
              "      <td>SA</td>\n",
              "      <td>SA</td>\n",
              "      <td>N</td>\n",
              "      <td>N</td>\n",
              "      <td>N</td>\n",
              "      <td>SA</td>\n",
              "      <td>SD</td>\n",
              "      <td>N</td>\n",
              "      <td>D</td>\n",
              "      <td>A</td>\n",
              "      <td>SD</td>\n",
              "      <td>N</td>\n",
              "      <td>A</td>\n",
              "      <td>SD</td>\n",
              "      <td>SA</td>\n",
              "      <td>A</td>\n",
              "      <td>SD</td>\n",
              "      <td>SA</td>\n",
              "      <td>SA</td>\n",
              "      <td>A</td>\n",
              "      <td>D</td>\n",
              "      <td>N</td>\n",
              "      <td>SD</td>\n",
              "      <td>A</td>\n",
              "      <td>D</td>\n",
              "      <td>A</td>\n",
              "      <td>6.8</td>\n",
              "      <td>108.79</td>\n",
              "      <td>97.19</td>\n",
              "      <td>1.0</td>\n",
              "      <td>50.1</td>\n",
              "      <td>134.65</td>\n",
              "      <td>131.38</td>\n",
              "      <td>1.84</td>\n",
              "      <td>0.0</td>\n",
              "      <td>1.84</td>\n",
              "    </tr>\n",
              "    <tr>\n",
              "      <th>102311</th>\n",
              "      <td>Arcuate_Fasciculus_L</td>\n",
              "      <td>dsi-studio-atk</td>\n",
              "      <td>18673.0</td>\n",
              "      <td>130.061</td>\n",
              "      <td>26.5519</td>\n",
              "      <td>4.89837</td>\n",
              "      <td>7.05933</td>\n",
              "      <td>18.4240</td>\n",
              "      <td>34674.0</td>\n",
              "      <td>23458.0</td>\n",
              "      <td>11216.0</td>\n",
              "      <td>62156.0</td>\n",
              "      <td>25.2128</td>\n",
              "      <td>6711.0</td>\n",
              "      <td>8.25663</td>\n",
              "      <td>3541.0</td>\n",
              "      <td>15.9813</td>\n",
              "      <td>0.226593</td>\n",
              "      <td>3170.0</td>\n",
              "      <td>9.23147</td>\n",
              "      <td>0.084456</td>\n",
              "      <td>0.261298</td>\n",
              "      <td>0.267556</td>\n",
              "      <td>0.400733</td>\n",
              "      <td>0.533603</td>\n",
              "      <td>0.771390</td>\n",
              "      <td>0.414480</td>\n",
              "      <td>0.127738</td>\n",
              "      <td>0.409696</td>\n",
              "      <td>0.389229</td>\n",
              "      <td>0.256815</td>\n",
              "      <td>0.034314</td>\n",
              "      <td>0.0</td>\n",
              "      <td>51679_81543</td>\n",
              "      <td>S500</td>\n",
              "      <td>Q06</td>\n",
              "      <td>F</td>\n",
              "      <td>1</td>\n",
              "      <td>26-30</td>\n",
              "      <td>26</td>\n",
              "      <td>...</td>\n",
              "      <td>D</td>\n",
              "      <td>A</td>\n",
              "      <td>D</td>\n",
              "      <td>A</td>\n",
              "      <td>SA</td>\n",
              "      <td>D</td>\n",
              "      <td>D</td>\n",
              "      <td>SD</td>\n",
              "      <td>D</td>\n",
              "      <td>SA</td>\n",
              "      <td>SD</td>\n",
              "      <td>A</td>\n",
              "      <td>A</td>\n",
              "      <td>D</td>\n",
              "      <td>SD</td>\n",
              "      <td>D</td>\n",
              "      <td>A</td>\n",
              "      <td>D</td>\n",
              "      <td>A</td>\n",
              "      <td>SA</td>\n",
              "      <td>SD</td>\n",
              "      <td>A</td>\n",
              "      <td>A</td>\n",
              "      <td>N</td>\n",
              "      <td>D</td>\n",
              "      <td>D</td>\n",
              "      <td>D</td>\n",
              "      <td>N</td>\n",
              "      <td>A</td>\n",
              "      <td>SA</td>\n",
              "      <td>4.4</td>\n",
              "      <td>122.25</td>\n",
              "      <td>110.45</td>\n",
              "      <td>1.0</td>\n",
              "      <td>52.2</td>\n",
              "      <td>98.31</td>\n",
              "      <td>99.06</td>\n",
              "      <td>1.80</td>\n",
              "      <td>0.0</td>\n",
              "      <td>1.80</td>\n",
              "    </tr>\n",
              "    <tr>\n",
              "      <th>102513</th>\n",
              "      <td>Arcuate_Fasciculus_L</td>\n",
              "      <td>dsi-studio-atk</td>\n",
              "      <td>15044.0</td>\n",
              "      <td>123.999</td>\n",
              "      <td>34.9483</td>\n",
              "      <td>3.54807</td>\n",
              "      <td>6.58395</td>\n",
              "      <td>18.8335</td>\n",
              "      <td>34544.0</td>\n",
              "      <td>30769.0</td>\n",
              "      <td>3775.0</td>\n",
              "      <td>62686.0</td>\n",
              "      <td>24.1338</td>\n",
              "      <td>5758.0</td>\n",
              "      <td>8.54417</td>\n",
              "      <td>3177.0</td>\n",
              "      <td>15.0386</td>\n",
              "      <td>0.223638</td>\n",
              "      <td>2581.0</td>\n",
              "      <td>9.09521</td>\n",
              "      <td>0.100690</td>\n",
              "      <td>0.207193</td>\n",
              "      <td>0.272966</td>\n",
              "      <td>0.400221</td>\n",
              "      <td>0.563829</td>\n",
              "      <td>0.814448</td>\n",
              "      <td>0.438605</td>\n",
              "      <td>0.132035</td>\n",
              "      <td>0.313050</td>\n",
              "      <td>0.297991</td>\n",
              "      <td>0.199089</td>\n",
              "      <td>0.027787</td>\n",
              "      <td>0.0</td>\n",
              "      <td>56077_85897</td>\n",
              "      <td>S900</td>\n",
              "      <td>Q10</td>\n",
              "      <td>M</td>\n",
              "      <td>2</td>\n",
              "      <td>26-30</td>\n",
              "      <td>30</td>\n",
              "      <td>...</td>\n",
              "      <td>N</td>\n",
              "      <td>D</td>\n",
              "      <td>N</td>\n",
              "      <td>A</td>\n",
              "      <td>N</td>\n",
              "      <td>D</td>\n",
              "      <td>N</td>\n",
              "      <td>SD</td>\n",
              "      <td>N</td>\n",
              "      <td>A</td>\n",
              "      <td>D</td>\n",
              "      <td>N</td>\n",
              "      <td>A</td>\n",
              "      <td>N</td>\n",
              "      <td>A</td>\n",
              "      <td>D</td>\n",
              "      <td>N</td>\n",
              "      <td>SD</td>\n",
              "      <td>A</td>\n",
              "      <td>N</td>\n",
              "      <td>SD</td>\n",
              "      <td>A</td>\n",
              "      <td>SA</td>\n",
              "      <td>N</td>\n",
              "      <td>D</td>\n",
              "      <td>SD</td>\n",
              "      <td>A</td>\n",
              "      <td>SA</td>\n",
              "      <td>A</td>\n",
              "      <td>SA</td>\n",
              "      <td>5.2</td>\n",
              "      <td>108.79</td>\n",
              "      <td>98.04</td>\n",
              "      <td>2.0</td>\n",
              "      <td>54.3</td>\n",
              "      <td>84.07</td>\n",
              "      <td>82.37</td>\n",
              "      <td>1.92</td>\n",
              "      <td>0.0</td>\n",
              "      <td>1.92</td>\n",
              "    </tr>\n",
              "  </tbody>\n",
              "</table>\n",
              "<p>5 rows × 618 columns</p>\n",
              "</div>"
            ],
            "text/plain": [
              "                       tract            tags  ...  Mars_Errs  Mars_Final\n",
              "100307  Arcuate_Fasciculus_L  dsi-studio-atk  ...        0.0        1.76\n",
              "100408  Arcuate_Fasciculus_L  dsi-studio-atk  ...        2.0        1.68\n",
              "101107  Arcuate_Fasciculus_L  dsi-studio-atk  ...        0.0        1.84\n",
              "102311  Arcuate_Fasciculus_L  dsi-studio-atk  ...        0.0        1.80\n",
              "102513  Arcuate_Fasciculus_L  dsi-studio-atk  ...        0.0        1.92\n",
              "\n",
              "[5 rows x 618 columns]"
            ]
          },
          "metadata": {
            "tags": []
          },
          "execution_count": 4
        }
      ]
    },
    {
      "cell_type": "code",
      "metadata": {
        "colab": {
          "base_uri": "https://localhost:8080/",
          "height": 273
        },
        "id": "ralqtGyochy-",
        "outputId": "a35f5a60-5f38-4d2a-b9f2-d22f457b4be2"
      },
      "source": [
        "df[col[30:]].head()"
      ],
      "execution_count": 5,
      "outputs": [
        {
          "output_type": "execute_result",
          "data": {
            "text/html": [
              "<div>\n",
              "<style scoped>\n",
              "    .dataframe tbody tr th:only-of-type {\n",
              "        vertical-align: middle;\n",
              "    }\n",
              "\n",
              "    .dataframe tbody tr th {\n",
              "        vertical-align: top;\n",
              "    }\n",
              "\n",
              "    .dataframe thead th {\n",
              "        text-align: right;\n",
              "    }\n",
              "</style>\n",
              "<table border=\"1\" class=\"dataframe\">\n",
              "  <thead>\n",
              "    <tr style=\"text-align: right;\">\n",
              "      <th></th>\n",
              "      <th>nrdi02L</th>\n",
              "      <th>nrdi04L</th>\n",
              "      <th>nrdi06L</th>\n",
              "      <th>Family_ID</th>\n",
              "      <th>Release</th>\n",
              "      <th>Acquisition</th>\n",
              "      <th>Gender</th>\n",
              "      <th>Gender.1</th>\n",
              "      <th>Age</th>\n",
              "      <th>Age_in_Yrs</th>\n",
              "      <th>Handedness</th>\n",
              "      <th>NEOFAC_A</th>\n",
              "      <th>NEOFAC_O</th>\n",
              "      <th>NEOFAC_C</th>\n",
              "      <th>NEOFAC_N</th>\n",
              "      <th>NEOFAC_E</th>\n",
              "      <th>3T_Full_MR_Compl</th>\n",
              "      <th>T1_Count</th>\n",
              "      <th>T2_Count</th>\n",
              "      <th>3T_RS-fMRI_Count</th>\n",
              "      <th>3T_RS-fMRI_PctCompl</th>\n",
              "      <th>3T_Full_Task_fMRI</th>\n",
              "      <th>3T_tMRI_PctCompl</th>\n",
              "      <th>fMRI_WM_PctCompl</th>\n",
              "      <th>fMRI_Gamb_PctCompl</th>\n",
              "      <th>fMRI_Mot_PctCompl</th>\n",
              "      <th>fMRI_Lang_PctCompl</th>\n",
              "      <th>fMRI_Soc_PctCompl</th>\n",
              "      <th>fMRI_Rel_PctCompl</th>\n",
              "      <th>fMRI_Emo_PctCompl</th>\n",
              "      <th>3T_dMRI_Compl</th>\n",
              "      <th>3T_dMRI_PctCompl</th>\n",
              "      <th>dMRI_3T_ReconVrs</th>\n",
              "      <th>fMRI_3T_ReconVrs</th>\n",
              "      <th>7T_Full_MR_Compl</th>\n",
              "      <th>7T_RS-fMRI_Count</th>\n",
              "      <th>7T_RS-fMRI_PctCompl</th>\n",
              "      <th>7T_Full_Task_fMRI</th>\n",
              "      <th>7T_tMRI_PctCompl</th>\n",
              "      <th>fMRI_Movie_Compl</th>\n",
              "      <th>...</th>\n",
              "      <th>NEORAW_31</th>\n",
              "      <th>NEORAW_32</th>\n",
              "      <th>NEORAW_33</th>\n",
              "      <th>NEORAW_34</th>\n",
              "      <th>NEORAW_35</th>\n",
              "      <th>NEORAW_36</th>\n",
              "      <th>NEORAW_37</th>\n",
              "      <th>NEORAW_38</th>\n",
              "      <th>NEORAW_39</th>\n",
              "      <th>NEORAW_40</th>\n",
              "      <th>NEORAW_41</th>\n",
              "      <th>NEORAW_42</th>\n",
              "      <th>NEORAW_43</th>\n",
              "      <th>NEORAW_44</th>\n",
              "      <th>NEORAW_45</th>\n",
              "      <th>NEORAW_46</th>\n",
              "      <th>NEORAW_47</th>\n",
              "      <th>NEORAW_48</th>\n",
              "      <th>NEORAW_49</th>\n",
              "      <th>NEORAW_50</th>\n",
              "      <th>NEORAW_51</th>\n",
              "      <th>NEORAW_52</th>\n",
              "      <th>NEORAW_53</th>\n",
              "      <th>NEORAW_54</th>\n",
              "      <th>NEORAW_55</th>\n",
              "      <th>NEORAW_56</th>\n",
              "      <th>NEORAW_57</th>\n",
              "      <th>NEORAW_58</th>\n",
              "      <th>NEORAW_59</th>\n",
              "      <th>NEORAW_60</th>\n",
              "      <th>Noise_Comp</th>\n",
              "      <th>Odor_Unadj</th>\n",
              "      <th>Odor_AgeAdj</th>\n",
              "      <th>PainIntens_RawScore</th>\n",
              "      <th>PainInterf_Tscore</th>\n",
              "      <th>Taste_Unadj</th>\n",
              "      <th>Taste_AgeAdj</th>\n",
              "      <th>Mars_Log_Score</th>\n",
              "      <th>Mars_Errs</th>\n",
              "      <th>Mars_Final</th>\n",
              "    </tr>\n",
              "  </thead>\n",
              "  <tbody>\n",
              "    <tr>\n",
              "      <th>100307</th>\n",
              "      <td>0.253480</td>\n",
              "      <td>0.035232</td>\n",
              "      <td>0.0</td>\n",
              "      <td>51488_81352</td>\n",
              "      <td>Q1</td>\n",
              "      <td>Q01</td>\n",
              "      <td>F</td>\n",
              "      <td>1</td>\n",
              "      <td>26-30</td>\n",
              "      <td>27</td>\n",
              "      <td>95</td>\n",
              "      <td>37.0</td>\n",
              "      <td>24.0</td>\n",
              "      <td>35.0</td>\n",
              "      <td>15.0</td>\n",
              "      <td>37.0</td>\n",
              "      <td>1</td>\n",
              "      <td>1</td>\n",
              "      <td>1</td>\n",
              "      <td>4</td>\n",
              "      <td>100.0</td>\n",
              "      <td>1</td>\n",
              "      <td>100.0</td>\n",
              "      <td>100</td>\n",
              "      <td>100.0</td>\n",
              "      <td>100</td>\n",
              "      <td>100.0</td>\n",
              "      <td>100.0</td>\n",
              "      <td>100.0</td>\n",
              "      <td>100</td>\n",
              "      <td>1</td>\n",
              "      <td>100.0</td>\n",
              "      <td>r227</td>\n",
              "      <td>r177</td>\n",
              "      <td>0</td>\n",
              "      <td>0</td>\n",
              "      <td>0</td>\n",
              "      <td>0</td>\n",
              "      <td>0.0</td>\n",
              "      <td>0</td>\n",
              "      <td>...</td>\n",
              "      <td>A</td>\n",
              "      <td>A</td>\n",
              "      <td>D</td>\n",
              "      <td>A</td>\n",
              "      <td>A</td>\n",
              "      <td>SD</td>\n",
              "      <td>A</td>\n",
              "      <td>N</td>\n",
              "      <td>D</td>\n",
              "      <td>A</td>\n",
              "      <td>D</td>\n",
              "      <td>D</td>\n",
              "      <td>N</td>\n",
              "      <td>D</td>\n",
              "      <td>D</td>\n",
              "      <td>A</td>\n",
              "      <td>A</td>\n",
              "      <td>D</td>\n",
              "      <td>A</td>\n",
              "      <td>A</td>\n",
              "      <td>D</td>\n",
              "      <td>SA</td>\n",
              "      <td>A</td>\n",
              "      <td>SD</td>\n",
              "      <td>D</td>\n",
              "      <td>D</td>\n",
              "      <td>D</td>\n",
              "      <td>D</td>\n",
              "      <td>SD</td>\n",
              "      <td>A</td>\n",
              "      <td>3.6</td>\n",
              "      <td>101.12</td>\n",
              "      <td>86.45</td>\n",
              "      <td>0.0</td>\n",
              "      <td>38.6</td>\n",
              "      <td>71.69</td>\n",
              "      <td>71.76</td>\n",
              "      <td>1.76</td>\n",
              "      <td>0.0</td>\n",
              "      <td>1.76</td>\n",
              "    </tr>\n",
              "    <tr>\n",
              "      <th>100408</th>\n",
              "      <td>0.232266</td>\n",
              "      <td>0.031265</td>\n",
              "      <td>0.0</td>\n",
              "      <td>51730_81594</td>\n",
              "      <td>Q3</td>\n",
              "      <td>Q03</td>\n",
              "      <td>M</td>\n",
              "      <td>2</td>\n",
              "      <td>31-35</td>\n",
              "      <td>33</td>\n",
              "      <td>55</td>\n",
              "      <td>33.0</td>\n",
              "      <td>29.0</td>\n",
              "      <td>34.0</td>\n",
              "      <td>15.0</td>\n",
              "      <td>33.0</td>\n",
              "      <td>1</td>\n",
              "      <td>1</td>\n",
              "      <td>1</td>\n",
              "      <td>4</td>\n",
              "      <td>100.0</td>\n",
              "      <td>1</td>\n",
              "      <td>100.0</td>\n",
              "      <td>100</td>\n",
              "      <td>100.0</td>\n",
              "      <td>100</td>\n",
              "      <td>100.0</td>\n",
              "      <td>100.0</td>\n",
              "      <td>100.0</td>\n",
              "      <td>100</td>\n",
              "      <td>1</td>\n",
              "      <td>100.0</td>\n",
              "      <td>r227</td>\n",
              "      <td>r177</td>\n",
              "      <td>0</td>\n",
              "      <td>0</td>\n",
              "      <td>0</td>\n",
              "      <td>0</td>\n",
              "      <td>0.0</td>\n",
              "      <td>0</td>\n",
              "      <td>...</td>\n",
              "      <td>A</td>\n",
              "      <td>D</td>\n",
              "      <td>D</td>\n",
              "      <td>A</td>\n",
              "      <td>A</td>\n",
              "      <td>SD</td>\n",
              "      <td>A</td>\n",
              "      <td>SD</td>\n",
              "      <td>D</td>\n",
              "      <td>A</td>\n",
              "      <td>D</td>\n",
              "      <td>N</td>\n",
              "      <td>D</td>\n",
              "      <td>N</td>\n",
              "      <td>D</td>\n",
              "      <td>N</td>\n",
              "      <td>A</td>\n",
              "      <td>D</td>\n",
              "      <td>SA</td>\n",
              "      <td>A</td>\n",
              "      <td>D</td>\n",
              "      <td>A</td>\n",
              "      <td>A</td>\n",
              "      <td>N</td>\n",
              "      <td>D</td>\n",
              "      <td>N</td>\n",
              "      <td>D</td>\n",
              "      <td>A</td>\n",
              "      <td>A</td>\n",
              "      <td>A</td>\n",
              "      <td>2.0</td>\n",
              "      <td>108.79</td>\n",
              "      <td>98.04</td>\n",
              "      <td>2.0</td>\n",
              "      <td>52.6</td>\n",
              "      <td>114.01</td>\n",
              "      <td>113.59</td>\n",
              "      <td>1.76</td>\n",
              "      <td>2.0</td>\n",
              "      <td>1.68</td>\n",
              "    </tr>\n",
              "    <tr>\n",
              "      <th>101107</th>\n",
              "      <td>0.278296</td>\n",
              "      <td>0.037951</td>\n",
              "      <td>0.0</td>\n",
              "      <td>51969_81833</td>\n",
              "      <td>S500</td>\n",
              "      <td>Q06</td>\n",
              "      <td>M</td>\n",
              "      <td>2</td>\n",
              "      <td>22-25</td>\n",
              "      <td>22</td>\n",
              "      <td>5</td>\n",
              "      <td>28.0</td>\n",
              "      <td>35.0</td>\n",
              "      <td>37.0</td>\n",
              "      <td>12.0</td>\n",
              "      <td>28.0</td>\n",
              "      <td>1</td>\n",
              "      <td>2</td>\n",
              "      <td>2</td>\n",
              "      <td>4</td>\n",
              "      <td>100.0</td>\n",
              "      <td>1</td>\n",
              "      <td>100.0</td>\n",
              "      <td>100</td>\n",
              "      <td>100.0</td>\n",
              "      <td>100</td>\n",
              "      <td>100.0</td>\n",
              "      <td>100.0</td>\n",
              "      <td>100.0</td>\n",
              "      <td>100</td>\n",
              "      <td>1</td>\n",
              "      <td>100.0</td>\n",
              "      <td>r227</td>\n",
              "      <td>r227</td>\n",
              "      <td>0</td>\n",
              "      <td>0</td>\n",
              "      <td>0</td>\n",
              "      <td>0</td>\n",
              "      <td>0.0</td>\n",
              "      <td>0</td>\n",
              "      <td>...</td>\n",
              "      <td>A</td>\n",
              "      <td>N</td>\n",
              "      <td>D</td>\n",
              "      <td>A</td>\n",
              "      <td>SA</td>\n",
              "      <td>SA</td>\n",
              "      <td>N</td>\n",
              "      <td>N</td>\n",
              "      <td>N</td>\n",
              "      <td>SA</td>\n",
              "      <td>SD</td>\n",
              "      <td>N</td>\n",
              "      <td>D</td>\n",
              "      <td>A</td>\n",
              "      <td>SD</td>\n",
              "      <td>N</td>\n",
              "      <td>A</td>\n",
              "      <td>SD</td>\n",
              "      <td>SA</td>\n",
              "      <td>A</td>\n",
              "      <td>SD</td>\n",
              "      <td>SA</td>\n",
              "      <td>SA</td>\n",
              "      <td>A</td>\n",
              "      <td>D</td>\n",
              "      <td>N</td>\n",
              "      <td>SD</td>\n",
              "      <td>A</td>\n",
              "      <td>D</td>\n",
              "      <td>A</td>\n",
              "      <td>6.8</td>\n",
              "      <td>108.79</td>\n",
              "      <td>97.19</td>\n",
              "      <td>1.0</td>\n",
              "      <td>50.1</td>\n",
              "      <td>134.65</td>\n",
              "      <td>131.38</td>\n",
              "      <td>1.84</td>\n",
              "      <td>0.0</td>\n",
              "      <td>1.84</td>\n",
              "    </tr>\n",
              "    <tr>\n",
              "      <th>102311</th>\n",
              "      <td>0.256815</td>\n",
              "      <td>0.034314</td>\n",
              "      <td>0.0</td>\n",
              "      <td>51679_81543</td>\n",
              "      <td>S500</td>\n",
              "      <td>Q06</td>\n",
              "      <td>F</td>\n",
              "      <td>1</td>\n",
              "      <td>26-30</td>\n",
              "      <td>26</td>\n",
              "      <td>10</td>\n",
              "      <td>29.0</td>\n",
              "      <td>34.0</td>\n",
              "      <td>38.0</td>\n",
              "      <td>18.0</td>\n",
              "      <td>27.0</td>\n",
              "      <td>1</td>\n",
              "      <td>1</td>\n",
              "      <td>1</td>\n",
              "      <td>4</td>\n",
              "      <td>100.0</td>\n",
              "      <td>1</td>\n",
              "      <td>100.0</td>\n",
              "      <td>100</td>\n",
              "      <td>100.0</td>\n",
              "      <td>100</td>\n",
              "      <td>100.0</td>\n",
              "      <td>100.0</td>\n",
              "      <td>100.0</td>\n",
              "      <td>100</td>\n",
              "      <td>1</td>\n",
              "      <td>100.0</td>\n",
              "      <td>r227</td>\n",
              "      <td>r227</td>\n",
              "      <td>1</td>\n",
              "      <td>4</td>\n",
              "      <td>100</td>\n",
              "      <td>1</td>\n",
              "      <td>100.0</td>\n",
              "      <td>1</td>\n",
              "      <td>...</td>\n",
              "      <td>D</td>\n",
              "      <td>A</td>\n",
              "      <td>D</td>\n",
              "      <td>A</td>\n",
              "      <td>SA</td>\n",
              "      <td>D</td>\n",
              "      <td>D</td>\n",
              "      <td>SD</td>\n",
              "      <td>D</td>\n",
              "      <td>SA</td>\n",
              "      <td>SD</td>\n",
              "      <td>A</td>\n",
              "      <td>A</td>\n",
              "      <td>D</td>\n",
              "      <td>SD</td>\n",
              "      <td>D</td>\n",
              "      <td>A</td>\n",
              "      <td>D</td>\n",
              "      <td>A</td>\n",
              "      <td>SA</td>\n",
              "      <td>SD</td>\n",
              "      <td>A</td>\n",
              "      <td>A</td>\n",
              "      <td>N</td>\n",
              "      <td>D</td>\n",
              "      <td>D</td>\n",
              "      <td>D</td>\n",
              "      <td>N</td>\n",
              "      <td>A</td>\n",
              "      <td>SA</td>\n",
              "      <td>4.4</td>\n",
              "      <td>122.25</td>\n",
              "      <td>110.45</td>\n",
              "      <td>1.0</td>\n",
              "      <td>52.2</td>\n",
              "      <td>98.31</td>\n",
              "      <td>99.06</td>\n",
              "      <td>1.80</td>\n",
              "      <td>0.0</td>\n",
              "      <td>1.80</td>\n",
              "    </tr>\n",
              "    <tr>\n",
              "      <th>102513</th>\n",
              "      <td>0.199089</td>\n",
              "      <td>0.027787</td>\n",
              "      <td>0.0</td>\n",
              "      <td>56077_85897</td>\n",
              "      <td>S900</td>\n",
              "      <td>Q10</td>\n",
              "      <td>M</td>\n",
              "      <td>2</td>\n",
              "      <td>26-30</td>\n",
              "      <td>30</td>\n",
              "      <td>50</td>\n",
              "      <td>26.0</td>\n",
              "      <td>39.0</td>\n",
              "      <td>27.0</td>\n",
              "      <td>12.0</td>\n",
              "      <td>27.0</td>\n",
              "      <td>1</td>\n",
              "      <td>2</td>\n",
              "      <td>2</td>\n",
              "      <td>4</td>\n",
              "      <td>100.0</td>\n",
              "      <td>1</td>\n",
              "      <td>100.0</td>\n",
              "      <td>100</td>\n",
              "      <td>100.0</td>\n",
              "      <td>100</td>\n",
              "      <td>100.0</td>\n",
              "      <td>100.0</td>\n",
              "      <td>100.0</td>\n",
              "      <td>100</td>\n",
              "      <td>1</td>\n",
              "      <td>100.0</td>\n",
              "      <td>r227</td>\n",
              "      <td>r227</td>\n",
              "      <td>0</td>\n",
              "      <td>0</td>\n",
              "      <td>0</td>\n",
              "      <td>0</td>\n",
              "      <td>0.0</td>\n",
              "      <td>0</td>\n",
              "      <td>...</td>\n",
              "      <td>N</td>\n",
              "      <td>D</td>\n",
              "      <td>N</td>\n",
              "      <td>A</td>\n",
              "      <td>N</td>\n",
              "      <td>D</td>\n",
              "      <td>N</td>\n",
              "      <td>SD</td>\n",
              "      <td>N</td>\n",
              "      <td>A</td>\n",
              "      <td>D</td>\n",
              "      <td>N</td>\n",
              "      <td>A</td>\n",
              "      <td>N</td>\n",
              "      <td>A</td>\n",
              "      <td>D</td>\n",
              "      <td>N</td>\n",
              "      <td>SD</td>\n",
              "      <td>A</td>\n",
              "      <td>N</td>\n",
              "      <td>SD</td>\n",
              "      <td>A</td>\n",
              "      <td>SA</td>\n",
              "      <td>N</td>\n",
              "      <td>D</td>\n",
              "      <td>SD</td>\n",
              "      <td>A</td>\n",
              "      <td>SA</td>\n",
              "      <td>A</td>\n",
              "      <td>SA</td>\n",
              "      <td>5.2</td>\n",
              "      <td>108.79</td>\n",
              "      <td>98.04</td>\n",
              "      <td>2.0</td>\n",
              "      <td>54.3</td>\n",
              "      <td>84.07</td>\n",
              "      <td>82.37</td>\n",
              "      <td>1.92</td>\n",
              "      <td>0.0</td>\n",
              "      <td>1.92</td>\n",
              "    </tr>\n",
              "  </tbody>\n",
              "</table>\n",
              "<p>5 rows × 588 columns</p>\n",
              "</div>"
            ],
            "text/plain": [
              "         nrdi02L   nrdi04L  nrdi06L  ... Mars_Log_Score Mars_Errs Mars_Final\n",
              "100307  0.253480  0.035232      0.0  ...           1.76       0.0       1.76\n",
              "100408  0.232266  0.031265      0.0  ...           1.76       2.0       1.68\n",
              "101107  0.278296  0.037951      0.0  ...           1.84       0.0       1.84\n",
              "102311  0.256815  0.034314      0.0  ...           1.80       0.0       1.80\n",
              "102513  0.199089  0.027787      0.0  ...           1.92       0.0       1.92\n",
              "\n",
              "[5 rows x 588 columns]"
            ]
          },
          "metadata": {
            "tags": []
          },
          "execution_count": 5
        }
      ]
    },
    {
      "cell_type": "code",
      "metadata": {
        "colab": {
          "base_uri": "https://localhost:8080/"
        },
        "id": "rGaYYLcT2BSc",
        "outputId": "d0e57899-e239-43ad-e62a-bbb106f372b1"
      },
      "source": [
        "diff_labels = df.columns[df.columns.tolist().index(\"qa\"):df.columns.tolist().index(\"rdi\") + 1].tolist()\n",
        "pers_labels = df.columns[df.columns.tolist().index(\"NEOFAC_A\"):df.columns.tolist().index(\"NEOFAC_E\") + 1].tolist()\n",
        "diff_labels, pers_labels\n",
        "\n",
        "\n",
        "#same as doing\n",
        "\n",
        "#diff_labels = [\"qa\", \"nqa\", \"dti_fa\", \"md\", \"ad\", \"rd\", \"gfa\", \"iso\",\"rdi\"]\n",
        "#pers_labels = [\"NEOFAC_A\",\"NEOFAC_O\", \"NEOFAC_C\", \"NEOFAC_N\", \"NEOFAC_E\"]"
      ],
      "execution_count": 7,
      "outputs": [
        {
          "output_type": "execute_result",
          "data": {
            "text/plain": [
              "(['qa', 'nqa', 'dti_fa', 'md', 'ad', 'rd', 'gfa', 'iso', 'rdi'],\n",
              " ['NEOFAC_A', 'NEOFAC_O', 'NEOFAC_C', 'NEOFAC_N', 'NEOFAC_E'])"
            ]
          },
          "metadata": {
            "tags": []
          },
          "execution_count": 7
        }
      ]
    },
    {
      "cell_type": "code",
      "metadata": {
        "id": "y5FIDwUpcG_A",
        "colab": {
          "base_uri": "https://localhost:8080/"
        },
        "outputId": "c7c83a2f-fe4d-404f-ca34-fee9db8ba2be"
      },
      "source": [
        "!pip install pingouin"
      ],
      "execution_count": 69,
      "outputs": [
        {
          "output_type": "stream",
          "text": [
            "Collecting pingouin\n",
            "\u001b[?25l  Downloading https://files.pythonhosted.org/packages/e6/5f/4618f878765a8b7037b8831f19105c5c2764b26e5e9afa4a29c58fc11d26/pingouin-0.3.8.tar.gz (223kB)\n",
            "\r\u001b[K     |█▌                              | 10kB 13.5MB/s eta 0:00:01\r\u001b[K     |███                             | 20kB 11.8MB/s eta 0:00:01\r\u001b[K     |████▍                           | 30kB 8.5MB/s eta 0:00:01\r\u001b[K     |█████▉                          | 40kB 7.2MB/s eta 0:00:01\r\u001b[K     |███████▍                        | 51kB 4.4MB/s eta 0:00:01\r\u001b[K     |████████▉                       | 61kB 4.9MB/s eta 0:00:01\r\u001b[K     |██████████▎                     | 71kB 5.0MB/s eta 0:00:01\r\u001b[K     |███████████▊                    | 81kB 5.2MB/s eta 0:00:01\r\u001b[K     |█████████████▏                  | 92kB 5.6MB/s eta 0:00:01\r\u001b[K     |██████████████▊                 | 102kB 5.5MB/s eta 0:00:01\r\u001b[K     |████████████████▏               | 112kB 5.5MB/s eta 0:00:01\r\u001b[K     |█████████████████▋              | 122kB 5.5MB/s eta 0:00:01\r\u001b[K     |███████████████████             | 133kB 5.5MB/s eta 0:00:01\r\u001b[K     |████████████████████▌           | 143kB 5.5MB/s eta 0:00:01\r\u001b[K     |██████████████████████          | 153kB 5.5MB/s eta 0:00:01\r\u001b[K     |███████████████████████▌        | 163kB 5.5MB/s eta 0:00:01\r\u001b[K     |█████████████████████████       | 174kB 5.5MB/s eta 0:00:01\r\u001b[K     |██████████████████████████▍     | 184kB 5.5MB/s eta 0:00:01\r\u001b[K     |████████████████████████████    | 194kB 5.5MB/s eta 0:00:01\r\u001b[K     |█████████████████████████████▍  | 204kB 5.5MB/s eta 0:00:01\r\u001b[K     |██████████████████████████████▉ | 215kB 5.5MB/s eta 0:00:01\r\u001b[K     |████████████████████████████████| 225kB 5.5MB/s \n",
            "\u001b[?25hRequirement already satisfied: numpy>=1.15 in /usr/local/lib/python3.6/dist-packages (from pingouin) (1.18.5)\n",
            "Requirement already satisfied: scipy>=1.3 in /usr/local/lib/python3.6/dist-packages (from pingouin) (1.4.1)\n",
            "Requirement already satisfied: pandas>=0.24 in /usr/local/lib/python3.6/dist-packages (from pingouin) (1.1.5)\n",
            "Requirement already satisfied: matplotlib>=3.0.2 in /usr/local/lib/python3.6/dist-packages (from pingouin) (3.2.2)\n",
            "Requirement already satisfied: seaborn>=0.9.0 in /usr/local/lib/python3.6/dist-packages (from pingouin) (0.11.0)\n",
            "Requirement already satisfied: statsmodels>=0.10.0 in /usr/local/lib/python3.6/dist-packages (from pingouin) (0.10.2)\n",
            "Requirement already satisfied: scikit-learn in /usr/local/lib/python3.6/dist-packages (from pingouin) (0.22.2.post1)\n",
            "Collecting pandas_flavor>=0.1.2\n",
            "  Downloading https://files.pythonhosted.org/packages/9a/57/7fbcff4c0961ed190ac5fcb0bd8194152ee1ee6487edf64fdbae16e2bc4b/pandas_flavor-0.2.0-py2.py3-none-any.whl\n",
            "Collecting outdated\n",
            "  Downloading https://files.pythonhosted.org/packages/86/70/2f166266438a30e94140f00c99c0eac1c45807981052a1d4c123660e1323/outdated-0.2.0.tar.gz\n",
            "Requirement already satisfied: tabulate in /usr/local/lib/python3.6/dist-packages (from pingouin) (0.8.7)\n",
            "Requirement already satisfied: python-dateutil>=2.7.3 in /usr/local/lib/python3.6/dist-packages (from pandas>=0.24->pingouin) (2.8.1)\n",
            "Requirement already satisfied: pytz>=2017.2 in /usr/local/lib/python3.6/dist-packages (from pandas>=0.24->pingouin) (2018.9)\n",
            "Requirement already satisfied: pyparsing!=2.0.4,!=2.1.2,!=2.1.6,>=2.0.1 in /usr/local/lib/python3.6/dist-packages (from matplotlib>=3.0.2->pingouin) (2.4.7)\n",
            "Requirement already satisfied: cycler>=0.10 in /usr/local/lib/python3.6/dist-packages (from matplotlib>=3.0.2->pingouin) (0.10.0)\n",
            "Requirement already satisfied: kiwisolver>=1.0.1 in /usr/local/lib/python3.6/dist-packages (from matplotlib>=3.0.2->pingouin) (1.3.1)\n",
            "Requirement already satisfied: patsy>=0.4.0 in /usr/local/lib/python3.6/dist-packages (from statsmodels>=0.10.0->pingouin) (0.5.1)\n",
            "Requirement already satisfied: joblib>=0.11 in /usr/local/lib/python3.6/dist-packages (from scikit-learn->pingouin) (0.17.0)\n",
            "Requirement already satisfied: xarray in /usr/local/lib/python3.6/dist-packages (from pandas_flavor>=0.1.2->pingouin) (0.15.1)\n",
            "Collecting littleutils\n",
            "  Downloading https://files.pythonhosted.org/packages/4e/b1/bb4e06f010947d67349f863b6a2ad71577f85590180a935f60543f622652/littleutils-0.2.2.tar.gz\n",
            "Requirement already satisfied: requests in /usr/local/lib/python3.6/dist-packages (from outdated->pingouin) (2.23.0)\n",
            "Requirement already satisfied: six>=1.5 in /usr/local/lib/python3.6/dist-packages (from python-dateutil>=2.7.3->pandas>=0.24->pingouin) (1.15.0)\n",
            "Requirement already satisfied: setuptools>=41.2 in /usr/local/lib/python3.6/dist-packages (from xarray->pandas_flavor>=0.1.2->pingouin) (50.3.2)\n",
            "Requirement already satisfied: chardet<4,>=3.0.2 in /usr/local/lib/python3.6/dist-packages (from requests->outdated->pingouin) (3.0.4)\n",
            "Requirement already satisfied: idna<3,>=2.5 in /usr/local/lib/python3.6/dist-packages (from requests->outdated->pingouin) (2.10)\n",
            "Requirement already satisfied: certifi>=2017.4.17 in /usr/local/lib/python3.6/dist-packages (from requests->outdated->pingouin) (2020.12.5)\n",
            "Requirement already satisfied: urllib3!=1.25.0,!=1.25.1,<1.26,>=1.21.1 in /usr/local/lib/python3.6/dist-packages (from requests->outdated->pingouin) (1.24.3)\n",
            "Building wheels for collected packages: pingouin, outdated, littleutils\n",
            "  Building wheel for pingouin (setup.py) ... \u001b[?25l\u001b[?25hdone\n",
            "  Created wheel for pingouin: filename=pingouin-0.3.8-cp36-none-any.whl size=221687 sha256=f1dff466ef9cdaa72f65df0cf2cb601fad71bc69bd06011ad3b992f2a83a65b0\n",
            "  Stored in directory: /root/.cache/pip/wheels/d6/9e/53/f885f73f29cf7c8cac3d8f4b1532bbfef2f5eb543946ac9055\n",
            "  Building wheel for outdated (setup.py) ... \u001b[?25l\u001b[?25hdone\n",
            "  Created wheel for outdated: filename=outdated-0.2.0-cp36-none-any.whl size=4962 sha256=c7a296bc8d2202a6bd9068a6750a7b6fea351bd97724eb0a5241f0d664ac61a8\n",
            "  Stored in directory: /root/.cache/pip/wheels/fd/7c/ef/814f514d31197310872b5abf353feb8fef9d67ee658e1e7e39\n",
            "  Building wheel for littleutils (setup.py) ... \u001b[?25l\u001b[?25hdone\n",
            "  Created wheel for littleutils: filename=littleutils-0.2.2-cp36-none-any.whl size=7050 sha256=93b46d849a37bfe55bd739255efb9e0a56983880322c53b8183f89666ec3be73\n",
            "  Stored in directory: /root/.cache/pip/wheels/53/16/9f/ac67d15c40243754fd73f620e1b9b6dedc20492ecc19a2bae1\n",
            "Successfully built pingouin outdated littleutils\n",
            "Installing collected packages: pandas-flavor, littleutils, outdated, pingouin\n",
            "Successfully installed littleutils-0.2.2 outdated-0.2.0 pandas-flavor-0.2.0 pingouin-0.3.8\n"
          ],
          "name": "stdout"
        }
      ]
    },
    {
      "cell_type": "code",
      "metadata": {
        "id": "IdAJXF0dKCoE"
      },
      "source": [
        ""
      ],
      "execution_count": null,
      "outputs": []
    },
    {
      "cell_type": "markdown",
      "metadata": {
        "id": "Q2uAexxdKDKs"
      },
      "source": [
        "## Linear regression"
      ]
    },
    {
      "cell_type": "code",
      "metadata": {
        "colab": {
          "base_uri": "https://localhost:8080/"
        },
        "id": "_9PTlE9TXitO",
        "outputId": "16c1a086-968c-4130-a4b1-24ac73333747"
      },
      "source": [
        "pval = []\n",
        "features = []\n",
        "coef = []\n",
        "intercept = []\n",
        "xs = []\n",
        "for file in sorted(os.listdir()):\n",
        "  if \"tsv\" in file:\n",
        "    print(file)\n",
        "    fd = pd.read_csv(file, sep =  '\\t', index_col = 0)\n",
        "    for s in pers_labels:\n",
        "      for l in diff_labels:\n",
        "        x = fd[s]\n",
        "        idx = np.where(np.isnan(x))\n",
        "        y = fd[l]\n",
        "        idx2 = np.where(np.isnan(y)) \n",
        "        x = np.delete(np.array(x),idx2[0].tolist()+ idx[0].tolist())\n",
        "        y = np.delete(np.array(y),idx2[0].tolist()+ idx[0].tolist())\n",
        "        x2 = sm2.add_constant(x)\n",
        "        ls = sm.OLS(y, x2).fit()\n",
        "        pval.append(ls.pvalues[1])\n",
        "        coef.append(ls.params[1])\n",
        "        intercept.append(ls.params[0])\n",
        "        xs.append(x)\n",
        "        features.append([file,s,l])"
      ],
      "execution_count": 33,
      "outputs": [
        {
          "output_type": "stream",
          "text": [
            "Arcuate_Fasciculus_L.tsv\n",
            "Arcuate_Fasciculus_R.tsv\n",
            "Cingulum_Frontal_Parahippocampal_L.tsv\n",
            "Cingulum_Frontal_Parahippocampal_R.tsv\n",
            "Cingulum_Frontal_Parietal_L.tsv\n",
            "Cingulum_Frontal_Parietal_R.tsv\n",
            "Cingulum_Parahippocampal_L.tsv\n",
            "Cingulum_Parahippocampal_Parietal_L.tsv\n",
            "Cingulum_Parahippocampal_Parietal_R.tsv\n",
            "Cingulum_Parahippocampal_R.tsv\n",
            "Cingulum_Rarolfactory_L.tsv\n",
            "Cingulum_Rarolfactory_R.tsv\n",
            "Corpus_Callosum_Body.tsv\n",
            "Corpus_Callosum_Forceps_Major.tsv\n",
            "Corpus_Callosum_Forceps_Minor.tsv\n",
            "Corpus_Callosum_Tapetum.tsv\n",
            "Corticobulbar_Tract_L.tsv\n",
            "Corticopontine_Tract_Frontal_L.tsv\n",
            "Corticopontine_Tract_Frontal_R.tsv\n",
            "Corticopontine_Tract_Occipital_L.tsv\n",
            "Corticopontine_Tract_Occipital_R.tsv\n",
            "Corticopontine_Tract_Parietal_L.tsv\n",
            "Corticopontine_Tract_Parietal_R.tsv\n",
            "Corticospinal_Tract_L.tsv\n",
            "Corticospinal_Tract_R.tsv\n",
            "Corticostriatal_Tract_Anterior_L.tsv\n",
            "Corticostriatal_Tract_Anterior_R.tsv\n",
            "Corticostriatal_Tract_Posterior_L.tsv\n",
            "Corticostriatal_Tract_Posterior_R.tsv\n",
            "Corticostriatal_Tract_Superior_L.tsv\n",
            "Corticostriatal_Tract_Superior_R.tsv\n",
            "Dentatorubrothalamic_Tract_L.tsv\n",
            "Dentatorubrothalamic_Tract_R.tsv\n",
            "Fornix_L.tsv\n",
            "Fornix_R.tsv\n",
            "Frontal_Aslant_Tract_L.tsv\n",
            "Frontal_Aslant_Tract_R.tsv\n",
            "Inferior_Cerebellar_Peduncle_L.tsv\n",
            "Inferior_Cerebellar_Peduncle_R.tsv\n",
            "Inferior_Fronto_Occipital_Fasciculus_L.tsv\n",
            "Inferior_Fronto_Occipital_Fasciculus_R.tsv\n",
            "Inferior_Longitudinal_Fasciculus_L.tsv\n",
            "Inferior_Longitudinal_Fasciculus_R.tsv\n",
            "Middle_Cerebellar_Peduncle.tsv\n",
            "Middle_Longitudinal_Fasciculus_L.tsv\n",
            "Middle_Longitudinal_Fasciculus_R.tsv\n",
            "Optic_Radiation_L.tsv\n",
            "Optic_Radiation_R.tsv\n",
            "Parietal_Aslant_Tract_L.tsv\n",
            "Parietal_Aslant_Tract_R.tsv\n",
            "Superior_Cerebellar_Peduncle.tsv\n",
            "Superior_Longitudinal_Fasciculus1_L.tsv\n",
            "Superior_Longitudinal_Fasciculus1_R.tsv\n",
            "Superior_Longitudinal_Fasciculus2_L.tsv\n",
            "Superior_Longitudinal_Fasciculus2_R.tsv\n",
            "Superior_Longitudinal_Fasciculus3_L.tsv\n",
            "Superior_Longitudinal_Fasciculus3_R.tsv\n",
            "Thalamic_Radiation_Anterior_L.tsv\n",
            "Thalamic_Radiation_Anterior_R.tsv\n",
            "Thalamic_Radiation_Posterior_L.tsv\n",
            "Thalamic_Radiation_Posterior_R.tsv\n",
            "Thalamic_Radiation_Superior_L.tsv\n",
            "Thalamic_Radiation_Superior_R.tsv\n",
            "Uncinate_Fasciculus_L.tsv\n",
            "Uncinate_Fasciculus_R.tsv\n",
            "Vertical_Occipital_Fasciculus_L.tsv\n",
            "Vertical_Occipital_Fasciculus_R.tsv\n"
          ],
          "name": "stdout"
        }
      ]
    },
    {
      "cell_type": "code",
      "metadata": {
        "id": "1owFQ8rUgBrt",
        "colab": {
          "base_uri": "https://localhost:8080/"
        },
        "outputId": "0b947657-5f66-414b-f4c3-c05cef9168d9"
      },
      "source": [
        "files = np.array(features)[np.array(pval) < 0.0005]\n",
        "pval.index(min(pval))"
      ],
      "execution_count": 36,
      "outputs": [
        {
          "output_type": "execute_result",
          "data": {
            "text/plain": [
              "409"
            ]
          },
          "metadata": {
            "tags": []
          },
          "execution_count": 36
        }
      ]
    },
    {
      "cell_type": "code",
      "metadata": {
        "colab": {
          "base_uri": "https://localhost:8080/"
        },
        "id": "q7cFRL4jO17N",
        "outputId": "a19b1d2c-08b9-4cad-8ddc-d9e6e4ef6487"
      },
      "source": [
        "pval[425]"
      ],
      "execution_count": 22,
      "outputs": [
        {
          "output_type": "execute_result",
          "data": {
            "text/plain": [
              "0.00043917757328587966"
            ]
          },
          "metadata": {
            "tags": []
          },
          "execution_count": 22
        }
      ]
    },
    {
      "cell_type": "code",
      "metadata": {
        "colab": {
          "base_uri": "https://localhost:8080/"
        },
        "id": "ezmSPPAU1Kvr",
        "outputId": "51fa9e5b-db3e-4da4-c999-d1b7a350cf65"
      },
      "source": [
        "features[425]"
      ],
      "execution_count": 21,
      "outputs": [
        {
          "output_type": "execute_result",
          "data": {
            "text/plain": [
              "['Cingulum_Parahippocampal_R.tsv', 'ad', 'NEOFAC_A']"
            ]
          },
          "metadata": {
            "tags": []
          },
          "execution_count": 21
        }
      ]
    },
    {
      "cell_type": "code",
      "metadata": {
        "colab": {
          "base_uri": "https://localhost:8080/"
        },
        "id": "M3TGVk4FsYXH",
        "outputId": "2606f3c0-a7b3-4a92-b72f-bfe31308f40d"
      },
      "source": [
        "len(files)"
      ],
      "execution_count": 38,
      "outputs": [
        {
          "output_type": "execute_result",
          "data": {
            "text/plain": [
              "2"
            ]
          },
          "metadata": {
            "tags": []
          },
          "execution_count": 38
        }
      ]
    },
    {
      "cell_type": "code",
      "metadata": {
        "colab": {
          "base_uri": "https://localhost:8080/",
          "height": 642
        },
        "id": "IkvxqKzPfciK",
        "outputId": "d9f3272d-8b16-4b85-f428-4ccf037dacb8"
      },
      "source": [
        "for r in range(len(files)):\n",
        "  f = files[r][0]\n",
        "  l = files[r][1]\n",
        "  s = files[r][2]\n",
        "  fd = pd.read_csv(f, sep =  '\\t', index_col = 0)\n",
        "  x = fd[s]\n",
        "  y = fd[l] \n",
        "  idx = np.where(np.isnan(x))\n",
        "  idx2 = np.where(np.isnan(y))\n",
        "  y = np.delete(np.array(y),idx2[0].tolist()+ idx[0].tolist())\n",
        "  x = np.delete(np.array(x),idx2[0].tolist()+ idx[0].tolist())\n",
        "  #x = np.delete(np.array(x),13) # outlier in Cingulum_Parahippocampal_R case\n",
        "  #y = np.delete(np.array(y),13) #outlier in Cingulum_Parahippocampal_R case\n",
        "  #x = (x- np.mean(x))/np.std(x) # z-score\n",
        "  y = (y- np.mean(y))/np.std(y) # z-score\n",
        "  x2 = sm2.add_constant(x)\n",
        "  ls = sm.OLS(y, x2).fit()\n",
        "  print('R2: ', r2_score(y,ls.params[0] + ls.params[1]*x)*100, '%')\n",
        "  plt.figure()\n",
        "  plt.plot(x, ls.params[0] + ls.params[1]*x, 'r-')\n",
        "  \n",
        "  print('Slope coeff and pvalue: ',ls.params[1], ls.pvalues[1])\n",
        "  ls.summary()\n",
        "  plt.title(f)\n",
        "  plt.plot(x,y, 'b.')\n",
        "  plt.ylabel(l)\n",
        "  plt.xlabel(s)\n",
        "  plt.show()"
      ],
      "execution_count": 68,
      "outputs": [
        {
          "output_type": "stream",
          "text": [
            "R2:  2.8232571893090586 %\n",
            "Slope coeff and pvalue:  5.402531341143795 0.0004391775732858818\n"
          ],
          "name": "stdout"
        },
        {
          "output_type": "display_data",
          "data": {
            "image/png": "[encoded data removed]",
            "text/plain": [
              "<Figure size 432x288 with 1 Axes>"
            ]
          },
          "metadata": {
            "tags": [],
            "needs_background": "light"
          }
        },
        {
          "output_type": "stream",
          "text": [
            "R2:  2.7982672437806055 %\n",
            "Slope coeff and pvalue:  5.132255005556048 0.0004660759918897445\n"
          ],
          "name": "stdout"
        },
        {
          "output_type": "display_data",
          "data": {
            "image/png": "[encoded data removed]",
            "text/plain": [
              "<Figure size 432x288 with 1 Axes>"
            ]
          },
          "metadata": {
            "tags": [],
            "needs_background": "light"
          }
        }
      ]
    },
    {
      "cell_type": "code",
      "metadata": {
        "colab": {
          "base_uri": "https://localhost:8080/"
        },
        "id": "Kl7yxINWgkNt",
        "outputId": "f3809df0-b6c5-449d-868b-c68d9caa726d"
      },
      "source": [
        "ls.params[1]"
      ],
      "execution_count": 47,
      "outputs": [
        {
          "output_type": "execute_result",
          "data": {
            "text/plain": [
              "0.0007059810185391643"
            ]
          },
          "metadata": {
            "tags": []
          },
          "execution_count": 47
        }
      ]
    },
    {
      "cell_type": "code",
      "metadata": {
        "colab": {
          "base_uri": "https://localhost:8080/"
        },
        "id": "a51zvrGfguEd",
        "outputId": "56f56ddf-d86f-486b-9b67-f941510ec6a3"
      },
      "source": [
        "np.corrcoef(np.log(x),np.log(y))[0,1]"
      ],
      "execution_count": 65,
      "outputs": [
        {
          "output_type": "stream",
          "text": [
            "/usr/local/lib/python3.6/dist-packages/ipykernel_launcher.py:1: RuntimeWarning: divide by zero encountered in log\n",
            "  \"\"\"Entry point for launching an IPython kernel.\n",
            "/usr/local/lib/python3.6/dist-packages/numpy/lib/function_base.py:2449: RuntimeWarning: invalid value encountered in subtract\n",
            "  X -= avg[:, None]\n"
          ],
          "name": "stderr"
        },
        {
          "output_type": "execute_result",
          "data": {
            "text/plain": [
              "nan"
            ]
          },
          "metadata": {
            "tags": []
          },
          "execution_count": 65
        }
      ]
    },
    {
      "cell_type": "code",
      "metadata": {
        "colab": {
          "base_uri": "https://localhost:8080/"
        },
        "id": "VHs0o0V24kXV",
        "outputId": "baaba0ba-f16d-4024-ac2f-49db23dccd89"
      },
      "source": [
        "scipy.stats.spearmanr(x,y)"
      ],
      "execution_count": 67,
      "outputs": [
        {
          "output_type": "execute_result",
          "data": {
            "text/plain": [
              "SpearmanrResult(correlation=0.17105477913272318, pvalue=0.0003440321880195163)"
            ]
          },
          "metadata": {
            "tags": []
          },
          "execution_count": 67
        }
      ]
    },
    {
      "cell_type": "code",
      "metadata": {
        "id": "IgDGhbW-30zX"
      },
      "source": [
        "np.corrcoef(x,y)[0,1]"
      ],
      "execution_count": null,
      "outputs": []
    },
    {
      "cell_type": "code",
      "metadata": {
        "colab": {
          "base_uri": "https://localhost:8080/"
        },
        "id": "4gdkfiIshCpn",
        "outputId": "e3c337e7-7032-4edd-ee30-9484a71d5f25"
      },
      "source": [
        "ls.params[1]*np.std(x)/np.std(y)"
      ],
      "execution_count": 56,
      "outputs": [
        {
          "output_type": "execute_result",
          "data": {
            "text/plain": [
              "0.16728022129889186"
            ]
          },
          "metadata": {
            "tags": []
          },
          "execution_count": 56
        }
      ]
    },
    {
      "cell_type": "code",
      "metadata": {
        "colab": {
          "base_uri": "https://localhost:8080/"
        },
        "id": "QvB6Q9HrgL9b",
        "outputId": "9d7070b3-484e-4a5a-e116-0decbd605f15"
      },
      "source": [
        "ls.params[1]*np.std(x)/np.std(y)"
      ],
      "execution_count": 54,
      "outputs": [
        {
          "output_type": "execute_result",
          "data": {
            "text/plain": [
              "0.1672802212988918"
            ]
          },
          "metadata": {
            "tags": []
          },
          "execution_count": 54
        }
      ]
    },
    {
      "cell_type": "markdown",
      "metadata": {
        "id": "jVlxlBbv08ZJ"
      },
      "source": [
        "## Taking into account some covariates"
      ]
    },
    {
      "cell_type": "code",
      "metadata": {
        "id": "j-_6dXO46qbn"
      },
      "source": [
        ""
      ],
      "execution_count": null,
      "outputs": []
    },
    {
      "cell_type": "code",
      "metadata": {
        "id": "oxBKFwEr6qep"
      },
      "source": [
        "import pingouin"
      ],
      "execution_count": 71,
      "outputs": []
    },
    {
      "cell_type": "code",
      "metadata": {
        "id": "bh-fqX39pcX7"
      },
      "source": [
        "pvals = []\n",
        "corrs = []\n",
        "features = []\n",
        "for file in sorted(os.listdir()):\n",
        "  if \"tsv\" in file:\n",
        "    #print(file)\n",
        "    fd = pd.read_csv(file, sep =  '\\t', index_col = 0)\n",
        "    for s in pers_labels:\n",
        "      for l in diff_labels:\n",
        "        rs = pingouin.partial_corr(fd,s,l, [\"Gender.1\", \"Age_in_Yrs\"])\n",
        "        corrs.append(rs['r'][0])\n",
        "        pvals.append(rs['p-val'][0])\n",
        "        features.append([file,s,l])"
      ],
      "execution_count": 74,
      "outputs": []
    },
    {
      "cell_type": "code",
      "metadata": {
        "id": "SgdLPxXM9D4r"
      },
      "source": [
        "pvals.index(min(pvals))\n",
        "ins = np.argsort(pvals)[:20]"
      ],
      "execution_count": 75,
      "outputs": []
    },
    {
      "cell_type": "code",
      "metadata": {
        "colab": {
          "base_uri": "https://localhost:8080/",
          "height": 81
        },
        "id": "cOGm4XyvCTnm",
        "outputId": "bcff26b3-f19b-4cce-f7b8-8adad8381153"
      },
      "source": [
        "rs"
      ],
      "execution_count": null,
      "outputs": [
        {
          "output_type": "execute_result",
          "data": {
            "text/html": [
              "<div>\n",
              "<style scoped>\n",
              "    .dataframe tbody tr th:only-of-type {\n",
              "        vertical-align: middle;\n",
              "    }\n",
              "\n",
              "    .dataframe tbody tr th {\n",
              "        vertical-align: top;\n",
              "    }\n",
              "\n",
              "    .dataframe thead th {\n",
              "        text-align: right;\n",
              "    }\n",
              "</style>\n",
              "<table border=\"1\" class=\"dataframe\">\n",
              "  <thead>\n",
              "    <tr style=\"text-align: right;\">\n",
              "      <th></th>\n",
              "      <th>n</th>\n",
              "      <th>r</th>\n",
              "      <th>CI95%</th>\n",
              "      <th>r2</th>\n",
              "      <th>adj_r2</th>\n",
              "      <th>p-val</th>\n",
              "      <th>BF10</th>\n",
              "      <th>power</th>\n",
              "    </tr>\n",
              "  </thead>\n",
              "  <tbody>\n",
              "    <tr>\n",
              "      <th>pearson</th>\n",
              "      <td>434</td>\n",
              "      <td>0.118285</td>\n",
              "      <td>[0.02, 0.21]</td>\n",
              "      <td>0.013991</td>\n",
              "      <td>0.009416</td>\n",
              "      <td>0.013673</td>\n",
              "      <td>1.244</td>\n",
              "      <td>0.694896</td>\n",
              "    </tr>\n",
              "  </tbody>\n",
              "</table>\n",
              "</div>"
            ],
            "text/plain": [
              "           n         r         CI95%  ...     p-val   BF10     power\n",
              "pearson  434  0.118285  [0.02, 0.21]  ...  0.013673  1.244  0.694896\n",
              "\n",
              "[1 rows x 8 columns]"
            ]
          },
          "metadata": {
            "tags": []
          },
          "execution_count": 219
        }
      ]
    },
    {
      "cell_type": "code",
      "metadata": {
        "colab": {
          "base_uri": "https://localhost:8080/"
        },
        "id": "D7sHCoQr-U94",
        "outputId": "f5ccd429-66c3-440b-c06f-26ad2e38074e"
      },
      "source": [
        "for i in ins:\n",
        "  print(pvals[i], corrs[i], features[i])"
      ],
      "execution_count": 76,
      "outputs": [
        {
          "output_type": "stream",
          "text": [
            "0.001457730280270451 0.1523341212345253 ['Uncinate_Fasciculus_R.tsv', 'NEOFAC_N', 'nqa']\n",
            "0.002023812740833943 -0.14777896341411367 ['Superior_Longitudinal_Fasciculus1_L.tsv', 'NEOFAC_N', 'rd']\n",
            "0.002140499833552946 -0.1469880153337125 ['Thalamic_Radiation_Posterior_L.tsv', 'NEOFAC_E', 'nqa']\n",
            "0.0030927014077332185 0.14169781832492298 ['Superior_Longitudinal_Fasciculus1_L.tsv', 'NEOFAC_N', 'dti_fa']\n",
            "0.0034450298726943877 0.1401133454404422 ['Optic_Radiation_L.tsv', 'NEOFAC_N', 'nqa']\n",
            "0.004132590948615899 0.13740443071017935 ['Superior_Cerebellar_Peduncle.tsv', 'NEOFAC_O', 'gfa']\n",
            "0.004497526696636906 0.14679534143635276 ['Corticopontine_Tract_Occipital_L.tsv', 'NEOFAC_O', 'dti_fa']\n",
            "0.004749863724029361 -0.13530003323186537 ['Uncinate_Fasciculus_L.tsv', 'NEOFAC_E', 'nqa']\n",
            "0.005550867641678853 -0.13290992688473802 ['Cingulum_Parahippocampal_Parietal_L.tsv', 'NEOFAC_E', 'nqa']\n",
            "0.005604586766731508 -0.1327609897918093 ['Cingulum_Parahippocampal_R.tsv', 'NEOFAC_E', 'nqa']\n",
            "0.005875427307569078 0.13202907911700448 ['Corticostriatal_Tract_Anterior_R.tsv', 'NEOFAC_N', 'nqa']\n",
            "0.006427158367433029 -0.1408716281984779 ['Corticopontine_Tract_Occipital_L.tsv', 'NEOFAC_O', 'rd']\n",
            "0.006687655101833383 0.1300027016729997 ['Inferior_Cerebellar_Peduncle_L.tsv', 'NEOFAC_N', 'nqa']\n",
            "0.0071594901570606615 0.12892479085039255 ['Superior_Longitudinal_Fasciculus2_L.tsv', 'NEOFAC_O', 'gfa']\n",
            "0.007295538113271469 0.12862580107522922 ['Inferior_Cerebellar_Peduncle_R.tsv', 'NEOFAC_N', 'nqa']\n",
            "0.007306376880487153 0.12860219592440034 ['Superior_Cerebellar_Peduncle.tsv', 'NEOFAC_O', 'dti_fa']\n",
            "0.007917329782335815 -0.1273197231437838 ['Inferior_Cerebellar_Peduncle_R.tsv', 'NEOFAC_N', 'rd']\n",
            "0.008731524078499234 0.12574145150009183 ['Thalamic_Radiation_Posterior_L.tsv', 'NEOFAC_N', 'nqa']\n",
            "0.008922027584124505 -0.1253911807360574 ['Superior_Longitudinal_Fasciculus1_L.tsv', 'NEOFAC_N', 'md']\n",
            "0.009152520116184991 -0.12497617545031597 ['Uncinate_Fasciculus_R.tsv', 'NEOFAC_E', 'nqa']\n"
          ],
          "name": "stdout"
        }
      ]
    },
    {
      "cell_type": "code",
      "metadata": {
        "id": "GRAkVLXsB2FT"
      },
      "source": [
        "from sklearn.linear_model import LinearRegression"
      ],
      "execution_count": 130,
      "outputs": []
    },
    {
      "cell_type": "code",
      "metadata": {
        "id": "hRtSXD0BCG8s"
      },
      "source": [
        ""
      ],
      "execution_count": null,
      "outputs": []
    },
    {
      "cell_type": "markdown",
      "metadata": {
        "id": "FRDTfZuMHRhd"
      },
      "source": [
        "## Multiple Linear Model"
      ]
    },
    {
      "cell_type": "code",
      "metadata": {
        "id": "BacvRqQa-Y_I",
        "colab": {
          "base_uri": "https://localhost:8080/"
        },
        "outputId": "7c4f4ff9-8184-4f53-de0e-747a219e2c9c"
      },
      "source": [
        "def ordinary_least_squares(X, y):\n",
        "\n",
        "  \"\"\" \n",
        "  Function that compute OLS analytically!\n",
        "\n",
        "  Equivalent to LinearRegression() / sm.OLS()\n",
        "\n",
        "  NB: to take into account also an interecept, a constant vector of 1 need to be added to X.\n",
        "  then theta_hat would contain both the results for the intercept and the result for the coefficients\n",
        "\n",
        "  X (ndarray): design matrix of shape (n_samples, n_regressors)\n",
        "  y (ndarray): vector of measurements of shape (n_samples)\n",
        "  Returns:\n",
        "  ndarray: estimated parameter values of shape (n_regressors)\n",
        "  \"\"\"\n",
        "\n",
        "\n",
        "  # Compute theta_hat using OLS\n",
        "  theta_hat = np.linalg.inv(X.T @ X) @ (X.T @ y)\n",
        "\n",
        "  return theta_hat\n",
        "\n",
        "\n",
        "for r in range(len(files)):\n",
        "  print('Tract', r)\n",
        "  f = files[r][0]\n",
        "\n",
        "  fd = pd.read_csv(f, sep =  '\\t', index_col = 0)\n",
        "  col = diff_labels + [\"Gender.1\"] + [\"Age_in_Yrs\"] \n",
        "  X = fd[col]\n",
        "  y = fd[\"NEOFAC_N\"]\n",
        "\n",
        "\n",
        "  model = LinearRegression()\n",
        "  idx2 = np.where(np.isnan(y))\n",
        "\n",
        "  y = np.array(y)\n",
        "  y = np.delete(y,idx2[0])\n",
        "\n",
        "  X = np.array(X)\n",
        "  Xnew = np.empty((X.shape[0]-1,X.shape[1]))\n",
        "\n",
        "  for l in range(len(X[0])):\n",
        "    Xnew[:,l] = np.delete(X[:,l], idx2[0])\n",
        "\n",
        "  Xnew2 = sm2.add_constant(Xnew)\n",
        "  model.fit(Xnew,y)\n",
        "  theta_hat = ordinary_least_squares(Xnew2, y)\n",
        "\n",
        "  y_hat = Xnew2 @ theta_hat\n",
        "  # Compute MSE\n",
        "  print(model.score(Xnew,y))\n",
        "  print(f\"MSE = {np.mean((y - y_hat)**2):.2f}\") "
      ],
      "execution_count": 152,
      "outputs": [
        {
          "output_type": "stream",
          "text": [
            "Tract 0\n",
            "0.058192957617832275\n",
            "MSE = 56.17\n",
            "Tract 1\n",
            "0.05995081401089508\n",
            "MSE = 56.07\n"
          ],
          "name": "stdout"
        }
      ]
    },
    {
      "cell_type": "code",
      "metadata": {
        "colab": {
          "base_uri": "https://localhost:8080/",
          "height": 284
        },
        "id": "Vky4Ms8ACoYO",
        "outputId": "a77ecc2c-ad2f-4619-ef7c-bfb2d249713e"
      },
      "source": [
        "plt.plot(model.coef_, 'r.')"
      ],
      "execution_count": 155,
      "outputs": [
        {
          "output_type": "execute_result",
          "data": {
            "text/plain": [
              "[<matplotlib.lines.Line2D at 0x7fe37ecd65f8>]"
            ]
          },
          "metadata": {
            "tags": []
          },
          "execution_count": 155
        },
        {
          "output_type": "display_data",
          "data": {
            "image/png": "[encoded data removed]",
            "text/plain": [
              "<Figure size 432x288 with 1 Axes>"
            ]
          },
          "metadata": {
            "tags": [],
            "needs_background": "light"
          }
        }
      ]
    },
    {
      "cell_type": "code",
      "metadata": {
        "id": "nTmv76MZ8ta0"
      },
      "source": [
        ""
      ],
      "execution_count": null,
      "outputs": []
    }
  ]
}
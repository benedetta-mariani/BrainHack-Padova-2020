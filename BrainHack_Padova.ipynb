{
  "nbformat": 4,
  "nbformat_minor": 0,
  "metadata": {
    "colab": {
      "name": "BrainHack_Padova.ipynb",
      "provenance": [],
      "collapsed_sections": []
    },
    "kernelspec": {
      "name": "python3",
      "display_name": "Python 3"
    }
  },
  "cells": [
    {
      "cell_type": "code",
      "metadata": {
        "id": "j5nkVfOr73gH"
      },
      "source": [
        "from statsmodels.regression import linear_model as sm\n",
        "import pandas as pd\n",
        "import numpy as np\n",
        "import matplotlib.pyplot as plt\n",
        "import seaborn as sns\n",
        "import statsmodels.api as sm2\n",
        "from sklearn.metrics import r2_score\n",
        "import scipy"
      ],
      "execution_count": 575,
      "outputs": []
    },
    {
      "cell_type": "code",
      "metadata": {
        "id": "3dviRXyA721I"
      },
      "source": [
        "#from google.colab import drive\n",
        "#drive.mount('/content/drive')"
      ],
      "execution_count": 576,
      "outputs": []
    },
    {
      "cell_type": "code",
      "metadata": {
        "id": "wDWg4hniXdqn"
      },
      "source": [
        "import os\n",
        "os.chdir('/content/drive/MyDrive/Colab Notebooks')\n",
        "os.listdir();"
      ],
      "execution_count": 577,
      "outputs": []
    },
    {
      "cell_type": "markdown",
      "metadata": {
        "id": "Q-pMgbA9EqFJ"
      },
      "source": [
        "#**Association of Microstructural white matter and personality traits based on Human connectome project dataset**"
      ]
    },
    {
      "cell_type": "code",
      "metadata": {
        "colab": {
          "base_uri": "https://localhost:8080/",
          "height": 477
        },
        "id": "2qqVbcgK1wCR",
        "outputId": "f51c2fae-d2fc-400f-d54f-461e80569357"
      },
      "source": [
        "csvfile = sorted(os.listdir())[0]\n",
        "example = pd.read_csv(csvfile, sep =  '\\t', index_col = 0)\n",
        "col =example.columns\n",
        "example[col[:]].head()"
      ],
      "execution_count": 578,
      "outputs": [
        {
          "output_type": "execute_result",
          "data": {
            "text/html": [
              "<div>\n",
              "<style scoped>\n",
              "    .dataframe tbody tr th:only-of-type {\n",
              "        vertical-align: middle;\n",
              "    }\n",
              "\n",
              "    .dataframe tbody tr th {\n",
              "        vertical-align: top;\n",
              "    }\n",
              "\n",
              "    .dataframe thead th {\n",
              "        text-align: right;\n",
              "    }\n",
              "</style>\n",
              "<table border=\"1\" class=\"dataframe\">\n",
              "  <thead>\n",
              "    <tr style=\"text-align: right;\">\n",
              "      <th></th>\n",
              "      <th>tract</th>\n",
              "      <th>tags</th>\n",
              "      <th>number of tracts</th>\n",
              "      <th>mean length(mm)</th>\n",
              "      <th>span(mm)</th>\n",
              "      <th>curl</th>\n",
              "      <th>elongation</th>\n",
              "      <th>diameter(mm)</th>\n",
              "      <th>volume(mm^3)</th>\n",
              "      <th>trunk volume(mm^3)</th>\n",
              "      <th>branch volume(mm^3)</th>\n",
              "      <th>total surface area(mm^2)</th>\n",
              "      <th>total radius of end regions(mm)</th>\n",
              "      <th>total area of end regions(mm^2)</th>\n",
              "      <th>irregularity</th>\n",
              "      <th>area of end region 1(mm^2)</th>\n",
              "      <th>radius of end region 1(mm)</th>\n",
              "      <th>irregularity of end region 1</th>\n",
              "      <th>area of end region 2(mm^2)</th>\n",
              "      <th>radius of end region 2(mm)</th>\n",
              "      <th>irregularity of end region 2</th>\n",
              "      <th>qa</th>\n",
              "      <th>nqa</th>\n",
              "      <th>dti_fa</th>\n",
              "      <th>md</th>\n",
              "      <th>ad</th>\n",
              "      <th>rd</th>\n",
              "      <th>gfa</th>\n",
              "      <th>iso</th>\n",
              "      <th>rdi</th>\n",
              "      <th>nrdi02L</th>\n",
              "      <th>nrdi04L</th>\n",
              "      <th>nrdi06L</th>\n",
              "      <th>Family_ID</th>\n",
              "      <th>Release</th>\n",
              "      <th>Acquisition</th>\n",
              "      <th>Gender</th>\n",
              "      <th>Gender.1</th>\n",
              "      <th>Age</th>\n",
              "      <th>Age_in_Yrs</th>\n",
              "      <th>...</th>\n",
              "      <th>NEORAW_31</th>\n",
              "      <th>NEORAW_32</th>\n",
              "      <th>NEORAW_33</th>\n",
              "      <th>NEORAW_34</th>\n",
              "      <th>NEORAW_35</th>\n",
              "      <th>NEORAW_36</th>\n",
              "      <th>NEORAW_37</th>\n",
              "      <th>NEORAW_38</th>\n",
              "      <th>NEORAW_39</th>\n",
              "      <th>NEORAW_40</th>\n",
              "      <th>NEORAW_41</th>\n",
              "      <th>NEORAW_42</th>\n",
              "      <th>NEORAW_43</th>\n",
              "      <th>NEORAW_44</th>\n",
              "      <th>NEORAW_45</th>\n",
              "      <th>NEORAW_46</th>\n",
              "      <th>NEORAW_47</th>\n",
              "      <th>NEORAW_48</th>\n",
              "      <th>NEORAW_49</th>\n",
              "      <th>NEORAW_50</th>\n",
              "      <th>NEORAW_51</th>\n",
              "      <th>NEORAW_52</th>\n",
              "      <th>NEORAW_53</th>\n",
              "      <th>NEORAW_54</th>\n",
              "      <th>NEORAW_55</th>\n",
              "      <th>NEORAW_56</th>\n",
              "      <th>NEORAW_57</th>\n",
              "      <th>NEORAW_58</th>\n",
              "      <th>NEORAW_59</th>\n",
              "      <th>NEORAW_60</th>\n",
              "      <th>Noise_Comp</th>\n",
              "      <th>Odor_Unadj</th>\n",
              "      <th>Odor_AgeAdj</th>\n",
              "      <th>PainIntens_RawScore</th>\n",
              "      <th>PainInterf_Tscore</th>\n",
              "      <th>Taste_Unadj</th>\n",
              "      <th>Taste_AgeAdj</th>\n",
              "      <th>Mars_Log_Score</th>\n",
              "      <th>Mars_Errs</th>\n",
              "      <th>Mars_Final</th>\n",
              "    </tr>\n",
              "  </thead>\n",
              "  <tbody>\n",
              "    <tr>\n",
              "      <th>100307</th>\n",
              "      <td>Arcuate_Fasciculus_L</td>\n",
              "      <td>dsi-studio-atk</td>\n",
              "      <td>15410.0</td>\n",
              "      <td>128.685</td>\n",
              "      <td>34.9171</td>\n",
              "      <td>3.68544</td>\n",
              "      <td>7.31386</td>\n",
              "      <td>17.5946</td>\n",
              "      <td>31288.0</td>\n",
              "      <td>27278.0</td>\n",
              "      <td>4010.0</td>\n",
              "      <td>60490.0</td>\n",
              "      <td>25.8050</td>\n",
              "      <td>5974.0</td>\n",
              "      <td>8.50406</td>\n",
              "      <td>4194.0</td>\n",
              "      <td>15.5507</td>\n",
              "      <td>0.181143</td>\n",
              "      <td>1780.0</td>\n",
              "      <td>10.25440</td>\n",
              "      <td>0.185587</td>\n",
              "      <td>0.256980</td>\n",
              "      <td>0.283087</td>\n",
              "      <td>0.393075</td>\n",
              "      <td>0.561520</td>\n",
              "      <td>0.805159</td>\n",
              "      <td>0.439618</td>\n",
              "      <td>0.129344</td>\n",
              "      <td>0.399504</td>\n",
              "      <td>0.379680</td>\n",
              "      <td>0.253480</td>\n",
              "      <td>0.035232</td>\n",
              "      <td>0.0</td>\n",
              "      <td>51488_81352</td>\n",
              "      <td>Q1</td>\n",
              "      <td>Q01</td>\n",
              "      <td>F</td>\n",
              "      <td>1</td>\n",
              "      <td>26-30</td>\n",
              "      <td>27</td>\n",
              "      <td>...</td>\n",
              "      <td>A</td>\n",
              "      <td>A</td>\n",
              "      <td>D</td>\n",
              "      <td>A</td>\n",
              "      <td>A</td>\n",
              "      <td>SD</td>\n",
              "      <td>A</td>\n",
              "      <td>N</td>\n",
              "      <td>D</td>\n",
              "      <td>A</td>\n",
              "      <td>D</td>\n",
              "      <td>D</td>\n",
              "      <td>N</td>\n",
              "      <td>D</td>\n",
              "      <td>D</td>\n",
              "      <td>A</td>\n",
              "      <td>A</td>\n",
              "      <td>D</td>\n",
              "      <td>A</td>\n",
              "      <td>A</td>\n",
              "      <td>D</td>\n",
              "      <td>SA</td>\n",
              "      <td>A</td>\n",
              "      <td>SD</td>\n",
              "      <td>D</td>\n",
              "      <td>D</td>\n",
              "      <td>D</td>\n",
              "      <td>D</td>\n",
              "      <td>SD</td>\n",
              "      <td>A</td>\n",
              "      <td>3.6</td>\n",
              "      <td>101.12</td>\n",
              "      <td>86.45</td>\n",
              "      <td>0.0</td>\n",
              "      <td>38.6</td>\n",
              "      <td>71.69</td>\n",
              "      <td>71.76</td>\n",
              "      <td>1.76</td>\n",
              "      <td>0.0</td>\n",
              "      <td>1.76</td>\n",
              "    </tr>\n",
              "    <tr>\n",
              "      <th>100408</th>\n",
              "      <td>Arcuate_Fasciculus_L</td>\n",
              "      <td>dsi-studio-atk</td>\n",
              "      <td>18813.0</td>\n",
              "      <td>120.789</td>\n",
              "      <td>35.9272</td>\n",
              "      <td>3.36205</td>\n",
              "      <td>6.04143</td>\n",
              "      <td>19.9934</td>\n",
              "      <td>37922.0</td>\n",
              "      <td>37293.0</td>\n",
              "      <td>629.0</td>\n",
              "      <td>61596.0</td>\n",
              "      <td>24.1617</td>\n",
              "      <td>7006.0</td>\n",
              "      <td>8.11874</td>\n",
              "      <td>3796.0</td>\n",
              "      <td>14.0523</td>\n",
              "      <td>0.163425</td>\n",
              "      <td>3210.0</td>\n",
              "      <td>10.10940</td>\n",
              "      <td>0.100022</td>\n",
              "      <td>0.226609</td>\n",
              "      <td>0.277610</td>\n",
              "      <td>0.392587</td>\n",
              "      <td>0.528972</td>\n",
              "      <td>0.760296</td>\n",
              "      <td>0.413328</td>\n",
              "      <td>0.122692</td>\n",
              "      <td>0.373097</td>\n",
              "      <td>0.351102</td>\n",
              "      <td>0.232266</td>\n",
              "      <td>0.031265</td>\n",
              "      <td>0.0</td>\n",
              "      <td>51730_81594</td>\n",
              "      <td>Q3</td>\n",
              "      <td>Q03</td>\n",
              "      <td>M</td>\n",
              "      <td>2</td>\n",
              "      <td>31-35</td>\n",
              "      <td>33</td>\n",
              "      <td>...</td>\n",
              "      <td>A</td>\n",
              "      <td>D</td>\n",
              "      <td>D</td>\n",
              "      <td>A</td>\n",
              "      <td>A</td>\n",
              "      <td>SD</td>\n",
              "      <td>A</td>\n",
              "      <td>SD</td>\n",
              "      <td>D</td>\n",
              "      <td>A</td>\n",
              "      <td>D</td>\n",
              "      <td>N</td>\n",
              "      <td>D</td>\n",
              "      <td>N</td>\n",
              "      <td>D</td>\n",
              "      <td>N</td>\n",
              "      <td>A</td>\n",
              "      <td>D</td>\n",
              "      <td>SA</td>\n",
              "      <td>A</td>\n",
              "      <td>D</td>\n",
              "      <td>A</td>\n",
              "      <td>A</td>\n",
              "      <td>N</td>\n",
              "      <td>D</td>\n",
              "      <td>N</td>\n",
              "      <td>D</td>\n",
              "      <td>A</td>\n",
              "      <td>A</td>\n",
              "      <td>A</td>\n",
              "      <td>2.0</td>\n",
              "      <td>108.79</td>\n",
              "      <td>98.04</td>\n",
              "      <td>2.0</td>\n",
              "      <td>52.6</td>\n",
              "      <td>114.01</td>\n",
              "      <td>113.59</td>\n",
              "      <td>1.76</td>\n",
              "      <td>2.0</td>\n",
              "      <td>1.68</td>\n",
              "    </tr>\n",
              "    <tr>\n",
              "      <th>101107</th>\n",
              "      <td>Arcuate_Fasciculus_L</td>\n",
              "      <td>dsi-studio-atk</td>\n",
              "      <td>16668.0</td>\n",
              "      <td>121.980</td>\n",
              "      <td>32.3953</td>\n",
              "      <td>3.76535</td>\n",
              "      <td>6.26146</td>\n",
              "      <td>19.4810</td>\n",
              "      <td>36358.0</td>\n",
              "      <td>30980.0</td>\n",
              "      <td>5378.0</td>\n",
              "      <td>61361.0</td>\n",
              "      <td>22.9751</td>\n",
              "      <td>6082.0</td>\n",
              "      <td>8.21947</td>\n",
              "      <td>3049.0</td>\n",
              "      <td>13.0326</td>\n",
              "      <td>0.175007</td>\n",
              "      <td>3033.0</td>\n",
              "      <td>9.94253</td>\n",
              "      <td>0.102393</td>\n",
              "      <td>0.279609</td>\n",
              "      <td>0.314404</td>\n",
              "      <td>0.402832</td>\n",
              "      <td>0.532722</td>\n",
              "      <td>0.771320</td>\n",
              "      <td>0.413631</td>\n",
              "      <td>0.126939</td>\n",
              "      <td>0.444134</td>\n",
              "      <td>0.419247</td>\n",
              "      <td>0.278296</td>\n",
              "      <td>0.037951</td>\n",
              "      <td>0.0</td>\n",
              "      <td>51969_81833</td>\n",
              "      <td>S500</td>\n",
              "      <td>Q06</td>\n",
              "      <td>M</td>\n",
              "      <td>2</td>\n",
              "      <td>22-25</td>\n",
              "      <td>22</td>\n",
              "      <td>...</td>\n",
              "      <td>A</td>\n",
              "      <td>N</td>\n",
              "      <td>D</td>\n",
              "      <td>A</td>\n",
              "      <td>SA</td>\n",
              "      <td>SA</td>\n",
              "      <td>N</td>\n",
              "      <td>N</td>\n",
              "      <td>N</td>\n",
              "      <td>SA</td>\n",
              "      <td>SD</td>\n",
              "      <td>N</td>\n",
              "      <td>D</td>\n",
              "      <td>A</td>\n",
              "      <td>SD</td>\n",
              "      <td>N</td>\n",
              "      <td>A</td>\n",
              "      <td>SD</td>\n",
              "      <td>SA</td>\n",
              "      <td>A</td>\n",
              "      <td>SD</td>\n",
              "      <td>SA</td>\n",
              "      <td>SA</td>\n",
              "      <td>A</td>\n",
              "      <td>D</td>\n",
              "      <td>N</td>\n",
              "      <td>SD</td>\n",
              "      <td>A</td>\n",
              "      <td>D</td>\n",
              "      <td>A</td>\n",
              "      <td>6.8</td>\n",
              "      <td>108.79</td>\n",
              "      <td>97.19</td>\n",
              "      <td>1.0</td>\n",
              "      <td>50.1</td>\n",
              "      <td>134.65</td>\n",
              "      <td>131.38</td>\n",
              "      <td>1.84</td>\n",
              "      <td>0.0</td>\n",
              "      <td>1.84</td>\n",
              "    </tr>\n",
              "    <tr>\n",
              "      <th>102311</th>\n",
              "      <td>Arcuate_Fasciculus_L</td>\n",
              "      <td>dsi-studio-atk</td>\n",
              "      <td>18673.0</td>\n",
              "      <td>130.061</td>\n",
              "      <td>26.5519</td>\n",
              "      <td>4.89837</td>\n",
              "      <td>7.05933</td>\n",
              "      <td>18.4240</td>\n",
              "      <td>34674.0</td>\n",
              "      <td>23458.0</td>\n",
              "      <td>11216.0</td>\n",
              "      <td>62156.0</td>\n",
              "      <td>25.2128</td>\n",
              "      <td>6711.0</td>\n",
              "      <td>8.25663</td>\n",
              "      <td>3541.0</td>\n",
              "      <td>15.9813</td>\n",
              "      <td>0.226593</td>\n",
              "      <td>3170.0</td>\n",
              "      <td>9.23147</td>\n",
              "      <td>0.084456</td>\n",
              "      <td>0.261298</td>\n",
              "      <td>0.267556</td>\n",
              "      <td>0.400733</td>\n",
              "      <td>0.533603</td>\n",
              "      <td>0.771390</td>\n",
              "      <td>0.414480</td>\n",
              "      <td>0.127738</td>\n",
              "      <td>0.409696</td>\n",
              "      <td>0.389229</td>\n",
              "      <td>0.256815</td>\n",
              "      <td>0.034314</td>\n",
              "      <td>0.0</td>\n",
              "      <td>51679_81543</td>\n",
              "      <td>S500</td>\n",
              "      <td>Q06</td>\n",
              "      <td>F</td>\n",
              "      <td>1</td>\n",
              "      <td>26-30</td>\n",
              "      <td>26</td>\n",
              "      <td>...</td>\n",
              "      <td>D</td>\n",
              "      <td>A</td>\n",
              "      <td>D</td>\n",
              "      <td>A</td>\n",
              "      <td>SA</td>\n",
              "      <td>D</td>\n",
              "      <td>D</td>\n",
              "      <td>SD</td>\n",
              "      <td>D</td>\n",
              "      <td>SA</td>\n",
              "      <td>SD</td>\n",
              "      <td>A</td>\n",
              "      <td>A</td>\n",
              "      <td>D</td>\n",
              "      <td>SD</td>\n",
              "      <td>D</td>\n",
              "      <td>A</td>\n",
              "      <td>D</td>\n",
              "      <td>A</td>\n",
              "      <td>SA</td>\n",
              "      <td>SD</td>\n",
              "      <td>A</td>\n",
              "      <td>A</td>\n",
              "      <td>N</td>\n",
              "      <td>D</td>\n",
              "      <td>D</td>\n",
              "      <td>D</td>\n",
              "      <td>N</td>\n",
              "      <td>A</td>\n",
              "      <td>SA</td>\n",
              "      <td>4.4</td>\n",
              "      <td>122.25</td>\n",
              "      <td>110.45</td>\n",
              "      <td>1.0</td>\n",
              "      <td>52.2</td>\n",
              "      <td>98.31</td>\n",
              "      <td>99.06</td>\n",
              "      <td>1.80</td>\n",
              "      <td>0.0</td>\n",
              "      <td>1.80</td>\n",
              "    </tr>\n",
              "    <tr>\n",
              "      <th>102513</th>\n",
              "      <td>Arcuate_Fasciculus_L</td>\n",
              "      <td>dsi-studio-atk</td>\n",
              "      <td>15044.0</td>\n",
              "      <td>123.999</td>\n",
              "      <td>34.9483</td>\n",
              "      <td>3.54807</td>\n",
              "      <td>6.58395</td>\n",
              "      <td>18.8335</td>\n",
              "      <td>34544.0</td>\n",
              "      <td>30769.0</td>\n",
              "      <td>3775.0</td>\n",
              "      <td>62686.0</td>\n",
              "      <td>24.1338</td>\n",
              "      <td>5758.0</td>\n",
              "      <td>8.54417</td>\n",
              "      <td>3177.0</td>\n",
              "      <td>15.0386</td>\n",
              "      <td>0.223638</td>\n",
              "      <td>2581.0</td>\n",
              "      <td>9.09521</td>\n",
              "      <td>0.100690</td>\n",
              "      <td>0.207193</td>\n",
              "      <td>0.272966</td>\n",
              "      <td>0.400221</td>\n",
              "      <td>0.563829</td>\n",
              "      <td>0.814448</td>\n",
              "      <td>0.438605</td>\n",
              "      <td>0.132035</td>\n",
              "      <td>0.313050</td>\n",
              "      <td>0.297991</td>\n",
              "      <td>0.199089</td>\n",
              "      <td>0.027787</td>\n",
              "      <td>0.0</td>\n",
              "      <td>56077_85897</td>\n",
              "      <td>S900</td>\n",
              "      <td>Q10</td>\n",
              "      <td>M</td>\n",
              "      <td>2</td>\n",
              "      <td>26-30</td>\n",
              "      <td>30</td>\n",
              "      <td>...</td>\n",
              "      <td>N</td>\n",
              "      <td>D</td>\n",
              "      <td>N</td>\n",
              "      <td>A</td>\n",
              "      <td>N</td>\n",
              "      <td>D</td>\n",
              "      <td>N</td>\n",
              "      <td>SD</td>\n",
              "      <td>N</td>\n",
              "      <td>A</td>\n",
              "      <td>D</td>\n",
              "      <td>N</td>\n",
              "      <td>A</td>\n",
              "      <td>N</td>\n",
              "      <td>A</td>\n",
              "      <td>D</td>\n",
              "      <td>N</td>\n",
              "      <td>SD</td>\n",
              "      <td>A</td>\n",
              "      <td>N</td>\n",
              "      <td>SD</td>\n",
              "      <td>A</td>\n",
              "      <td>SA</td>\n",
              "      <td>N</td>\n",
              "      <td>D</td>\n",
              "      <td>SD</td>\n",
              "      <td>A</td>\n",
              "      <td>SA</td>\n",
              "      <td>A</td>\n",
              "      <td>SA</td>\n",
              "      <td>5.2</td>\n",
              "      <td>108.79</td>\n",
              "      <td>98.04</td>\n",
              "      <td>2.0</td>\n",
              "      <td>54.3</td>\n",
              "      <td>84.07</td>\n",
              "      <td>82.37</td>\n",
              "      <td>1.92</td>\n",
              "      <td>0.0</td>\n",
              "      <td>1.92</td>\n",
              "    </tr>\n",
              "  </tbody>\n",
              "</table>\n",
              "<p>5 rows × 618 columns</p>\n",
              "</div>"
            ],
            "text/plain": [
              "                       tract            tags  ...  Mars_Errs  Mars_Final\n",
              "100307  Arcuate_Fasciculus_L  dsi-studio-atk  ...        0.0        1.76\n",
              "100408  Arcuate_Fasciculus_L  dsi-studio-atk  ...        2.0        1.68\n",
              "101107  Arcuate_Fasciculus_L  dsi-studio-atk  ...        0.0        1.84\n",
              "102311  Arcuate_Fasciculus_L  dsi-studio-atk  ...        0.0        1.80\n",
              "102513  Arcuate_Fasciculus_L  dsi-studio-atk  ...        0.0        1.92\n",
              "\n",
              "[5 rows x 618 columns]"
            ]
          },
          "metadata": {
            "tags": []
          },
          "execution_count": 578
        }
      ]
    },
    {
      "cell_type": "code",
      "metadata": {
        "colab": {
          "base_uri": "https://localhost:8080/",
          "height": 355
        },
        "id": "NjS1ZdQYnAcf",
        "outputId": "09939f4f-8078-4c53-ced6-77656872d69e"
      },
      "source": [
        "example[col[30:]].head()"
      ],
      "execution_count": 579,
      "outputs": [
        {
          "output_type": "execute_result",
          "data": {
            "text/html": [
              "<div>\n",
              "<style scoped>\n",
              "    .dataframe tbody tr th:only-of-type {\n",
              "        vertical-align: middle;\n",
              "    }\n",
              "\n",
              "    .dataframe tbody tr th {\n",
              "        vertical-align: top;\n",
              "    }\n",
              "\n",
              "    .dataframe thead th {\n",
              "        text-align: right;\n",
              "    }\n",
              "</style>\n",
              "<table border=\"1\" class=\"dataframe\">\n",
              "  <thead>\n",
              "    <tr style=\"text-align: right;\">\n",
              "      <th></th>\n",
              "      <th>nrdi02L</th>\n",
              "      <th>nrdi04L</th>\n",
              "      <th>nrdi06L</th>\n",
              "      <th>Family_ID</th>\n",
              "      <th>Release</th>\n",
              "      <th>Acquisition</th>\n",
              "      <th>Gender</th>\n",
              "      <th>Gender.1</th>\n",
              "      <th>Age</th>\n",
              "      <th>Age_in_Yrs</th>\n",
              "      <th>Handedness</th>\n",
              "      <th>NEOFAC_A</th>\n",
              "      <th>NEOFAC_O</th>\n",
              "      <th>NEOFAC_C</th>\n",
              "      <th>NEOFAC_N</th>\n",
              "      <th>NEOFAC_E</th>\n",
              "      <th>3T_Full_MR_Compl</th>\n",
              "      <th>T1_Count</th>\n",
              "      <th>T2_Count</th>\n",
              "      <th>3T_RS-fMRI_Count</th>\n",
              "      <th>3T_RS-fMRI_PctCompl</th>\n",
              "      <th>3T_Full_Task_fMRI</th>\n",
              "      <th>3T_tMRI_PctCompl</th>\n",
              "      <th>fMRI_WM_PctCompl</th>\n",
              "      <th>fMRI_Gamb_PctCompl</th>\n",
              "      <th>fMRI_Mot_PctCompl</th>\n",
              "      <th>fMRI_Lang_PctCompl</th>\n",
              "      <th>fMRI_Soc_PctCompl</th>\n",
              "      <th>fMRI_Rel_PctCompl</th>\n",
              "      <th>fMRI_Emo_PctCompl</th>\n",
              "      <th>3T_dMRI_Compl</th>\n",
              "      <th>3T_dMRI_PctCompl</th>\n",
              "      <th>dMRI_3T_ReconVrs</th>\n",
              "      <th>fMRI_3T_ReconVrs</th>\n",
              "      <th>7T_Full_MR_Compl</th>\n",
              "      <th>7T_RS-fMRI_Count</th>\n",
              "      <th>7T_RS-fMRI_PctCompl</th>\n",
              "      <th>7T_Full_Task_fMRI</th>\n",
              "      <th>7T_tMRI_PctCompl</th>\n",
              "      <th>fMRI_Movie_Compl</th>\n",
              "      <th>...</th>\n",
              "      <th>NEORAW_31</th>\n",
              "      <th>NEORAW_32</th>\n",
              "      <th>NEORAW_33</th>\n",
              "      <th>NEORAW_34</th>\n",
              "      <th>NEORAW_35</th>\n",
              "      <th>NEORAW_36</th>\n",
              "      <th>NEORAW_37</th>\n",
              "      <th>NEORAW_38</th>\n",
              "      <th>NEORAW_39</th>\n",
              "      <th>NEORAW_40</th>\n",
              "      <th>NEORAW_41</th>\n",
              "      <th>NEORAW_42</th>\n",
              "      <th>NEORAW_43</th>\n",
              "      <th>NEORAW_44</th>\n",
              "      <th>NEORAW_45</th>\n",
              "      <th>NEORAW_46</th>\n",
              "      <th>NEORAW_47</th>\n",
              "      <th>NEORAW_48</th>\n",
              "      <th>NEORAW_49</th>\n",
              "      <th>NEORAW_50</th>\n",
              "      <th>NEORAW_51</th>\n",
              "      <th>NEORAW_52</th>\n",
              "      <th>NEORAW_53</th>\n",
              "      <th>NEORAW_54</th>\n",
              "      <th>NEORAW_55</th>\n",
              "      <th>NEORAW_56</th>\n",
              "      <th>NEORAW_57</th>\n",
              "      <th>NEORAW_58</th>\n",
              "      <th>NEORAW_59</th>\n",
              "      <th>NEORAW_60</th>\n",
              "      <th>Noise_Comp</th>\n",
              "      <th>Odor_Unadj</th>\n",
              "      <th>Odor_AgeAdj</th>\n",
              "      <th>PainIntens_RawScore</th>\n",
              "      <th>PainInterf_Tscore</th>\n",
              "      <th>Taste_Unadj</th>\n",
              "      <th>Taste_AgeAdj</th>\n",
              "      <th>Mars_Log_Score</th>\n",
              "      <th>Mars_Errs</th>\n",
              "      <th>Mars_Final</th>\n",
              "    </tr>\n",
              "  </thead>\n",
              "  <tbody>\n",
              "    <tr>\n",
              "      <th>100307</th>\n",
              "      <td>0.253480</td>\n",
              "      <td>0.035232</td>\n",
              "      <td>0.0</td>\n",
              "      <td>51488_81352</td>\n",
              "      <td>Q1</td>\n",
              "      <td>Q01</td>\n",
              "      <td>F</td>\n",
              "      <td>1</td>\n",
              "      <td>26-30</td>\n",
              "      <td>27</td>\n",
              "      <td>95</td>\n",
              "      <td>37.0</td>\n",
              "      <td>24.0</td>\n",
              "      <td>35.0</td>\n",
              "      <td>15.0</td>\n",
              "      <td>37.0</td>\n",
              "      <td>1</td>\n",
              "      <td>1</td>\n",
              "      <td>1</td>\n",
              "      <td>4</td>\n",
              "      <td>100.0</td>\n",
              "      <td>1</td>\n",
              "      <td>100.0</td>\n",
              "      <td>100</td>\n",
              "      <td>100.0</td>\n",
              "      <td>100</td>\n",
              "      <td>100.0</td>\n",
              "      <td>100.0</td>\n",
              "      <td>100.0</td>\n",
              "      <td>100</td>\n",
              "      <td>1</td>\n",
              "      <td>100.0</td>\n",
              "      <td>r227</td>\n",
              "      <td>r177</td>\n",
              "      <td>0</td>\n",
              "      <td>0</td>\n",
              "      <td>0</td>\n",
              "      <td>0</td>\n",
              "      <td>0.0</td>\n",
              "      <td>0</td>\n",
              "      <td>...</td>\n",
              "      <td>A</td>\n",
              "      <td>A</td>\n",
              "      <td>D</td>\n",
              "      <td>A</td>\n",
              "      <td>A</td>\n",
              "      <td>SD</td>\n",
              "      <td>A</td>\n",
              "      <td>N</td>\n",
              "      <td>D</td>\n",
              "      <td>A</td>\n",
              "      <td>D</td>\n",
              "      <td>D</td>\n",
              "      <td>N</td>\n",
              "      <td>D</td>\n",
              "      <td>D</td>\n",
              "      <td>A</td>\n",
              "      <td>A</td>\n",
              "      <td>D</td>\n",
              "      <td>A</td>\n",
              "      <td>A</td>\n",
              "      <td>D</td>\n",
              "      <td>SA</td>\n",
              "      <td>A</td>\n",
              "      <td>SD</td>\n",
              "      <td>D</td>\n",
              "      <td>D</td>\n",
              "      <td>D</td>\n",
              "      <td>D</td>\n",
              "      <td>SD</td>\n",
              "      <td>A</td>\n",
              "      <td>3.6</td>\n",
              "      <td>101.12</td>\n",
              "      <td>86.45</td>\n",
              "      <td>0.0</td>\n",
              "      <td>38.6</td>\n",
              "      <td>71.69</td>\n",
              "      <td>71.76</td>\n",
              "      <td>1.76</td>\n",
              "      <td>0.0</td>\n",
              "      <td>1.76</td>\n",
              "    </tr>\n",
              "    <tr>\n",
              "      <th>100408</th>\n",
              "      <td>0.232266</td>\n",
              "      <td>0.031265</td>\n",
              "      <td>0.0</td>\n",
              "      <td>51730_81594</td>\n",
              "      <td>Q3</td>\n",
              "      <td>Q03</td>\n",
              "      <td>M</td>\n",
              "      <td>2</td>\n",
              "      <td>31-35</td>\n",
              "      <td>33</td>\n",
              "      <td>55</td>\n",
              "      <td>33.0</td>\n",
              "      <td>29.0</td>\n",
              "      <td>34.0</td>\n",
              "      <td>15.0</td>\n",
              "      <td>33.0</td>\n",
              "      <td>1</td>\n",
              "      <td>1</td>\n",
              "      <td>1</td>\n",
              "      <td>4</td>\n",
              "      <td>100.0</td>\n",
              "      <td>1</td>\n",
              "      <td>100.0</td>\n",
              "      <td>100</td>\n",
              "      <td>100.0</td>\n",
              "      <td>100</td>\n",
              "      <td>100.0</td>\n",
              "      <td>100.0</td>\n",
              "      <td>100.0</td>\n",
              "      <td>100</td>\n",
              "      <td>1</td>\n",
              "      <td>100.0</td>\n",
              "      <td>r227</td>\n",
              "      <td>r177</td>\n",
              "      <td>0</td>\n",
              "      <td>0</td>\n",
              "      <td>0</td>\n",
              "      <td>0</td>\n",
              "      <td>0.0</td>\n",
              "      <td>0</td>\n",
              "      <td>...</td>\n",
              "      <td>A</td>\n",
              "      <td>D</td>\n",
              "      <td>D</td>\n",
              "      <td>A</td>\n",
              "      <td>A</td>\n",
              "      <td>SD</td>\n",
              "      <td>A</td>\n",
              "      <td>SD</td>\n",
              "      <td>D</td>\n",
              "      <td>A</td>\n",
              "      <td>D</td>\n",
              "      <td>N</td>\n",
              "      <td>D</td>\n",
              "      <td>N</td>\n",
              "      <td>D</td>\n",
              "      <td>N</td>\n",
              "      <td>A</td>\n",
              "      <td>D</td>\n",
              "      <td>SA</td>\n",
              "      <td>A</td>\n",
              "      <td>D</td>\n",
              "      <td>A</td>\n",
              "      <td>A</td>\n",
              "      <td>N</td>\n",
              "      <td>D</td>\n",
              "      <td>N</td>\n",
              "      <td>D</td>\n",
              "      <td>A</td>\n",
              "      <td>A</td>\n",
              "      <td>A</td>\n",
              "      <td>2.0</td>\n",
              "      <td>108.79</td>\n",
              "      <td>98.04</td>\n",
              "      <td>2.0</td>\n",
              "      <td>52.6</td>\n",
              "      <td>114.01</td>\n",
              "      <td>113.59</td>\n",
              "      <td>1.76</td>\n",
              "      <td>2.0</td>\n",
              "      <td>1.68</td>\n",
              "    </tr>\n",
              "    <tr>\n",
              "      <th>101107</th>\n",
              "      <td>0.278296</td>\n",
              "      <td>0.037951</td>\n",
              "      <td>0.0</td>\n",
              "      <td>51969_81833</td>\n",
              "      <td>S500</td>\n",
              "      <td>Q06</td>\n",
              "      <td>M</td>\n",
              "      <td>2</td>\n",
              "      <td>22-25</td>\n",
              "      <td>22</td>\n",
              "      <td>5</td>\n",
              "      <td>28.0</td>\n",
              "      <td>35.0</td>\n",
              "      <td>37.0</td>\n",
              "      <td>12.0</td>\n",
              "      <td>28.0</td>\n",
              "      <td>1</td>\n",
              "      <td>2</td>\n",
              "      <td>2</td>\n",
              "      <td>4</td>\n",
              "      <td>100.0</td>\n",
              "      <td>1</td>\n",
              "      <td>100.0</td>\n",
              "      <td>100</td>\n",
              "      <td>100.0</td>\n",
              "      <td>100</td>\n",
              "      <td>100.0</td>\n",
              "      <td>100.0</td>\n",
              "      <td>100.0</td>\n",
              "      <td>100</td>\n",
              "      <td>1</td>\n",
              "      <td>100.0</td>\n",
              "      <td>r227</td>\n",
              "      <td>r227</td>\n",
              "      <td>0</td>\n",
              "      <td>0</td>\n",
              "      <td>0</td>\n",
              "      <td>0</td>\n",
              "      <td>0.0</td>\n",
              "      <td>0</td>\n",
              "      <td>...</td>\n",
              "      <td>A</td>\n",
              "      <td>N</td>\n",
              "      <td>D</td>\n",
              "      <td>A</td>\n",
              "      <td>SA</td>\n",
              "      <td>SA</td>\n",
              "      <td>N</td>\n",
              "      <td>N</td>\n",
              "      <td>N</td>\n",
              "      <td>SA</td>\n",
              "      <td>SD</td>\n",
              "      <td>N</td>\n",
              "      <td>D</td>\n",
              "      <td>A</td>\n",
              "      <td>SD</td>\n",
              "      <td>N</td>\n",
              "      <td>A</td>\n",
              "      <td>SD</td>\n",
              "      <td>SA</td>\n",
              "      <td>A</td>\n",
              "      <td>SD</td>\n",
              "      <td>SA</td>\n",
              "      <td>SA</td>\n",
              "      <td>A</td>\n",
              "      <td>D</td>\n",
              "      <td>N</td>\n",
              "      <td>SD</td>\n",
              "      <td>A</td>\n",
              "      <td>D</td>\n",
              "      <td>A</td>\n",
              "      <td>6.8</td>\n",
              "      <td>108.79</td>\n",
              "      <td>97.19</td>\n",
              "      <td>1.0</td>\n",
              "      <td>50.1</td>\n",
              "      <td>134.65</td>\n",
              "      <td>131.38</td>\n",
              "      <td>1.84</td>\n",
              "      <td>0.0</td>\n",
              "      <td>1.84</td>\n",
              "    </tr>\n",
              "    <tr>\n",
              "      <th>102311</th>\n",
              "      <td>0.256815</td>\n",
              "      <td>0.034314</td>\n",
              "      <td>0.0</td>\n",
              "      <td>51679_81543</td>\n",
              "      <td>S500</td>\n",
              "      <td>Q06</td>\n",
              "      <td>F</td>\n",
              "      <td>1</td>\n",
              "      <td>26-30</td>\n",
              "      <td>26</td>\n",
              "      <td>10</td>\n",
              "      <td>29.0</td>\n",
              "      <td>34.0</td>\n",
              "      <td>38.0</td>\n",
              "      <td>18.0</td>\n",
              "      <td>27.0</td>\n",
              "      <td>1</td>\n",
              "      <td>1</td>\n",
              "      <td>1</td>\n",
              "      <td>4</td>\n",
              "      <td>100.0</td>\n",
              "      <td>1</td>\n",
              "      <td>100.0</td>\n",
              "      <td>100</td>\n",
              "      <td>100.0</td>\n",
              "      <td>100</td>\n",
              "      <td>100.0</td>\n",
              "      <td>100.0</td>\n",
              "      <td>100.0</td>\n",
              "      <td>100</td>\n",
              "      <td>1</td>\n",
              "      <td>100.0</td>\n",
              "      <td>r227</td>\n",
              "      <td>r227</td>\n",
              "      <td>1</td>\n",
              "      <td>4</td>\n",
              "      <td>100</td>\n",
              "      <td>1</td>\n",
              "      <td>100.0</td>\n",
              "      <td>1</td>\n",
              "      <td>...</td>\n",
              "      <td>D</td>\n",
              "      <td>A</td>\n",
              "      <td>D</td>\n",
              "      <td>A</td>\n",
              "      <td>SA</td>\n",
              "      <td>D</td>\n",
              "      <td>D</td>\n",
              "      <td>SD</td>\n",
              "      <td>D</td>\n",
              "      <td>SA</td>\n",
              "      <td>SD</td>\n",
              "      <td>A</td>\n",
              "      <td>A</td>\n",
              "      <td>D</td>\n",
              "      <td>SD</td>\n",
              "      <td>D</td>\n",
              "      <td>A</td>\n",
              "      <td>D</td>\n",
              "      <td>A</td>\n",
              "      <td>SA</td>\n",
              "      <td>SD</td>\n",
              "      <td>A</td>\n",
              "      <td>A</td>\n",
              "      <td>N</td>\n",
              "      <td>D</td>\n",
              "      <td>D</td>\n",
              "      <td>D</td>\n",
              "      <td>N</td>\n",
              "      <td>A</td>\n",
              "      <td>SA</td>\n",
              "      <td>4.4</td>\n",
              "      <td>122.25</td>\n",
              "      <td>110.45</td>\n",
              "      <td>1.0</td>\n",
              "      <td>52.2</td>\n",
              "      <td>98.31</td>\n",
              "      <td>99.06</td>\n",
              "      <td>1.80</td>\n",
              "      <td>0.0</td>\n",
              "      <td>1.80</td>\n",
              "    </tr>\n",
              "    <tr>\n",
              "      <th>102513</th>\n",
              "      <td>0.199089</td>\n",
              "      <td>0.027787</td>\n",
              "      <td>0.0</td>\n",
              "      <td>56077_85897</td>\n",
              "      <td>S900</td>\n",
              "      <td>Q10</td>\n",
              "      <td>M</td>\n",
              "      <td>2</td>\n",
              "      <td>26-30</td>\n",
              "      <td>30</td>\n",
              "      <td>50</td>\n",
              "      <td>26.0</td>\n",
              "      <td>39.0</td>\n",
              "      <td>27.0</td>\n",
              "      <td>12.0</td>\n",
              "      <td>27.0</td>\n",
              "      <td>1</td>\n",
              "      <td>2</td>\n",
              "      <td>2</td>\n",
              "      <td>4</td>\n",
              "      <td>100.0</td>\n",
              "      <td>1</td>\n",
              "      <td>100.0</td>\n",
              "      <td>100</td>\n",
              "      <td>100.0</td>\n",
              "      <td>100</td>\n",
              "      <td>100.0</td>\n",
              "      <td>100.0</td>\n",
              "      <td>100.0</td>\n",
              "      <td>100</td>\n",
              "      <td>1</td>\n",
              "      <td>100.0</td>\n",
              "      <td>r227</td>\n",
              "      <td>r227</td>\n",
              "      <td>0</td>\n",
              "      <td>0</td>\n",
              "      <td>0</td>\n",
              "      <td>0</td>\n",
              "      <td>0.0</td>\n",
              "      <td>0</td>\n",
              "      <td>...</td>\n",
              "      <td>N</td>\n",
              "      <td>D</td>\n",
              "      <td>N</td>\n",
              "      <td>A</td>\n",
              "      <td>N</td>\n",
              "      <td>D</td>\n",
              "      <td>N</td>\n",
              "      <td>SD</td>\n",
              "      <td>N</td>\n",
              "      <td>A</td>\n",
              "      <td>D</td>\n",
              "      <td>N</td>\n",
              "      <td>A</td>\n",
              "      <td>N</td>\n",
              "      <td>A</td>\n",
              "      <td>D</td>\n",
              "      <td>N</td>\n",
              "      <td>SD</td>\n",
              "      <td>A</td>\n",
              "      <td>N</td>\n",
              "      <td>SD</td>\n",
              "      <td>A</td>\n",
              "      <td>SA</td>\n",
              "      <td>N</td>\n",
              "      <td>D</td>\n",
              "      <td>SD</td>\n",
              "      <td>A</td>\n",
              "      <td>SA</td>\n",
              "      <td>A</td>\n",
              "      <td>SA</td>\n",
              "      <td>5.2</td>\n",
              "      <td>108.79</td>\n",
              "      <td>98.04</td>\n",
              "      <td>2.0</td>\n",
              "      <td>54.3</td>\n",
              "      <td>84.07</td>\n",
              "      <td>82.37</td>\n",
              "      <td>1.92</td>\n",
              "      <td>0.0</td>\n",
              "      <td>1.92</td>\n",
              "    </tr>\n",
              "  </tbody>\n",
              "</table>\n",
              "<p>5 rows × 588 columns</p>\n",
              "</div>"
            ],
            "text/plain": [
              "         nrdi02L   nrdi04L  nrdi06L  ... Mars_Log_Score Mars_Errs Mars_Final\n",
              "100307  0.253480  0.035232      0.0  ...           1.76       0.0       1.76\n",
              "100408  0.232266  0.031265      0.0  ...           1.76       2.0       1.68\n",
              "101107  0.278296  0.037951      0.0  ...           1.84       0.0       1.84\n",
              "102311  0.256815  0.034314      0.0  ...           1.80       0.0       1.80\n",
              "102513  0.199089  0.027787      0.0  ...           1.92       0.0       1.92\n",
              "\n",
              "[5 rows x 588 columns]"
            ]
          },
          "metadata": {
            "tags": []
          },
          "execution_count": 579
        }
      ]
    },
    {
      "cell_type": "code",
      "metadata": {
        "colab": {
          "base_uri": "https://localhost:8080/",
          "height": 35
        },
        "id": "ralqtGyochy-",
        "outputId": "94b4f04b-0d25-4051-eed4-92a141270d56"
      },
      "source": [
        "example[col[40:]].iloc[339]\r\n",
        "example[\"Gender\"].iloc[339]"
      ],
      "execution_count": 580,
      "outputs": [
        {
          "output_type": "execute_result",
          "data": {
            "application/vnd.google.colaboratory.intrinsic+json": {
              "type": "string"
            },
            "text/plain": [
              "'F'"
            ]
          },
          "metadata": {
            "tags": []
          },
          "execution_count": 580
        }
      ]
    },
    {
      "cell_type": "code",
      "metadata": {
        "colab": {
          "base_uri": "https://localhost:8080/"
        },
        "id": "rGaYYLcT2BSc",
        "outputId": "d4671d94-3e9a-44bb-d0f1-73dd021ad537"
      },
      "source": [
        "diff_labels = example.columns[example.columns.tolist().index(\"qa\"):example.columns.tolist().index(\"rdi\") + 1].tolist()\n",
        "pers_labels = example.columns[example.columns.tolist().index(\"NEOFAC_A\"):example.columns.tolist().index(\"NEOFAC_E\") + 1].tolist()\n",
        "diff_labels, pers_labels\n",
        "\n",
        "\n",
        "#same as doing\n",
        "\n",
        "#diff_labels = [\"qa\", \"nqa\", \"dti_fa\", \"md\", \"ad\", \"rd\", \"gfa\", \"iso\",\"rdi\"]\n",
        "#pers_labels = [\"NEOFAC_A\",\"NEOFAC_O\", \"NEOFAC_C\", \"NEOFAC_N\", \"NEOFAC_E\"]"
      ],
      "execution_count": 581,
      "outputs": [
        {
          "output_type": "execute_result",
          "data": {
            "text/plain": [
              "(['qa', 'nqa', 'dti_fa', 'md', 'ad', 'rd', 'gfa', 'iso', 'rdi'],\n",
              " ['NEOFAC_A', 'NEOFAC_O', 'NEOFAC_C', 'NEOFAC_N', 'NEOFAC_E'])"
            ]
          },
          "metadata": {
            "tags": []
          },
          "execution_count": 581
        }
      ]
    },
    {
      "cell_type": "code",
      "metadata": {
        "id": "y5FIDwUpcG_A",
        "colab": {
          "base_uri": "https://localhost:8080/"
        },
        "outputId": "059e5e05-cf07-444e-cd88-7304f5273a55"
      },
      "source": [
        "!pip install pingouin"
      ],
      "execution_count": 582,
      "outputs": [
        {
          "output_type": "stream",
          "text": [
            "Requirement already satisfied: pingouin in /usr/local/lib/python3.6/dist-packages (0.3.8)\n",
            "Requirement already satisfied: outdated in /usr/local/lib/python3.6/dist-packages (from pingouin) (0.2.0)\n",
            "Requirement already satisfied: numpy>=1.15 in /usr/local/lib/python3.6/dist-packages (from pingouin) (1.18.5)\n",
            "Requirement already satisfied: seaborn>=0.9.0 in /usr/local/lib/python3.6/dist-packages (from pingouin) (0.11.0)\n",
            "Requirement already satisfied: matplotlib>=3.0.2 in /usr/local/lib/python3.6/dist-packages (from pingouin) (3.2.2)\n",
            "Requirement already satisfied: statsmodels>=0.10.0 in /usr/local/lib/python3.6/dist-packages (from pingouin) (0.10.2)\n",
            "Requirement already satisfied: pandas>=0.24 in /usr/local/lib/python3.6/dist-packages (from pingouin) (1.1.5)\n",
            "Requirement already satisfied: pandas-flavor>=0.1.2 in /usr/local/lib/python3.6/dist-packages (from pingouin) (0.2.0)\n",
            "Requirement already satisfied: scipy>=1.3 in /usr/local/lib/python3.6/dist-packages (from pingouin) (1.4.1)\n",
            "Requirement already satisfied: tabulate in /usr/local/lib/python3.6/dist-packages (from pingouin) (0.8.7)\n",
            "Requirement already satisfied: scikit-learn in /usr/local/lib/python3.6/dist-packages (from pingouin) (0.22.2.post1)\n",
            "Requirement already satisfied: littleutils in /usr/local/lib/python3.6/dist-packages (from outdated->pingouin) (0.2.2)\n",
            "Requirement already satisfied: requests in /usr/local/lib/python3.6/dist-packages (from outdated->pingouin) (2.23.0)\n",
            "Requirement already satisfied: python-dateutil>=2.1 in /usr/local/lib/python3.6/dist-packages (from matplotlib>=3.0.2->pingouin) (2.8.1)\n",
            "Requirement already satisfied: kiwisolver>=1.0.1 in /usr/local/lib/python3.6/dist-packages (from matplotlib>=3.0.2->pingouin) (1.3.1)\n",
            "Requirement already satisfied: pyparsing!=2.0.4,!=2.1.2,!=2.1.6,>=2.0.1 in /usr/local/lib/python3.6/dist-packages (from matplotlib>=3.0.2->pingouin) (2.4.7)\n",
            "Requirement already satisfied: cycler>=0.10 in /usr/local/lib/python3.6/dist-packages (from matplotlib>=3.0.2->pingouin) (0.10.0)\n",
            "Requirement already satisfied: patsy>=0.4.0 in /usr/local/lib/python3.6/dist-packages (from statsmodels>=0.10.0->pingouin) (0.5.1)\n",
            "Requirement already satisfied: pytz>=2017.2 in /usr/local/lib/python3.6/dist-packages (from pandas>=0.24->pingouin) (2018.9)\n",
            "Requirement already satisfied: xarray in /usr/local/lib/python3.6/dist-packages (from pandas-flavor>=0.1.2->pingouin) (0.15.1)\n",
            "Requirement already satisfied: joblib>=0.11 in /usr/local/lib/python3.6/dist-packages (from scikit-learn->pingouin) (0.17.0)\n",
            "Requirement already satisfied: chardet<4,>=3.0.2 in /usr/local/lib/python3.6/dist-packages (from requests->outdated->pingouin) (3.0.4)\n",
            "Requirement already satisfied: certifi>=2017.4.17 in /usr/local/lib/python3.6/dist-packages (from requests->outdated->pingouin) (2020.12.5)\n",
            "Requirement already satisfied: idna<3,>=2.5 in /usr/local/lib/python3.6/dist-packages (from requests->outdated->pingouin) (2.10)\n",
            "Requirement already satisfied: urllib3!=1.25.0,!=1.25.1,<1.26,>=1.21.1 in /usr/local/lib/python3.6/dist-packages (from requests->outdated->pingouin) (1.24.3)\n",
            "Requirement already satisfied: six>=1.5 in /usr/local/lib/python3.6/dist-packages (from python-dateutil>=2.1->matplotlib>=3.0.2->pingouin) (1.15.0)\n",
            "Requirement already satisfied: setuptools>=41.2 in /usr/local/lib/python3.6/dist-packages (from xarray->pandas-flavor>=0.1.2->pingouin) (50.3.2)\n"
          ],
          "name": "stdout"
        }
      ]
    },
    {
      "cell_type": "code",
      "metadata": {
        "id": "IdAJXF0dKCoE"
      },
      "source": [
        "import pingouin"
      ],
      "execution_count": 583,
      "outputs": []
    },
    {
      "cell_type": "markdown",
      "metadata": {
        "id": "Q2uAexxdKDKs"
      },
      "source": [
        "## Linear regression"
      ]
    },
    {
      "cell_type": "code",
      "metadata": {
        "id": "_9PTlE9TXitO"
      },
      "source": [
        "pval = []\n",
        "features = []\n",
        "coef = []\n",
        "intercept = []\n",
        "xs = []\n",
        "for file in sorted(os.listdir()):\n",
        "  if \"tsv\" in file:\n",
        "    fd = pd.read_csv(file, sep =  '\\t', index_col = 0)\n",
        "    for s in diff_labels:\n",
        "      for l in pers_labels:\n",
        "        x = fd[s]\n",
        "        idx = np.where(np.isnan(x))\n",
        "        y = fd[l]\n",
        "        idx2 = np.where(np.isnan(y)) \n",
        "        x = np.delete(np.array(x),idx2[0].tolist()+ idx[0].tolist())\n",
        "        y = np.delete(np.array(y),idx2[0].tolist()+ idx[0].tolist())\n",
        "        x2 = sm2.add_constant(x)\n",
        "        ls = sm.OLS(y, x2).fit()\n",
        "        pval.append(ls.pvalues[1])\n",
        "        coef.append(ls.params[1])\n",
        "        intercept.append(ls.params[0])\n",
        "        features.append([file,s,l])\n",
        "        # here make a dictionary"
      ],
      "execution_count": 584,
      "outputs": []
    },
    {
      "cell_type": "code",
      "metadata": {
        "colab": {
          "base_uri": "https://localhost:8080/"
        },
        "id": "qtrQ7cn0GGzw",
        "outputId": "3febc22f-ab35-4c74-c217-04a5597e950c"
      },
      "source": [
        "0.05/68"
      ],
      "execution_count": 585,
      "outputs": [
        {
          "output_type": "execute_result",
          "data": {
            "text/plain": [
              "0.0007352941176470588"
            ]
          },
          "metadata": {
            "tags": []
          },
          "execution_count": 585
        }
      ]
    },
    {
      "cell_type": "code",
      "metadata": {
        "id": "1owFQ8rUgBrt",
        "colab": {
          "base_uri": "https://localhost:8080/"
        },
        "outputId": "615c6ff1-4ea1-4757-87a9-c046ccd15f83"
      },
      "source": [
        "files = np.array(features)[np.array(pval) < 0.0007]\n",
        "len(files)"
      ],
      "execution_count": 586,
      "outputs": [
        {
          "output_type": "execute_result",
          "data": {
            "text/plain": [
              "5"
            ]
          },
          "metadata": {
            "tags": []
          },
          "execution_count": 586
        }
      ]
    },
    {
      "cell_type": "code",
      "metadata": {
        "colab": {
          "base_uri": "https://localhost:8080/"
        },
        "id": "V7cJTWKyFlsF",
        "outputId": "47c4c82f-eada-4766-ea1d-fd3307428cb4"
      },
      "source": [
        "files"
      ],
      "execution_count": 587,
      "outputs": [
        {
          "output_type": "execute_result",
          "data": {
            "text/plain": [
              "array([['Cingulum_Parahippocampal_R.tsv', 'md', 'NEOFAC_A'],\n",
              "       ['Cingulum_Parahippocampal_R.tsv', 'ad', 'NEOFAC_A'],\n",
              "       ['Inferior_Cerebellar_Peduncle_L.tsv', 'nqa', 'NEOFAC_N'],\n",
              "       ['Inferior_Cerebellar_Peduncle_R.tsv', 'nqa', 'NEOFAC_N'],\n",
              "       ['Uncinate_Fasciculus_R.tsv', 'nqa', 'NEOFAC_N']], dtype='<U42')"
            ]
          },
          "metadata": {
            "tags": []
          },
          "execution_count": 587
        }
      ]
    },
    {
      "cell_type": "code",
      "metadata": {
        "colab": {
          "base_uri": "https://localhost:8080/"
        },
        "id": "q7cFRL4jO17N",
        "outputId": "3063e430-6154-4884-8e5a-a3463f78d381"
      },
      "source": [
        "id = pval.index(min(pval))\n",
        "pval[id]"
      ],
      "execution_count": 588,
      "outputs": [
        {
          "output_type": "execute_result",
          "data": {
            "text/plain": [
              "0.00043917757328587966"
            ]
          },
          "metadata": {
            "tags": []
          },
          "execution_count": 588
        }
      ]
    },
    {
      "cell_type": "code",
      "metadata": {
        "colab": {
          "base_uri": "https://localhost:8080/"
        },
        "id": "ezmSPPAU1Kvr",
        "outputId": "0887ce5b-3ca8-4e7c-bf2b-2900c43b3c7a"
      },
      "source": [
        "features[id]"
      ],
      "execution_count": 589,
      "outputs": [
        {
          "output_type": "execute_result",
          "data": {
            "text/plain": [
              "['Cingulum_Parahippocampal_R.tsv', 'ad', 'NEOFAC_A']"
            ]
          },
          "metadata": {
            "tags": []
          },
          "execution_count": 589
        }
      ]
    },
    {
      "cell_type": "code",
      "metadata": {
        "colab": {
          "base_uri": "https://localhost:8080/"
        },
        "id": "3kaqCvBRnucB",
        "outputId": "1ecb2c0c-c0df-4266-80ba-6b49cab4a745"
      },
      "source": [
        "files"
      ],
      "execution_count": 590,
      "outputs": [
        {
          "output_type": "execute_result",
          "data": {
            "text/plain": [
              "array([['Cingulum_Parahippocampal_R.tsv', 'md', 'NEOFAC_A'],\n",
              "       ['Cingulum_Parahippocampal_R.tsv', 'ad', 'NEOFAC_A'],\n",
              "       ['Inferior_Cerebellar_Peduncle_L.tsv', 'nqa', 'NEOFAC_N'],\n",
              "       ['Inferior_Cerebellar_Peduncle_R.tsv', 'nqa', 'NEOFAC_N'],\n",
              "       ['Uncinate_Fasciculus_R.tsv', 'nqa', 'NEOFAC_N']], dtype='<U42')"
            ]
          },
          "metadata": {
            "tags": []
          },
          "execution_count": 590
        }
      ]
    },
    {
      "cell_type": "code",
      "metadata": {
        "colab": {
          "base_uri": "https://localhost:8080/"
        },
        "id": "BSn4iefeM3gi",
        "outputId": "0c674928-b274-4166-e569-b7da8684fe63"
      },
      "source": [
        "files[0]"
      ],
      "execution_count": 591,
      "outputs": [
        {
          "output_type": "execute_result",
          "data": {
            "text/plain": [
              "array(['Cingulum_Parahippocampal_R.tsv', 'md', 'NEOFAC_A'], dtype='<U42')"
            ]
          },
          "metadata": {
            "tags": []
          },
          "execution_count": 591
        }
      ]
    },
    {
      "cell_type": "code",
      "metadata": {
        "colab": {
          "base_uri": "https://localhost:8080/"
        },
        "id": "IkvxqKzPfciK",
        "outputId": "6b30eab5-8eaf-4798-b047-719f5af4685b"
      },
      "source": [
        "ts = []\n",
        "for r in range(len(files)):\n",
        "  f = files[r][0]\n",
        "  s = files[r][1]\n",
        "  l = files[r][2]\n",
        "  if l == \"NEOFAC_A\":\n",
        "    l2 = \"Agreeableness\"\n",
        "  elif l == \"NEOFAC_O\":\n",
        "    l2 = \"Openness to experience\"\n",
        "  elif l == \"NEOFAC_E\":\n",
        "    l2 = \"Extraversion\"\n",
        "  elif l == \"NEOFAC_C\":\n",
        "    l2 = \"Coscientiousness\"\n",
        "  else:\n",
        "    l2 = \"Neuroticism\"\n",
        "  fd = pd.read_csv(f, sep =  '\\t', index_col = 0)\n",
        "  index = [\"Slope coefficient\",\"P-value\",\"R2\"]\n",
        "  variable = \"Tract: %s, Variables: %s vs %s\" %(files[r][0][:-4],l2, s)\n",
        "  print(variable)\n",
        "  if r == 0:\n",
        "    table1 = pd.DataFrame(columns = index)\n",
        "    #table2 = pd.DataFrame(columns = index)\n",
        "  #table = pd.DataFrame( colums = fil)\n",
        " \n",
        "  x = fd[s]\n",
        "  y = fd[l] \n",
        "  idx = np.where(np.isnan(x))\n",
        "  idx2 = np.where(np.isnan(y))\n",
        "  y = np.delete(np.array(y),idx2[0].tolist()+ idx[0].tolist())\n",
        "  x = np.delete(np.array(x),idx2[0].tolist()+ idx[0].tolist())\n",
        "  #x = np.delete(np.array(x),13) # outlier in Cingulum_Parahippocampal_R case\n",
        "  #y = np.delete(np.array(y),13) #outlier in Cingulum_Parahippocampal_R case\n",
        "  x = (x- np.mean(x))/np.std(x) # z-score\n",
        "  y = (y- np.mean(y))/np.std(y) # z-score\n",
        "  x2 = sm2.add_constant(x)\n",
        "  ls = sm.OLS(y, x2).fit()\n",
        "  #print('R2: ', r2_score(y,ls.params[0] + ls.params[1]*x)*100, '%')\n",
        "  #plt.figure()\n",
        "  #plt.plot(x, ls.params[0] + ls.params[1]*x, 'r-')\n",
        "  table1.loc[variable] = [0,0,0]\n",
        "\n",
        "  table1[index[0]].loc[variable] = \"%.2f +- %.2f\" %(round(ls.params[1],2),round(ls.bse[1],2))\n",
        "  table1[index[1]].loc[variable] = round(ls.pvalues[1],4)\n",
        "  table1[index[2]].loc[variable] = r\"%.2f %%\" %round(r2_score(y,ls.params[0] + ls.params[1]*x)*100,2)\n",
        "  #print('Slope coeff and pvalue: ',ls.params[1], ls.pvalues[1])\n",
        "  #ls.summary()\n",
        "  #plt.title(f)\n",
        "  #plt.plot(x,y, 'b.')\n",
        "  #plt.ylabel(l)\n",
        "  #plt.xlabel(s)\n",
        "  #plt.show()\n",
        "  #print(r\"$2 \\theta 4$\")"
      ],
      "execution_count": 594,
      "outputs": [
        {
          "output_type": "stream",
          "text": [
            "Tract: Cingulum_Parahippocampal_R, Variables: Agreeableness vs md\n",
            "Tract: Cingulum_Parahippocampal_R, Variables: Agreeableness vs ad\n",
            "Tract: Inferior_Cerebellar_Peduncle_L, Variables: Neuroticism vs nqa\n",
            "Tract: Inferior_Cerebellar_Peduncle_R, Variables: Neuroticism vs nqa\n",
            "Tract: Uncinate_Fasciculus_R, Variables: Neuroticism vs nqa\n"
          ],
          "name": "stdout"
        }
      ]
    },
    {
      "cell_type": "code",
      "metadata": {
        "colab": {
          "base_uri": "https://localhost:8080/",
          "height": 202
        },
        "id": "dLSm0eAhew9G",
        "outputId": "0c40142c-4839-4bea-b3ba-5be8e318a8fc"
      },
      "source": [
        "table1"
      ],
      "execution_count": 595,
      "outputs": [
        {
          "output_type": "execute_result",
          "data": {
            "text/html": [
              "<div>\n",
              "<style scoped>\n",
              "    .dataframe tbody tr th:only-of-type {\n",
              "        vertical-align: middle;\n",
              "    }\n",
              "\n",
              "    .dataframe tbody tr th {\n",
              "        vertical-align: top;\n",
              "    }\n",
              "\n",
              "    .dataframe thead th {\n",
              "        text-align: right;\n",
              "    }\n",
              "</style>\n",
              "<table border=\"1\" class=\"dataframe\">\n",
              "  <thead>\n",
              "    <tr style=\"text-align: right;\">\n",
              "      <th></th>\n",
              "      <th>Slope coefficient</th>\n",
              "      <th>P-value</th>\n",
              "      <th>R2</th>\n",
              "    </tr>\n",
              "  </thead>\n",
              "  <tbody>\n",
              "    <tr>\n",
              "      <th>Tract: Cingulum_Parahippocampal_R, Variables: Agreeableness vs md</th>\n",
              "      <td>0.16 +- 0.05</td>\n",
              "      <td>0.0006</td>\n",
              "      <td>2.69 %</td>\n",
              "    </tr>\n",
              "    <tr>\n",
              "      <th>Tract: Cingulum_Parahippocampal_R, Variables: Agreeableness vs ad</th>\n",
              "      <td>0.17 +- 0.05</td>\n",
              "      <td>0.0004</td>\n",
              "      <td>2.82 %</td>\n",
              "    </tr>\n",
              "    <tr>\n",
              "      <th>Tract: Inferior_Cerebellar_Peduncle_L, Variables: Neuroticism vs nqa</th>\n",
              "      <td>0.17 +- 0.05</td>\n",
              "      <td>0.0005</td>\n",
              "      <td>2.80 %</td>\n",
              "    </tr>\n",
              "    <tr>\n",
              "      <th>Tract: Inferior_Cerebellar_Peduncle_R, Variables: Neuroticism vs nqa</th>\n",
              "      <td>0.17 +- 0.05</td>\n",
              "      <td>0.0006</td>\n",
              "      <td>2.73 %</td>\n",
              "    </tr>\n",
              "    <tr>\n",
              "      <th>Tract: Uncinate_Fasciculus_R, Variables: Neuroticism vs nqa</th>\n",
              "      <td>0.16 +- 0.05</td>\n",
              "      <td>0.0006</td>\n",
              "      <td>2.71 %</td>\n",
              "    </tr>\n",
              "  </tbody>\n",
              "</table>\n",
              "</div>"
            ],
            "text/plain": [
              "                                                   Slope coefficient  ...      R2\n",
              "Tract: Cingulum_Parahippocampal_R, Variables: A...      0.16 +- 0.05  ...  2.69 %\n",
              "Tract: Cingulum_Parahippocampal_R, Variables: A...      0.17 +- 0.05  ...  2.82 %\n",
              "Tract: Inferior_Cerebellar_Peduncle_L, Variable...      0.17 +- 0.05  ...  2.80 %\n",
              "Tract: Inferior_Cerebellar_Peduncle_R, Variable...      0.17 +- 0.05  ...  2.73 %\n",
              "Tract: Uncinate_Fasciculus_R, Variables: Neurot...      0.16 +- 0.05  ...  2.71 %\n",
              "\n",
              "[5 rows x 3 columns]"
            ]
          },
          "metadata": {
            "tags": []
          },
          "execution_count": 595
        }
      ]
    },
    {
      "cell_type": "code",
      "metadata": {
        "colab": {
          "base_uri": "https://localhost:8080/"
        },
        "id": "HSQr3ONYRbHx",
        "outputId": "77446104-92de-4ad1-8ef9-fbade6139f48"
      },
      "source": [
        "ls.bse"
      ],
      "execution_count": 596,
      "outputs": [
        {
          "output_type": "execute_result",
          "data": {
            "text/plain": [
              "array([0.04745565, 0.04745565])"
            ]
          },
          "metadata": {
            "tags": []
          },
          "execution_count": 596
        }
      ]
    },
    {
      "cell_type": "code",
      "metadata": {
        "colab": {
          "base_uri": "https://localhost:8080/"
        },
        "id": "VHs0o0V24kXV",
        "outputId": "11169c7d-4f29-48e5-e4f3-65db1a2e5bc0"
      },
      "source": [
        "scipy.stats.spearmanr(x,y)"
      ],
      "execution_count": 597,
      "outputs": [
        {
          "output_type": "execute_result",
          "data": {
            "text/plain": [
              "SpearmanrResult(correlation=0.14456263409954348, pvalue=0.0025376799222337396)"
            ]
          },
          "metadata": {
            "tags": []
          },
          "execution_count": 597
        }
      ]
    },
    {
      "cell_type": "code",
      "metadata": {
        "id": "IgDGhbW-30zX",
        "colab": {
          "base_uri": "https://localhost:8080/"
        },
        "outputId": "92dbbd59-10cc-4b12-a6ce-ed0ba6b6cc41"
      },
      "source": [
        "np.corrcoef(x,y)[0,1]"
      ],
      "execution_count": 598,
      "outputs": [
        {
          "output_type": "execute_result",
          "data": {
            "text/plain": [
              "0.16467868589955087"
            ]
          },
          "metadata": {
            "tags": []
          },
          "execution_count": 598
        }
      ]
    },
    {
      "cell_type": "code",
      "metadata": {
        "colab": {
          "base_uri": "https://localhost:8080/"
        },
        "id": "4gdkfiIshCpn",
        "outputId": "144da342-c8e4-45cf-ae1f-2fd74141f600"
      },
      "source": [
        "ls.params[1]*np.std(x)/np.std(y)"
      ],
      "execution_count": 599,
      "outputs": [
        {
          "output_type": "execute_result",
          "data": {
            "text/plain": [
              "0.16467868589955087"
            ]
          },
          "metadata": {
            "tags": []
          },
          "execution_count": 599
        }
      ]
    },
    {
      "cell_type": "code",
      "metadata": {
        "colab": {
          "base_uri": "https://localhost:8080/"
        },
        "id": "QvB6Q9HrgL9b",
        "outputId": "10821818-479c-4d08-be09-17e6d0d560ca"
      },
      "source": [
        "ls.params[1]*np.std(x)/np.std(y)"
      ],
      "execution_count": 600,
      "outputs": [
        {
          "output_type": "execute_result",
          "data": {
            "text/plain": [
              "0.16467868589955087"
            ]
          },
          "metadata": {
            "tags": []
          },
          "execution_count": 600
        }
      ]
    },
    {
      "cell_type": "markdown",
      "metadata": {
        "id": "jVlxlBbv08ZJ"
      },
      "source": [
        "## Taking into account some covariates"
      ]
    },
    {
      "cell_type": "code",
      "metadata": {
        "id": "j-_6dXO46qbn"
      },
      "source": [
        ""
      ],
      "execution_count": 600,
      "outputs": []
    },
    {
      "cell_type": "code",
      "metadata": {
        "id": "oxBKFwEr6qep"
      },
      "source": [
        "import pingouin"
      ],
      "execution_count": 601,
      "outputs": []
    },
    {
      "cell_type": "code",
      "metadata": {
        "id": "bh-fqX39pcX7"
      },
      "source": [
        "pvals = []\n",
        "corrs = []\n",
        "features = []\n",
        "for file in sorted(os.listdir()):\n",
        "  if \"tsv\" in file:\n",
        "    #print(file)\n",
        "    fd = pd.read_csv(file, sep =  '\\t', index_col = 0)\n",
        "    for s in pers_labels:\n",
        "      for l in diff_labels:\n",
        "        rs = pingouin.partial_corr(fd,s,l, [\"Gender.1\", \"Age_in_Yrs\"])\n",
        "        corrs.append(rs['r'][0])\n",
        "        pvals.append(rs['p-val'][0])\n",
        "        features.append([file,s,l])"
      ],
      "execution_count": 602,
      "outputs": []
    },
    {
      "cell_type": "code",
      "metadata": {
        "id": "SgdLPxXM9D4r"
      },
      "source": [
        "pvals.index(min(pvals))\n",
        "ins = np.argsort(pvals)[:5]"
      ],
      "execution_count": 603,
      "outputs": []
    },
    {
      "cell_type": "code",
      "metadata": {
        "colab": {
          "base_uri": "https://localhost:8080/",
          "height": 79
        },
        "id": "cOGm4XyvCTnm",
        "outputId": "44801214-5da4-4794-f58d-82791bd2e585"
      },
      "source": [
        "rs"
      ],
      "execution_count": 604,
      "outputs": [
        {
          "output_type": "execute_result",
          "data": {
            "text/html": [
              "<div>\n",
              "<style scoped>\n",
              "    .dataframe tbody tr th:only-of-type {\n",
              "        vertical-align: middle;\n",
              "    }\n",
              "\n",
              "    .dataframe tbody tr th {\n",
              "        vertical-align: top;\n",
              "    }\n",
              "\n",
              "    .dataframe thead th {\n",
              "        text-align: right;\n",
              "    }\n",
              "</style>\n",
              "<table border=\"1\" class=\"dataframe\">\n",
              "  <thead>\n",
              "    <tr style=\"text-align: right;\">\n",
              "      <th></th>\n",
              "      <th>n</th>\n",
              "      <th>r</th>\n",
              "      <th>CI95%</th>\n",
              "      <th>r2</th>\n",
              "      <th>adj_r2</th>\n",
              "      <th>p-val</th>\n",
              "      <th>BF10</th>\n",
              "      <th>power</th>\n",
              "    </tr>\n",
              "  </thead>\n",
              "  <tbody>\n",
              "    <tr>\n",
              "      <th>pearson</th>\n",
              "      <td>434</td>\n",
              "      <td>0.118285</td>\n",
              "      <td>[0.02, 0.21]</td>\n",
              "      <td>0.013991</td>\n",
              "      <td>0.009416</td>\n",
              "      <td>0.013673</td>\n",
              "      <td>1.244</td>\n",
              "      <td>0.694896</td>\n",
              "    </tr>\n",
              "  </tbody>\n",
              "</table>\n",
              "</div>"
            ],
            "text/plain": [
              "           n         r         CI95%  ...     p-val   BF10     power\n",
              "pearson  434  0.118285  [0.02, 0.21]  ...  0.013673  1.244  0.694896\n",
              "\n",
              "[1 rows x 8 columns]"
            ]
          },
          "metadata": {
            "tags": []
          },
          "execution_count": 604
        }
      ]
    },
    {
      "cell_type": "code",
      "metadata": {
        "colab": {
          "base_uri": "https://localhost:8080/"
        },
        "id": "D7sHCoQr-U94",
        "outputId": "151b9977-043b-43dc-fb2b-00ebca855d57"
      },
      "source": [
        "for i in ins:\n",
        "  print(pvals[i], corrs[i], features[i])"
      ],
      "execution_count": 605,
      "outputs": [
        {
          "output_type": "stream",
          "text": [
            "0.001457730280270451 0.1523341212345253 ['Uncinate_Fasciculus_R.tsv', 'NEOFAC_N', 'nqa']\n",
            "0.002023812740833943 -0.14777896341411367 ['Superior_Longitudinal_Fasciculus1_L.tsv', 'NEOFAC_N', 'rd']\n",
            "0.002140499833552946 -0.1469880153337125 ['Thalamic_Radiation_Posterior_L.tsv', 'NEOFAC_E', 'nqa']\n",
            "0.0030927014077332185 0.14169781832492298 ['Superior_Longitudinal_Fasciculus1_L.tsv', 'NEOFAC_N', 'dti_fa']\n",
            "0.0034450298726943877 0.1401133454404422 ['Optic_Radiation_L.tsv', 'NEOFAC_N', 'nqa']\n"
          ],
          "name": "stdout"
        }
      ]
    },
    {
      "cell_type": "code",
      "metadata": {
        "id": "GRAkVLXsB2FT"
      },
      "source": [
        ""
      ],
      "execution_count": 605,
      "outputs": []
    },
    {
      "cell_type": "code",
      "metadata": {
        "id": "hRtSXD0BCG8s"
      },
      "source": [
        ""
      ],
      "execution_count": 605,
      "outputs": []
    },
    {
      "cell_type": "markdown",
      "metadata": {
        "id": "FRDTfZuMHRhd"
      },
      "source": [
        "## Multiple Linear Model"
      ]
    },
    {
      "cell_type": "code",
      "metadata": {
        "id": "BacvRqQa-Y_I"
      },
      "source": [
        "def ordinary_least_squares(Xc, y):\n",
        "\n",
        "  \"\"\" \n",
        "  Function that computes OLS analytically\n",
        "\n",
        "  NB: to take into account also an intercept, a constant vector of 1 needs to be included in Xc.\n",
        "  then theta_hat will contain both the results for the intercept and the result for the coefficients\n",
        "\n",
        "  Equivalent to python functions:\n",
        "  from sklearn.linear_model import LinearRegression\n",
        "  model = LinearRegression() \n",
        "  model.fit(X,y) \n",
        "  or\n",
        "  from statsmodels.regression import linear_model as sm\n",
        "  sm.OLS(y,Xc).fit()\n",
        "\n",
        "  Xc (ndarray): design matrix of shape (n_samples, n_regressors)\n",
        "  y (ndarray): vector of measurements of shape (n_samples)\n",
        "  Returns:\n",
        "  ndarray: estimated parameter values of shape (n_regressors)\n",
        "  \"\"\"\n",
        "\n",
        "\n",
        "  # Compute theta_hat using OLS\n",
        "  theta_hat = np.linalg.inv(Xc.T @ Xc) @ Xc.T @ y\n",
        "\n",
        "  return theta_hat\n",
        "\n"
      ],
      "execution_count": 606,
      "outputs": []
    },
    {
      "cell_type": "code",
      "metadata": {
        "id": "SuQhuJt7S5MN"
      },
      "source": [
        "from sklearn.linear_model import LinearRegression"
      ],
      "execution_count": 607,
      "outputs": []
    },
    {
      "cell_type": "code",
      "metadata": {
        "colab": {
          "base_uri": "https://localhost:8080/",
          "height": 764
        },
        "id": "_5nJdF2HHwuQ",
        "outputId": "696d20cf-cad2-4074-8e9c-6c94ab604f15"
      },
      "source": [
        "\n",
        "for r in range(len(files)):\n",
        "  print('Tract', files[r][0])\n",
        "  f = files[r][0]\n",
        "\n",
        "  fd = pd.read_csv(f, sep =  '\\t', index_col = 0)\n",
        "  col = diff_labels + [\"Gender.1\"] + [\"Age_in_Yrs\"] \n",
        "  X = fd[col]\n",
        "  for t in pers_labels:\n",
        "\n",
        "    y = fd[t]\n",
        "\n",
        "    model = LinearRegression()\n",
        "    idx2 = np.where(np.isnan(y))\n",
        "    y = np.array(y)\n",
        "    y = np.delete(y,idx2[0])\n",
        "\n",
        "    X = np.array(X)\n",
        "    Xnew = np.empty((X.shape[0]-1,X.shape[1]))\n",
        "  \n",
        "    for l in range(len(X[0])):\n",
        "      Xnew[:,l] = np.delete(X[:,l], idx2[0])\n",
        "\n",
        "    Xnew2 = sm2.add_constant(Xnew)\n",
        "    model.fit(Xnew,y)\n",
        "    theta_hat = ordinary_least_squares(Xnew2, y)\n",
        "\n",
        "    y_hat = Xnew2 @ theta_hat\n",
        "    # Compute MSE\n",
        "    \n",
        "    #print('Personality tract:', t)\n",
        "    #print(model.score(Xnew,y)*100)\n",
        "    #print(f\"MSE = {np.mean((y - y_hat)**2):.2f}\") \n",
        "plt.figure()\n",
        "plt.title('Personality tract: %s - Fiber %s' %(t,f))\n",
        "plt.plot(model.coef_, 'r.')\n",
        "plt.xlabel('Feature i ')\n",
        "plt.ylabel(r'$\\hat{\\theta}_i$')\n",
        "plt.xticks(np.arange(0,len(col),1), labels = col)\n"
      ],
      "execution_count": 608,
      "outputs": [
        {
          "output_type": "stream",
          "text": [
            "Tract Cingulum_Parahippocampal_R.tsv\n",
            "Tract Cingulum_Parahippocampal_R.tsv\n",
            "Tract Inferior_Cerebellar_Peduncle_L.tsv\n",
            "Tract Inferior_Cerebellar_Peduncle_R.tsv\n",
            "Tract Uncinate_Fasciculus_R.tsv\n"
          ],
          "name": "stdout"
        },
        {
          "output_type": "execute_result",
          "data": {
            "text/plain": [
              "([<matplotlib.axis.XTick at 0x7fd3e1bef8d0>,\n",
              "  <matplotlib.axis.XTick at 0x7fd3e1befcc0>,\n",
              "  <matplotlib.axis.XTick at 0x7fd3e1befb00>,\n",
              "  <matplotlib.axis.XTick at 0x7fd3e5d83240>,\n",
              "  <matplotlib.axis.XTick at 0x7fd3e5d836d8>,\n",
              "  <matplotlib.axis.XTick at 0x7fd3e5d83b70>,\n",
              "  <matplotlib.axis.XTick at 0x7fd3e5d920b8>,\n",
              "  <matplotlib.axis.XTick at 0x7fd3e5d924e0>,\n",
              "  <matplotlib.axis.XTick at 0x7fd3e5d92978>,\n",
              "  <matplotlib.axis.XTick at 0x7fd3e5d92e10>,\n",
              "  <matplotlib.axis.XTick at 0x7fd3e5d8a2e8>],\n",
              " [Text(0, 0, 'qa'),\n",
              "  Text(0, 0, 'nqa'),\n",
              "  Text(0, 0, 'dti_fa'),\n",
              "  Text(0, 0, 'md'),\n",
              "  Text(0, 0, 'ad'),\n",
              "  Text(0, 0, 'rd'),\n",
              "  Text(0, 0, 'gfa'),\n",
              "  Text(0, 0, 'iso'),\n",
              "  Text(0, 0, 'rdi'),\n",
              "  Text(0, 0, 'Gender.1'),\n",
              "  Text(0, 0, 'Age_in_Yrs')])"
            ]
          },
          "metadata": {
            "tags": []
          },
          "execution_count": 608
        },
        {
          "output_type": "display_data",
          "data": {
            "image/png": "[encoded data removed]",
            "text/plain": [
              "<Figure size 432x288 with 1 Axes>"
            ]
          },
          "metadata": {
            "tags": [],
            "needs_background": "light"
          }
        }
      ]
    },
    {
      "cell_type": "code",
      "metadata": {
        "colab": {
          "base_uri": "https://localhost:8080/"
        },
        "id": "B5xIVLUmPBOO",
        "outputId": "7754176a-fe8d-4064-9d42-b047e1481632"
      },
      "source": [
        "print(col)"
      ],
      "execution_count": 609,
      "outputs": [
        {
          "output_type": "stream",
          "text": [
            "['qa', 'nqa', 'dti_fa', 'md', 'ad', 'rd', 'gfa', 'iso', 'rdi', 'Gender.1', 'Age_in_Yrs']\n"
          ],
          "name": "stdout"
        }
      ]
    },
    {
      "cell_type": "code",
      "metadata": {
        "colab": {
          "base_uri": "https://localhost:8080/"
        },
        "id": "Vky4Ms8ACoYO",
        "outputId": "11654db7-145d-4bcc-baa8-2c7bce2c5f4f"
      },
      "source": [
        "for r in np.argsort(np.abs(model.coef_))[::-1][:3]:\n",
        "  print(col[r])"
      ],
      "execution_count": 610,
      "outputs": [
        {
          "output_type": "stream",
          "text": [
            "md\n",
            "rd\n",
            "ad\n"
          ],
          "name": "stdout"
        }
      ]
    },
    {
      "cell_type": "code",
      "metadata": {
        "colab": {
          "base_uri": "https://localhost:8080/",
          "height": 315
        },
        "id": "nTmv76MZ8ta0",
        "outputId": "17272ae4-e2d6-4259-c544-7a2365ee27d6"
      },
      "source": [
        "# contigous indexes\n",
        "idx1 = 0\n",
        "idx2 = 1\n",
        "print(col[idx1], col[idx2])\n",
        "theta_hat = ordinary_least_squares(Xnew2, y)\n",
        "x_pred = np.linspace(min(Xnew2[:,1+idx1]),max(Xnew2[:,1+idx1]), 50)   \n",
        "y_pred = np.linspace(min(Xnew2[:,1+idx2]),max(Xnew2[:,1+idx2]), 50)  \n",
        "xx, yy = np.meshgrid(x_pred, y_pred)\n",
        "theta_hat = ordinary_least_squares(Xnew2[:,1+idx1:2+idx2], y)\n",
        "y_hat_grid = np.array([xx.flatten(), yy.flatten()]).T @ theta_hat\n",
        "ypred = Xnew2[:,1+idx1:1+idx2+1] @ theta_hat\n",
        "y_hat_grid = y_hat_grid.reshape((50, 50))\n",
        "model_viz = np.array([xx.flatten(), yy.flatten()]).T\n",
        "from sklearn import linear_model\n",
        "ols = linear_model.LinearRegression()\n",
        "model = ols.fit(Xnew[:,idx1:idx2+1], y)\n",
        "ax = plt.subplot(projection='3d')\n",
        "\n",
        "ax.plot(Xnew2[:, 1+idx1], Xnew2[:, 1+idx2], y, 'b.')\n",
        "ax.plot_surface(xx, yy, y_hat_grid.reshape(50,50), linewidth=0, alpha=0.5, color='C1',\n",
        "                cmap=plt.get_cmap('coolwarm'))\n",
        "\n",
        "ax.set(\n",
        "    xlabel='$x_1$',\n",
        "    ylabel='$x_2$',\n",
        "    zlabel='y'\n",
        "\n",
        ")\n",
        "for i in range(len(Xnew2)):\n",
        "  ax.plot((Xnew2[i, 1+idx1], Xnew2[i, 1+idx1]),\n",
        "          (Xnew2[i, 1+idx2], Xnew2[i, 1+ idx2]),\n",
        "          (y[i], ypred[i]),\n",
        "          'r-', alpha=.5)\n",
        "\n",
        "plt.tight_layout()\n"
      ],
      "execution_count": 611,
      "outputs": [
        {
          "output_type": "stream",
          "text": [
            "qa nqa\n"
          ],
          "name": "stdout"
        },
        {
          "output_type": "display_data",
          "data": {
            "image/png": "[encoded data removed]",
            "text/plain": [
              "<Figure size 432x288 with 1 Axes>"
            ]
          },
          "metadata": {
            "tags": [],
            "needs_background": "light"
          }
        }
      ]
    },
    {
      "cell_type": "code",
      "metadata": {
        "id": "3XCv6dk5Q5tT",
        "colab": {
          "base_uri": "https://localhost:8080/",
          "height": 357
        },
        "outputId": "357ff6b4-b0c9-4e2f-d454-57d1bfc64054"
      },
      "source": [
        "import pandas as pd\n",
        "import numpy as np\n",
        "import matplotlib.pyplot as plt\n",
        "from sklearn import linear_model\n",
        "from mpl_toolkits.mplot3d import Axes3D\n",
        "\n",
        "x1 = Xnew[:,0]\n",
        "x2 = Xnew[:,1]\n",
        "x_pred = np.linspace(min(x1),max(x1), 50)   \n",
        "y_pred = np.linspace(min(x2),max(x2), 50) \n",
        "xx_pred, yy_pred = np.meshgrid(x_pred, y_pred)\n",
        "model_viz = np.array([xx_pred.flatten(), yy_pred.flatten()]).T\n",
        "Y = y\n",
        "z = Y\n",
        "from sklearn import linear_model\n",
        "ols = linear_model.LinearRegression()\n",
        "model = ols.fit(Xnew[:,:2], Y)\n",
        "predicted = model.predict(model_viz)\n",
        "ypred = model.predict(Xnew[:,:2])\n",
        "fig = plt.figure(figsize = (20,6))\n",
        "ax1 = fig.add_subplot(131, projection='3d')\n",
        "ax1.plot(x1,x2, z, color='k', zorder=15, linestyle='none', marker='.', alpha=0.5)\n",
        "ax1.scatter(xx_pred.flatten(), yy_pred.flatten(), predicted, facecolor=(0,0,0,0), s=20, edgecolor='#70b3f0')\n",
        "ax1.locator_params(nbins=4, axis='x')\n",
        "ax1.set_xlabel('x1', fontsize=12)\n",
        "ax1.set_ylabel('x2', fontsize=12)\n",
        "ax1.set_zlabel('y', fontsize=12)\n",
        "ax1.locator_params(nbins=5, axis='x')\n",
        "\n",
        "for i in range(len(Xnew2)):\n",
        "  ax1.plot((Xnew2[i, 1+idx1], Xnew2[i, 1+idx1]),\n",
        "          (Xnew2[i, 1+idx2], Xnew2[i, 1+ idx2]),\n",
        "          (y[i], ypred[i]),\n",
        "          'k-', alpha=.5)\n",
        "ax1.view_init(elev=10, azim=250)"
      ],
      "execution_count": 612,
      "outputs": [
        {
          "output_type": "display_data",
          "data": {
            "image/png": "[encoded data removed]",
            "text/plain": [
              "<Figure size 1440x432 with 1 Axes>"
            ]
          },
          "metadata": {
            "tags": [],
            "needs_background": "light"
          }
        }
      ]
    },
    {
      "cell_type": "markdown",
      "metadata": {
        "id": "_7C0EZtdgzV0"
      },
      "source": [
        "## Replicating the method on shape features (e. g. 'span(mm)', 'curl', 'elongation', 'diameter(mm)', 'volume(mm^3)', 'trunk volume(mm^3)', 'branch volume(mm^3)', 'total surface area(mm^2)', 'total radius of end regions(mm) etc...)"
      ]
    },
    {
      "cell_type": "code",
      "metadata": {
        "id": "YbeALuFqg1cL"
      },
      "source": [
        "shape_labels = fd.columns[fd.columns.tolist().index(\"span(mm)\"):fd.columns.tolist().index('irregularity of end region 2')+1]"
      ],
      "execution_count": 613,
      "outputs": []
    },
    {
      "cell_type": "code",
      "metadata": {
        "colab": {
          "base_uri": "https://localhost:8080/"
        },
        "id": "snj6teAhosie",
        "outputId": "f40164fe-eba9-458a-c150-ba5bbe11e434"
      },
      "source": [
        "shape_labels"
      ],
      "execution_count": 614,
      "outputs": [
        {
          "output_type": "execute_result",
          "data": {
            "text/plain": [
              "Index(['span(mm)', 'curl', 'elongation', 'diameter(mm)', 'volume(mm^3)',\n",
              "       'trunk volume(mm^3)', 'branch volume(mm^3)', 'total surface area(mm^2)',\n",
              "       'total radius of end regions(mm)', 'total area of end regions(mm^2)',\n",
              "       'irregularity', 'area of end region 1(mm^2)',\n",
              "       'radius of end region 1(mm)', 'irregularity of end region 1',\n",
              "       'area of end region 2(mm^2)', 'radius of end region 2(mm)',\n",
              "       'irregularity of end region 2'],\n",
              "      dtype='object')"
            ]
          },
          "metadata": {
            "tags": []
          },
          "execution_count": 614
        }
      ]
    },
    {
      "cell_type": "code",
      "metadata": {
        "id": "HMXuaYPQg1_X"
      },
      "source": [
        "pval = []\n",
        "features = []\n",
        "coef = []\n",
        "intercept = []\n",
        "xs = []\n",
        "for file in sorted(os.listdir()):\n",
        "  if \"tsv\" in file:\n",
        "    #print(file)\n",
        "    fd = pd.read_csv(file, sep =  '\\t', index_col = 0)\n",
        "    for s in shape_labels:\n",
        "      for l in pers_labels:\n",
        "        x = fd[s]\n",
        "        idx = np.where(np.isnan(x))\n",
        "        y = fd[l]\n",
        "        idx2 = np.where(np.isnan(y)) \n",
        "        x = np.delete(np.array(x),idx2[0].tolist()+ idx[0].tolist())\n",
        "        y = np.delete(np.array(y),idx2[0].tolist()+ idx[0].tolist())\n",
        "        x2 = sm2.add_constant(x)\n",
        "        ls = sm.OLS(y, x2).fit()\n",
        "        pval.append(ls.pvalues[1])\n",
        "        coef.append(ls.params[1])\n",
        "        intercept.append(ls.params[0])\n",
        "        xs.append(x)\n",
        "        features.append([file,s,l])"
      ],
      "execution_count": 615,
      "outputs": []
    },
    {
      "cell_type": "code",
      "metadata": {
        "colab": {
          "base_uri": "https://localhost:8080/"
        },
        "id": "oArJQGDDg1_b",
        "outputId": "c1e73781-2571-47cb-a204-f4e7f1e2d0ac"
      },
      "source": [
        "files = np.array(features)[np.array(pval) < 0.0007]\n",
        "len(files)"
      ],
      "execution_count": 616,
      "outputs": [
        {
          "output_type": "execute_result",
          "data": {
            "text/plain": [
              "30"
            ]
          },
          "metadata": {
            "tags": []
          },
          "execution_count": 616
        }
      ]
    },
    {
      "cell_type": "code",
      "metadata": {
        "colab": {
          "base_uri": "https://localhost:8080/"
        },
        "id": "3TIH6R_Ig1_d",
        "outputId": "1eaae6e0-5e92-4d0a-a1ee-3fc9b67e4cd4"
      },
      "source": [
        "id = pval.index(min(pval))\n",
        "pval[id]"
      ],
      "execution_count": 617,
      "outputs": [
        {
          "output_type": "execute_result",
          "data": {
            "text/plain": [
              "7.852132837753916e-06"
            ]
          },
          "metadata": {
            "tags": []
          },
          "execution_count": 617
        }
      ]
    },
    {
      "cell_type": "code",
      "metadata": {
        "colab": {
          "base_uri": "https://localhost:8080/"
        },
        "id": "4ZQ5YUuHpCBa",
        "outputId": "cc627997-278e-455c-9510-1ee11e0385aa"
      },
      "source": [
        "files"
      ],
      "execution_count": 620,
      "outputs": [
        {
          "output_type": "execute_result",
          "data": {
            "text/plain": [
              "array([['Cingulum_Frontal_Parietal_R.tsv', 'area of end region 1(mm^2)',\n",
              "        'NEOFAC_O'],\n",
              "       ['Corticobulbar_Tract_R.tsv', 'total area of end regions(mm^2)',\n",
              "        'NEOFAC_A'],\n",
              "       ['Corticostriatal_Tract_Anterior_L.tsv',\n",
              "        'area of end region 1(mm^2)', 'NEOFAC_A'],\n",
              "       ['Corticostriatal_Tract_Anterior_R.tsv', 'trunk volume(mm^3)',\n",
              "        'NEOFAC_A'],\n",
              "       ['Corticostriatal_Tract_Anterior_R.tsv',\n",
              "        'total area of end regions(mm^2)', 'NEOFAC_A'],\n",
              "       ['Corticostriatal_Tract_Posterior_R.tsv', 'diameter(mm)',\n",
              "        'NEOFAC_O'],\n",
              "       ['Corticostriatal_Tract_Posterior_R.tsv',\n",
              "        'total surface area(mm^2)', 'NEOFAC_O'],\n",
              "       ['Corticostriatal_Tract_Posterior_R.tsv',\n",
              "        'total area of end regions(mm^2)', 'NEOFAC_O'],\n",
              "       ['Corticostriatal_Tract_Posterior_R.tsv', 'irregularity',\n",
              "        'NEOFAC_O'],\n",
              "       ['Corticostriatal_Tract_Posterior_R.tsv',\n",
              "        'area of end region 1(mm^2)', 'NEOFAC_O'],\n",
              "       ['Corticostriatal_Tract_Superior_R.tsv',\n",
              "        'area of end region 2(mm^2)', 'NEOFAC_A'],\n",
              "       ['Inferior_Fronto_Occipital_Fasciculus_L.tsv', 'diameter(mm)',\n",
              "        'NEOFAC_O'],\n",
              "       ['Inferior_Fronto_Occipital_Fasciculus_L.tsv', 'volume(mm^3)',\n",
              "        'NEOFAC_O'],\n",
              "       ['Inferior_Fronto_Occipital_Fasciculus_L.tsv',\n",
              "        'trunk volume(mm^3)', 'NEOFAC_O'],\n",
              "       ['Inferior_Fronto_Occipital_Fasciculus_L.tsv',\n",
              "        'total surface area(mm^2)', 'NEOFAC_O'],\n",
              "       ['Inferior_Fronto_Occipital_Fasciculus_L.tsv',\n",
              "        'total area of end regions(mm^2)', 'NEOFAC_O'],\n",
              "       ['Inferior_Fronto_Occipital_Fasciculus_L.tsv',\n",
              "        'area of end region 2(mm^2)', 'NEOFAC_O'],\n",
              "       ['Inferior_Fronto_Occipital_Fasciculus_R.tsv',\n",
              "        'total surface area(mm^2)', 'NEOFAC_O'],\n",
              "       ['Inferior_Fronto_Occipital_Fasciculus_R.tsv',\n",
              "        'total area of end regions(mm^2)', 'NEOFAC_O'],\n",
              "       ['Inferior_Fronto_Occipital_Fasciculus_R.tsv',\n",
              "        'area of end region 2(mm^2)', 'NEOFAC_O'],\n",
              "       ['Inferior_Longitudinal_Fasciculus_R.tsv',\n",
              "        'radius of end region 2(mm)', 'NEOFAC_O'],\n",
              "       ['Parietal_Aslant_Tract_L.tsv', 'elongation', 'NEOFAC_A'],\n",
              "       ['Parietal_Aslant_Tract_L.tsv', 'diameter(mm)', 'NEOFAC_A'],\n",
              "       ['Superior_Longitudinal_Fasciculus1_R.tsv',\n",
              "        'total area of end regions(mm^2)', 'NEOFAC_N'],\n",
              "       ['Superior_Longitudinal_Fasciculus1_R.tsv',\n",
              "        'area of end region 1(mm^2)', 'NEOFAC_N'],\n",
              "       ['Superior_Longitudinal_Fasciculus2_L.tsv', 'span(mm)',\n",
              "        'NEOFAC_O'],\n",
              "       ['Superior_Longitudinal_Fasciculus2_L.tsv', 'curl', 'NEOFAC_O'],\n",
              "       ['Superior_Longitudinal_Fasciculus2_L.tsv',\n",
              "        'total area of end regions(mm^2)', 'NEOFAC_A'],\n",
              "       ['Superior_Longitudinal_Fasciculus2_L.tsv',\n",
              "        'area of end region 1(mm^2)', 'NEOFAC_A'],\n",
              "       ['Superior_Longitudinal_Fasciculus2_L.tsv',\n",
              "        'area of end region 1(mm^2)', 'NEOFAC_O']], dtype='<U42')"
            ]
          },
          "metadata": {
            "tags": []
          },
          "execution_count": 620
        }
      ]
    },
    {
      "cell_type": "code",
      "metadata": {
        "colab": {
          "base_uri": "https://localhost:8080/"
        },
        "id": "7n1kYruDg1_j",
        "outputId": "31bca836-0bfa-437d-9542-da80b1c22d5b"
      },
      "source": [
        "ts = []\n",
        "for r in range(len(files)):\n",
        "\n",
        "\n",
        "  f = files[r][0]\n",
        "  s = files[r][1]\n",
        "  l = files[r][2]\n",
        "  fd = pd.read_csv(f, sep =  '\\t', index_col = 0)\n",
        "  x = fd[s]\n",
        "  y = fd[l] \n",
        "\n",
        "\n",
        "  index = [\"Slope coefficient\",\"P-value\",\"R2\"]\n",
        "\n",
        "\n",
        "  if l == \"NEOFAC_A\":\n",
        "    l2 = \"Agreeableness\"\n",
        "  elif l == \"NEOFAC_O\":\n",
        "    l2 = \"Openness to experience\"\n",
        "  elif l == \"NEOFAC_E\":\n",
        "    l2 = \"Extraversion\"\n",
        "  elif l == \"NEOFAC_C\":\n",
        "    l2 = \"Coscientiousness\"\n",
        "  else:\n",
        "    l2 = \"Neuroticism\"\n",
        "\n",
        "  variable = \"Tract: %s, Variables: %s vs %s\" %(files[r][0][:-4],l2, s)\n",
        "\n",
        "  if r == 0:\n",
        "    table1 = pd.DataFrame(columns = index)\n",
        "\n",
        "  idx = np.where(np.isnan(x))\n",
        "  idx2 = np.where(np.isnan(y))\n",
        "  \n",
        "  \n",
        "  y = np.delete(np.array(y),idx2[0].tolist()+ idx[0].tolist())\n",
        "  x = np.delete(np.array(x),idx2[0].tolist()+ idx[0].tolist())\n",
        "  #x = np.delete(np.array(x),13) # outlier in Cingulum_Parahippocampal_R case\n",
        "  #y = np.delete(np.array(y),13) #outlier in Cingulum_Parahippocampal_R case\n",
        "  x = (x- np.mean(x))/np.std(x) # z-score\n",
        "  y = (y- np.mean(y))/np.std(y) # z-score\n",
        "  x2 = sm2.add_constant(x)\n",
        "  ls = sm.OLS(y, x2).fit()\n",
        "  #print('R2: ', r2_score(y,ls.params[0] + ls.params[1]*x)*100, '%')\n",
        "  print(\"Adding a row\", r)\n",
        "  table1.loc[variable] = [0,0,0]\n",
        "\n",
        "  table1[index[0]].loc[variable] = \"%.2f +- %.2f\" %(round(ls.params[1],2),round(ls.bse[1],2))\n",
        "  table1[index[1]].loc[variable] = round(ls.pvalues[1],4)\n",
        "  table1[index[2]].loc[variable] = r\"%.2f %%\" %round(r2_score(y,ls.params[0] + ls.params[1]*x)*100,2)\n",
        "  \n",
        "  \"\"\"\n",
        "  plt.figure()\n",
        "  plt.plot(x, ls.params[0] + ls.params[1]*x, 'r-')\n",
        "  \n",
        "  print('Slope coeff and pvalue: ',ls.params[1], ls.pvalues[1])\n",
        "  ls.summary()\n",
        "  plt.title(f)\n",
        "  plt.plot(x,y, 'b.')\n",
        "  plt.ylabel(l)\n",
        "  plt.xlabel(s)\n",
        "  plt.show()\n",
        "  \"\"\""
      ],
      "execution_count": 621,
      "outputs": [
        {
          "output_type": "stream",
          "text": [
            "Adding a row 0\n",
            "Adding a row 1\n",
            "Adding a row 2\n",
            "Adding a row 3\n",
            "Adding a row 4\n",
            "Adding a row 5\n",
            "Adding a row 6\n",
            "Adding a row 7\n",
            "Adding a row 8\n",
            "Adding a row 9\n",
            "Adding a row 10\n",
            "Adding a row 11\n",
            "Adding a row 12\n",
            "Adding a row 13\n",
            "Adding a row 14\n",
            "Adding a row 15\n",
            "Adding a row 16\n",
            "Adding a row 17\n",
            "Adding a row 18\n",
            "Adding a row 19\n",
            "Adding a row 20\n",
            "Adding a row 21\n",
            "Adding a row 22\n",
            "Adding a row 23\n",
            "Adding a row 24\n",
            "Adding a row 25\n",
            "Adding a row 26\n",
            "Adding a row 27\n",
            "Adding a row 28\n",
            "Adding a row 29\n"
          ],
          "name": "stdout"
        }
      ]
    },
    {
      "cell_type": "code",
      "metadata": {
        "colab": {
          "base_uri": "https://localhost:8080/"
        },
        "id": "pnXNj9speKNV",
        "outputId": "c0fd481f-af60-4205-cd6b-a518d0fde093"
      },
      "source": [
        "len(files)"
      ],
      "execution_count": 622,
      "outputs": [
        {
          "output_type": "execute_result",
          "data": {
            "text/plain": [
              "30"
            ]
          },
          "metadata": {
            "tags": []
          },
          "execution_count": 622
        }
      ]
    },
    {
      "cell_type": "code",
      "metadata": {
        "colab": {
          "base_uri": "https://localhost:8080/",
          "height": 1000
        },
        "id": "Kblu53SEW6TA",
        "outputId": "1ae30c0b-5c3e-4089-f425-b5ee82979db5"
      },
      "source": [
        "table1.head(40)"
      ],
      "execution_count": 623,
      "outputs": [
        {
          "output_type": "execute_result",
          "data": {
            "text/html": [
              "<div>\n",
              "<style scoped>\n",
              "    .dataframe tbody tr th:only-of-type {\n",
              "        vertical-align: middle;\n",
              "    }\n",
              "\n",
              "    .dataframe tbody tr th {\n",
              "        vertical-align: top;\n",
              "    }\n",
              "\n",
              "    .dataframe thead th {\n",
              "        text-align: right;\n",
              "    }\n",
              "</style>\n",
              "<table border=\"1\" class=\"dataframe\">\n",
              "  <thead>\n",
              "    <tr style=\"text-align: right;\">\n",
              "      <th></th>\n",
              "      <th>Slope coefficient</th>\n",
              "      <th>P-value</th>\n",
              "      <th>R2</th>\n",
              "    </tr>\n",
              "  </thead>\n",
              "  <tbody>\n",
              "    <tr>\n",
              "      <th>Tract: Cingulum_Frontal_Parietal_R, Variables: Openness to experience vs area of end region 1(mm^2)</th>\n",
              "      <td>0.17 +- 0.05</td>\n",
              "      <td>0.0005</td>\n",
              "      <td>2.80 %</td>\n",
              "    </tr>\n",
              "    <tr>\n",
              "      <th>Tract: Corticobulbar_Tract_R, Variables: Agreeableness vs total area of end regions(mm^2)</th>\n",
              "      <td>-0.18 +- 0.05</td>\n",
              "      <td>0.0002</td>\n",
              "      <td>3.24 %</td>\n",
              "    </tr>\n",
              "    <tr>\n",
              "      <th>Tract: Corticostriatal_Tract_Anterior_L, Variables: Agreeableness vs area of end region 1(mm^2)</th>\n",
              "      <td>-0.16 +- 0.05</td>\n",
              "      <td>0.0006</td>\n",
              "      <td>2.68 %</td>\n",
              "    </tr>\n",
              "    <tr>\n",
              "      <th>Tract: Corticostriatal_Tract_Anterior_R, Variables: Agreeableness vs trunk volume(mm^3)</th>\n",
              "      <td>-0.18 +- 0.05</td>\n",
              "      <td>0.0001</td>\n",
              "      <td>3.32 %</td>\n",
              "    </tr>\n",
              "    <tr>\n",
              "      <th>Tract: Corticostriatal_Tract_Anterior_R, Variables: Agreeableness vs total area of end regions(mm^2)</th>\n",
              "      <td>-0.16 +- 0.05</td>\n",
              "      <td>0.0007</td>\n",
              "      <td>2.64 %</td>\n",
              "    </tr>\n",
              "    <tr>\n",
              "      <th>Tract: Corticostriatal_Tract_Posterior_R, Variables: Openness to experience vs diameter(mm)</th>\n",
              "      <td>0.16 +- 0.05</td>\n",
              "      <td>0.0006</td>\n",
              "      <td>2.68 %</td>\n",
              "    </tr>\n",
              "    <tr>\n",
              "      <th>Tract: Corticostriatal_Tract_Posterior_R, Variables: Openness to experience vs total surface area(mm^2)</th>\n",
              "      <td>0.17 +- 0.05</td>\n",
              "      <td>0.0003</td>\n",
              "      <td>2.93 %</td>\n",
              "    </tr>\n",
              "    <tr>\n",
              "      <th>Tract: Corticostriatal_Tract_Posterior_R, Variables: Openness to experience vs total area of end regions(mm^2)</th>\n",
              "      <td>0.16 +- 0.05</td>\n",
              "      <td>0.0007</td>\n",
              "      <td>2.65 %</td>\n",
              "    </tr>\n",
              "    <tr>\n",
              "      <th>Tract: Corticostriatal_Tract_Posterior_R, Variables: Openness to experience vs irregularity</th>\n",
              "      <td>0.16 +- 0.05</td>\n",
              "      <td>0.0006</td>\n",
              "      <td>2.67 %</td>\n",
              "    </tr>\n",
              "    <tr>\n",
              "      <th>Tract: Corticostriatal_Tract_Posterior_R, Variables: Openness to experience vs area of end region 1(mm^2)</th>\n",
              "      <td>0.17 +- 0.05</td>\n",
              "      <td>0.0003</td>\n",
              "      <td>3.06 %</td>\n",
              "    </tr>\n",
              "    <tr>\n",
              "      <th>Tract: Corticostriatal_Tract_Superior_R, Variables: Agreeableness vs area of end region 2(mm^2)</th>\n",
              "      <td>-0.17 +- 0.05</td>\n",
              "      <td>0.0004</td>\n",
              "      <td>2.89 %</td>\n",
              "    </tr>\n",
              "    <tr>\n",
              "      <th>Tract: Inferior_Fronto_Occipital_Fasciculus_L, Variables: Openness to experience vs diameter(mm)</th>\n",
              "      <td>0.18 +- 0.05</td>\n",
              "      <td>0.0001</td>\n",
              "      <td>3.37 %</td>\n",
              "    </tr>\n",
              "    <tr>\n",
              "      <th>Tract: Inferior_Fronto_Occipital_Fasciculus_L, Variables: Openness to experience vs volume(mm^3)</th>\n",
              "      <td>0.21 +- 0.05</td>\n",
              "      <td>0</td>\n",
              "      <td>4.47 %</td>\n",
              "    </tr>\n",
              "    <tr>\n",
              "      <th>Tract: Inferior_Fronto_Occipital_Fasciculus_L, Variables: Openness to experience vs trunk volume(mm^3)</th>\n",
              "      <td>0.17 +- 0.05</td>\n",
              "      <td>0.0003</td>\n",
              "      <td>2.94 %</td>\n",
              "    </tr>\n",
              "    <tr>\n",
              "      <th>Tract: Inferior_Fronto_Occipital_Fasciculus_L, Variables: Openness to experience vs total surface area(mm^2)</th>\n",
              "      <td>0.19 +- 0.05</td>\n",
              "      <td>0.0001</td>\n",
              "      <td>3.60 %</td>\n",
              "    </tr>\n",
              "    <tr>\n",
              "      <th>Tract: Inferior_Fronto_Occipital_Fasciculus_L, Variables: Openness to experience vs total area of end regions(mm^2)</th>\n",
              "      <td>0.21 +- 0.05</td>\n",
              "      <td>0</td>\n",
              "      <td>4.51 %</td>\n",
              "    </tr>\n",
              "    <tr>\n",
              "      <th>Tract: Inferior_Fronto_Occipital_Fasciculus_L, Variables: Openness to experience vs area of end region 2(mm^2)</th>\n",
              "      <td>0.19 +- 0.05</td>\n",
              "      <td>0.0001</td>\n",
              "      <td>3.66 %</td>\n",
              "    </tr>\n",
              "    <tr>\n",
              "      <th>Tract: Inferior_Fronto_Occipital_Fasciculus_R, Variables: Openness to experience vs total surface area(mm^2)</th>\n",
              "      <td>0.16 +- 0.05</td>\n",
              "      <td>0.0006</td>\n",
              "      <td>2.68 %</td>\n",
              "    </tr>\n",
              "    <tr>\n",
              "      <th>Tract: Inferior_Fronto_Occipital_Fasciculus_R, Variables: Openness to experience vs total area of end regions(mm^2)</th>\n",
              "      <td>0.19 +- 0.05</td>\n",
              "      <td>0.0001</td>\n",
              "      <td>3.60 %</td>\n",
              "    </tr>\n",
              "    <tr>\n",
              "      <th>Tract: Inferior_Fronto_Occipital_Fasciculus_R, Variables: Openness to experience vs area of end region 2(mm^2)</th>\n",
              "      <td>0.17 +- 0.05</td>\n",
              "      <td>0.0004</td>\n",
              "      <td>2.91 %</td>\n",
              "    </tr>\n",
              "    <tr>\n",
              "      <th>Tract: Inferior_Longitudinal_Fasciculus_R, Variables: Openness to experience vs radius of end region 2(mm)</th>\n",
              "      <td>0.17 +- 0.05</td>\n",
              "      <td>0.0005</td>\n",
              "      <td>2.80 %</td>\n",
              "    </tr>\n",
              "    <tr>\n",
              "      <th>Tract: Parietal_Aslant_Tract_L, Variables: Agreeableness vs elongation</th>\n",
              "      <td>-0.18 +- 0.05</td>\n",
              "      <td>0.0001</td>\n",
              "      <td>3.40 %</td>\n",
              "    </tr>\n",
              "    <tr>\n",
              "      <th>Tract: Parietal_Aslant_Tract_L, Variables: Agreeableness vs diameter(mm)</th>\n",
              "      <td>0.17 +- 0.05</td>\n",
              "      <td>0.0005</td>\n",
              "      <td>2.77 %</td>\n",
              "    </tr>\n",
              "    <tr>\n",
              "      <th>Tract: Superior_Longitudinal_Fasciculus1_R, Variables: Neuroticism vs total area of end regions(mm^2)</th>\n",
              "      <td>-0.16 +- 0.05</td>\n",
              "      <td>0.0006</td>\n",
              "      <td>2.67 %</td>\n",
              "    </tr>\n",
              "    <tr>\n",
              "      <th>Tract: Superior_Longitudinal_Fasciculus1_R, Variables: Neuroticism vs area of end region 1(mm^2)</th>\n",
              "      <td>-0.16 +- 0.05</td>\n",
              "      <td>0.0006</td>\n",
              "      <td>2.67 %</td>\n",
              "    </tr>\n",
              "    <tr>\n",
              "      <th>Tract: Superior_Longitudinal_Fasciculus2_L, Variables: Openness to experience vs span(mm)</th>\n",
              "      <td>0.18 +- 0.05</td>\n",
              "      <td>0.0002</td>\n",
              "      <td>3.18 %</td>\n",
              "    </tr>\n",
              "    <tr>\n",
              "      <th>Tract: Superior_Longitudinal_Fasciculus2_L, Variables: Openness to experience vs curl</th>\n",
              "      <td>-0.16 +- 0.05</td>\n",
              "      <td>0.0006</td>\n",
              "      <td>2.70 %</td>\n",
              "    </tr>\n",
              "    <tr>\n",
              "      <th>Tract: Superior_Longitudinal_Fasciculus2_L, Variables: Agreeableness vs total area of end regions(mm^2)</th>\n",
              "      <td>0.18 +- 0.05</td>\n",
              "      <td>0.0002</td>\n",
              "      <td>3.07 %</td>\n",
              "    </tr>\n",
              "    <tr>\n",
              "      <th>Tract: Superior_Longitudinal_Fasciculus2_L, Variables: Agreeableness vs area of end region 1(mm^2)</th>\n",
              "      <td>0.21 +- 0.05</td>\n",
              "      <td>0</td>\n",
              "      <td>4.52 %</td>\n",
              "    </tr>\n",
              "    <tr>\n",
              "      <th>Tract: Superior_Longitudinal_Fasciculus2_L, Variables: Openness to experience vs area of end region 1(mm^2)</th>\n",
              "      <td>0.17 +- 0.05</td>\n",
              "      <td>0.0005</td>\n",
              "      <td>2.81 %</td>\n",
              "    </tr>\n",
              "  </tbody>\n",
              "</table>\n",
              "</div>"
            ],
            "text/plain": [
              "                                                   Slope coefficient  ...      R2\n",
              "Tract: Cingulum_Frontal_Parietal_R, Variables: ...      0.17 +- 0.05  ...  2.80 %\n",
              "Tract: Corticobulbar_Tract_R, Variables: Agreea...     -0.18 +- 0.05  ...  3.24 %\n",
              "Tract: Corticostriatal_Tract_Anterior_L, Variab...     -0.16 +- 0.05  ...  2.68 %\n",
              "Tract: Corticostriatal_Tract_Anterior_R, Variab...     -0.18 +- 0.05  ...  3.32 %\n",
              "Tract: Corticostriatal_Tract_Anterior_R, Variab...     -0.16 +- 0.05  ...  2.64 %\n",
              "Tract: Corticostriatal_Tract_Posterior_R, Varia...      0.16 +- 0.05  ...  2.68 %\n",
              "Tract: Corticostriatal_Tract_Posterior_R, Varia...      0.17 +- 0.05  ...  2.93 %\n",
              "Tract: Corticostriatal_Tract_Posterior_R, Varia...      0.16 +- 0.05  ...  2.65 %\n",
              "Tract: Corticostriatal_Tract_Posterior_R, Varia...      0.16 +- 0.05  ...  2.67 %\n",
              "Tract: Corticostriatal_Tract_Posterior_R, Varia...      0.17 +- 0.05  ...  3.06 %\n",
              "Tract: Corticostriatal_Tract_Superior_R, Variab...     -0.17 +- 0.05  ...  2.89 %\n",
              "Tract: Inferior_Fronto_Occipital_Fasciculus_L, ...      0.18 +- 0.05  ...  3.37 %\n",
              "Tract: Inferior_Fronto_Occipital_Fasciculus_L, ...      0.21 +- 0.05  ...  4.47 %\n",
              "Tract: Inferior_Fronto_Occipital_Fasciculus_L, ...      0.17 +- 0.05  ...  2.94 %\n",
              "Tract: Inferior_Fronto_Occipital_Fasciculus_L, ...      0.19 +- 0.05  ...  3.60 %\n",
              "Tract: Inferior_Fronto_Occipital_Fasciculus_L, ...      0.21 +- 0.05  ...  4.51 %\n",
              "Tract: Inferior_Fronto_Occipital_Fasciculus_L, ...      0.19 +- 0.05  ...  3.66 %\n",
              "Tract: Inferior_Fronto_Occipital_Fasciculus_R, ...      0.16 +- 0.05  ...  2.68 %\n",
              "Tract: Inferior_Fronto_Occipital_Fasciculus_R, ...      0.19 +- 0.05  ...  3.60 %\n",
              "Tract: Inferior_Fronto_Occipital_Fasciculus_R, ...      0.17 +- 0.05  ...  2.91 %\n",
              "Tract: Inferior_Longitudinal_Fasciculus_R, Vari...      0.17 +- 0.05  ...  2.80 %\n",
              "Tract: Parietal_Aslant_Tract_L, Variables: Agre...     -0.18 +- 0.05  ...  3.40 %\n",
              "Tract: Parietal_Aslant_Tract_L, Variables: Agre...      0.17 +- 0.05  ...  2.77 %\n",
              "Tract: Superior_Longitudinal_Fasciculus1_R, Var...     -0.16 +- 0.05  ...  2.67 %\n",
              "Tract: Superior_Longitudinal_Fasciculus1_R, Var...     -0.16 +- 0.05  ...  2.67 %\n",
              "Tract: Superior_Longitudinal_Fasciculus2_L, Var...      0.18 +- 0.05  ...  3.18 %\n",
              "Tract: Superior_Longitudinal_Fasciculus2_L, Var...     -0.16 +- 0.05  ...  2.70 %\n",
              "Tract: Superior_Longitudinal_Fasciculus2_L, Var...      0.18 +- 0.05  ...  3.07 %\n",
              "Tract: Superior_Longitudinal_Fasciculus2_L, Var...      0.21 +- 0.05  ...  4.52 %\n",
              "Tract: Superior_Longitudinal_Fasciculus2_L, Var...      0.17 +- 0.05  ...  2.81 %\n",
              "\n",
              "[30 rows x 3 columns]"
            ]
          },
          "metadata": {
            "tags": []
          },
          "execution_count": 623
        }
      ]
    },
    {
      "cell_type": "code",
      "metadata": {
        "id": "LSVLIT3Jh4Sm",
        "colab": {
          "base_uri": "https://localhost:8080/",
          "height": 313
        },
        "outputId": "5284618c-f3f4-4d9e-fe13-b8cddd01bbda"
      },
      "source": [
        "\n",
        "for r in range(len(files)):\n",
        "  #print('Tract', files[r][0])\n",
        "  f = files[r][0]\n",
        "  fd = pd.read_csv(f, sep =  '\\t', index_col = 0)\n",
        "  col = shape_labels.tolist() + [\"Gender.1\"] + [\"Age_in_Yrs\"]\n",
        "\n",
        "  X = fd[col]\n",
        "  for t in pers_labels:\n",
        "    \n",
        "    y = fd[t]\n",
        "\n",
        "    model = LinearRegression()\n",
        "    idx2 = np.where(np.isnan(y))\n",
        "\n",
        "    y = np.array(y)\n",
        "    y = np.delete(y,idx2[0])\n",
        "\n",
        "    X = np.array(X)\n",
        "    Xnew = np.empty((X.shape[0]-1,X.shape[1]))\n",
        "\n",
        "    for l in range(len(X[0])):\n",
        "      Xnew[:,l] = np.delete(X[:,l], idx2[0])\n",
        "  \n",
        "    Xnew2 = sm2.add_constant(Xnew)\n",
        "\n",
        "    model.fit(Xnew,y)\n",
        "\n",
        "    theta_hat = ordinary_least_squares(Xnew2,y)\n",
        "\n",
        "    y_hat = Xnew2 @ theta_hat\n",
        "    ols = sm.OLS(y, Xnew2).fit()\n",
        "\n",
        "    \n",
        "    \n",
        "    #print('Personality tract:', t)\n",
        "    #print(model.score(Xnew,y)*100)\n",
        "    #print(f\"MSE = {np.mean((y - y_hat)**2):.2f}\") \n",
        "\n",
        "\n",
        "plt.figure()\n",
        "plt.title('Personality tract: %s - Fiber %s' %(t,f))\n",
        "plt.plot(model.coef_, 'r.')\n",
        "plt.plot(ols.params[1:], 'g.')\n",
        "#plt.xticks(np.arange(0,len(col),1), labels = col)\n",
        "plt.xlabel('Feature i ')\n",
        "plt.ylabel(r'$\\hat{\\theta}_i$')"
      ],
      "execution_count": 624,
      "outputs": [
        {
          "output_type": "execute_result",
          "data": {
            "text/plain": [
              "Text(0, 0.5, '$\\\\hat{\\\\theta}_i$')"
            ]
          },
          "metadata": {
            "tags": []
          },
          "execution_count": 624
        },
        {
          "output_type": "display_data",
          "data": {
            "image/png": "[encoded data removed]",
            "text/plain": [
              "<Figure size 432x288 with 1 Axes>"
            ]
          },
          "metadata": {
            "tags": [],
            "needs_background": "light"
          }
        }
      ]
    },
    {
      "cell_type": "code",
      "metadata": {
        "colab": {
          "base_uri": "https://localhost:8080/",
          "height": 283
        },
        "id": "qYZKIpOjNSKZ",
        "outputId": "9b8d4ffc-bc7c-403b-a5bc-79a0fb509ff3"
      },
      "source": [
        "plt.plot(model.coef_, 'r.')"
      ],
      "execution_count": 625,
      "outputs": [
        {
          "output_type": "execute_result",
          "data": {
            "text/plain": [
              "[<matplotlib.lines.Line2D at 0x7fd3e1e54630>]"
            ]
          },
          "metadata": {
            "tags": []
          },
          "execution_count": 625
        },
        {
          "output_type": "display_data",
          "data": {
            "image/png": "[encoded data removed]",
            "text/plain": [
              "<Figure size 432x288 with 1 Axes>"
            ]
          },
          "metadata": {
            "tags": [],
            "needs_background": "light"
          }
        }
      ]
    },
    {
      "cell_type": "code",
      "metadata": {
        "colab": {
          "base_uri": "https://localhost:8080/"
        },
        "id": "j22pvCytBLQm",
        "outputId": "1ece2296-f953-46ef-e9e7-ffac1555a962"
      },
      "source": [
        "for r in np.argsort(np.abs(model.coef_))[::-1][:3]:\n",
        "          print(col[r])"
      ],
      "execution_count": 626,
      "outputs": [
        {
          "output_type": "stream",
          "text": [
            "radius of end region 1(mm)\n",
            "total radius of end regions(mm)\n",
            "radius of end region 2(mm)\n"
          ],
          "name": "stdout"
        }
      ]
    },
    {
      "cell_type": "markdown",
      "metadata": {
        "id": "D9LZrmsAlnAG"
      },
      "source": [
        "## Females"
      ]
    },
    {
      "cell_type": "code",
      "metadata": {
        "id": "gevWx-nuluPo"
      },
      "source": [
        "pval = []\n",
        "features = []\n",
        "coef = []\n",
        "intercept = []\n",
        "xs = []\n",
        "for file in sorted(os.listdir()):\n",
        "  if \"tsv\" in file:\n",
        "    fd = pd.read_csv(file, sep =  '\\t', index_col = 0)\n",
        "    males = []\n",
        "    females = []  \n",
        "    gender = np.array(fd[\"Gender.1\"])\n",
        "    for r in range(len(gender)):\n",
        "      if gender[r] == 1:\n",
        "        females.append(fd.index[r])\n",
        "\n",
        "\n",
        "    #for r in range(len(gender)):\n",
        "     # if gender[r] == 2:\n",
        "      #  males.append(fd.index[r])\n",
        "\n",
        "\n",
        "    #maledf = df.loc[males]\n",
        "    femaledf = fd.loc[females]\n",
        "    #print(len(femaledf))\n",
        "    for s in diff_labels:\n",
        "      for l in pers_labels:\n",
        "        x = femaledf[s]\n",
        "        idx = np.where(np.isnan(x))\n",
        "        y = femaledf[l]\n",
        "        idx2 = np.where(np.isnan(y)) \n",
        "        x = np.delete(np.array(x),idx2[0].tolist()+ idx[0].tolist())\n",
        "        y = np.delete(np.array(y),idx2[0].tolist()+ idx[0].tolist())\n",
        "        x2 = sm2.add_constant(x)\n",
        "        ls = sm.OLS(y, x2).fit()\n",
        "        pval.append(ls.pvalues[1])\n",
        "        coef.append(ls.params[1])\n",
        "        intercept.append(ls.params[0])\n",
        "        xs.append(x)\n",
        "        features.append([file,s,l])"
      ],
      "execution_count": 627,
      "outputs": []
    },
    {
      "cell_type": "code",
      "metadata": {
        "id": "Fd0yRRbcluPq",
        "colab": {
          "base_uri": "https://localhost:8080/"
        },
        "outputId": "b11d9ba5-a5c8-40ba-bf67-50a7e759d881"
      },
      "source": [
        "files = np.array(features)[np.array(pval) < 0.0007]\n",
        "files\n",
        "#p = np.array(pval)[np.array(pval) < 0.005]"
      ],
      "execution_count": 628,
      "outputs": [
        {
          "output_type": "execute_result",
          "data": {
            "text/plain": [
              "array([['Corticopontine_Tract_Occipital_L.tsv', 'dti_fa', 'NEOFAC_O']],\n",
              "      dtype='<U42')"
            ]
          },
          "metadata": {
            "tags": []
          },
          "execution_count": 628
        }
      ]
    },
    {
      "cell_type": "code",
      "metadata": {
        "colab": {
          "base_uri": "https://localhost:8080/"
        },
        "id": "z80TG5zDDPYD",
        "outputId": "004e419f-a1c2-4aef-994f-c7a9a802f60c"
      },
      "source": [
        "files = np.array(features)[np.array(pval) < 0.007]\n",
        "files\n",
        "#p = np.array(pval)[np.array(pval) < 0.005]"
      ],
      "execution_count": 631,
      "outputs": [
        {
          "output_type": "execute_result",
          "data": {
            "text/plain": [
              "array([['Cingulum_Parahippocampal_R.tsv', 'gfa', 'NEOFAC_O'],\n",
              "       ['Corpus_Callosum_Tapetum.tsv', 'dti_fa', 'NEOFAC_O'],\n",
              "       ['Corticopontine_Tract_Occipital_L.tsv', 'dti_fa', 'NEOFAC_O'],\n",
              "       ['Corticopontine_Tract_Occipital_L.tsv', 'gfa', 'NEOFAC_O'],\n",
              "       ['Corticopontine_Tract_Parietal_L.tsv', 'dti_fa', 'NEOFAC_O'],\n",
              "       ['Corticopontine_Tract_Parietal_L.tsv', 'gfa', 'NEOFAC_O'],\n",
              "       ['Corticostriatal_Tract_Posterior_R.tsv', 'gfa', 'NEOFAC_O'],\n",
              "       ['Inferior_Fronto_Occipital_Fasciculus_L.tsv', 'dti_fa',\n",
              "        'NEOFAC_O'],\n",
              "       ['Middle_Cerebellar_Peduncle.tsv', 'dti_fa', 'NEOFAC_O'],\n",
              "       ['Middle_Cerebellar_Peduncle.tsv', 'gfa', 'NEOFAC_O'],\n",
              "       ['Superior_Longitudinal_Fasciculus1_L.tsv', 'ad', 'NEOFAC_O'],\n",
              "       ['Superior_Longitudinal_Fasciculus1_R.tsv', 'dti_fa', 'NEOFAC_O'],\n",
              "       ['Superior_Longitudinal_Fasciculus3_L.tsv', 'ad', 'NEOFAC_O'],\n",
              "       ['Uncinate_Fasciculus_R.tsv', 'nqa', 'NEOFAC_N'],\n",
              "       ['Vertical_Occipital_Fasciculus_R.tsv', 'ad', 'NEOFAC_O']],\n",
              "      dtype='<U42')"
            ]
          },
          "metadata": {
            "tags": []
          },
          "execution_count": 631
        }
      ]
    },
    {
      "cell_type": "code",
      "metadata": {
        "id": "qhajTn1smdy2"
      },
      "source": [
        "for r in range(len(files)):\n",
        "  f = files[r][0]\n",
        "  fd = pd.read_csv(f, sep =  '\\t', index_col = 0)\n",
        "  males = []\n",
        "  females = []  \n",
        "  gender = np.array(fd[\"Gender.1\"])\n",
        "  for h in range(len(gender)):\n",
        "    if gender[h] == 1:\n",
        "      females.append(fd.index[h])\n",
        "\n",
        "\n",
        "  #for r in range(len(gender)):\n",
        "    # if gender[r] == 2:\n",
        "    #  males.append(fd.index[r])\n",
        "\n",
        "\n",
        "  #maledf = df.loc[males]\n",
        "  \n",
        "  femaledf = fd.loc[females]\n",
        "\n",
        "  s = files[r][1]\n",
        "  l = files[r][2]\n",
        "\n",
        "\n",
        "  \n",
        "  index = [\"Slope coefficient\",\"P-value\",\"R2\"]\n",
        "\n",
        "\n",
        "  if l == \"NEOFAC_A\":\n",
        "    l2 = \"Agreeableness\"\n",
        "  elif l == \"NEOFAC_O\":\n",
        "    l2 = \"Openness to experience\"\n",
        "  elif l == \"NEOFAC_E\":\n",
        "    l2 = \"Extraversion\"\n",
        "  elif l == \"NEOFAC_C\":\n",
        "    l2 = \"Coscientiousness\"\n",
        "  else:\n",
        "    l2 = \"Neuroticism\"\n",
        "\n",
        "  variable = \"Tract: %s, Variables: %s vs %s\" %(files[r][0][:-4],l2, s)\n",
        "\n",
        "  if r == 0:\n",
        "    table1 = pd.DataFrame(columns = index)\n",
        "\n",
        "  x = femaledf[s]\n",
        "  y = femaledf[l] \n",
        "  idx = np.where(np.isnan(x))\n",
        "  idx2 = np.where(np.isnan(y))\n",
        "  y = np.delete(np.array(y),idx2[0].tolist()+ idx[0].tolist())\n",
        "  x = np.delete(np.array(x),idx2[0].tolist()+ idx[0].tolist())\n",
        "  #x = np.delete(np.array(x),13) # outlier in Cingulum_Parahippocampal_R case\n",
        "  #y = np.delete(np.array(y),13) #outlier in Cingulum_Parahippocampal_R case\n",
        "  x = (x- np.mean(x))/np.std(x) # z-score\n",
        "  y = (y- np.mean(y))/np.std(y) # z-score\n",
        "  x2 = sm2.add_constant(x)\n",
        "  ls = sm.OLS(y, x2).fit()\n",
        "\n",
        "\n",
        "  table1.loc[variable] = [0,0,0]\n",
        "\n",
        "  table1[index[0]].loc[variable] = \"%.2f +- %.2f\" %(round(ls.params[1],2),round(ls.bse[1],2))\n",
        "  table1[index[1]].loc[variable] = round(ls.pvalues[1],4)\n",
        "  table1[index[2]].loc[variable] = r\"%.2f %%\" %round(r2_score(y,ls.params[0] + ls.params[1]*x)*100,2)\n",
        "  \n",
        "  \"\"\"\n",
        "  print('R2: ', r2_score(y,ls.params[0] + ls.params[1]*x)*100, '%')\n",
        "  plt.figure()\n",
        "  plt.plot(x, ls.params[0] + ls.params[1]*x, 'r-')\n",
        "  \n",
        "  print('Slope coeff and pvalue: ',ls.params[1], ls.pvalues[1])\n",
        "  ls.summary()\n",
        "  plt.title(f)\n",
        "  plt.plot(x,y, 'b.')\n",
        "  plt.ylabel(l)\n",
        "  plt.xlabel(s)\n",
        "  plt.show()\n",
        "  \"\"\""
      ],
      "execution_count": 632,
      "outputs": []
    },
    {
      "cell_type": "code",
      "metadata": {
        "colab": {
          "base_uri": "https://localhost:8080/",
          "height": 786
        },
        "id": "sGAlijlLmbd9",
        "outputId": "57d665ff-3f59-46f1-fd66-b6ac73cbd41f"
      },
      "source": [
        "table1"
      ],
      "execution_count": 633,
      "outputs": [
        {
          "output_type": "execute_result",
          "data": {
            "text/html": [
              "<div>\n",
              "<style scoped>\n",
              "    .dataframe tbody tr th:only-of-type {\n",
              "        vertical-align: middle;\n",
              "    }\n",
              "\n",
              "    .dataframe tbody tr th {\n",
              "        vertical-align: top;\n",
              "    }\n",
              "\n",
              "    .dataframe thead th {\n",
              "        text-align: right;\n",
              "    }\n",
              "</style>\n",
              "<table border=\"1\" class=\"dataframe\">\n",
              "  <thead>\n",
              "    <tr style=\"text-align: right;\">\n",
              "      <th></th>\n",
              "      <th>Slope coefficient</th>\n",
              "      <th>P-value</th>\n",
              "      <th>R2</th>\n",
              "    </tr>\n",
              "  </thead>\n",
              "  <tbody>\n",
              "    <tr>\n",
              "      <th>Tract: Cingulum_Parahippocampal_R, Variables: Openness to experience vs gfa</th>\n",
              "      <td>0.18 +- 0.06</td>\n",
              "      <td>0.0053</td>\n",
              "      <td>3.20 %</td>\n",
              "    </tr>\n",
              "    <tr>\n",
              "      <th>Tract: Corpus_Callosum_Tapetum, Variables: Openness to experience vs dti_fa</th>\n",
              "      <td>0.21 +- 0.07</td>\n",
              "      <td>0.0028</td>\n",
              "      <td>4.34 %</td>\n",
              "    </tr>\n",
              "    <tr>\n",
              "      <th>Tract: Corticopontine_Tract_Occipital_L, Variables: Openness to experience vs dti_fa</th>\n",
              "      <td>0.24 +- 0.07</td>\n",
              "      <td>0.0005</td>\n",
              "      <td>5.69 %</td>\n",
              "    </tr>\n",
              "    <tr>\n",
              "      <th>Tract: Corticopontine_Tract_Occipital_L, Variables: Openness to experience vs gfa</th>\n",
              "      <td>0.20 +- 0.07</td>\n",
              "      <td>0.0029</td>\n",
              "      <td>4.19 %</td>\n",
              "    </tr>\n",
              "    <tr>\n",
              "      <th>Tract: Corticopontine_Tract_Parietal_L, Variables: Openness to experience vs dti_fa</th>\n",
              "      <td>0.19 +- 0.06</td>\n",
              "      <td>0.0032</td>\n",
              "      <td>3.56 %</td>\n",
              "    </tr>\n",
              "    <tr>\n",
              "      <th>Tract: Corticopontine_Tract_Parietal_L, Variables: Openness to experience vs gfa</th>\n",
              "      <td>0.18 +- 0.06</td>\n",
              "      <td>0.004</td>\n",
              "      <td>3.40 %</td>\n",
              "    </tr>\n",
              "    <tr>\n",
              "      <th>Tract: Corticostriatal_Tract_Posterior_R, Variables: Openness to experience vs gfa</th>\n",
              "      <td>0.18 +- 0.06</td>\n",
              "      <td>0.0055</td>\n",
              "      <td>3.17 %</td>\n",
              "    </tr>\n",
              "    <tr>\n",
              "      <th>Tract: Inferior_Fronto_Occipital_Fasciculus_L, Variables: Openness to experience vs dti_fa</th>\n",
              "      <td>0.19 +- 0.06</td>\n",
              "      <td>0.0029</td>\n",
              "      <td>3.64 %</td>\n",
              "    </tr>\n",
              "    <tr>\n",
              "      <th>Tract: Middle_Cerebellar_Peduncle, Variables: Openness to experience vs dti_fa</th>\n",
              "      <td>0.18 +- 0.06</td>\n",
              "      <td>0.0053</td>\n",
              "      <td>3.20 %</td>\n",
              "    </tr>\n",
              "    <tr>\n",
              "      <th>Tract: Middle_Cerebellar_Peduncle, Variables: Openness to experience vs gfa</th>\n",
              "      <td>0.18 +- 0.06</td>\n",
              "      <td>0.0059</td>\n",
              "      <td>3.12 %</td>\n",
              "    </tr>\n",
              "    <tr>\n",
              "      <th>Tract: Superior_Longitudinal_Fasciculus1_L, Variables: Openness to experience vs ad</th>\n",
              "      <td>0.20 +- 0.06</td>\n",
              "      <td>0.0023</td>\n",
              "      <td>3.82 %</td>\n",
              "    </tr>\n",
              "    <tr>\n",
              "      <th>Tract: Superior_Longitudinal_Fasciculus1_R, Variables: Openness to experience vs dti_fa</th>\n",
              "      <td>0.18 +- 0.06</td>\n",
              "      <td>0.0051</td>\n",
              "      <td>3.22 %</td>\n",
              "    </tr>\n",
              "    <tr>\n",
              "      <th>Tract: Superior_Longitudinal_Fasciculus3_L, Variables: Openness to experience vs ad</th>\n",
              "      <td>0.19 +- 0.06</td>\n",
              "      <td>0.0036</td>\n",
              "      <td>3.47 %</td>\n",
              "    </tr>\n",
              "    <tr>\n",
              "      <th>Tract: Uncinate_Fasciculus_R, Variables: Neuroticism vs nqa</th>\n",
              "      <td>0.19 +- 0.06</td>\n",
              "      <td>0.003</td>\n",
              "      <td>3.61 %</td>\n",
              "    </tr>\n",
              "    <tr>\n",
              "      <th>Tract: Vertical_Occipital_Fasciculus_R, Variables: Openness to experience vs ad</th>\n",
              "      <td>0.19 +- 0.06</td>\n",
              "      <td>0.0032</td>\n",
              "      <td>3.56 %</td>\n",
              "    </tr>\n",
              "  </tbody>\n",
              "</table>\n",
              "</div>"
            ],
            "text/plain": [
              "                                                   Slope coefficient  ...      R2\n",
              "Tract: Cingulum_Parahippocampal_R, Variables: O...      0.18 +- 0.06  ...  3.20 %\n",
              "Tract: Corpus_Callosum_Tapetum, Variables: Open...      0.21 +- 0.07  ...  4.34 %\n",
              "Tract: Corticopontine_Tract_Occipital_L, Variab...      0.24 +- 0.07  ...  5.69 %\n",
              "Tract: Corticopontine_Tract_Occipital_L, Variab...      0.20 +- 0.07  ...  4.19 %\n",
              "Tract: Corticopontine_Tract_Parietal_L, Variabl...      0.19 +- 0.06  ...  3.56 %\n",
              "Tract: Corticopontine_Tract_Parietal_L, Variabl...      0.18 +- 0.06  ...  3.40 %\n",
              "Tract: Corticostriatal_Tract_Posterior_R, Varia...      0.18 +- 0.06  ...  3.17 %\n",
              "Tract: Inferior_Fronto_Occipital_Fasciculus_L, ...      0.19 +- 0.06  ...  3.64 %\n",
              "Tract: Middle_Cerebellar_Peduncle, Variables: O...      0.18 +- 0.06  ...  3.20 %\n",
              "Tract: Middle_Cerebellar_Peduncle, Variables: O...      0.18 +- 0.06  ...  3.12 %\n",
              "Tract: Superior_Longitudinal_Fasciculus1_L, Var...      0.20 +- 0.06  ...  3.82 %\n",
              "Tract: Superior_Longitudinal_Fasciculus1_R, Var...      0.18 +- 0.06  ...  3.22 %\n",
              "Tract: Superior_Longitudinal_Fasciculus3_L, Var...      0.19 +- 0.06  ...  3.47 %\n",
              "Tract: Uncinate_Fasciculus_R, Variables: Neurot...      0.19 +- 0.06  ...  3.61 %\n",
              "Tract: Vertical_Occipital_Fasciculus_R, Variabl...      0.19 +- 0.06  ...  3.56 %\n",
              "\n",
              "[15 rows x 3 columns]"
            ]
          },
          "metadata": {
            "tags": []
          },
          "execution_count": 633
        }
      ]
    },
    {
      "cell_type": "code",
      "metadata": {
        "colab": {
          "base_uri": "https://localhost:8080/"
        },
        "id": "rzyKV2cJOlXK",
        "outputId": "b5f7a8fa-18d3-4342-d7e8-534493b32dd4"
      },
      "source": [
        "fd[\"Gender.1\"]"
      ],
      "execution_count": 634,
      "outputs": [
        {
          "output_type": "execute_result",
          "data": {
            "text/plain": [
              "100307    1\n",
              "100408    2\n",
              "101107    2\n",
              "102311    1\n",
              "102513    2\n",
              "         ..\n",
              "971160    2\n",
              "973770    2\n",
              "987983    1\n",
              "990366    2\n",
              "995174    2\n",
              "Name: Gender.1, Length: 435, dtype: int64"
            ]
          },
          "metadata": {
            "tags": []
          },
          "execution_count": 634
        }
      ]
    },
    {
      "cell_type": "code",
      "metadata": {
        "id": "RhIyeLEQmlX8",
        "colab": {
          "base_uri": "https://localhost:8080/",
          "height": 313
        },
        "outputId": "1c1395e5-d53a-41ab-da8b-ec2e62239b75"
      },
      "source": [
        "for r in range(len(files)):\r\n",
        "\r\n",
        "\r\n",
        "  f = files[r][0]\r\n",
        "  fd = pd.read_csv(f, sep =  '\\t', index_col = 0)\r\n",
        "\r\n",
        "  #males = []\r\n",
        "  females = []  \r\n",
        "  gender = np.array(fd[\"Gender.1\"])\r\n",
        "  for g in range(len(gender)):\r\n",
        "\r\n",
        "    if gender[g] == 1:\r\n",
        "      females.append(fd.index[g])\r\n",
        "\r\n",
        "\r\n",
        "  #for r in range(len(gender)):\r\n",
        "    # if gender[r] == 2:\r\n",
        "    #  males.append(fd.index[r])\r\n",
        "    \r\n",
        "  \r\n",
        "  col = diff_labels + [\"Age_in_Yrs\"]\r\n",
        "  femaledf = fd.loc[females]\r\n",
        "  X = femaledf[col]\r\n",
        "  for t in pers_labels:\r\n",
        "    \r\n",
        "    \r\n",
        "    y = femaledf[t]\r\n",
        "\r\n",
        "    model = LinearRegression()\r\n",
        "\r\n",
        "\r\n",
        "    idx2 = np.where(np.isnan(y))\r\n",
        "\r\n",
        "    y = np.array(y)\r\n",
        "    if np.any(idx2):\r\n",
        "      y = np.delete(y,idx2[0])\r\n",
        "\r\n",
        "    X = np.array(X)\r\n",
        "    Xnew = np.copy(X)\r\n",
        "    #print(X.shape, Xnew.shape)\r\n",
        "    if np.any(idx2):\r\n",
        "    \r\n",
        "      Xnew = np.empty((X.shape[0]-1, X.shape[1]))\r\n",
        "      for l in range(len(X[0])):\r\n",
        "        Xnew[:,l] = np.delete(X[:,l], idx2[0])\r\n",
        "    else:\r\n",
        "      Xnew = X.copy()\r\n",
        "\r\n",
        "    Xnew2 = sm2.add_constant(Xnew)\r\n",
        "\r\n",
        "    model.fit(Xnew,y)\r\n",
        "\r\n",
        "    theta_hat = ordinary_least_squares(Xnew2,y)\r\n",
        "\r\n",
        "    y_hat = Xnew2 @ theta_hat\r\n",
        "    ols = sm.OLS(y, Xnew2).fit()\r\n",
        "\r\n",
        "      \r\n",
        "        \r\n",
        "        #print('Personality trait:', t)\r\n",
        "        #print(model.score(Xnew,y)*100)\r\n",
        "        #print(f\"MSE = {np.mean((y - y_hat)**2):.2f}\") \r\n",
        "\r\n",
        "\r\n",
        "plt.figure()\r\n",
        "plt.title('Personality trait: %s - Fiber %s' %(t,f))\r\n",
        "plt.plot(model.coef_, 'r.')\r\n",
        "plt.plot(ols.params[1:], 'g.')\r\n",
        "plt.xticks(np.arange(0,len(col),1), labels = col)\r\n",
        "plt.xlabel('Feature i ')\r\n",
        "plt.ylabel(r'$\\hat{\\theta}_i$')"
      ],
      "execution_count": 635,
      "outputs": [
        {
          "output_type": "execute_result",
          "data": {
            "text/plain": [
              "Text(0, 0.5, '$\\\\hat{\\\\theta}_i$')"
            ]
          },
          "metadata": {
            "tags": []
          },
          "execution_count": 635
        },
        {
          "output_type": "display_data",
          "data": {
            "image/png": "[encoded data removed]",
            "text/plain": [
              "<Figure size 432x288 with 1 Axes>"
            ]
          },
          "metadata": {
            "tags": [],
            "needs_background": "light"
          }
        }
      ]
    },
    {
      "cell_type": "code",
      "metadata": {
        "id": "XfBn1jazmlax",
        "colab": {
          "base_uri": "https://localhost:8080/"
        },
        "outputId": "c1359c75-5476-4b94-8b92-12889f46318f"
      },
      "source": [
        "np.any([])"
      ],
      "execution_count": 636,
      "outputs": [
        {
          "output_type": "execute_result",
          "data": {
            "text/plain": [
              "False"
            ]
          },
          "metadata": {
            "tags": []
          },
          "execution_count": 636
        }
      ]
    },
    {
      "cell_type": "code",
      "metadata": {
        "id": "A6a6q3Nemld3"
      },
      "source": [
        ""
      ],
      "execution_count": 636,
      "outputs": []
    },
    {
      "cell_type": "markdown",
      "metadata": {
        "id": "Pj0_XqpGmmNo"
      },
      "source": [
        "## Males"
      ]
    },
    {
      "cell_type": "code",
      "metadata": {
        "colab": {
          "base_uri": "https://localhost:8080/"
        },
        "id": "X5uA220SrU32",
        "outputId": "69bbdce0-439b-44e7-845f-c0ddffa503e0"
      },
      "source": [
        "np.array(maledf).shape"
      ],
      "execution_count": 637,
      "outputs": [
        {
          "output_type": "execute_result",
          "data": {
            "text/plain": [
              "(192, 618)"
            ]
          },
          "metadata": {
            "tags": []
          },
          "execution_count": 637
        }
      ]
    },
    {
      "cell_type": "code",
      "metadata": {
        "colab": {
          "base_uri": "https://localhost:8080/"
        },
        "id": "WEKLa1FnmmNq",
        "outputId": "68183696-6703-4791-832b-49df98d7a3aa"
      },
      "source": [
        "len(femaledf)"
      ],
      "execution_count": 638,
      "outputs": [
        {
          "output_type": "execute_result",
          "data": {
            "text/plain": [
              "243"
            ]
          },
          "metadata": {
            "tags": []
          },
          "execution_count": 638
        }
      ]
    },
    {
      "cell_type": "code",
      "metadata": {
        "id": "y2qbywbxmmNr"
      },
      "source": [
        "pval = []\n",
        "features = []\n",
        "coef = []\n",
        "intercept = []\n",
        "xs = []\n",
        "for file in sorted(os.listdir()):\n",
        "  if \"tsv\" in file:\n",
        "   \n",
        "    fd = pd.read_csv(file, sep =  '\\t', index_col = 0)\n",
        "    males = []\n",
        "    females = []  \n",
        "    gender = np.array(fd[\"Gender.1\"])\n",
        "    #for r in range(len(gender)):\n",
        "      #if gender[r] == 1:\n",
        "        #females.append(fd.index[r])\n",
        "\n",
        "\n",
        "    for r in range(len(gender)):\n",
        "      if gender[r] == 2:\n",
        "        males.append(fd.index[r])\n",
        "\n",
        "\n",
        "    maledf = fd.loc[males]\n",
        "    #femaledf = df.loc[females]\n",
        "    for s in diff_labels:\n",
        "      for l in pers_labels:\n",
        "        x = maledf[s]\n",
        "        idx = np.where(np.isnan(x))\n",
        "        y = maledf[l]\n",
        "        idx2 = np.where(np.isnan(y)) \n",
        "        x = np.delete(np.array(x),idx2[0].tolist()+ idx[0].tolist())\n",
        "        y = np.delete(np.array(y),idx2[0].tolist()+ idx[0].tolist())\n",
        "        x2 = sm2.add_constant(x)\n",
        "        ls = sm.OLS(y, x2).fit()\n",
        "        pval.append(ls.pvalues[1])\n",
        "        coef.append(ls.params[1])\n",
        "        intercept.append(ls.params[0])\n",
        "        xs.append(x)\n",
        "        features.append([file,s,l])"
      ],
      "execution_count": 639,
      "outputs": []
    },
    {
      "cell_type": "code",
      "metadata": {
        "id": "XECWeewJnvOS"
      },
      "source": [
        ""
      ],
      "execution_count": 639,
      "outputs": []
    },
    {
      "cell_type": "code",
      "metadata": {
        "colab": {
          "base_uri": "https://localhost:8080/"
        },
        "id": "iept6-xsmmNs",
        "outputId": "f86f310a-9db3-474c-8bc0-12a1c150b458"
      },
      "source": [
        "filess = np.array(features)[np.array(pval) < 0.0005]\n",
        "filess"
      ],
      "execution_count": 640,
      "outputs": [
        {
          "output_type": "execute_result",
          "data": {
            "text/plain": [
              "array([], shape=(0, 3), dtype='<U42')"
            ]
          },
          "metadata": {
            "tags": []
          },
          "execution_count": 640
        }
      ]
    },
    {
      "cell_type": "code",
      "metadata": {
        "colab": {
          "base_uri": "https://localhost:8080/"
        },
        "id": "pvowYZR8DlMz",
        "outputId": "2f5a8eae-a43a-4006-f839-c5d395bcb1f2"
      },
      "source": [
        "files = np.array(features)[np.array(pval) < 0.007]\n",
        "files"
      ],
      "execution_count": 643,
      "outputs": [
        {
          "output_type": "execute_result",
          "data": {
            "text/plain": [
              "array([['Cingulum_Rarolfactory_L.tsv', 'md', 'NEOFAC_N'],\n",
              "       ['Cingulum_Rarolfactory_L.tsv', 'rd', 'NEOFAC_N'],\n",
              "       ['Corticopontine_Tract_Occipital_R.tsv', 'dti_fa', 'NEOFAC_N'],\n",
              "       ['Inferior_Longitudinal_Fasciculus_R.tsv', 'rd', 'NEOFAC_C'],\n",
              "       ['Superior_Longitudinal_Fasciculus1_L.tsv', 'md', 'NEOFAC_N'],\n",
              "       ['Superior_Longitudinal_Fasciculus1_L.tsv', 'rd', 'NEOFAC_N']],\n",
              "      dtype='<U42')"
            ]
          },
          "metadata": {
            "tags": []
          },
          "execution_count": 643
        }
      ]
    },
    {
      "cell_type": "code",
      "metadata": {
        "id": "RpVF4IoiqJA4"
      },
      "source": [
        "for r in range(len(files)):\n",
        "  f = files[r][0]\n",
        "  fd = pd.read_csv(f, sep =  '\\t', index_col = 0)\n",
        "  males = []\n",
        "  females = []  \n",
        "  gender = np.array(fd[\"Gender.1\"])\n",
        "  for h in range(len(gender)):\n",
        "    if gender[h] == 2:\n",
        "      males.append(fd.index[h])\n",
        "\n",
        "\n",
        "  #for r in range(len(gender)):\n",
        "    # if gender[r] == 2:\n",
        "    #  males.append(fd.index[r])\n",
        "\n",
        "\n",
        "  #maledf = df.loc[males]\n",
        "  maledf = fd.loc[males]\n",
        "\n",
        "  s = files[r][1]\n",
        "  l = files[r][2]\n",
        "\n",
        "\n",
        "\n",
        "  index = [\"Slope coefficient\",\"P-value\",\"R2\"]\n",
        "\n",
        "\n",
        "  if l == \"NEOFAC_A\":\n",
        "    l2 = \"Agreeableness\"\n",
        "  elif l == \"NEOFAC_O\":\n",
        "    l2 = \"Openness to experience\"\n",
        "  elif l == \"NEOFAC_E\":\n",
        "    l2 = \"Extraversion\"\n",
        "  elif l == \"NEOFAC_C\":\n",
        "    l2 = \"Coscientiousness\"\n",
        "  else:\n",
        "    l2 = \"Neuroticism\"\n",
        "\n",
        "  variable = \"Tract: %s, Variables: %s vs %s\" %(files[r][0][:-4],l2, s)\n",
        "\n",
        "  if r == 0:\n",
        "    table1 = pd.DataFrame(columns = index)\n",
        "\n",
        "  x = maledf[s]\n",
        "  y = maledf[l] \n",
        "  idx = np.where(np.isnan(x))\n",
        "  idx2 = np.where(np.isnan(y))\n",
        "  y = np.delete(np.array(y),idx2[0].tolist()+ idx[0].tolist())\n",
        "  x = np.delete(np.array(x),idx2[0].tolist()+ idx[0].tolist())\n",
        "  #x = np.delete(np.array(x),13) # outlier in Cingulum_Parahippocampal_R case\n",
        "  #y = np.delete(np.array(y),13) #outlier in Cingulum_Parahippocampal_R case\n",
        "  x = (x- np.mean(x))/np.std(x) # z-score\n",
        "  y = (y- np.mean(y))/np.std(y) # z-score\n",
        "  x2 = sm2.add_constant(x)\n",
        "  ls = sm.OLS(y, x2).fit()\n",
        "\n",
        "\n",
        "  table1.loc[variable] = [0,0,0]\n",
        "\n",
        "  table1[index[0]].loc[variable] = \"%.2f +- %.2f\" %(round(ls.params[1],2),round(ls.bse[1],2))\n",
        "  table1[index[1]].loc[variable] = round(ls.pvalues[1],4)\n",
        "  table1[index[2]].loc[variable] = r\"%.2f %%\" %round(r2_score(y,ls.params[0] + ls.params[1]*x)*100,2)\n",
        "  \"\"\"\n",
        "  print('R2: ', r2_score(y,ls.params[0] + ls.params[1]*x)*100, '%')\n",
        "  plt.figure()\n",
        "  plt.plot(x, ls.params[0] + ls.params[1]*x, 'r-')\n",
        "  \n",
        "  print('Slope coeff and pvalue: ',ls.params[1], ls.pvalues[1])\n",
        "  ls.summary()\n",
        "  plt.title(f)\n",
        "  plt.plot(x,y, 'b.')\n",
        "  plt.ylabel(l)\n",
        "  plt.xlabel(s)\n",
        "  plt.show()\n",
        "  \"\"\""
      ],
      "execution_count": 644,
      "outputs": []
    },
    {
      "cell_type": "code",
      "metadata": {
        "colab": {
          "base_uri": "https://localhost:8080/",
          "height": 233
        },
        "id": "k6Y7lJTBgoCo",
        "outputId": "065520cc-8a99-4f45-a7f0-357193ddaf3a"
      },
      "source": [
        "table1"
      ],
      "execution_count": 645,
      "outputs": [
        {
          "output_type": "execute_result",
          "data": {
            "text/html": [
              "<div>\n",
              "<style scoped>\n",
              "    .dataframe tbody tr th:only-of-type {\n",
              "        vertical-align: middle;\n",
              "    }\n",
              "\n",
              "    .dataframe tbody tr th {\n",
              "        vertical-align: top;\n",
              "    }\n",
              "\n",
              "    .dataframe thead th {\n",
              "        text-align: right;\n",
              "    }\n",
              "</style>\n",
              "<table border=\"1\" class=\"dataframe\">\n",
              "  <thead>\n",
              "    <tr style=\"text-align: right;\">\n",
              "      <th></th>\n",
              "      <th>Slope coefficient</th>\n",
              "      <th>P-value</th>\n",
              "      <th>R2</th>\n",
              "    </tr>\n",
              "  </thead>\n",
              "  <tbody>\n",
              "    <tr>\n",
              "      <th>Tract: Cingulum_Rarolfactory_L, Variables: Neuroticism vs md</th>\n",
              "      <td>-0.22 +- 0.07</td>\n",
              "      <td>0.0022</td>\n",
              "      <td>4.82 %</td>\n",
              "    </tr>\n",
              "    <tr>\n",
              "      <th>Tract: Cingulum_Rarolfactory_L, Variables: Neuroticism vs rd</th>\n",
              "      <td>-0.21 +- 0.07</td>\n",
              "      <td>0.0034</td>\n",
              "      <td>4.42 %</td>\n",
              "    </tr>\n",
              "    <tr>\n",
              "      <th>Tract: Corticopontine_Tract_Occipital_R, Variables: Neuroticism vs dti_fa</th>\n",
              "      <td>0.22 +- 0.08</td>\n",
              "      <td>0.0067</td>\n",
              "      <td>4.80 %</td>\n",
              "    </tr>\n",
              "    <tr>\n",
              "      <th>Tract: Inferior_Longitudinal_Fasciculus_R, Variables: Coscientiousness vs rd</th>\n",
              "      <td>0.19 +- 0.07</td>\n",
              "      <td>0.0067</td>\n",
              "      <td>3.80 %</td>\n",
              "    </tr>\n",
              "    <tr>\n",
              "      <th>Tract: Superior_Longitudinal_Fasciculus1_L, Variables: Neuroticism vs md</th>\n",
              "      <td>-0.20 +- 0.07</td>\n",
              "      <td>0.0065</td>\n",
              "      <td>3.83 %</td>\n",
              "    </tr>\n",
              "    <tr>\n",
              "      <th>Tract: Superior_Longitudinal_Fasciculus1_L, Variables: Neuroticism vs rd</th>\n",
              "      <td>-0.20 +- 0.07</td>\n",
              "      <td>0.0047</td>\n",
              "      <td>4.12 %</td>\n",
              "    </tr>\n",
              "  </tbody>\n",
              "</table>\n",
              "</div>"
            ],
            "text/plain": [
              "                                                   Slope coefficient  ...      R2\n",
              "Tract: Cingulum_Rarolfactory_L, Variables: Neur...     -0.22 +- 0.07  ...  4.82 %\n",
              "Tract: Cingulum_Rarolfactory_L, Variables: Neur...     -0.21 +- 0.07  ...  4.42 %\n",
              "Tract: Corticopontine_Tract_Occipital_R, Variab...      0.22 +- 0.08  ...  4.80 %\n",
              "Tract: Inferior_Longitudinal_Fasciculus_R, Vari...      0.19 +- 0.07  ...  3.80 %\n",
              "Tract: Superior_Longitudinal_Fasciculus1_L, Var...     -0.20 +- 0.07  ...  3.83 %\n",
              "Tract: Superior_Longitudinal_Fasciculus1_L, Var...     -0.20 +- 0.07  ...  4.12 %\n",
              "\n",
              "[6 rows x 3 columns]"
            ]
          },
          "metadata": {
            "tags": []
          },
          "execution_count": 645
        }
      ]
    },
    {
      "cell_type": "code",
      "metadata": {
        "colab": {
          "base_uri": "https://localhost:8080/",
          "height": 417
        },
        "id": "Y248FetuQxl-",
        "outputId": "336d36d8-9b6c-4a8b-8c65-dee9ba46b889"
      },
      "source": [
        "for r in range(len(files)):\r\n",
        "  \r\n",
        "  \r\n",
        "\r\n",
        "\r\n",
        "  f = files[r][0]\r\n",
        "  fd = pd.read_csv(f, sep =  '\\t', index_col = 0)\r\n",
        "\r\n",
        "  males = []\r\n",
        "  gender = np.array(fd[\"Gender.1\"])\r\n",
        "  print(len(gender))\r\n",
        "\r\n",
        "  for g in range(len(np.array(gender))):\r\n",
        "  \r\n",
        "    if gender[g] == 2:\r\n",
        "      males.append(fd.index[g])\r\n",
        "\r\n",
        "  col = diff_labels + [\"Age_in_Yrs\"]\r\n",
        "  maledf = fd.loc[males]\r\n",
        "  X = maledf[col]\r\n",
        "  for t in pers_labels:\r\n",
        "    y = maledf[t]\r\n",
        "    model = LinearRegression()\r\n",
        "    idx2 = np.where(np.isnan(y))\r\n",
        "    y = np.array(y)\r\n",
        "    X = np.array(X)\r\n",
        "    Xnew = np.copy(X)\r\n",
        "    #print(X.shape, Xnew.shape)\r\n",
        "    \r\n",
        "\r\n",
        "    Xnew2 = sm2.add_constant(Xnew)\r\n",
        "\r\n",
        "    model.fit(Xnew,y)\r\n",
        "\r\n",
        "    theta_hat = ordinary_least_squares(Xnew2,y)\r\n",
        "\r\n",
        "    y_hat = Xnew2 @ theta_hat\r\n",
        "    ols = sm.OLS(y, Xnew2).fit()\r\n",
        "\r\n",
        "      \r\n",
        "        \r\n",
        "        #print('Personality trait:', t)\r\n",
        "        #print(model.score(Xnew,y)*100)\r\n",
        "        #print(f\"MSE = {np.mean((y - y_hat)**2):.2f}\") \r\n",
        "\r\n",
        "\r\n",
        "plt.figure()\r\n",
        "plt.title('Personality trait: %s - Fiber %s' %(t,f))\r\n",
        "plt.plot(model.coef_, 'r.')\r\n",
        "plt.plot(ols.params[1:], 'g.')\r\n",
        "plt.xticks(np.arange(0,len(col),1), labels = col)\r\n",
        "plt.xlabel('Feature i ')\r\n",
        "plt.ylabel(r'$\\hat{\\theta}_i$')"
      ],
      "execution_count": 646,
      "outputs": [
        {
          "output_type": "stream",
          "text": [
            "435\n",
            "435\n",
            "351\n",
            "435\n",
            "435\n",
            "435\n"
          ],
          "name": "stdout"
        },
        {
          "output_type": "execute_result",
          "data": {
            "text/plain": [
              "Text(0, 0.5, '$\\\\hat{\\\\theta}_i$')"
            ]
          },
          "metadata": {
            "tags": []
          },
          "execution_count": 646
        },
        {
          "output_type": "display_data",
          "data": {
            "image/png": "[encoded data removed]",
            "text/plain": [
              "<Figure size 432x288 with 1 Axes>"
            ]
          },
          "metadata": {
            "tags": [],
            "needs_background": "light"
          }
        }
      ]
    },
    {
      "cell_type": "code",
      "metadata": {
        "colab": {
          "base_uri": "https://localhost:8080/"
        },
        "id": "FL3iNKjmmmNv",
        "outputId": "ee895876-6e24-41a1-e0d7-e69967df5d1e"
      },
      "source": [
        "len(files)\r\n"
      ],
      "execution_count": 647,
      "outputs": [
        {
          "output_type": "execute_result",
          "data": {
            "text/plain": [
              "6"
            ]
          },
          "metadata": {
            "tags": []
          },
          "execution_count": 647
        }
      ]
    },
    {
      "cell_type": "code",
      "metadata": {
        "colab": {
          "base_uri": "https://localhost:8080/"
        },
        "id": "pKX9EELKmmNw",
        "outputId": "aefb3238-da6e-4243-851c-f09abee3c158"
      },
      "source": [
        "pval[2862]"
      ],
      "execution_count": 648,
      "outputs": [
        {
          "output_type": "execute_result",
          "data": {
            "text/plain": [
              "0.43352000149557446"
            ]
          },
          "metadata": {
            "tags": []
          },
          "execution_count": 648
        }
      ]
    },
    {
      "cell_type": "code",
      "metadata": {
        "colab": {
          "base_uri": "https://localhost:8080/"
        },
        "id": "S90OvoNYmmNx",
        "outputId": "fd2b1085-5825-4940-b163-ec9e49b8bb5b"
      },
      "source": [
        "features[1730]"
      ],
      "execution_count": 649,
      "outputs": [
        {
          "output_type": "execute_result",
          "data": {
            "text/plain": [
              "['Inferior_Cerebellar_Peduncle_L.tsv', 'ad', 'NEOFAC_A']"
            ]
          },
          "metadata": {
            "tags": []
          },
          "execution_count": 649
        }
      ]
    },
    {
      "cell_type": "code",
      "metadata": {
        "id": "lYqpzcjtmmNy"
      },
      "source": [
        "files;"
      ],
      "execution_count": 650,
      "outputs": []
    },
    {
      "cell_type": "code",
      "metadata": {
        "colab": {
          "base_uri": "https://localhost:8080/",
          "height": 311
        },
        "id": "hS60AD3yUCgx",
        "outputId": "7bf53ca3-e09d-4eb4-92da-44cce56310fd"
      },
      "source": [
        "maledf.iloc[339][45:]"
      ],
      "execution_count": 651,
      "outputs": [
        {
          "output_type": "error",
          "ename": "IndexError",
          "evalue": "ignored",
          "traceback": [
            "\u001b[0;31m---------------------------------------------------------------------------\u001b[0m",
            "\u001b[0;31mIndexError\u001b[0m                                Traceback (most recent call last)",
            "\u001b[0;32m<ipython-input-651-e69710b0558f>\u001b[0m in \u001b[0;36m<module>\u001b[0;34m()\u001b[0m\n\u001b[0;32m----> 1\u001b[0;31m \u001b[0mmaledf\u001b[0m\u001b[0;34m.\u001b[0m\u001b[0miloc\u001b[0m\u001b[0;34m[\u001b[0m\u001b[0;36m339\u001b[0m\u001b[0;34m]\u001b[0m\u001b[0;34m[\u001b[0m\u001b[0;36m45\u001b[0m\u001b[0;34m:\u001b[0m\u001b[0;34m]\u001b[0m\u001b[0;34m\u001b[0m\u001b[0;34m\u001b[0m\u001b[0m\n\u001b[0m",
            "\u001b[0;32m/usr/local/lib/python3.6/dist-packages/pandas/core/indexing.py\u001b[0m in \u001b[0;36m__getitem__\u001b[0;34m(self, key)\u001b[0m\n\u001b[1;32m    877\u001b[0m \u001b[0;34m\u001b[0m\u001b[0m\n\u001b[1;32m    878\u001b[0m             \u001b[0mmaybe_callable\u001b[0m \u001b[0;34m=\u001b[0m \u001b[0mcom\u001b[0m\u001b[0;34m.\u001b[0m\u001b[0mapply_if_callable\u001b[0m\u001b[0;34m(\u001b[0m\u001b[0mkey\u001b[0m\u001b[0;34m,\u001b[0m \u001b[0mself\u001b[0m\u001b[0;34m.\u001b[0m\u001b[0mobj\u001b[0m\u001b[0;34m)\u001b[0m\u001b[0;34m\u001b[0m\u001b[0;34m\u001b[0m\u001b[0m\n\u001b[0;32m--> 879\u001b[0;31m             \u001b[0;32mreturn\u001b[0m \u001b[0mself\u001b[0m\u001b[0;34m.\u001b[0m\u001b[0m_getitem_axis\u001b[0m\u001b[0;34m(\u001b[0m\u001b[0mmaybe_callable\u001b[0m\u001b[0;34m,\u001b[0m \u001b[0maxis\u001b[0m\u001b[0;34m=\u001b[0m\u001b[0maxis\u001b[0m\u001b[0;34m)\u001b[0m\u001b[0;34m\u001b[0m\u001b[0;34m\u001b[0m\u001b[0m\n\u001b[0m\u001b[1;32m    880\u001b[0m \u001b[0;34m\u001b[0m\u001b[0m\n\u001b[1;32m    881\u001b[0m     \u001b[0;32mdef\u001b[0m \u001b[0m_is_scalar_access\u001b[0m\u001b[0;34m(\u001b[0m\u001b[0mself\u001b[0m\u001b[0;34m,\u001b[0m \u001b[0mkey\u001b[0m\u001b[0;34m:\u001b[0m \u001b[0mTuple\u001b[0m\u001b[0;34m)\u001b[0m\u001b[0;34m:\u001b[0m\u001b[0;34m\u001b[0m\u001b[0;34m\u001b[0m\u001b[0m\n",
            "\u001b[0;32m/usr/local/lib/python3.6/dist-packages/pandas/core/indexing.py\u001b[0m in \u001b[0;36m_getitem_axis\u001b[0;34m(self, key, axis)\u001b[0m\n\u001b[1;32m   1494\u001b[0m \u001b[0;34m\u001b[0m\u001b[0m\n\u001b[1;32m   1495\u001b[0m             \u001b[0;31m# validate the location\u001b[0m\u001b[0;34m\u001b[0m\u001b[0;34m\u001b[0m\u001b[0;34m\u001b[0m\u001b[0m\n\u001b[0;32m-> 1496\u001b[0;31m             \u001b[0mself\u001b[0m\u001b[0;34m.\u001b[0m\u001b[0m_validate_integer\u001b[0m\u001b[0;34m(\u001b[0m\u001b[0mkey\u001b[0m\u001b[0;34m,\u001b[0m \u001b[0maxis\u001b[0m\u001b[0;34m)\u001b[0m\u001b[0;34m\u001b[0m\u001b[0;34m\u001b[0m\u001b[0m\n\u001b[0m\u001b[1;32m   1497\u001b[0m \u001b[0;34m\u001b[0m\u001b[0m\n\u001b[1;32m   1498\u001b[0m             \u001b[0;32mreturn\u001b[0m \u001b[0mself\u001b[0m\u001b[0;34m.\u001b[0m\u001b[0mobj\u001b[0m\u001b[0;34m.\u001b[0m\u001b[0m_ixs\u001b[0m\u001b[0;34m(\u001b[0m\u001b[0mkey\u001b[0m\u001b[0;34m,\u001b[0m \u001b[0maxis\u001b[0m\u001b[0;34m=\u001b[0m\u001b[0maxis\u001b[0m\u001b[0;34m)\u001b[0m\u001b[0;34m\u001b[0m\u001b[0;34m\u001b[0m\u001b[0m\n",
            "\u001b[0;32m/usr/local/lib/python3.6/dist-packages/pandas/core/indexing.py\u001b[0m in \u001b[0;36m_validate_integer\u001b[0;34m(self, key, axis)\u001b[0m\n\u001b[1;32m   1435\u001b[0m         \u001b[0mlen_axis\u001b[0m \u001b[0;34m=\u001b[0m \u001b[0mlen\u001b[0m\u001b[0;34m(\u001b[0m\u001b[0mself\u001b[0m\u001b[0;34m.\u001b[0m\u001b[0mobj\u001b[0m\u001b[0;34m.\u001b[0m\u001b[0m_get_axis\u001b[0m\u001b[0;34m(\u001b[0m\u001b[0maxis\u001b[0m\u001b[0;34m)\u001b[0m\u001b[0;34m)\u001b[0m\u001b[0;34m\u001b[0m\u001b[0;34m\u001b[0m\u001b[0m\n\u001b[1;32m   1436\u001b[0m         \u001b[0;32mif\u001b[0m \u001b[0mkey\u001b[0m \u001b[0;34m>=\u001b[0m \u001b[0mlen_axis\u001b[0m \u001b[0;32mor\u001b[0m \u001b[0mkey\u001b[0m \u001b[0;34m<\u001b[0m \u001b[0;34m-\u001b[0m\u001b[0mlen_axis\u001b[0m\u001b[0;34m:\u001b[0m\u001b[0;34m\u001b[0m\u001b[0;34m\u001b[0m\u001b[0m\n\u001b[0;32m-> 1437\u001b[0;31m             \u001b[0;32mraise\u001b[0m \u001b[0mIndexError\u001b[0m\u001b[0;34m(\u001b[0m\u001b[0;34m\"single positional indexer is out-of-bounds\"\u001b[0m\u001b[0;34m)\u001b[0m\u001b[0;34m\u001b[0m\u001b[0;34m\u001b[0m\u001b[0m\n\u001b[0m\u001b[1;32m   1438\u001b[0m \u001b[0;34m\u001b[0m\u001b[0m\n\u001b[1;32m   1439\u001b[0m     \u001b[0;31m# -------------------------------------------------------------------\u001b[0m\u001b[0;34m\u001b[0m\u001b[0;34m\u001b[0m\u001b[0;34m\u001b[0m\u001b[0m\n",
            "\u001b[0;31mIndexError\u001b[0m: single positional indexer is out-of-bounds"
          ]
        }
      ]
    },
    {
      "cell_type": "code",
      "metadata": {
        "id": "0AqsXJScUGHy"
      },
      "source": [
        ""
      ],
      "execution_count": null,
      "outputs": []
    }
  ]
}
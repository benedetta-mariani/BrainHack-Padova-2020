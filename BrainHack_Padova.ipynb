{
  "nbformat": 4,
  "nbformat_minor": 0,
  "metadata": {
    "colab": {
      "name": "BrainHack_Padova.ipynb",
      "provenance": [],
      "collapsed_sections": []
    },
    "kernelspec": {
      "name": "python3",
      "display_name": "Python 3"
    }
  },
  "cells": [
    {
      "cell_type": "code",
      "metadata": {
        "id": "j5nkVfOr73gH",
        "colab": {
          "base_uri": "https://localhost:8080/"
        },
        "outputId": "ab3c1aa2-d4be-4354-e135-efd2fe3e9a54"
      },
      "source": [
        "from statsmodels.regression import linear_model as sm\n",
        "import pandas as pd\n",
        "import numpy as np\n",
        "import matplotlib.pyplot as plt\n",
        "import seaborn as sns\n",
        "import statsmodels.api as sm2\n",
        "from sklearn.metrics import r2_score\n",
        "import scipy"
      ],
      "execution_count": 1,
      "outputs": [
        {
          "output_type": "stream",
          "text": [
            "/usr/local/lib/python3.6/dist-packages/statsmodels/tools/_testing.py:19: FutureWarning: pandas.util.testing is deprecated. Use the functions in the public API at pandas.testing instead.\n",
            "  import pandas.util.testing as tm\n"
          ],
          "name": "stderr"
        }
      ]
    },
    {
      "cell_type": "code",
      "metadata": {
        "id": "3dviRXyA721I",
        "colab": {
          "base_uri": "https://localhost:8080/"
        },
        "outputId": "d23761dc-58a2-4c1e-ac73-615a2f9a8484"
      },
      "source": [
        "#from google.colab import drive\n",
        "#drive.mount('/content/drive')"
      ],
      "execution_count": 2,
      "outputs": [
        {
          "output_type": "stream",
          "text": [
            "Mounted at /content/drive\n"
          ],
          "name": "stdout"
        }
      ]
    },
    {
      "cell_type": "code",
      "metadata": {
        "id": "wDWg4hniXdqn"
      },
      "source": [
        "import os\n",
        "#os.chdir('/content/drive/MyDrive/Colab Notebooks')\n",
        "os.listdir();"
      ],
      "execution_count": 3,
      "outputs": []
    },
    {
      "cell_type": "markdown",
      "metadata": {
        "id": "Q-pMgbA9EqFJ"
      },
      "source": [
        "#**Association of Microstructural white matter and personality traits based on Human connectome project dataset**"
      ]
    },
    {
      "cell_type": "code",
      "metadata": {
        "colab": {
          "base_uri": "https://localhost:8080/",
          "height": 477
        },
        "id": "2qqVbcgK1wCR",
        "outputId": "a2b16d02-ccf0-482c-ca58-788b130ddafb"
      },
      "source": [
        "csvfile = sorted(os.listdir())[1]\n",
        "example = pd.read_csv(csvfile, sep =  '\\t', index_col = 0)\n",
        "col =example.columns\n",
        "example[col[:]].head()\n",
        "# first column (index of the pandas DataFrame): subjects ID"
      ],
      "execution_count": 122,
      "outputs": [
        {
          "output_type": "execute_result",
          "data": {
            "text/html": [
              "<div>\n",
              "<style scoped>\n",
              "    .dataframe tbody tr th:only-of-type {\n",
              "        vertical-align: middle;\n",
              "    }\n",
              "\n",
              "    .dataframe tbody tr th {\n",
              "        vertical-align: top;\n",
              "    }\n",
              "\n",
              "    .dataframe thead th {\n",
              "        text-align: right;\n",
              "    }\n",
              "</style>\n",
              "<table border=\"1\" class=\"dataframe\">\n",
              "  <thead>\n",
              "    <tr style=\"text-align: right;\">\n",
              "      <th></th>\n",
              "      <th>tract</th>\n",
              "      <th>tags</th>\n",
              "      <th>number of tracts</th>\n",
              "      <th>mean length(mm)</th>\n",
              "      <th>span(mm)</th>\n",
              "      <th>curl</th>\n",
              "      <th>elongation</th>\n",
              "      <th>diameter(mm)</th>\n",
              "      <th>volume(mm^3)</th>\n",
              "      <th>trunk volume(mm^3)</th>\n",
              "      <th>branch volume(mm^3)</th>\n",
              "      <th>total surface area(mm^2)</th>\n",
              "      <th>total radius of end regions(mm)</th>\n",
              "      <th>total area of end regions(mm^2)</th>\n",
              "      <th>irregularity</th>\n",
              "      <th>area of end region 1(mm^2)</th>\n",
              "      <th>radius of end region 1(mm)</th>\n",
              "      <th>irregularity of end region 1</th>\n",
              "      <th>area of end region 2(mm^2)</th>\n",
              "      <th>radius of end region 2(mm)</th>\n",
              "      <th>irregularity of end region 2</th>\n",
              "      <th>qa</th>\n",
              "      <th>nqa</th>\n",
              "      <th>dti_fa</th>\n",
              "      <th>md</th>\n",
              "      <th>ad</th>\n",
              "      <th>rd</th>\n",
              "      <th>gfa</th>\n",
              "      <th>iso</th>\n",
              "      <th>rdi</th>\n",
              "      <th>nrdi02L</th>\n",
              "      <th>nrdi04L</th>\n",
              "      <th>nrdi06L</th>\n",
              "      <th>Family_ID</th>\n",
              "      <th>Release</th>\n",
              "      <th>Acquisition</th>\n",
              "      <th>Gender</th>\n",
              "      <th>Gender.1</th>\n",
              "      <th>Age</th>\n",
              "      <th>Age_in_Yrs</th>\n",
              "      <th>...</th>\n",
              "      <th>NEORAW_31</th>\n",
              "      <th>NEORAW_32</th>\n",
              "      <th>NEORAW_33</th>\n",
              "      <th>NEORAW_34</th>\n",
              "      <th>NEORAW_35</th>\n",
              "      <th>NEORAW_36</th>\n",
              "      <th>NEORAW_37</th>\n",
              "      <th>NEORAW_38</th>\n",
              "      <th>NEORAW_39</th>\n",
              "      <th>NEORAW_40</th>\n",
              "      <th>NEORAW_41</th>\n",
              "      <th>NEORAW_42</th>\n",
              "      <th>NEORAW_43</th>\n",
              "      <th>NEORAW_44</th>\n",
              "      <th>NEORAW_45</th>\n",
              "      <th>NEORAW_46</th>\n",
              "      <th>NEORAW_47</th>\n",
              "      <th>NEORAW_48</th>\n",
              "      <th>NEORAW_49</th>\n",
              "      <th>NEORAW_50</th>\n",
              "      <th>NEORAW_51</th>\n",
              "      <th>NEORAW_52</th>\n",
              "      <th>NEORAW_53</th>\n",
              "      <th>NEORAW_54</th>\n",
              "      <th>NEORAW_55</th>\n",
              "      <th>NEORAW_56</th>\n",
              "      <th>NEORAW_57</th>\n",
              "      <th>NEORAW_58</th>\n",
              "      <th>NEORAW_59</th>\n",
              "      <th>NEORAW_60</th>\n",
              "      <th>Noise_Comp</th>\n",
              "      <th>Odor_Unadj</th>\n",
              "      <th>Odor_AgeAdj</th>\n",
              "      <th>PainIntens_RawScore</th>\n",
              "      <th>PainInterf_Tscore</th>\n",
              "      <th>Taste_Unadj</th>\n",
              "      <th>Taste_AgeAdj</th>\n",
              "      <th>Mars_Log_Score</th>\n",
              "      <th>Mars_Errs</th>\n",
              "      <th>Mars_Final</th>\n",
              "    </tr>\n",
              "  </thead>\n",
              "  <tbody>\n",
              "    <tr>\n",
              "      <th>100307</th>\n",
              "      <td>Arcuate_Fasciculus_R</td>\n",
              "      <td>dsi-studio-atk</td>\n",
              "      <td>10496.0</td>\n",
              "      <td>131.378</td>\n",
              "      <td>39.5620</td>\n",
              "      <td>3.32082</td>\n",
              "      <td>9.19801</td>\n",
              "      <td>14.2833</td>\n",
              "      <td>21051.0</td>\n",
              "      <td>19849.0</td>\n",
              "      <td>1202.0</td>\n",
              "      <td>40748.0</td>\n",
              "      <td>18.6828</td>\n",
              "      <td>3617.0</td>\n",
              "      <td>6.91199</td>\n",
              "      <td>1746.0</td>\n",
              "      <td>7.73811</td>\n",
              "      <td>0.107740</td>\n",
              "      <td>1871.0</td>\n",
              "      <td>10.94460</td>\n",
              "      <td>0.201131</td>\n",
              "      <td>0.225301</td>\n",
              "      <td>0.248174</td>\n",
              "      <td>0.341782</td>\n",
              "      <td>0.577167</td>\n",
              "      <td>0.796892</td>\n",
              "      <td>0.467393</td>\n",
              "      <td>0.115883</td>\n",
              "      <td>0.403939</td>\n",
              "      <td>0.376176</td>\n",
              "      <td>0.251907</td>\n",
              "      <td>0.035318</td>\n",
              "      <td>0.0</td>\n",
              "      <td>51488_81352</td>\n",
              "      <td>Q1</td>\n",
              "      <td>Q01</td>\n",
              "      <td>F</td>\n",
              "      <td>1</td>\n",
              "      <td>26-30</td>\n",
              "      <td>27</td>\n",
              "      <td>...</td>\n",
              "      <td>A</td>\n",
              "      <td>A</td>\n",
              "      <td>D</td>\n",
              "      <td>A</td>\n",
              "      <td>A</td>\n",
              "      <td>SD</td>\n",
              "      <td>A</td>\n",
              "      <td>N</td>\n",
              "      <td>D</td>\n",
              "      <td>A</td>\n",
              "      <td>D</td>\n",
              "      <td>D</td>\n",
              "      <td>N</td>\n",
              "      <td>D</td>\n",
              "      <td>D</td>\n",
              "      <td>A</td>\n",
              "      <td>A</td>\n",
              "      <td>D</td>\n",
              "      <td>A</td>\n",
              "      <td>A</td>\n",
              "      <td>D</td>\n",
              "      <td>SA</td>\n",
              "      <td>A</td>\n",
              "      <td>SD</td>\n",
              "      <td>D</td>\n",
              "      <td>D</td>\n",
              "      <td>D</td>\n",
              "      <td>D</td>\n",
              "      <td>SD</td>\n",
              "      <td>A</td>\n",
              "      <td>3.6</td>\n",
              "      <td>101.12</td>\n",
              "      <td>86.45</td>\n",
              "      <td>0.0</td>\n",
              "      <td>38.6</td>\n",
              "      <td>71.69</td>\n",
              "      <td>71.76</td>\n",
              "      <td>1.76</td>\n",
              "      <td>0.0</td>\n",
              "      <td>1.76</td>\n",
              "    </tr>\n",
              "    <tr>\n",
              "      <th>100408</th>\n",
              "      <td>Arcuate_Fasciculus_R</td>\n",
              "      <td>dsi-studio-atk</td>\n",
              "      <td>10805.0</td>\n",
              "      <td>138.595</td>\n",
              "      <td>47.7411</td>\n",
              "      <td>2.90305</td>\n",
              "      <td>10.74830</td>\n",
              "      <td>12.8946</td>\n",
              "      <td>18099.0</td>\n",
              "      <td>17863.0</td>\n",
              "      <td>236.0</td>\n",
              "      <td>33748.0</td>\n",
              "      <td>17.4124</td>\n",
              "      <td>3536.0</td>\n",
              "      <td>6.01094</td>\n",
              "      <td>1310.0</td>\n",
              "      <td>7.72054</td>\n",
              "      <td>0.142947</td>\n",
              "      <td>2226.0</td>\n",
              "      <td>9.69189</td>\n",
              "      <td>0.132569</td>\n",
              "      <td>0.235542</td>\n",
              "      <td>0.288548</td>\n",
              "      <td>0.382923</td>\n",
              "      <td>0.529628</td>\n",
              "      <td>0.759137</td>\n",
              "      <td>0.415025</td>\n",
              "      <td>0.119219</td>\n",
              "      <td>0.406605</td>\n",
              "      <td>0.381338</td>\n",
              "      <td>0.252138</td>\n",
              "      <td>0.033855</td>\n",
              "      <td>0.0</td>\n",
              "      <td>51730_81594</td>\n",
              "      <td>Q3</td>\n",
              "      <td>Q03</td>\n",
              "      <td>M</td>\n",
              "      <td>2</td>\n",
              "      <td>31-35</td>\n",
              "      <td>33</td>\n",
              "      <td>...</td>\n",
              "      <td>A</td>\n",
              "      <td>D</td>\n",
              "      <td>D</td>\n",
              "      <td>A</td>\n",
              "      <td>A</td>\n",
              "      <td>SD</td>\n",
              "      <td>A</td>\n",
              "      <td>SD</td>\n",
              "      <td>D</td>\n",
              "      <td>A</td>\n",
              "      <td>D</td>\n",
              "      <td>N</td>\n",
              "      <td>D</td>\n",
              "      <td>N</td>\n",
              "      <td>D</td>\n",
              "      <td>N</td>\n",
              "      <td>A</td>\n",
              "      <td>D</td>\n",
              "      <td>SA</td>\n",
              "      <td>A</td>\n",
              "      <td>D</td>\n",
              "      <td>A</td>\n",
              "      <td>A</td>\n",
              "      <td>N</td>\n",
              "      <td>D</td>\n",
              "      <td>N</td>\n",
              "      <td>D</td>\n",
              "      <td>A</td>\n",
              "      <td>A</td>\n",
              "      <td>A</td>\n",
              "      <td>2.0</td>\n",
              "      <td>108.79</td>\n",
              "      <td>98.04</td>\n",
              "      <td>2.0</td>\n",
              "      <td>52.6</td>\n",
              "      <td>114.01</td>\n",
              "      <td>113.59</td>\n",
              "      <td>1.76</td>\n",
              "      <td>2.0</td>\n",
              "      <td>1.68</td>\n",
              "    </tr>\n",
              "    <tr>\n",
              "      <th>101107</th>\n",
              "      <td>Arcuate_Fasciculus_R</td>\n",
              "      <td>dsi-studio-atk</td>\n",
              "      <td>9692.0</td>\n",
              "      <td>137.519</td>\n",
              "      <td>37.6322</td>\n",
              "      <td>3.65428</td>\n",
              "      <td>10.43420</td>\n",
              "      <td>13.1796</td>\n",
              "      <td>18761.0</td>\n",
              "      <td>8926.0</td>\n",
              "      <td>9835.0</td>\n",
              "      <td>38338.0</td>\n",
              "      <td>20.6269</td>\n",
              "      <td>3121.0</td>\n",
              "      <td>6.73310</td>\n",
              "      <td>1449.0</td>\n",
              "      <td>6.89515</td>\n",
              "      <td>0.103079</td>\n",
              "      <td>1672.0</td>\n",
              "      <td>13.73180</td>\n",
              "      <td>0.354297</td>\n",
              "      <td>0.226054</td>\n",
              "      <td>0.254177</td>\n",
              "      <td>0.338129</td>\n",
              "      <td>0.562818</td>\n",
              "      <td>0.773395</td>\n",
              "      <td>0.457483</td>\n",
              "      <td>0.113139</td>\n",
              "      <td>0.420302</td>\n",
              "      <td>0.389329</td>\n",
              "      <td>0.258333</td>\n",
              "      <td>0.035142</td>\n",
              "      <td>0.0</td>\n",
              "      <td>51969_81833</td>\n",
              "      <td>S500</td>\n",
              "      <td>Q06</td>\n",
              "      <td>M</td>\n",
              "      <td>2</td>\n",
              "      <td>22-25</td>\n",
              "      <td>22</td>\n",
              "      <td>...</td>\n",
              "      <td>A</td>\n",
              "      <td>N</td>\n",
              "      <td>D</td>\n",
              "      <td>A</td>\n",
              "      <td>SA</td>\n",
              "      <td>SA</td>\n",
              "      <td>N</td>\n",
              "      <td>N</td>\n",
              "      <td>N</td>\n",
              "      <td>SA</td>\n",
              "      <td>SD</td>\n",
              "      <td>N</td>\n",
              "      <td>D</td>\n",
              "      <td>A</td>\n",
              "      <td>SD</td>\n",
              "      <td>N</td>\n",
              "      <td>A</td>\n",
              "      <td>SD</td>\n",
              "      <td>SA</td>\n",
              "      <td>A</td>\n",
              "      <td>SD</td>\n",
              "      <td>SA</td>\n",
              "      <td>SA</td>\n",
              "      <td>A</td>\n",
              "      <td>D</td>\n",
              "      <td>N</td>\n",
              "      <td>SD</td>\n",
              "      <td>A</td>\n",
              "      <td>D</td>\n",
              "      <td>A</td>\n",
              "      <td>6.8</td>\n",
              "      <td>108.79</td>\n",
              "      <td>97.19</td>\n",
              "      <td>1.0</td>\n",
              "      <td>50.1</td>\n",
              "      <td>134.65</td>\n",
              "      <td>131.38</td>\n",
              "      <td>1.84</td>\n",
              "      <td>0.0</td>\n",
              "      <td>1.84</td>\n",
              "    </tr>\n",
              "    <tr>\n",
              "      <th>102311</th>\n",
              "      <td>Arcuate_Fasciculus_R</td>\n",
              "      <td>dsi-studio-atk</td>\n",
              "      <td>11244.0</td>\n",
              "      <td>134.410</td>\n",
              "      <td>37.9741</td>\n",
              "      <td>3.53953</td>\n",
              "      <td>9.54367</td>\n",
              "      <td>14.0837</td>\n",
              "      <td>20939.0</td>\n",
              "      <td>18646.0</td>\n",
              "      <td>2293.0</td>\n",
              "      <td>39387.0</td>\n",
              "      <td>21.3915</td>\n",
              "      <td>3942.0</td>\n",
              "      <td>6.62299</td>\n",
              "      <td>1572.0</td>\n",
              "      <td>7.73086</td>\n",
              "      <td>0.119441</td>\n",
              "      <td>2370.0</td>\n",
              "      <td>13.66060</td>\n",
              "      <td>0.247368</td>\n",
              "      <td>0.268240</td>\n",
              "      <td>0.274683</td>\n",
              "      <td>0.386692</td>\n",
              "      <td>0.537020</td>\n",
              "      <td>0.771358</td>\n",
              "      <td>0.419721</td>\n",
              "      <td>0.123726</td>\n",
              "      <td>0.438493</td>\n",
              "      <td>0.414109</td>\n",
              "      <td>0.273624</td>\n",
              "      <td>0.036690</td>\n",
              "      <td>0.0</td>\n",
              "      <td>51679_81543</td>\n",
              "      <td>S500</td>\n",
              "      <td>Q06</td>\n",
              "      <td>F</td>\n",
              "      <td>1</td>\n",
              "      <td>26-30</td>\n",
              "      <td>26</td>\n",
              "      <td>...</td>\n",
              "      <td>D</td>\n",
              "      <td>A</td>\n",
              "      <td>D</td>\n",
              "      <td>A</td>\n",
              "      <td>SA</td>\n",
              "      <td>D</td>\n",
              "      <td>D</td>\n",
              "      <td>SD</td>\n",
              "      <td>D</td>\n",
              "      <td>SA</td>\n",
              "      <td>SD</td>\n",
              "      <td>A</td>\n",
              "      <td>A</td>\n",
              "      <td>D</td>\n",
              "      <td>SD</td>\n",
              "      <td>D</td>\n",
              "      <td>A</td>\n",
              "      <td>D</td>\n",
              "      <td>A</td>\n",
              "      <td>SA</td>\n",
              "      <td>SD</td>\n",
              "      <td>A</td>\n",
              "      <td>A</td>\n",
              "      <td>N</td>\n",
              "      <td>D</td>\n",
              "      <td>D</td>\n",
              "      <td>D</td>\n",
              "      <td>N</td>\n",
              "      <td>A</td>\n",
              "      <td>SA</td>\n",
              "      <td>4.4</td>\n",
              "      <td>122.25</td>\n",
              "      <td>110.45</td>\n",
              "      <td>1.0</td>\n",
              "      <td>52.2</td>\n",
              "      <td>98.31</td>\n",
              "      <td>99.06</td>\n",
              "      <td>1.80</td>\n",
              "      <td>0.0</td>\n",
              "      <td>1.80</td>\n",
              "    </tr>\n",
              "    <tr>\n",
              "      <th>102513</th>\n",
              "      <td>Arcuate_Fasciculus_R</td>\n",
              "      <td>dsi-studio-atk</td>\n",
              "      <td>8644.0</td>\n",
              "      <td>147.513</td>\n",
              "      <td>35.9243</td>\n",
              "      <td>4.10621</td>\n",
              "      <td>10.74340</td>\n",
              "      <td>13.7305</td>\n",
              "      <td>21842.0</td>\n",
              "      <td>2833.0</td>\n",
              "      <td>19009.0</td>\n",
              "      <td>49514.0</td>\n",
              "      <td>26.9380</td>\n",
              "      <td>3493.0</td>\n",
              "      <td>7.78148</td>\n",
              "      <td>937.0</td>\n",
              "      <td>10.86560</td>\n",
              "      <td>0.395841</td>\n",
              "      <td>2556.0</td>\n",
              "      <td>16.07240</td>\n",
              "      <td>0.317504</td>\n",
              "      <td>0.201666</td>\n",
              "      <td>0.265694</td>\n",
              "      <td>0.381381</td>\n",
              "      <td>0.558666</td>\n",
              "      <td>0.792176</td>\n",
              "      <td>0.441912</td>\n",
              "      <td>0.126351</td>\n",
              "      <td>0.321768</td>\n",
              "      <td>0.306851</td>\n",
              "      <td>0.204164</td>\n",
              "      <td>0.028040</td>\n",
              "      <td>0.0</td>\n",
              "      <td>56077_85897</td>\n",
              "      <td>S900</td>\n",
              "      <td>Q10</td>\n",
              "      <td>M</td>\n",
              "      <td>2</td>\n",
              "      <td>26-30</td>\n",
              "      <td>30</td>\n",
              "      <td>...</td>\n",
              "      <td>N</td>\n",
              "      <td>D</td>\n",
              "      <td>N</td>\n",
              "      <td>A</td>\n",
              "      <td>N</td>\n",
              "      <td>D</td>\n",
              "      <td>N</td>\n",
              "      <td>SD</td>\n",
              "      <td>N</td>\n",
              "      <td>A</td>\n",
              "      <td>D</td>\n",
              "      <td>N</td>\n",
              "      <td>A</td>\n",
              "      <td>N</td>\n",
              "      <td>A</td>\n",
              "      <td>D</td>\n",
              "      <td>N</td>\n",
              "      <td>SD</td>\n",
              "      <td>A</td>\n",
              "      <td>N</td>\n",
              "      <td>SD</td>\n",
              "      <td>A</td>\n",
              "      <td>SA</td>\n",
              "      <td>N</td>\n",
              "      <td>D</td>\n",
              "      <td>SD</td>\n",
              "      <td>A</td>\n",
              "      <td>SA</td>\n",
              "      <td>A</td>\n",
              "      <td>SA</td>\n",
              "      <td>5.2</td>\n",
              "      <td>108.79</td>\n",
              "      <td>98.04</td>\n",
              "      <td>2.0</td>\n",
              "      <td>54.3</td>\n",
              "      <td>84.07</td>\n",
              "      <td>82.37</td>\n",
              "      <td>1.92</td>\n",
              "      <td>0.0</td>\n",
              "      <td>1.92</td>\n",
              "    </tr>\n",
              "  </tbody>\n",
              "</table>\n",
              "<p>5 rows × 618 columns</p>\n",
              "</div>"
            ],
            "text/plain": [
              "                       tract            tags  ...  Mars_Errs  Mars_Final\n",
              "100307  Arcuate_Fasciculus_R  dsi-studio-atk  ...        0.0        1.76\n",
              "100408  Arcuate_Fasciculus_R  dsi-studio-atk  ...        2.0        1.68\n",
              "101107  Arcuate_Fasciculus_R  dsi-studio-atk  ...        0.0        1.84\n",
              "102311  Arcuate_Fasciculus_R  dsi-studio-atk  ...        0.0        1.80\n",
              "102513  Arcuate_Fasciculus_R  dsi-studio-atk  ...        0.0        1.92\n",
              "\n",
              "[5 rows x 618 columns]"
            ]
          },
          "metadata": {
            "tags": []
          },
          "execution_count": 122
        }
      ]
    },
    {
      "cell_type": "code",
      "metadata": {
        "colab": {
          "base_uri": "https://localhost:8080/",
          "height": 355
        },
        "id": "NjS1ZdQYnAcf",
        "outputId": "2ffc6f59-eddc-4017-baa4-518818ffaa11"
      },
      "source": [
        "example[col[30:]].head()"
      ],
      "execution_count": 123,
      "outputs": [
        {
          "output_type": "execute_result",
          "data": {
            "text/html": [
              "<div>\n",
              "<style scoped>\n",
              "    .dataframe tbody tr th:only-of-type {\n",
              "        vertical-align: middle;\n",
              "    }\n",
              "\n",
              "    .dataframe tbody tr th {\n",
              "        vertical-align: top;\n",
              "    }\n",
              "\n",
              "    .dataframe thead th {\n",
              "        text-align: right;\n",
              "    }\n",
              "</style>\n",
              "<table border=\"1\" class=\"dataframe\">\n",
              "  <thead>\n",
              "    <tr style=\"text-align: right;\">\n",
              "      <th></th>\n",
              "      <th>nrdi02L</th>\n",
              "      <th>nrdi04L</th>\n",
              "      <th>nrdi06L</th>\n",
              "      <th>Family_ID</th>\n",
              "      <th>Release</th>\n",
              "      <th>Acquisition</th>\n",
              "      <th>Gender</th>\n",
              "      <th>Gender.1</th>\n",
              "      <th>Age</th>\n",
              "      <th>Age_in_Yrs</th>\n",
              "      <th>Handedness</th>\n",
              "      <th>NEOFAC_A</th>\n",
              "      <th>NEOFAC_O</th>\n",
              "      <th>NEOFAC_C</th>\n",
              "      <th>NEOFAC_N</th>\n",
              "      <th>NEOFAC_E</th>\n",
              "      <th>3T_Full_MR_Compl</th>\n",
              "      <th>T1_Count</th>\n",
              "      <th>T2_Count</th>\n",
              "      <th>3T_RS-fMRI_Count</th>\n",
              "      <th>3T_RS-fMRI_PctCompl</th>\n",
              "      <th>3T_Full_Task_fMRI</th>\n",
              "      <th>3T_tMRI_PctCompl</th>\n",
              "      <th>fMRI_WM_PctCompl</th>\n",
              "      <th>fMRI_Gamb_PctCompl</th>\n",
              "      <th>fMRI_Mot_PctCompl</th>\n",
              "      <th>fMRI_Lang_PctCompl</th>\n",
              "      <th>fMRI_Soc_PctCompl</th>\n",
              "      <th>fMRI_Rel_PctCompl</th>\n",
              "      <th>fMRI_Emo_PctCompl</th>\n",
              "      <th>3T_dMRI_Compl</th>\n",
              "      <th>3T_dMRI_PctCompl</th>\n",
              "      <th>dMRI_3T_ReconVrs</th>\n",
              "      <th>fMRI_3T_ReconVrs</th>\n",
              "      <th>7T_Full_MR_Compl</th>\n",
              "      <th>7T_RS-fMRI_Count</th>\n",
              "      <th>7T_RS-fMRI_PctCompl</th>\n",
              "      <th>7T_Full_Task_fMRI</th>\n",
              "      <th>7T_tMRI_PctCompl</th>\n",
              "      <th>fMRI_Movie_Compl</th>\n",
              "      <th>...</th>\n",
              "      <th>NEORAW_31</th>\n",
              "      <th>NEORAW_32</th>\n",
              "      <th>NEORAW_33</th>\n",
              "      <th>NEORAW_34</th>\n",
              "      <th>NEORAW_35</th>\n",
              "      <th>NEORAW_36</th>\n",
              "      <th>NEORAW_37</th>\n",
              "      <th>NEORAW_38</th>\n",
              "      <th>NEORAW_39</th>\n",
              "      <th>NEORAW_40</th>\n",
              "      <th>NEORAW_41</th>\n",
              "      <th>NEORAW_42</th>\n",
              "      <th>NEORAW_43</th>\n",
              "      <th>NEORAW_44</th>\n",
              "      <th>NEORAW_45</th>\n",
              "      <th>NEORAW_46</th>\n",
              "      <th>NEORAW_47</th>\n",
              "      <th>NEORAW_48</th>\n",
              "      <th>NEORAW_49</th>\n",
              "      <th>NEORAW_50</th>\n",
              "      <th>NEORAW_51</th>\n",
              "      <th>NEORAW_52</th>\n",
              "      <th>NEORAW_53</th>\n",
              "      <th>NEORAW_54</th>\n",
              "      <th>NEORAW_55</th>\n",
              "      <th>NEORAW_56</th>\n",
              "      <th>NEORAW_57</th>\n",
              "      <th>NEORAW_58</th>\n",
              "      <th>NEORAW_59</th>\n",
              "      <th>NEORAW_60</th>\n",
              "      <th>Noise_Comp</th>\n",
              "      <th>Odor_Unadj</th>\n",
              "      <th>Odor_AgeAdj</th>\n",
              "      <th>PainIntens_RawScore</th>\n",
              "      <th>PainInterf_Tscore</th>\n",
              "      <th>Taste_Unadj</th>\n",
              "      <th>Taste_AgeAdj</th>\n",
              "      <th>Mars_Log_Score</th>\n",
              "      <th>Mars_Errs</th>\n",
              "      <th>Mars_Final</th>\n",
              "    </tr>\n",
              "  </thead>\n",
              "  <tbody>\n",
              "    <tr>\n",
              "      <th>100307</th>\n",
              "      <td>0.251907</td>\n",
              "      <td>0.035318</td>\n",
              "      <td>0.0</td>\n",
              "      <td>51488_81352</td>\n",
              "      <td>Q1</td>\n",
              "      <td>Q01</td>\n",
              "      <td>F</td>\n",
              "      <td>1</td>\n",
              "      <td>26-30</td>\n",
              "      <td>27</td>\n",
              "      <td>95</td>\n",
              "      <td>37.0</td>\n",
              "      <td>24.0</td>\n",
              "      <td>35.0</td>\n",
              "      <td>15.0</td>\n",
              "      <td>37.0</td>\n",
              "      <td>1</td>\n",
              "      <td>1</td>\n",
              "      <td>1</td>\n",
              "      <td>4</td>\n",
              "      <td>100.0</td>\n",
              "      <td>1</td>\n",
              "      <td>100.0</td>\n",
              "      <td>100</td>\n",
              "      <td>100.0</td>\n",
              "      <td>100</td>\n",
              "      <td>100.0</td>\n",
              "      <td>100.0</td>\n",
              "      <td>100.0</td>\n",
              "      <td>100</td>\n",
              "      <td>1</td>\n",
              "      <td>100.0</td>\n",
              "      <td>r227</td>\n",
              "      <td>r177</td>\n",
              "      <td>0</td>\n",
              "      <td>0</td>\n",
              "      <td>0</td>\n",
              "      <td>0</td>\n",
              "      <td>0.0</td>\n",
              "      <td>0</td>\n",
              "      <td>...</td>\n",
              "      <td>A</td>\n",
              "      <td>A</td>\n",
              "      <td>D</td>\n",
              "      <td>A</td>\n",
              "      <td>A</td>\n",
              "      <td>SD</td>\n",
              "      <td>A</td>\n",
              "      <td>N</td>\n",
              "      <td>D</td>\n",
              "      <td>A</td>\n",
              "      <td>D</td>\n",
              "      <td>D</td>\n",
              "      <td>N</td>\n",
              "      <td>D</td>\n",
              "      <td>D</td>\n",
              "      <td>A</td>\n",
              "      <td>A</td>\n",
              "      <td>D</td>\n",
              "      <td>A</td>\n",
              "      <td>A</td>\n",
              "      <td>D</td>\n",
              "      <td>SA</td>\n",
              "      <td>A</td>\n",
              "      <td>SD</td>\n",
              "      <td>D</td>\n",
              "      <td>D</td>\n",
              "      <td>D</td>\n",
              "      <td>D</td>\n",
              "      <td>SD</td>\n",
              "      <td>A</td>\n",
              "      <td>3.6</td>\n",
              "      <td>101.12</td>\n",
              "      <td>86.45</td>\n",
              "      <td>0.0</td>\n",
              "      <td>38.6</td>\n",
              "      <td>71.69</td>\n",
              "      <td>71.76</td>\n",
              "      <td>1.76</td>\n",
              "      <td>0.0</td>\n",
              "      <td>1.76</td>\n",
              "    </tr>\n",
              "    <tr>\n",
              "      <th>100408</th>\n",
              "      <td>0.252138</td>\n",
              "      <td>0.033855</td>\n",
              "      <td>0.0</td>\n",
              "      <td>51730_81594</td>\n",
              "      <td>Q3</td>\n",
              "      <td>Q03</td>\n",
              "      <td>M</td>\n",
              "      <td>2</td>\n",
              "      <td>31-35</td>\n",
              "      <td>33</td>\n",
              "      <td>55</td>\n",
              "      <td>33.0</td>\n",
              "      <td>29.0</td>\n",
              "      <td>34.0</td>\n",
              "      <td>15.0</td>\n",
              "      <td>33.0</td>\n",
              "      <td>1</td>\n",
              "      <td>1</td>\n",
              "      <td>1</td>\n",
              "      <td>4</td>\n",
              "      <td>100.0</td>\n",
              "      <td>1</td>\n",
              "      <td>100.0</td>\n",
              "      <td>100</td>\n",
              "      <td>100.0</td>\n",
              "      <td>100</td>\n",
              "      <td>100.0</td>\n",
              "      <td>100.0</td>\n",
              "      <td>100.0</td>\n",
              "      <td>100</td>\n",
              "      <td>1</td>\n",
              "      <td>100.0</td>\n",
              "      <td>r227</td>\n",
              "      <td>r177</td>\n",
              "      <td>0</td>\n",
              "      <td>0</td>\n",
              "      <td>0</td>\n",
              "      <td>0</td>\n",
              "      <td>0.0</td>\n",
              "      <td>0</td>\n",
              "      <td>...</td>\n",
              "      <td>A</td>\n",
              "      <td>D</td>\n",
              "      <td>D</td>\n",
              "      <td>A</td>\n",
              "      <td>A</td>\n",
              "      <td>SD</td>\n",
              "      <td>A</td>\n",
              "      <td>SD</td>\n",
              "      <td>D</td>\n",
              "      <td>A</td>\n",
              "      <td>D</td>\n",
              "      <td>N</td>\n",
              "      <td>D</td>\n",
              "      <td>N</td>\n",
              "      <td>D</td>\n",
              "      <td>N</td>\n",
              "      <td>A</td>\n",
              "      <td>D</td>\n",
              "      <td>SA</td>\n",
              "      <td>A</td>\n",
              "      <td>D</td>\n",
              "      <td>A</td>\n",
              "      <td>A</td>\n",
              "      <td>N</td>\n",
              "      <td>D</td>\n",
              "      <td>N</td>\n",
              "      <td>D</td>\n",
              "      <td>A</td>\n",
              "      <td>A</td>\n",
              "      <td>A</td>\n",
              "      <td>2.0</td>\n",
              "      <td>108.79</td>\n",
              "      <td>98.04</td>\n",
              "      <td>2.0</td>\n",
              "      <td>52.6</td>\n",
              "      <td>114.01</td>\n",
              "      <td>113.59</td>\n",
              "      <td>1.76</td>\n",
              "      <td>2.0</td>\n",
              "      <td>1.68</td>\n",
              "    </tr>\n",
              "    <tr>\n",
              "      <th>101107</th>\n",
              "      <td>0.258333</td>\n",
              "      <td>0.035142</td>\n",
              "      <td>0.0</td>\n",
              "      <td>51969_81833</td>\n",
              "      <td>S500</td>\n",
              "      <td>Q06</td>\n",
              "      <td>M</td>\n",
              "      <td>2</td>\n",
              "      <td>22-25</td>\n",
              "      <td>22</td>\n",
              "      <td>5</td>\n",
              "      <td>28.0</td>\n",
              "      <td>35.0</td>\n",
              "      <td>37.0</td>\n",
              "      <td>12.0</td>\n",
              "      <td>28.0</td>\n",
              "      <td>1</td>\n",
              "      <td>2</td>\n",
              "      <td>2</td>\n",
              "      <td>4</td>\n",
              "      <td>100.0</td>\n",
              "      <td>1</td>\n",
              "      <td>100.0</td>\n",
              "      <td>100</td>\n",
              "      <td>100.0</td>\n",
              "      <td>100</td>\n",
              "      <td>100.0</td>\n",
              "      <td>100.0</td>\n",
              "      <td>100.0</td>\n",
              "      <td>100</td>\n",
              "      <td>1</td>\n",
              "      <td>100.0</td>\n",
              "      <td>r227</td>\n",
              "      <td>r227</td>\n",
              "      <td>0</td>\n",
              "      <td>0</td>\n",
              "      <td>0</td>\n",
              "      <td>0</td>\n",
              "      <td>0.0</td>\n",
              "      <td>0</td>\n",
              "      <td>...</td>\n",
              "      <td>A</td>\n",
              "      <td>N</td>\n",
              "      <td>D</td>\n",
              "      <td>A</td>\n",
              "      <td>SA</td>\n",
              "      <td>SA</td>\n",
              "      <td>N</td>\n",
              "      <td>N</td>\n",
              "      <td>N</td>\n",
              "      <td>SA</td>\n",
              "      <td>SD</td>\n",
              "      <td>N</td>\n",
              "      <td>D</td>\n",
              "      <td>A</td>\n",
              "      <td>SD</td>\n",
              "      <td>N</td>\n",
              "      <td>A</td>\n",
              "      <td>SD</td>\n",
              "      <td>SA</td>\n",
              "      <td>A</td>\n",
              "      <td>SD</td>\n",
              "      <td>SA</td>\n",
              "      <td>SA</td>\n",
              "      <td>A</td>\n",
              "      <td>D</td>\n",
              "      <td>N</td>\n",
              "      <td>SD</td>\n",
              "      <td>A</td>\n",
              "      <td>D</td>\n",
              "      <td>A</td>\n",
              "      <td>6.8</td>\n",
              "      <td>108.79</td>\n",
              "      <td>97.19</td>\n",
              "      <td>1.0</td>\n",
              "      <td>50.1</td>\n",
              "      <td>134.65</td>\n",
              "      <td>131.38</td>\n",
              "      <td>1.84</td>\n",
              "      <td>0.0</td>\n",
              "      <td>1.84</td>\n",
              "    </tr>\n",
              "    <tr>\n",
              "      <th>102311</th>\n",
              "      <td>0.273624</td>\n",
              "      <td>0.036690</td>\n",
              "      <td>0.0</td>\n",
              "      <td>51679_81543</td>\n",
              "      <td>S500</td>\n",
              "      <td>Q06</td>\n",
              "      <td>F</td>\n",
              "      <td>1</td>\n",
              "      <td>26-30</td>\n",
              "      <td>26</td>\n",
              "      <td>10</td>\n",
              "      <td>29.0</td>\n",
              "      <td>34.0</td>\n",
              "      <td>38.0</td>\n",
              "      <td>18.0</td>\n",
              "      <td>27.0</td>\n",
              "      <td>1</td>\n",
              "      <td>1</td>\n",
              "      <td>1</td>\n",
              "      <td>4</td>\n",
              "      <td>100.0</td>\n",
              "      <td>1</td>\n",
              "      <td>100.0</td>\n",
              "      <td>100</td>\n",
              "      <td>100.0</td>\n",
              "      <td>100</td>\n",
              "      <td>100.0</td>\n",
              "      <td>100.0</td>\n",
              "      <td>100.0</td>\n",
              "      <td>100</td>\n",
              "      <td>1</td>\n",
              "      <td>100.0</td>\n",
              "      <td>r227</td>\n",
              "      <td>r227</td>\n",
              "      <td>1</td>\n",
              "      <td>4</td>\n",
              "      <td>100</td>\n",
              "      <td>1</td>\n",
              "      <td>100.0</td>\n",
              "      <td>1</td>\n",
              "      <td>...</td>\n",
              "      <td>D</td>\n",
              "      <td>A</td>\n",
              "      <td>D</td>\n",
              "      <td>A</td>\n",
              "      <td>SA</td>\n",
              "      <td>D</td>\n",
              "      <td>D</td>\n",
              "      <td>SD</td>\n",
              "      <td>D</td>\n",
              "      <td>SA</td>\n",
              "      <td>SD</td>\n",
              "      <td>A</td>\n",
              "      <td>A</td>\n",
              "      <td>D</td>\n",
              "      <td>SD</td>\n",
              "      <td>D</td>\n",
              "      <td>A</td>\n",
              "      <td>D</td>\n",
              "      <td>A</td>\n",
              "      <td>SA</td>\n",
              "      <td>SD</td>\n",
              "      <td>A</td>\n",
              "      <td>A</td>\n",
              "      <td>N</td>\n",
              "      <td>D</td>\n",
              "      <td>D</td>\n",
              "      <td>D</td>\n",
              "      <td>N</td>\n",
              "      <td>A</td>\n",
              "      <td>SA</td>\n",
              "      <td>4.4</td>\n",
              "      <td>122.25</td>\n",
              "      <td>110.45</td>\n",
              "      <td>1.0</td>\n",
              "      <td>52.2</td>\n",
              "      <td>98.31</td>\n",
              "      <td>99.06</td>\n",
              "      <td>1.80</td>\n",
              "      <td>0.0</td>\n",
              "      <td>1.80</td>\n",
              "    </tr>\n",
              "    <tr>\n",
              "      <th>102513</th>\n",
              "      <td>0.204164</td>\n",
              "      <td>0.028040</td>\n",
              "      <td>0.0</td>\n",
              "      <td>56077_85897</td>\n",
              "      <td>S900</td>\n",
              "      <td>Q10</td>\n",
              "      <td>M</td>\n",
              "      <td>2</td>\n",
              "      <td>26-30</td>\n",
              "      <td>30</td>\n",
              "      <td>50</td>\n",
              "      <td>26.0</td>\n",
              "      <td>39.0</td>\n",
              "      <td>27.0</td>\n",
              "      <td>12.0</td>\n",
              "      <td>27.0</td>\n",
              "      <td>1</td>\n",
              "      <td>2</td>\n",
              "      <td>2</td>\n",
              "      <td>4</td>\n",
              "      <td>100.0</td>\n",
              "      <td>1</td>\n",
              "      <td>100.0</td>\n",
              "      <td>100</td>\n",
              "      <td>100.0</td>\n",
              "      <td>100</td>\n",
              "      <td>100.0</td>\n",
              "      <td>100.0</td>\n",
              "      <td>100.0</td>\n",
              "      <td>100</td>\n",
              "      <td>1</td>\n",
              "      <td>100.0</td>\n",
              "      <td>r227</td>\n",
              "      <td>r227</td>\n",
              "      <td>0</td>\n",
              "      <td>0</td>\n",
              "      <td>0</td>\n",
              "      <td>0</td>\n",
              "      <td>0.0</td>\n",
              "      <td>0</td>\n",
              "      <td>...</td>\n",
              "      <td>N</td>\n",
              "      <td>D</td>\n",
              "      <td>N</td>\n",
              "      <td>A</td>\n",
              "      <td>N</td>\n",
              "      <td>D</td>\n",
              "      <td>N</td>\n",
              "      <td>SD</td>\n",
              "      <td>N</td>\n",
              "      <td>A</td>\n",
              "      <td>D</td>\n",
              "      <td>N</td>\n",
              "      <td>A</td>\n",
              "      <td>N</td>\n",
              "      <td>A</td>\n",
              "      <td>D</td>\n",
              "      <td>N</td>\n",
              "      <td>SD</td>\n",
              "      <td>A</td>\n",
              "      <td>N</td>\n",
              "      <td>SD</td>\n",
              "      <td>A</td>\n",
              "      <td>SA</td>\n",
              "      <td>N</td>\n",
              "      <td>D</td>\n",
              "      <td>SD</td>\n",
              "      <td>A</td>\n",
              "      <td>SA</td>\n",
              "      <td>A</td>\n",
              "      <td>SA</td>\n",
              "      <td>5.2</td>\n",
              "      <td>108.79</td>\n",
              "      <td>98.04</td>\n",
              "      <td>2.0</td>\n",
              "      <td>54.3</td>\n",
              "      <td>84.07</td>\n",
              "      <td>82.37</td>\n",
              "      <td>1.92</td>\n",
              "      <td>0.0</td>\n",
              "      <td>1.92</td>\n",
              "    </tr>\n",
              "  </tbody>\n",
              "</table>\n",
              "<p>5 rows × 588 columns</p>\n",
              "</div>"
            ],
            "text/plain": [
              "         nrdi02L   nrdi04L  nrdi06L  ... Mars_Log_Score Mars_Errs Mars_Final\n",
              "100307  0.251907  0.035318      0.0  ...           1.76       0.0       1.76\n",
              "100408  0.252138  0.033855      0.0  ...           1.76       2.0       1.68\n",
              "101107  0.258333  0.035142      0.0  ...           1.84       0.0       1.84\n",
              "102311  0.273624  0.036690      0.0  ...           1.80       0.0       1.80\n",
              "102513  0.204164  0.028040      0.0  ...           1.92       0.0       1.92\n",
              "\n",
              "[5 rows x 588 columns]"
            ]
          },
          "metadata": {
            "tags": []
          },
          "execution_count": 123
        }
      ]
    },
    {
      "cell_type": "code",
      "metadata": {
        "colab": {
          "base_uri": "https://localhost:8080/"
        },
        "id": "rGaYYLcT2BSc",
        "outputId": "863b9707-fa65-49ef-9b4f-c147e5418d05"
      },
      "source": [
        "diff_labels = example.columns[example.columns.tolist().index(\"qa\"):example.columns.tolist().index(\"rdi\") + 1].tolist()\n",
        "pers_labels = example.columns[example.columns.tolist().index(\"NEOFAC_A\"):example.columns.tolist().index(\"NEOFAC_E\") + 1].tolist()\n",
        "diff_labels, pers_labels\n",
        "\n",
        "\n",
        "#same as doing\n",
        "\n",
        "#diff_labels = [\"qa\", \"nqa\", \"dti_fa\", \"md\", \"ad\", \"rd\", \"gfa\", \"iso\",\"rdi\"]\n",
        "#pers_labels = [\"NEOFAC_A\",\"NEOFAC_O\", \"NEOFAC_C\", \"NEOFAC_N\", \"NEOFAC_E\"]"
      ],
      "execution_count": 125,
      "outputs": [
        {
          "output_type": "execute_result",
          "data": {
            "text/plain": [
              "(['qa', 'nqa', 'dti_fa', 'md', 'ad', 'rd', 'gfa', 'iso', 'rdi'],\n",
              " ['NEOFAC_A', 'NEOFAC_O', 'NEOFAC_C', 'NEOFAC_N', 'NEOFAC_E'])"
            ]
          },
          "metadata": {
            "tags": []
          },
          "execution_count": 125
        }
      ]
    },
    {
      "cell_type": "code",
      "metadata": {
        "id": "y5FIDwUpcG_A",
        "colab": {
          "base_uri": "https://localhost:8080/"
        },
        "outputId": "29e85743-4f71-4130-c0d3-fd4f2c99da78"
      },
      "source": [
        "!pip install pingouin"
      ],
      "execution_count": 126,
      "outputs": [
        {
          "output_type": "stream",
          "text": [
            "Requirement already satisfied: pingouin in /usr/local/lib/python3.6/dist-packages (0.3.8)\n",
            "Requirement already satisfied: numpy>=1.15 in /usr/local/lib/python3.6/dist-packages (from pingouin) (1.18.5)\n",
            "Requirement already satisfied: pandas>=0.24 in /usr/local/lib/python3.6/dist-packages (from pingouin) (1.1.5)\n",
            "Requirement already satisfied: pandas-flavor>=0.1.2 in /usr/local/lib/python3.6/dist-packages (from pingouin) (0.2.0)\n",
            "Requirement already satisfied: matplotlib>=3.0.2 in /usr/local/lib/python3.6/dist-packages (from pingouin) (3.2.2)\n",
            "Requirement already satisfied: outdated in /usr/local/lib/python3.6/dist-packages (from pingouin) (0.2.0)\n",
            "Requirement already satisfied: statsmodels>=0.10.0 in /usr/local/lib/python3.6/dist-packages (from pingouin) (0.10.2)\n",
            "Requirement already satisfied: scipy>=1.3 in /usr/local/lib/python3.6/dist-packages (from pingouin) (1.4.1)\n",
            "Requirement already satisfied: tabulate in /usr/local/lib/python3.6/dist-packages (from pingouin) (0.8.7)\n",
            "Requirement already satisfied: scikit-learn in /usr/local/lib/python3.6/dist-packages (from pingouin) (0.22.2.post1)\n",
            "Requirement already satisfied: seaborn>=0.9.0 in /usr/local/lib/python3.6/dist-packages (from pingouin) (0.11.0)\n",
            "Requirement already satisfied: python-dateutil>=2.7.3 in /usr/local/lib/python3.6/dist-packages (from pandas>=0.24->pingouin) (2.8.1)\n",
            "Requirement already satisfied: pytz>=2017.2 in /usr/local/lib/python3.6/dist-packages (from pandas>=0.24->pingouin) (2018.9)\n",
            "Requirement already satisfied: xarray in /usr/local/lib/python3.6/dist-packages (from pandas-flavor>=0.1.2->pingouin) (0.15.1)\n",
            "Requirement already satisfied: kiwisolver>=1.0.1 in /usr/local/lib/python3.6/dist-packages (from matplotlib>=3.0.2->pingouin) (1.3.1)\n",
            "Requirement already satisfied: cycler>=0.10 in /usr/local/lib/python3.6/dist-packages (from matplotlib>=3.0.2->pingouin) (0.10.0)\n",
            "Requirement already satisfied: pyparsing!=2.0.4,!=2.1.2,!=2.1.6,>=2.0.1 in /usr/local/lib/python3.6/dist-packages (from matplotlib>=3.0.2->pingouin) (2.4.7)\n",
            "Requirement already satisfied: littleutils in /usr/local/lib/python3.6/dist-packages (from outdated->pingouin) (0.2.2)\n",
            "Requirement already satisfied: requests in /usr/local/lib/python3.6/dist-packages (from outdated->pingouin) (2.23.0)\n",
            "Requirement already satisfied: patsy>=0.4.0 in /usr/local/lib/python3.6/dist-packages (from statsmodels>=0.10.0->pingouin) (0.5.1)\n",
            "Requirement already satisfied: joblib>=0.11 in /usr/local/lib/python3.6/dist-packages (from scikit-learn->pingouin) (0.17.0)\n",
            "Requirement already satisfied: six>=1.5 in /usr/local/lib/python3.6/dist-packages (from python-dateutil>=2.7.3->pandas>=0.24->pingouin) (1.15.0)\n",
            "Requirement already satisfied: setuptools>=41.2 in /usr/local/lib/python3.6/dist-packages (from xarray->pandas-flavor>=0.1.2->pingouin) (50.3.2)\n",
            "Requirement already satisfied: urllib3!=1.25.0,!=1.25.1,<1.26,>=1.21.1 in /usr/local/lib/python3.6/dist-packages (from requests->outdated->pingouin) (1.24.3)\n",
            "Requirement already satisfied: certifi>=2017.4.17 in /usr/local/lib/python3.6/dist-packages (from requests->outdated->pingouin) (2020.12.5)\n",
            "Requirement already satisfied: idna<3,>=2.5 in /usr/local/lib/python3.6/dist-packages (from requests->outdated->pingouin) (2.10)\n",
            "Requirement already satisfied: chardet<4,>=3.0.2 in /usr/local/lib/python3.6/dist-packages (from requests->outdated->pingouin) (3.0.4)\n"
          ],
          "name": "stdout"
        }
      ]
    },
    {
      "cell_type": "code",
      "metadata": {
        "id": "IdAJXF0dKCoE"
      },
      "source": [
        "import pingouin"
      ],
      "execution_count": 127,
      "outputs": []
    },
    {
      "cell_type": "markdown",
      "metadata": {
        "id": "Q2uAexxdKDKs"
      },
      "source": [
        "## Linear regression"
      ]
    },
    {
      "cell_type": "code",
      "metadata": {
        "id": "_9PTlE9TXitO"
      },
      "source": [
        "dic = {\"pval\": [], \"coef\" : [], \"file\" : [], \"diff_labels\":[], \"pers_labels\" : []}\n",
        "pval = []\n",
        "features = []\n",
        "coef = []\n",
        "intercept = []\n",
        "xs = []\n",
        "for file in sorted(os.listdir()):\n",
        "  if \"tsv\" in file:\n",
        "    fd = pd.read_csv(file, sep =  '\\t', index_col = 0)\n",
        "    for s in diff_labels:\n",
        "      for l in pers_labels:\n",
        "        x = fd[s]\n",
        "        idx = np.where(np.isnan(x))\n",
        "        y = fd[l]\n",
        "        idx2 = np.where(np.isnan(y)) \n",
        "        x = np.delete(np.array(x),idx2[0].tolist()+ idx[0].tolist())\n",
        "        y = np.delete(np.array(y),idx2[0].tolist()+ idx[0].tolist())\n",
        "        x2 = sm2.add_constant(x)\n",
        "        ls = sm.OLS(y, x2).fit()\n",
        "        pval.append(ls.pvalues[1])\n",
        "        dic[\"pval\"].append(ls.pvalues[1])\n",
        "        coef.append(ls.params[1])\n",
        "        dic[\"coef\"].append(ls.params[1])\n",
        "        intercept.append(ls.params[0])\n",
        "        features.append([file,s,l])\n",
        "        dic[\"file\"].append(file)\n",
        "        dic[\"diff_labels\"].append(s)\n",
        "        dic[\"pers_labels\"].append(l)\n",
        "        # here make a dictionary"
      ],
      "execution_count": 128,
      "outputs": []
    },
    {
      "cell_type": "code",
      "metadata": {
        "id": "gA3ki0mD7stS"
      },
      "source": [
        ""
      ],
      "execution_count": 128,
      "outputs": []
    },
    {
      "cell_type": "code",
      "metadata": {
        "id": "qtrQ7cn0GGzw"
      },
      "source": [
        ""
      ],
      "execution_count": 128,
      "outputs": []
    },
    {
      "cell_type": "code",
      "metadata": {
        "id": "1owFQ8rUgBrt",
        "colab": {
          "base_uri": "https://localhost:8080/"
        },
        "outputId": "d0a873c9-5a77-481d-f44a-072dc4010a66"
      },
      "source": [
        "files = np.array(features)[np.array(pval) < 0.0007]\n",
        "len(files)"
      ],
      "execution_count": 129,
      "outputs": [
        {
          "output_type": "execute_result",
          "data": {
            "text/plain": [
              "5"
            ]
          },
          "metadata": {
            "tags": []
          },
          "execution_count": 129
        }
      ]
    },
    {
      "cell_type": "code",
      "metadata": {
        "colab": {
          "base_uri": "https://localhost:8080/"
        },
        "id": "V7cJTWKyFlsF",
        "outputId": "e10a08c7-488f-42e1-d85b-83bd6e142c75"
      },
      "source": [
        "files"
      ],
      "execution_count": 130,
      "outputs": [
        {
          "output_type": "execute_result",
          "data": {
            "text/plain": [
              "array([['Cingulum_Parahippocampal_R.tsv', 'md', 'NEOFAC_A'],\n",
              "       ['Cingulum_Parahippocampal_R.tsv', 'ad', 'NEOFAC_A'],\n",
              "       ['Inferior_Cerebellar_Peduncle_L.tsv', 'nqa', 'NEOFAC_N'],\n",
              "       ['Inferior_Cerebellar_Peduncle_R.tsv', 'nqa', 'NEOFAC_N'],\n",
              "       ['Uncinate_Fasciculus_R.tsv', 'nqa', 'NEOFAC_N']], dtype='<U42')"
            ]
          },
          "metadata": {
            "tags": []
          },
          "execution_count": 130
        }
      ]
    },
    {
      "cell_type": "code",
      "metadata": {
        "colab": {
          "base_uri": "https://localhost:8080/"
        },
        "id": "q7cFRL4jO17N",
        "outputId": "5cf0296e-e10c-4cb9-f139-bdbcc0437dff"
      },
      "source": [
        "id = pval.index(min(pval))\n",
        "pval[id]"
      ],
      "execution_count": 131,
      "outputs": [
        {
          "output_type": "execute_result",
          "data": {
            "text/plain": [
              "0.00043917757328587966"
            ]
          },
          "metadata": {
            "tags": []
          },
          "execution_count": 131
        }
      ]
    },
    {
      "cell_type": "code",
      "metadata": {
        "colab": {
          "base_uri": "https://localhost:8080/"
        },
        "id": "ezmSPPAU1Kvr",
        "outputId": "b61b15f2-ce0e-4814-f062-b21568616735"
      },
      "source": [
        "features[id]"
      ],
      "execution_count": 132,
      "outputs": [
        {
          "output_type": "execute_result",
          "data": {
            "text/plain": [
              "['Cingulum_Parahippocampal_R.tsv', 'ad', 'NEOFAC_A']"
            ]
          },
          "metadata": {
            "tags": []
          },
          "execution_count": 132
        }
      ]
    },
    {
      "cell_type": "code",
      "metadata": {
        "colab": {
          "base_uri": "https://localhost:8080/"
        },
        "id": "3kaqCvBRnucB",
        "outputId": "78b0c342-f3b7-49ab-8236-5bb2d4edeb00"
      },
      "source": [
        "files"
      ],
      "execution_count": 133,
      "outputs": [
        {
          "output_type": "execute_result",
          "data": {
            "text/plain": [
              "array([['Cingulum_Parahippocampal_R.tsv', 'md', 'NEOFAC_A'],\n",
              "       ['Cingulum_Parahippocampal_R.tsv', 'ad', 'NEOFAC_A'],\n",
              "       ['Inferior_Cerebellar_Peduncle_L.tsv', 'nqa', 'NEOFAC_N'],\n",
              "       ['Inferior_Cerebellar_Peduncle_R.tsv', 'nqa', 'NEOFAC_N'],\n",
              "       ['Uncinate_Fasciculus_R.tsv', 'nqa', 'NEOFAC_N']], dtype='<U42')"
            ]
          },
          "metadata": {
            "tags": []
          },
          "execution_count": 133
        }
      ]
    },
    {
      "cell_type": "code",
      "metadata": {
        "colab": {
          "base_uri": "https://localhost:8080/"
        },
        "id": "BSn4iefeM3gi",
        "outputId": "2d3cf354-cc98-4b25-bc9b-9f1b3fe19482"
      },
      "source": [
        "files[0]"
      ],
      "execution_count": 134,
      "outputs": [
        {
          "output_type": "execute_result",
          "data": {
            "text/plain": [
              "array(['Cingulum_Parahippocampal_R.tsv', 'md', 'NEOFAC_A'], dtype='<U42')"
            ]
          },
          "metadata": {
            "tags": []
          },
          "execution_count": 134
        }
      ]
    },
    {
      "cell_type": "code",
      "metadata": {
        "colab": {
          "base_uri": "https://localhost:8080/"
        },
        "id": "IkvxqKzPfciK",
        "outputId": "3d85dc59-04fd-42e7-df07-0d8a64d368dc"
      },
      "source": [
        "ts = []\n",
        "for r in range(len(files)):\n",
        "  f = files[r][0]\n",
        "  s = files[r][1]\n",
        "  l = files[r][2]\n",
        "  if l == \"NEOFAC_A\":\n",
        "    l2 = \"Agreeableness\"\n",
        "  elif l == \"NEOFAC_O\":\n",
        "    l2 = \"Openness to experience\"\n",
        "  elif l == \"NEOFAC_E\":\n",
        "    l2 = \"Extraversion\"\n",
        "  elif l == \"NEOFAC_C\":\n",
        "    l2 = \"Coscientiousness\"\n",
        "  else:\n",
        "    l2 = \"Neuroticism\"\n",
        "  fd = pd.read_csv(f, sep =  '\\t', index_col = 0)\n",
        "  index = [\"Slope coefficient\",\"P-value\",\"R2\"]\n",
        "  variable = \"Tract: %s, Variables: %s vs %s\" %(files[r][0][:-4],l2, s)\n",
        "  print(variable)\n",
        "  if r == 0:\n",
        "    table1 = pd.DataFrame(columns = index)\n",
        "    #table2 = pd.DataFrame(columns = index)\n",
        "  #table = pd.DataFrame( colums = fil)\n",
        " \n",
        "  x = fd[s]\n",
        "  y = fd[l] \n",
        "  idx = np.where(np.isnan(x))\n",
        "  idx2 = np.where(np.isnan(y))\n",
        "  y = np.delete(np.array(y),idx2[0].tolist()+ idx[0].tolist())\n",
        "  x = np.delete(np.array(x),idx2[0].tolist()+ idx[0].tolist())\n",
        "  #x = np.delete(np.array(x),13) # outlier in Cingulum_Parahippocampal_R case\n",
        "  #y = np.delete(np.array(y),13) #outlier in Cingulum_Parahippocampal_R case\n",
        "  x = (x- np.mean(x))/np.std(x) # z-score\n",
        "  y = (y- np.mean(y))/np.std(y) # z-score\n",
        "  x2 = sm2.add_constant(x)\n",
        "  ls = sm.OLS(y, x2).fit()\n",
        "  #print('R2: ', r2_score(y,ls.params[0] + ls.params[1]*x)*100, '%')\n",
        "  #plt.figure()\n",
        "  #plt.plot(x, ls.params[0] + ls.params[1]*x, 'r-')\n",
        "  table1.loc[variable] = [0,0,0]\n",
        "\n",
        "  table1[index[0]].loc[variable] = \"%.2f +- %.2f\" %(round(ls.params[1],2),round(ls.bse[1],2))\n",
        "  table1[index[1]].loc[variable] = round(ls.pvalues[1],4)\n",
        "  table1[index[2]].loc[variable] = r\"%.2f %%\" %round(r2_score(y,ls.params[0] + ls.params[1]*x)*100,2)\n",
        "  #print('Slope coeff and pvalue: ',ls.params[1], ls.pvalues[1])\n",
        "  #ls.summary()\n",
        "  #plt.title(f)\n",
        "  #plt.plot(x,y, 'b.')\n",
        "  #plt.ylabel(l)\n",
        "  #plt.xlabel(s)\n",
        "  #plt.show()\n",
        "  #print(r\"$2 \\theta 4$\")"
      ],
      "execution_count": 135,
      "outputs": [
        {
          "output_type": "stream",
          "text": [
            "Tract: Cingulum_Parahippocampal_R, Variables: Agreeableness vs md\n",
            "Tract: Cingulum_Parahippocampal_R, Variables: Agreeableness vs ad\n",
            "Tract: Inferior_Cerebellar_Peduncle_L, Variables: Neuroticism vs nqa\n",
            "Tract: Inferior_Cerebellar_Peduncle_R, Variables: Neuroticism vs nqa\n",
            "Tract: Uncinate_Fasciculus_R, Variables: Neuroticism vs nqa\n"
          ],
          "name": "stdout"
        }
      ]
    },
    {
      "cell_type": "code",
      "metadata": {
        "colab": {
          "base_uri": "https://localhost:8080/",
          "height": 202
        },
        "id": "dLSm0eAhew9G",
        "outputId": "33609c7f-c3d9-4367-c512-28f2e3f498af"
      },
      "source": [
        "table1"
      ],
      "execution_count": 136,
      "outputs": [
        {
          "output_type": "execute_result",
          "data": {
            "text/html": [
              "<div>\n",
              "<style scoped>\n",
              "    .dataframe tbody tr th:only-of-type {\n",
              "        vertical-align: middle;\n",
              "    }\n",
              "\n",
              "    .dataframe tbody tr th {\n",
              "        vertical-align: top;\n",
              "    }\n",
              "\n",
              "    .dataframe thead th {\n",
              "        text-align: right;\n",
              "    }\n",
              "</style>\n",
              "<table border=\"1\" class=\"dataframe\">\n",
              "  <thead>\n",
              "    <tr style=\"text-align: right;\">\n",
              "      <th></th>\n",
              "      <th>Slope coefficient</th>\n",
              "      <th>P-value</th>\n",
              "      <th>R2</th>\n",
              "    </tr>\n",
              "  </thead>\n",
              "  <tbody>\n",
              "    <tr>\n",
              "      <th>Tract: Cingulum_Parahippocampal_R, Variables: Agreeableness vs md</th>\n",
              "      <td>0.16 +- 0.05</td>\n",
              "      <td>0.0006</td>\n",
              "      <td>2.69 %</td>\n",
              "    </tr>\n",
              "    <tr>\n",
              "      <th>Tract: Cingulum_Parahippocampal_R, Variables: Agreeableness vs ad</th>\n",
              "      <td>0.17 +- 0.05</td>\n",
              "      <td>0.0004</td>\n",
              "      <td>2.82 %</td>\n",
              "    </tr>\n",
              "    <tr>\n",
              "      <th>Tract: Inferior_Cerebellar_Peduncle_L, Variables: Neuroticism vs nqa</th>\n",
              "      <td>0.17 +- 0.05</td>\n",
              "      <td>0.0005</td>\n",
              "      <td>2.80 %</td>\n",
              "    </tr>\n",
              "    <tr>\n",
              "      <th>Tract: Inferior_Cerebellar_Peduncle_R, Variables: Neuroticism vs nqa</th>\n",
              "      <td>0.17 +- 0.05</td>\n",
              "      <td>0.0006</td>\n",
              "      <td>2.73 %</td>\n",
              "    </tr>\n",
              "    <tr>\n",
              "      <th>Tract: Uncinate_Fasciculus_R, Variables: Neuroticism vs nqa</th>\n",
              "      <td>0.16 +- 0.05</td>\n",
              "      <td>0.0006</td>\n",
              "      <td>2.71 %</td>\n",
              "    </tr>\n",
              "  </tbody>\n",
              "</table>\n",
              "</div>"
            ],
            "text/plain": [
              "                                                   Slope coefficient  ...      R2\n",
              "Tract: Cingulum_Parahippocampal_R, Variables: A...      0.16 +- 0.05  ...  2.69 %\n",
              "Tract: Cingulum_Parahippocampal_R, Variables: A...      0.17 +- 0.05  ...  2.82 %\n",
              "Tract: Inferior_Cerebellar_Peduncle_L, Variable...      0.17 +- 0.05  ...  2.80 %\n",
              "Tract: Inferior_Cerebellar_Peduncle_R, Variable...      0.17 +- 0.05  ...  2.73 %\n",
              "Tract: Uncinate_Fasciculus_R, Variables: Neurot...      0.16 +- 0.05  ...  2.71 %\n",
              "\n",
              "[5 rows x 3 columns]"
            ]
          },
          "metadata": {
            "tags": []
          },
          "execution_count": 136
        }
      ]
    },
    {
      "cell_type": "code",
      "metadata": {
        "colab": {
          "base_uri": "https://localhost:8080/"
        },
        "id": "HSQr3ONYRbHx",
        "outputId": "010a4d45-c926-4538-f55c-50360785c8a5"
      },
      "source": [
        "ls.bse"
      ],
      "execution_count": 137,
      "outputs": [
        {
          "output_type": "execute_result",
          "data": {
            "text/plain": [
              "array([0.04745565, 0.04745565])"
            ]
          },
          "metadata": {
            "tags": []
          },
          "execution_count": 137
        }
      ]
    },
    {
      "cell_type": "code",
      "metadata": {
        "colab": {
          "base_uri": "https://localhost:8080/"
        },
        "id": "VHs0o0V24kXV",
        "outputId": "2169e3cb-846c-479d-f687-7b0ab044a0e1"
      },
      "source": [
        "scipy.stats.spearmanr(x,y)"
      ],
      "execution_count": 138,
      "outputs": [
        {
          "output_type": "execute_result",
          "data": {
            "text/plain": [
              "SpearmanrResult(correlation=0.14456263409954348, pvalue=0.0025376799222337396)"
            ]
          },
          "metadata": {
            "tags": []
          },
          "execution_count": 138
        }
      ]
    },
    {
      "cell_type": "code",
      "metadata": {
        "id": "IgDGhbW-30zX",
        "colab": {
          "base_uri": "https://localhost:8080/"
        },
        "outputId": "e72a7061-664d-44c0-9d01-2533cd558b21"
      },
      "source": [
        "np.corrcoef(x,y)[0,1]"
      ],
      "execution_count": 139,
      "outputs": [
        {
          "output_type": "execute_result",
          "data": {
            "text/plain": [
              "0.16467868589955087"
            ]
          },
          "metadata": {
            "tags": []
          },
          "execution_count": 139
        }
      ]
    },
    {
      "cell_type": "code",
      "metadata": {
        "colab": {
          "base_uri": "https://localhost:8080/"
        },
        "id": "4gdkfiIshCpn",
        "outputId": "175a7831-25b9-4911-e32e-d89e2ff1ab10"
      },
      "source": [
        "ls.params[1]*np.std(x)/np.std(y)"
      ],
      "execution_count": 140,
      "outputs": [
        {
          "output_type": "execute_result",
          "data": {
            "text/plain": [
              "0.16467868589955087"
            ]
          },
          "metadata": {
            "tags": []
          },
          "execution_count": 140
        }
      ]
    },
    {
      "cell_type": "code",
      "metadata": {
        "colab": {
          "base_uri": "https://localhost:8080/"
        },
        "id": "QvB6Q9HrgL9b",
        "outputId": "8d85c6fd-de09-46fd-dafd-7f9547270de9"
      },
      "source": [
        "ls.params[1]*np.std(x)/np.std(y)"
      ],
      "execution_count": 141,
      "outputs": [
        {
          "output_type": "execute_result",
          "data": {
            "text/plain": [
              "0.16467868589955087"
            ]
          },
          "metadata": {
            "tags": []
          },
          "execution_count": 141
        }
      ]
    },
    {
      "cell_type": "markdown",
      "metadata": {
        "id": "jVlxlBbv08ZJ"
      },
      "source": [
        "## Taking into account some covariates"
      ]
    },
    {
      "cell_type": "code",
      "metadata": {
        "id": "j-_6dXO46qbn"
      },
      "source": [
        ""
      ],
      "execution_count": 141,
      "outputs": []
    },
    {
      "cell_type": "code",
      "metadata": {
        "id": "oxBKFwEr6qep"
      },
      "source": [
        "import pingouin"
      ],
      "execution_count": 142,
      "outputs": []
    },
    {
      "cell_type": "code",
      "metadata": {
        "id": "bh-fqX39pcX7"
      },
      "source": [
        "pvals = []\n",
        "corrs = []\n",
        "features = []\n",
        "for file in sorted(os.listdir()):\n",
        "  if \"tsv\" in file:\n",
        "    #print(file)\n",
        "    fd = pd.read_csv(file, sep =  '\\t', index_col = 0)\n",
        "    for s in pers_labels:\n",
        "      for l in diff_labels:\n",
        "        rs = pingouin.partial_corr(fd,s,l, [\"Gender.1\", \"Age_in_Yrs\"])\n",
        "        corrs.append(rs['r'][0])\n",
        "        pvals.append(rs['p-val'][0])\n",
        "        features.append([file,s,l])"
      ],
      "execution_count": 143,
      "outputs": []
    },
    {
      "cell_type": "code",
      "metadata": {
        "id": "SgdLPxXM9D4r"
      },
      "source": [
        "pvals.index(min(pvals))\n",
        "ins = np.argsort(pvals)[:5]"
      ],
      "execution_count": 144,
      "outputs": []
    },
    {
      "cell_type": "code",
      "metadata": {
        "colab": {
          "base_uri": "https://localhost:8080/",
          "height": 79
        },
        "id": "cOGm4XyvCTnm",
        "outputId": "f1688446-9d73-43bf-ded1-34f32f8ce598"
      },
      "source": [
        "rs"
      ],
      "execution_count": 145,
      "outputs": [
        {
          "output_type": "execute_result",
          "data": {
            "text/html": [
              "<div>\n",
              "<style scoped>\n",
              "    .dataframe tbody tr th:only-of-type {\n",
              "        vertical-align: middle;\n",
              "    }\n",
              "\n",
              "    .dataframe tbody tr th {\n",
              "        vertical-align: top;\n",
              "    }\n",
              "\n",
              "    .dataframe thead th {\n",
              "        text-align: right;\n",
              "    }\n",
              "</style>\n",
              "<table border=\"1\" class=\"dataframe\">\n",
              "  <thead>\n",
              "    <tr style=\"text-align: right;\">\n",
              "      <th></th>\n",
              "      <th>n</th>\n",
              "      <th>r</th>\n",
              "      <th>CI95%</th>\n",
              "      <th>r2</th>\n",
              "      <th>adj_r2</th>\n",
              "      <th>p-val</th>\n",
              "      <th>BF10</th>\n",
              "      <th>power</th>\n",
              "    </tr>\n",
              "  </thead>\n",
              "  <tbody>\n",
              "    <tr>\n",
              "      <th>pearson</th>\n",
              "      <td>434</td>\n",
              "      <td>0.118285</td>\n",
              "      <td>[0.02, 0.21]</td>\n",
              "      <td>0.013991</td>\n",
              "      <td>0.009416</td>\n",
              "      <td>0.013673</td>\n",
              "      <td>1.244</td>\n",
              "      <td>0.694896</td>\n",
              "    </tr>\n",
              "  </tbody>\n",
              "</table>\n",
              "</div>"
            ],
            "text/plain": [
              "           n         r         CI95%  ...     p-val   BF10     power\n",
              "pearson  434  0.118285  [0.02, 0.21]  ...  0.013673  1.244  0.694896\n",
              "\n",
              "[1 rows x 8 columns]"
            ]
          },
          "metadata": {
            "tags": []
          },
          "execution_count": 145
        }
      ]
    },
    {
      "cell_type": "code",
      "metadata": {
        "colab": {
          "base_uri": "https://localhost:8080/"
        },
        "id": "D7sHCoQr-U94",
        "outputId": "31100682-ed03-4134-e739-94e728865eb5"
      },
      "source": [
        "for i in ins:\n",
        "  print(pvals[i], corrs[i], features[i])"
      ],
      "execution_count": 146,
      "outputs": [
        {
          "output_type": "stream",
          "text": [
            "0.001457730280270451 0.1523341212345253 ['Uncinate_Fasciculus_R.tsv', 'NEOFAC_N', 'nqa']\n",
            "0.002023812740833943 -0.14777896341411367 ['Superior_Longitudinal_Fasciculus1_L.tsv', 'NEOFAC_N', 'rd']\n",
            "0.002140499833552946 -0.1469880153337125 ['Thalamic_Radiation_Posterior_L.tsv', 'NEOFAC_E', 'nqa']\n",
            "0.0030927014077332185 0.14169781832492298 ['Superior_Longitudinal_Fasciculus1_L.tsv', 'NEOFAC_N', 'dti_fa']\n",
            "0.0034450298726943877 0.1401133454404422 ['Optic_Radiation_L.tsv', 'NEOFAC_N', 'nqa']\n"
          ],
          "name": "stdout"
        }
      ]
    },
    {
      "cell_type": "code",
      "metadata": {
        "id": "GRAkVLXsB2FT"
      },
      "source": [
        ""
      ],
      "execution_count": 146,
      "outputs": []
    },
    {
      "cell_type": "code",
      "metadata": {
        "id": "hRtSXD0BCG8s"
      },
      "source": [
        ""
      ],
      "execution_count": 146,
      "outputs": []
    },
    {
      "cell_type": "markdown",
      "metadata": {
        "id": "FRDTfZuMHRhd"
      },
      "source": [
        "## Multiple Linear Model"
      ]
    },
    {
      "cell_type": "code",
      "metadata": {
        "id": "BacvRqQa-Y_I"
      },
      "source": [
        "def ordinary_least_squares(Xc, y):\n",
        "\n",
        "  \"\"\" \n",
        "  Function that computes OLS analytically\n",
        "\n",
        "  NB: to take into account also an intercept, a constant vector of 1 needs to be included in Xc.\n",
        "  then theta_hat will contain both the results for the intercept and the result for the coefficients\n",
        "\n",
        "  Equivalent to python functions:\n",
        "  from sklearn.linear_model import LinearRegression\n",
        "  model = LinearRegression() \n",
        "  model.fit(X,y) \n",
        "  or\n",
        "  from statsmodels.regression import linear_model as sm\n",
        "  sm.OLS(y,Xc).fit()\n",
        "\n",
        "  Xc (ndarray): design matrix of shape (n_samples, n_regressors)\n",
        "  y (ndarray): vector of measurements of shape (n_samples)\n",
        "  Returns:\n",
        "  ndarray: estimated parameter values of shape (n_regressors)\n",
        "  \"\"\"\n",
        "\n",
        "\n",
        "  # Compute theta_hat using OLS\n",
        "  theta_hat = np.linalg.inv(Xc.T @ Xc) @ Xc.T @ y\n",
        "\n",
        "  return theta_hat\n",
        "\n"
      ],
      "execution_count": 147,
      "outputs": []
    },
    {
      "cell_type": "code",
      "metadata": {
        "id": "SuQhuJt7S5MN"
      },
      "source": [
        "from sklearn.linear_model import LinearRegression"
      ],
      "execution_count": 148,
      "outputs": []
    },
    {
      "cell_type": "code",
      "metadata": {
        "colab": {
          "base_uri": "https://localhost:8080/",
          "height": 764
        },
        "id": "_5nJdF2HHwuQ",
        "outputId": "6ebfd139-720c-4f9d-cd04-defdfdeb2a96"
      },
      "source": [
        "\n",
        "for r in range(len(files)):\n",
        "  print('Tract', files[r][0])\n",
        "  f = files[r][0]\n",
        "\n",
        "  fd = pd.read_csv(f, sep =  '\\t', index_col = 0)\n",
        "  col = diff_labels + [\"Gender.1\"] + [\"Age_in_Yrs\"] \n",
        "  X = fd[col]\n",
        "  for t in pers_labels:\n",
        "\n",
        "    y = fd[t]\n",
        "\n",
        "    model = LinearRegression()\n",
        "    idx2 = np.where(np.isnan(y))\n",
        "    y = np.array(y)\n",
        "    y = np.delete(y,idx2[0])\n",
        "\n",
        "    X = np.array(X)\n",
        "    Xnew = np.empty((X.shape[0]-1,X.shape[1]))\n",
        "  \n",
        "    for l in range(len(X[0])):\n",
        "      Xnew[:,l] = np.delete(X[:,l], idx2[0])\n",
        "\n",
        "    Xnew2 = sm2.add_constant(Xnew)\n",
        "    model.fit(Xnew,y)\n",
        "    theta_hat = ordinary_least_squares(Xnew2, y)\n",
        "\n",
        "    y_hat = Xnew2 @ theta_hat\n",
        "    # Compute MSE\n",
        "    \n",
        "    #print('Personality tract:', t)\n",
        "    #print(model.score(Xnew,y)*100)\n",
        "    #print(f\"MSE = {np.mean((y - y_hat)**2):.2f}\") \n",
        "plt.figure()\n",
        "plt.title('Personality tract: %s - Fiber %s' %(t,f))\n",
        "plt.plot(model.coef_, 'r.')\n",
        "plt.xlabel('Feature i ')\n",
        "plt.ylabel(r'$\\hat{\\theta}_i$')\n",
        "plt.xticks(np.arange(0,len(col),1), labels = col)\n"
      ],
      "execution_count": 149,
      "outputs": [
        {
          "output_type": "stream",
          "text": [
            "Tract Cingulum_Parahippocampal_R.tsv\n",
            "Tract Cingulum_Parahippocampal_R.tsv\n",
            "Tract Inferior_Cerebellar_Peduncle_L.tsv\n",
            "Tract Inferior_Cerebellar_Peduncle_R.tsv\n",
            "Tract Uncinate_Fasciculus_R.tsv\n"
          ],
          "name": "stdout"
        },
        {
          "output_type": "execute_result",
          "data": {
            "text/plain": [
              "([<matplotlib.axis.XTick at 0x7f74824729e8>,\n",
              "  <matplotlib.axis.XTick at 0x7f7482472cc0>,\n",
              "  <matplotlib.axis.XTick at 0x7f7482472c50>,\n",
              "  <matplotlib.axis.XTick at 0x7f74824b8c18>,\n",
              "  <matplotlib.axis.XTick at 0x7f74835673c8>,\n",
              "  <matplotlib.axis.XTick at 0x7f7482bd10b8>,\n",
              "  <matplotlib.axis.XTick at 0x7f7482bdae48>,\n",
              "  <matplotlib.axis.XTick at 0x7f74823b8588>,\n",
              "  <matplotlib.axis.XTick at 0x7f74823b8f28>,\n",
              "  <matplotlib.axis.XTick at 0x7f7482a97160>,\n",
              "  <matplotlib.axis.XTick at 0x7f74824630b8>],\n",
              " [Text(0, 0, 'qa'),\n",
              "  Text(0, 0, 'nqa'),\n",
              "  Text(0, 0, 'dti_fa'),\n",
              "  Text(0, 0, 'md'),\n",
              "  Text(0, 0, 'ad'),\n",
              "  Text(0, 0, 'rd'),\n",
              "  Text(0, 0, 'gfa'),\n",
              "  Text(0, 0, 'iso'),\n",
              "  Text(0, 0, 'rdi'),\n",
              "  Text(0, 0, 'Gender.1'),\n",
              "  Text(0, 0, 'Age_in_Yrs')])"
            ]
          },
          "metadata": {
            "tags": []
          },
          "execution_count": 149
        },
        {
          "output_type": "display_data",
          "data": {
            "image/png": "[encoded data removed]",
            "text/plain": [
              "<Figure size 432x288 with 1 Axes>"
            ]
          },
          "metadata": {
            "tags": [],
            "needs_background": "light"
          }
        }
      ]
    },
    {
      "cell_type": "code",
      "metadata": {
        "colab": {
          "base_uri": "https://localhost:8080/"
        },
        "id": "B5xIVLUmPBOO",
        "outputId": "a1761375-b8c0-4250-e4a6-47b339273de8"
      },
      "source": [
        "print(col)"
      ],
      "execution_count": 150,
      "outputs": [
        {
          "output_type": "stream",
          "text": [
            "['qa', 'nqa', 'dti_fa', 'md', 'ad', 'rd', 'gfa', 'iso', 'rdi', 'Gender.1', 'Age_in_Yrs']\n"
          ],
          "name": "stdout"
        }
      ]
    },
    {
      "cell_type": "code",
      "metadata": {
        "colab": {
          "base_uri": "https://localhost:8080/"
        },
        "id": "Vky4Ms8ACoYO",
        "outputId": "91037db0-0f60-4026-9f90-ea0af550b400"
      },
      "source": [
        "for r in np.argsort(np.abs(model.coef_))[::-1][:3]:\n",
        "  print(col[r])"
      ],
      "execution_count": 151,
      "outputs": [
        {
          "output_type": "stream",
          "text": [
            "md\n",
            "rd\n",
            "ad\n"
          ],
          "name": "stdout"
        }
      ]
    },
    {
      "cell_type": "code",
      "metadata": {
        "colab": {
          "base_uri": "https://localhost:8080/",
          "height": 315
        },
        "id": "nTmv76MZ8ta0",
        "outputId": "5177d19e-df91-4b99-86ae-55c57027f585"
      },
      "source": [
        "# Plotting the fit of the multiple linear model on two chosen directions\n",
        "\n",
        "# contigous indexes\n",
        "idx1 = 0\n",
        "idx2 = 1\n",
        "print(col[idx1], col[idx2])\n",
        "theta_hat = ordinary_least_squares(Xnew2, y)\n",
        "x_pred = np.linspace(min(Xnew2[:,1+idx1]),max(Xnew2[:,1+idx1]), 50)   \n",
        "y_pred = np.linspace(min(Xnew2[:,1+idx2]),max(Xnew2[:,1+idx2]), 50)  \n",
        "xx, yy = np.meshgrid(x_pred, y_pred)\n",
        "theta_hat = ordinary_least_squares(Xnew2[:,1+idx1:2+idx2], y)\n",
        "y_hat_grid = np.array([xx.flatten(), yy.flatten()]).T @ theta_hat\n",
        "ypred = Xnew2[:,1+idx1:1+idx2+1] @ theta_hat\n",
        "y_hat_grid = y_hat_grid.reshape((50, 50))\n",
        "model_viz = np.array([xx.flatten(), yy.flatten()]).T\n",
        "from sklearn import linear_model\n",
        "ols = linear_model.LinearRegression()\n",
        "model = ols.fit(Xnew[:,idx1:idx2+1], y)\n",
        "ax = plt.subplot(projection='3d')\n",
        "\n",
        "ax.plot(Xnew2[:, 1+idx1], Xnew2[:, 1+idx2], y, 'ro')\n",
        "ax.plot_surface(xx, yy, y_hat_grid.reshape(50,50), linewidth=0, alpha=0.5, color='C1',\n",
        "                cmap=plt.get_cmap('coolwarm'))\n",
        "\n",
        "ax.set(\n",
        "    xlabel='$x_1$',\n",
        "    ylabel='$x_2$',\n",
        "    zlabel='y'\n",
        "\n",
        ")\n",
        "for i in range(len(Xnew2)):\n",
        "  ax.plot((Xnew2[i, 1+idx1], Xnew2[i, 1+idx1]),\n",
        "          (Xnew2[i, 1+idx2], Xnew2[i, 1+ idx2]),\n",
        "          (y[i], ypred[i]),\n",
        "          'b-', alpha=.3)\n",
        "\n",
        "plt.tight_layout()\n"
      ],
      "execution_count": 152,
      "outputs": [
        {
          "output_type": "stream",
          "text": [
            "qa nqa\n"
          ],
          "name": "stdout"
        },
        {
          "output_type": "display_data",
          "data": {
            "image/png": "[encoded data removed]",
            "text/plain": [
              "<Figure size 432x288 with 1 Axes>"
            ]
          },
          "metadata": {
            "tags": [],
            "needs_background": "light"
          }
        }
      ]
    },
    {
      "cell_type": "code",
      "metadata": {
        "id": "3XCv6dk5Q5tT",
        "colab": {
          "base_uri": "https://localhost:8080/",
          "height": 357
        },
        "outputId": "c0e47c4d-8fc3-4139-f847-4ee46748b155"
      },
      "source": [
        "# Plotting the fit of the multiple linear model on two chosen directions\n",
        "\n",
        "import pandas as pd\n",
        "import numpy as np\n",
        "import matplotlib.pyplot as plt\n",
        "from sklearn import linear_model\n",
        "from mpl_toolkits.mplot3d import Axes3D\n",
        "\n",
        "x1 = Xnew[:,0]\n",
        "x2 = Xnew[:,1]\n",
        "x_pred = np.linspace(min(x1),max(x1), 50)   \n",
        "y_pred = np.linspace(min(x2),max(x2), 50) \n",
        "xx_pred, yy_pred = np.meshgrid(x_pred, y_pred)\n",
        "model_viz = np.array([xx_pred.flatten(), yy_pred.flatten()]).T\n",
        "Y = y\n",
        "z = Y\n",
        "from sklearn import linear_model\n",
        "ols = linear_model.LinearRegression()\n",
        "model = ols.fit(Xnew[:,:2], Y)\n",
        "predicted = model.predict(model_viz)\n",
        "ypred = model.predict(Xnew[:,:2])\n",
        "fig = plt.figure(figsize = (20,6))\n",
        "ax1 = fig.add_subplot(131, projection='3d')\n",
        "ax1.plot(x1,x2, z, color='k', zorder=15, linestyle='none', marker='.', alpha=0.5)\n",
        "ax1.scatter(xx_pred.flatten(), yy_pred.flatten(), predicted, facecolor=(0,0,0,0), s=20, edgecolor='#70b3f0')\n",
        "ax1.locator_params(nbins=4, axis='x')\n",
        "ax1.set_xlabel('x1', fontsize=12)\n",
        "ax1.set_ylabel('x2', fontsize=12)\n",
        "ax1.set_zlabel('y', fontsize=12)\n",
        "ax1.locator_params(nbins=5, axis='x')\n",
        "\n",
        "for i in range(len(Xnew2)):\n",
        "  ax1.plot((Xnew2[i, 1+idx1], Xnew2[i, 1+idx1]),\n",
        "          (Xnew2[i, 1+idx2], Xnew2[i, 1+ idx2]),\n",
        "          (y[i], ypred[i]),\n",
        "          'k-', alpha=.5)\n",
        "ax1.view_init(elev=10, azim=250)"
      ],
      "execution_count": 153,
      "outputs": [
        {
          "output_type": "display_data",
          "data": {
            "image/png": "[encoded data removed]",
            "text/plain": [
              "<Figure size 1440x432 with 1 Axes>"
            ]
          },
          "metadata": {
            "tags": [],
            "needs_background": "light"
          }
        }
      ]
    },
    {
      "cell_type": "markdown",
      "metadata": {
        "id": "_7C0EZtdgzV0"
      },
      "source": [
        "## Replicating the method on shape features (e. g. 'span(mm)', 'curl', 'elongation', 'diameter(mm)', 'volume(mm^3)', 'trunk volume(mm^3)', 'branch volume(mm^3)', 'total surface area(mm^2)', 'total radius of end regions(mm) etc...)"
      ]
    },
    {
      "cell_type": "code",
      "metadata": {
        "id": "YbeALuFqg1cL"
      },
      "source": [
        "shape_labels = fd.columns[fd.columns.tolist().index(\"span(mm)\"):fd.columns.tolist().index('irregularity of end region 2')+1]"
      ],
      "execution_count": 154,
      "outputs": []
    },
    {
      "cell_type": "code",
      "metadata": {
        "colab": {
          "base_uri": "https://localhost:8080/"
        },
        "id": "snj6teAhosie",
        "outputId": "00278ba2-1b95-403c-93a1-93f8f9788a44"
      },
      "source": [
        "shape_labels"
      ],
      "execution_count": 155,
      "outputs": [
        {
          "output_type": "execute_result",
          "data": {
            "text/plain": [
              "Index(['span(mm)', 'curl', 'elongation', 'diameter(mm)', 'volume(mm^3)',\n",
              "       'trunk volume(mm^3)', 'branch volume(mm^3)', 'total surface area(mm^2)',\n",
              "       'total radius of end regions(mm)', 'total area of end regions(mm^2)',\n",
              "       'irregularity', 'area of end region 1(mm^2)',\n",
              "       'radius of end region 1(mm)', 'irregularity of end region 1',\n",
              "       'area of end region 2(mm^2)', 'radius of end region 2(mm)',\n",
              "       'irregularity of end region 2'],\n",
              "      dtype='object')"
            ]
          },
          "metadata": {
            "tags": []
          },
          "execution_count": 155
        }
      ]
    },
    {
      "cell_type": "code",
      "metadata": {
        "id": "HMXuaYPQg1_X"
      },
      "source": [
        "pval = []\n",
        "features = []\n",
        "coef = []\n",
        "intercept = []\n",
        "xs = []\n",
        "for file in sorted(os.listdir()):\n",
        "  if \"tsv\" in file:\n",
        "    #print(file)\n",
        "    fd = pd.read_csv(file, sep =  '\\t', index_col = 0)\n",
        "    for s in shape_labels:\n",
        "      for l in pers_labels:\n",
        "        x = fd[s]\n",
        "        idx = np.where(np.isnan(x))\n",
        "        y = fd[l]\n",
        "        idx2 = np.where(np.isnan(y)) \n",
        "        x = np.delete(np.array(x),idx2[0].tolist()+ idx[0].tolist())\n",
        "        y = np.delete(np.array(y),idx2[0].tolist()+ idx[0].tolist())\n",
        "        x2 = sm2.add_constant(x)\n",
        "        ls = sm.OLS(y, x2).fit()\n",
        "        pval.append(ls.pvalues[1])\n",
        "        coef.append(ls.params[1])\n",
        "        intercept.append(ls.params[0])\n",
        "        xs.append(x)\n",
        "        features.append([file,s,l])"
      ],
      "execution_count": 156,
      "outputs": []
    },
    {
      "cell_type": "code",
      "metadata": {
        "colab": {
          "base_uri": "https://localhost:8080/"
        },
        "id": "oArJQGDDg1_b",
        "outputId": "edce1e26-3b70-4607-abbe-255b20f1af2b"
      },
      "source": [
        "files = np.array(features)[np.array(pval) < 0.0007]\n",
        "len(files)"
      ],
      "execution_count": 157,
      "outputs": [
        {
          "output_type": "execute_result",
          "data": {
            "text/plain": [
              "30"
            ]
          },
          "metadata": {
            "tags": []
          },
          "execution_count": 157
        }
      ]
    },
    {
      "cell_type": "code",
      "metadata": {
        "colab": {
          "base_uri": "https://localhost:8080/"
        },
        "id": "3TIH6R_Ig1_d",
        "outputId": "b213ed20-1191-4f40-aba8-0e824540ad74"
      },
      "source": [
        "id = pval.index(min(pval))\n",
        "pval[id]"
      ],
      "execution_count": 158,
      "outputs": [
        {
          "output_type": "execute_result",
          "data": {
            "text/plain": [
              "7.852132837753916e-06"
            ]
          },
          "metadata": {
            "tags": []
          },
          "execution_count": 158
        }
      ]
    },
    {
      "cell_type": "code",
      "metadata": {
        "colab": {
          "base_uri": "https://localhost:8080/"
        },
        "id": "4ZQ5YUuHpCBa",
        "outputId": "e1bdd56f-ecf6-4644-b5bb-f1300f8f07ed"
      },
      "source": [
        "files"
      ],
      "execution_count": 159,
      "outputs": [
        {
          "output_type": "execute_result",
          "data": {
            "text/plain": [
              "array([['Cingulum_Frontal_Parietal_R.tsv', 'area of end region 1(mm^2)',\n",
              "        'NEOFAC_O'],\n",
              "       ['Corticobulbar_Tract_R.tsv', 'total area of end regions(mm^2)',\n",
              "        'NEOFAC_A'],\n",
              "       ['Corticostriatal_Tract_Anterior_L.tsv',\n",
              "        'area of end region 1(mm^2)', 'NEOFAC_A'],\n",
              "       ['Corticostriatal_Tract_Anterior_R.tsv', 'trunk volume(mm^3)',\n",
              "        'NEOFAC_A'],\n",
              "       ['Corticostriatal_Tract_Anterior_R.tsv',\n",
              "        'total area of end regions(mm^2)', 'NEOFAC_A'],\n",
              "       ['Corticostriatal_Tract_Posterior_R.tsv', 'diameter(mm)',\n",
              "        'NEOFAC_O'],\n",
              "       ['Corticostriatal_Tract_Posterior_R.tsv',\n",
              "        'total surface area(mm^2)', 'NEOFAC_O'],\n",
              "       ['Corticostriatal_Tract_Posterior_R.tsv',\n",
              "        'total area of end regions(mm^2)', 'NEOFAC_O'],\n",
              "       ['Corticostriatal_Tract_Posterior_R.tsv', 'irregularity',\n",
              "        'NEOFAC_O'],\n",
              "       ['Corticostriatal_Tract_Posterior_R.tsv',\n",
              "        'area of end region 1(mm^2)', 'NEOFAC_O'],\n",
              "       ['Corticostriatal_Tract_Superior_R.tsv',\n",
              "        'area of end region 2(mm^2)', 'NEOFAC_A'],\n",
              "       ['Inferior_Fronto_Occipital_Fasciculus_L.tsv', 'diameter(mm)',\n",
              "        'NEOFAC_O'],\n",
              "       ['Inferior_Fronto_Occipital_Fasciculus_L.tsv', 'volume(mm^3)',\n",
              "        'NEOFAC_O'],\n",
              "       ['Inferior_Fronto_Occipital_Fasciculus_L.tsv',\n",
              "        'trunk volume(mm^3)', 'NEOFAC_O'],\n",
              "       ['Inferior_Fronto_Occipital_Fasciculus_L.tsv',\n",
              "        'total surface area(mm^2)', 'NEOFAC_O'],\n",
              "       ['Inferior_Fronto_Occipital_Fasciculus_L.tsv',\n",
              "        'total area of end regions(mm^2)', 'NEOFAC_O'],\n",
              "       ['Inferior_Fronto_Occipital_Fasciculus_L.tsv',\n",
              "        'area of end region 2(mm^2)', 'NEOFAC_O'],\n",
              "       ['Inferior_Fronto_Occipital_Fasciculus_R.tsv',\n",
              "        'total surface area(mm^2)', 'NEOFAC_O'],\n",
              "       ['Inferior_Fronto_Occipital_Fasciculus_R.tsv',\n",
              "        'total area of end regions(mm^2)', 'NEOFAC_O'],\n",
              "       ['Inferior_Fronto_Occipital_Fasciculus_R.tsv',\n",
              "        'area of end region 2(mm^2)', 'NEOFAC_O'],\n",
              "       ['Inferior_Longitudinal_Fasciculus_R.tsv',\n",
              "        'radius of end region 2(mm)', 'NEOFAC_O'],\n",
              "       ['Parietal_Aslant_Tract_L.tsv', 'elongation', 'NEOFAC_A'],\n",
              "       ['Parietal_Aslant_Tract_L.tsv', 'diameter(mm)', 'NEOFAC_A'],\n",
              "       ['Superior_Longitudinal_Fasciculus1_R.tsv',\n",
              "        'total area of end regions(mm^2)', 'NEOFAC_N'],\n",
              "       ['Superior_Longitudinal_Fasciculus1_R.tsv',\n",
              "        'area of end region 1(mm^2)', 'NEOFAC_N'],\n",
              "       ['Superior_Longitudinal_Fasciculus2_L.tsv', 'span(mm)',\n",
              "        'NEOFAC_O'],\n",
              "       ['Superior_Longitudinal_Fasciculus2_L.tsv', 'curl', 'NEOFAC_O'],\n",
              "       ['Superior_Longitudinal_Fasciculus2_L.tsv',\n",
              "        'total area of end regions(mm^2)', 'NEOFAC_A'],\n",
              "       ['Superior_Longitudinal_Fasciculus2_L.tsv',\n",
              "        'area of end region 1(mm^2)', 'NEOFAC_A'],\n",
              "       ['Superior_Longitudinal_Fasciculus2_L.tsv',\n",
              "        'area of end region 1(mm^2)', 'NEOFAC_O']], dtype='<U42')"
            ]
          },
          "metadata": {
            "tags": []
          },
          "execution_count": 159
        }
      ]
    },
    {
      "cell_type": "code",
      "metadata": {
        "id": "7n1kYruDg1_j"
      },
      "source": [
        "ts = []\n",
        "for r in range(len(files)):\n",
        "  \n",
        "\n",
        "\n",
        "  f = files[r][0]\n",
        "  s = files[r][1]\n",
        "  l = files[r][2]\n",
        "  fd = pd.read_csv(f, sep =  '\\t', index_col = 0)\n",
        "  x = fd[s]\n",
        "  y = fd[l] \n",
        "\n",
        "\n",
        "  index = [\"Slope coefficient\",\"P-value\",\"R2\"]\n",
        "\n",
        "\n",
        "  if l == \"NEOFAC_A\":\n",
        "    l2 = \"Agreeableness\"\n",
        "  elif l == \"NEOFAC_O\":\n",
        "    l2 = \"Openness to experience\"\n",
        "  elif l == \"NEOFAC_E\":\n",
        "    l2 = \"Extraversion\"\n",
        "  elif l == \"NEOFAC_C\":\n",
        "    l2 = \"Coscientiousness\"\n",
        "  else:\n",
        "    l2 = \"Neuroticism\"\n",
        "\n",
        "  variable = \"Tract: %s, Variables: %s vs %s\" %(files[r][0][:-4],l2, s)\n",
        "\n",
        "  if r == 0:\n",
        "    table1 = pd.DataFrame(columns = index)\n",
        "\n",
        "  idx = np.where(np.isnan(x))\n",
        "  idx2 = np.where(np.isnan(y))\n",
        "  \n",
        "  \n",
        "  y = np.delete(np.array(y),idx2[0].tolist()+ idx[0].tolist())\n",
        "  x = np.delete(np.array(x),idx2[0].tolist()+ idx[0].tolist())\n",
        "  #x = np.delete(np.array(x),13) # outlier in Cingulum_Parahippocampal_R case\n",
        "  #y = np.delete(np.array(y),13) #outlier in Cingulum_Parahippocampal_R case\n",
        "  x = (x- np.mean(x))/np.std(x) # z-score\n",
        "  y = (y- np.mean(y))/np.std(y) # z-score\n",
        "  x2 = sm2.add_constant(x)\n",
        "  ls = sm.OLS(y, x2).fit()\n",
        "  #print('R2: ', r2_score(y,ls.params[0] + ls.params[1]*x)*100, '%')\n",
        "  table1.loc[variable] = [0,0,0]\n",
        "\n",
        "  table1[index[0]].loc[variable] = \"%.2f +- %.2f\" %(round(ls.params[1],2),round(ls.bse[1],2))\n",
        "  table1[index[1]].loc[variable] = round(ls.pvalues[1],10)\n",
        "  table1[index[2]].loc[variable] = r\"%.2f %%\" %round(r2_score(y,ls.params[0] + ls.params[1]*x)*100,2)\n",
        "  \n",
        "  \"\"\"\n",
        "  plt.figure()\n",
        "  plt.plot(x, ls.params[0] + ls.params[1]*x, 'r-')\n",
        "  \n",
        "  print('Slope coeff and pvalue: ',ls.params[1], ls.pvalues[1])\n",
        "  ls.summary()\n",
        "  plt.title(f)\n",
        "  plt.plot(x,y, 'b.')\n",
        "  plt.ylabel(l)\n",
        "  plt.xlabel(s)\n",
        "  plt.show()\n",
        "  \"\"\""
      ],
      "execution_count": 160,
      "outputs": []
    },
    {
      "cell_type": "code",
      "metadata": {
        "colab": {
          "base_uri": "https://localhost:8080/"
        },
        "id": "pnXNj9speKNV",
        "outputId": "9375cf98-c2ea-431f-b79b-ac9211c4a176"
      },
      "source": [
        "len(files)"
      ],
      "execution_count": 161,
      "outputs": [
        {
          "output_type": "execute_result",
          "data": {
            "text/plain": [
              "30"
            ]
          },
          "metadata": {
            "tags": []
          },
          "execution_count": 161
        }
      ]
    },
    {
      "cell_type": "code",
      "metadata": {
        "colab": {
          "base_uri": "https://localhost:8080/",
          "height": 969
        },
        "id": "Kblu53SEW6TA",
        "outputId": "22f5d436-979b-4fa0-d270-6beaa357f486"
      },
      "source": [
        "table1.head(40)"
      ],
      "execution_count": 162,
      "outputs": [
        {
          "output_type": "execute_result",
          "data": {
            "text/html": [
              "<div>\n",
              "<style scoped>\n",
              "    .dataframe tbody tr th:only-of-type {\n",
              "        vertical-align: middle;\n",
              "    }\n",
              "\n",
              "    .dataframe tbody tr th {\n",
              "        vertical-align: top;\n",
              "    }\n",
              "\n",
              "    .dataframe thead th {\n",
              "        text-align: right;\n",
              "    }\n",
              "</style>\n",
              "<table border=\"1\" class=\"dataframe\">\n",
              "  <thead>\n",
              "    <tr style=\"text-align: right;\">\n",
              "      <th></th>\n",
              "      <th>Slope coefficient</th>\n",
              "      <th>P-value</th>\n",
              "      <th>R2</th>\n",
              "    </tr>\n",
              "  </thead>\n",
              "  <tbody>\n",
              "    <tr>\n",
              "      <th>Tract: Cingulum_Frontal_Parietal_R, Variables: Openness to experience vs area of end region 1(mm^2)</th>\n",
              "      <td>0.17 +- 0.05</td>\n",
              "      <td>0.000467086</td>\n",
              "      <td>2.80 %</td>\n",
              "    </tr>\n",
              "    <tr>\n",
              "      <th>Tract: Corticobulbar_Tract_R, Variables: Agreeableness vs total area of end regions(mm^2)</th>\n",
              "      <td>-0.18 +- 0.05</td>\n",
              "      <td>0.000184688</td>\n",
              "      <td>3.24 %</td>\n",
              "    </tr>\n",
              "    <tr>\n",
              "      <th>Tract: Corticostriatal_Tract_Anterior_L, Variables: Agreeableness vs area of end region 1(mm^2)</th>\n",
              "      <td>-0.16 +- 0.05</td>\n",
              "      <td>0.000619342</td>\n",
              "      <td>2.68 %</td>\n",
              "    </tr>\n",
              "    <tr>\n",
              "      <th>Tract: Corticostriatal_Tract_Anterior_R, Variables: Agreeableness vs trunk volume(mm^3)</th>\n",
              "      <td>-0.18 +- 0.05</td>\n",
              "      <td>0.000134152</td>\n",
              "      <td>3.32 %</td>\n",
              "    </tr>\n",
              "    <tr>\n",
              "      <th>Tract: Corticostriatal_Tract_Anterior_R, Variables: Agreeableness vs total area of end regions(mm^2)</th>\n",
              "      <td>-0.16 +- 0.05</td>\n",
              "      <td>0.000677641</td>\n",
              "      <td>2.64 %</td>\n",
              "    </tr>\n",
              "    <tr>\n",
              "      <th>Tract: Corticostriatal_Tract_Posterior_R, Variables: Openness to experience vs diameter(mm)</th>\n",
              "      <td>0.16 +- 0.05</td>\n",
              "      <td>0.0006124</td>\n",
              "      <td>2.68 %</td>\n",
              "    </tr>\n",
              "    <tr>\n",
              "      <th>Tract: Corticostriatal_Tract_Posterior_R, Variables: Openness to experience vs total surface area(mm^2)</th>\n",
              "      <td>0.17 +- 0.05</td>\n",
              "      <td>0.000340244</td>\n",
              "      <td>2.93 %</td>\n",
              "    </tr>\n",
              "    <tr>\n",
              "      <th>Tract: Corticostriatal_Tract_Posterior_R, Variables: Openness to experience vs total area of end regions(mm^2)</th>\n",
              "      <td>0.16 +- 0.05</td>\n",
              "      <td>0.000660425</td>\n",
              "      <td>2.65 %</td>\n",
              "    </tr>\n",
              "    <tr>\n",
              "      <th>Tract: Corticostriatal_Tract_Posterior_R, Variables: Openness to experience vs irregularity</th>\n",
              "      <td>0.16 +- 0.05</td>\n",
              "      <td>0.000634983</td>\n",
              "      <td>2.67 %</td>\n",
              "    </tr>\n",
              "    <tr>\n",
              "      <th>Tract: Corticostriatal_Tract_Posterior_R, Variables: Openness to experience vs area of end region 1(mm^2)</th>\n",
              "      <td>0.17 +- 0.05</td>\n",
              "      <td>0.000251519</td>\n",
              "      <td>3.06 %</td>\n",
              "    </tr>\n",
              "    <tr>\n",
              "      <th>Tract: Corticostriatal_Tract_Superior_R, Variables: Agreeableness vs area of end region 2(mm^2)</th>\n",
              "      <td>-0.17 +- 0.05</td>\n",
              "      <td>0.000378276</td>\n",
              "      <td>2.89 %</td>\n",
              "    </tr>\n",
              "    <tr>\n",
              "      <th>Tract: Inferior_Fronto_Occipital_Fasciculus_L, Variables: Openness to experience vs diameter(mm)</th>\n",
              "      <td>0.18 +- 0.05</td>\n",
              "      <td>0.000120402</td>\n",
              "      <td>3.37 %</td>\n",
              "    </tr>\n",
              "    <tr>\n",
              "      <th>Tract: Inferior_Fronto_Occipital_Fasciculus_L, Variables: Openness to experience vs volume(mm^3)</th>\n",
              "      <td>0.21 +- 0.05</td>\n",
              "      <td>8.9542e-06</td>\n",
              "      <td>4.47 %</td>\n",
              "    </tr>\n",
              "    <tr>\n",
              "      <th>Tract: Inferior_Fronto_Occipital_Fasciculus_L, Variables: Openness to experience vs trunk volume(mm^3)</th>\n",
              "      <td>0.17 +- 0.05</td>\n",
              "      <td>0.000333742</td>\n",
              "      <td>2.94 %</td>\n",
              "    </tr>\n",
              "    <tr>\n",
              "      <th>Tract: Inferior_Fronto_Occipital_Fasciculus_L, Variables: Openness to experience vs total surface area(mm^2)</th>\n",
              "      <td>0.19 +- 0.05</td>\n",
              "      <td>7.01655e-05</td>\n",
              "      <td>3.60 %</td>\n",
              "    </tr>\n",
              "    <tr>\n",
              "      <th>Tract: Inferior_Fronto_Occipital_Fasciculus_L, Variables: Openness to experience vs total area of end regions(mm^2)</th>\n",
              "      <td>0.21 +- 0.05</td>\n",
              "      <td>8.1598e-06</td>\n",
              "      <td>4.51 %</td>\n",
              "    </tr>\n",
              "    <tr>\n",
              "      <th>Tract: Inferior_Fronto_Occipital_Fasciculus_L, Variables: Openness to experience vs area of end region 2(mm^2)</th>\n",
              "      <td>0.19 +- 0.05</td>\n",
              "      <td>5.99182e-05</td>\n",
              "      <td>3.66 %</td>\n",
              "    </tr>\n",
              "    <tr>\n",
              "      <th>Tract: Inferior_Fronto_Occipital_Fasciculus_R, Variables: Openness to experience vs total surface area(mm^2)</th>\n",
              "      <td>0.16 +- 0.05</td>\n",
              "      <td>0.000611247</td>\n",
              "      <td>2.68 %</td>\n",
              "    </tr>\n",
              "    <tr>\n",
              "      <th>Tract: Inferior_Fronto_Occipital_Fasciculus_R, Variables: Openness to experience vs total area of end regions(mm^2)</th>\n",
              "      <td>0.19 +- 0.05</td>\n",
              "      <td>6.98039e-05</td>\n",
              "      <td>3.60 %</td>\n",
              "    </tr>\n",
              "    <tr>\n",
              "      <th>Tract: Inferior_Fronto_Occipital_Fasciculus_R, Variables: Openness to experience vs area of end region 2(mm^2)</th>\n",
              "      <td>0.17 +- 0.05</td>\n",
              "      <td>0.000355164</td>\n",
              "      <td>2.91 %</td>\n",
              "    </tr>\n",
              "    <tr>\n",
              "      <th>Tract: Inferior_Longitudinal_Fasciculus_R, Variables: Openness to experience vs radius of end region 2(mm)</th>\n",
              "      <td>0.17 +- 0.05</td>\n",
              "      <td>0.000466067</td>\n",
              "      <td>2.80 %</td>\n",
              "    </tr>\n",
              "    <tr>\n",
              "      <th>Tract: Parietal_Aslant_Tract_L, Variables: Agreeableness vs elongation</th>\n",
              "      <td>-0.18 +- 0.05</td>\n",
              "      <td>0.000111488</td>\n",
              "      <td>3.40 %</td>\n",
              "    </tr>\n",
              "    <tr>\n",
              "      <th>Tract: Parietal_Aslant_Tract_L, Variables: Agreeableness vs diameter(mm)</th>\n",
              "      <td>0.17 +- 0.05</td>\n",
              "      <td>0.000496436</td>\n",
              "      <td>2.77 %</td>\n",
              "    </tr>\n",
              "    <tr>\n",
              "      <th>Tract: Superior_Longitudinal_Fasciculus1_R, Variables: Neuroticism vs total area of end regions(mm^2)</th>\n",
              "      <td>-0.16 +- 0.05</td>\n",
              "      <td>0.000631727</td>\n",
              "      <td>2.67 %</td>\n",
              "    </tr>\n",
              "    <tr>\n",
              "      <th>Tract: Superior_Longitudinal_Fasciculus1_R, Variables: Neuroticism vs area of end region 1(mm^2)</th>\n",
              "      <td>-0.16 +- 0.05</td>\n",
              "      <td>0.000630133</td>\n",
              "      <td>2.67 %</td>\n",
              "    </tr>\n",
              "    <tr>\n",
              "      <th>Tract: Superior_Longitudinal_Fasciculus2_L, Variables: Openness to experience vs span(mm)</th>\n",
              "      <td>0.18 +- 0.05</td>\n",
              "      <td>0.000189833</td>\n",
              "      <td>3.18 %</td>\n",
              "    </tr>\n",
              "    <tr>\n",
              "      <th>Tract: Superior_Longitudinal_Fasciculus2_L, Variables: Openness to experience vs curl</th>\n",
              "      <td>-0.16 +- 0.05</td>\n",
              "      <td>0.000588522</td>\n",
              "      <td>2.70 %</td>\n",
              "    </tr>\n",
              "    <tr>\n",
              "      <th>Tract: Superior_Longitudinal_Fasciculus2_L, Variables: Agreeableness vs total area of end regions(mm^2)</th>\n",
              "      <td>0.18 +- 0.05</td>\n",
              "      <td>0.000246004</td>\n",
              "      <td>3.07 %</td>\n",
              "    </tr>\n",
              "    <tr>\n",
              "      <th>Tract: Superior_Longitudinal_Fasciculus2_L, Variables: Agreeableness vs area of end region 1(mm^2)</th>\n",
              "      <td>0.21 +- 0.05</td>\n",
              "      <td>7.8521e-06</td>\n",
              "      <td>4.52 %</td>\n",
              "    </tr>\n",
              "    <tr>\n",
              "      <th>Tract: Superior_Longitudinal_Fasciculus2_L, Variables: Openness to experience vs area of end region 1(mm^2)</th>\n",
              "      <td>0.17 +- 0.05</td>\n",
              "      <td>0.000450812</td>\n",
              "      <td>2.81 %</td>\n",
              "    </tr>\n",
              "  </tbody>\n",
              "</table>\n",
              "</div>"
            ],
            "text/plain": [
              "                                                   Slope coefficient  ...      R2\n",
              "Tract: Cingulum_Frontal_Parietal_R, Variables: ...      0.17 +- 0.05  ...  2.80 %\n",
              "Tract: Corticobulbar_Tract_R, Variables: Agreea...     -0.18 +- 0.05  ...  3.24 %\n",
              "Tract: Corticostriatal_Tract_Anterior_L, Variab...     -0.16 +- 0.05  ...  2.68 %\n",
              "Tract: Corticostriatal_Tract_Anterior_R, Variab...     -0.18 +- 0.05  ...  3.32 %\n",
              "Tract: Corticostriatal_Tract_Anterior_R, Variab...     -0.16 +- 0.05  ...  2.64 %\n",
              "Tract: Corticostriatal_Tract_Posterior_R, Varia...      0.16 +- 0.05  ...  2.68 %\n",
              "Tract: Corticostriatal_Tract_Posterior_R, Varia...      0.17 +- 0.05  ...  2.93 %\n",
              "Tract: Corticostriatal_Tract_Posterior_R, Varia...      0.16 +- 0.05  ...  2.65 %\n",
              "Tract: Corticostriatal_Tract_Posterior_R, Varia...      0.16 +- 0.05  ...  2.67 %\n",
              "Tract: Corticostriatal_Tract_Posterior_R, Varia...      0.17 +- 0.05  ...  3.06 %\n",
              "Tract: Corticostriatal_Tract_Superior_R, Variab...     -0.17 +- 0.05  ...  2.89 %\n",
              "Tract: Inferior_Fronto_Occipital_Fasciculus_L, ...      0.18 +- 0.05  ...  3.37 %\n",
              "Tract: Inferior_Fronto_Occipital_Fasciculus_L, ...      0.21 +- 0.05  ...  4.47 %\n",
              "Tract: Inferior_Fronto_Occipital_Fasciculus_L, ...      0.17 +- 0.05  ...  2.94 %\n",
              "Tract: Inferior_Fronto_Occipital_Fasciculus_L, ...      0.19 +- 0.05  ...  3.60 %\n",
              "Tract: Inferior_Fronto_Occipital_Fasciculus_L, ...      0.21 +- 0.05  ...  4.51 %\n",
              "Tract: Inferior_Fronto_Occipital_Fasciculus_L, ...      0.19 +- 0.05  ...  3.66 %\n",
              "Tract: Inferior_Fronto_Occipital_Fasciculus_R, ...      0.16 +- 0.05  ...  2.68 %\n",
              "Tract: Inferior_Fronto_Occipital_Fasciculus_R, ...      0.19 +- 0.05  ...  3.60 %\n",
              "Tract: Inferior_Fronto_Occipital_Fasciculus_R, ...      0.17 +- 0.05  ...  2.91 %\n",
              "Tract: Inferior_Longitudinal_Fasciculus_R, Vari...      0.17 +- 0.05  ...  2.80 %\n",
              "Tract: Parietal_Aslant_Tract_L, Variables: Agre...     -0.18 +- 0.05  ...  3.40 %\n",
              "Tract: Parietal_Aslant_Tract_L, Variables: Agre...      0.17 +- 0.05  ...  2.77 %\n",
              "Tract: Superior_Longitudinal_Fasciculus1_R, Var...     -0.16 +- 0.05  ...  2.67 %\n",
              "Tract: Superior_Longitudinal_Fasciculus1_R, Var...     -0.16 +- 0.05  ...  2.67 %\n",
              "Tract: Superior_Longitudinal_Fasciculus2_L, Var...      0.18 +- 0.05  ...  3.18 %\n",
              "Tract: Superior_Longitudinal_Fasciculus2_L, Var...     -0.16 +- 0.05  ...  2.70 %\n",
              "Tract: Superior_Longitudinal_Fasciculus2_L, Var...      0.18 +- 0.05  ...  3.07 %\n",
              "Tract: Superior_Longitudinal_Fasciculus2_L, Var...      0.21 +- 0.05  ...  4.52 %\n",
              "Tract: Superior_Longitudinal_Fasciculus2_L, Var...      0.17 +- 0.05  ...  2.81 %\n",
              "\n",
              "[30 rows x 3 columns]"
            ]
          },
          "metadata": {
            "tags": []
          },
          "execution_count": 162
        }
      ]
    },
    {
      "cell_type": "code",
      "metadata": {
        "id": "LSVLIT3Jh4Sm",
        "colab": {
          "base_uri": "https://localhost:8080/",
          "height": 313
        },
        "outputId": "d1f1402d-9cf8-4287-91cd-26fe71f28f58"
      },
      "source": [
        "#Multiple Linear Model\n",
        "for r in range(len(files)):\n",
        "  #print('Tract', files[r][0])\n",
        "  f = files[r][0]\n",
        "  fd = pd.read_csv(f, sep =  '\\t', index_col = 0)\n",
        "  col = shape_labels.tolist() + [\"Gender.1\"] + [\"Age_in_Yrs\"]\n",
        "\n",
        "  X = fd[col]\n",
        "  for t in pers_labels:\n",
        "    \n",
        "    y = fd[t]\n",
        "\n",
        "    model = LinearRegression()\n",
        "    idx2 = np.where(np.isnan(y))\n",
        "\n",
        "    y = np.array(y)\n",
        "    y = np.delete(y,idx2[0])\n",
        "\n",
        "    X = np.array(X)\n",
        "    Xnew = np.empty((X.shape[0]-1,X.shape[1]))\n",
        "\n",
        "    for l in range(len(X[0])):\n",
        "      Xnew[:,l] = np.delete(X[:,l], idx2[0])\n",
        "  \n",
        "    Xnew2 = sm2.add_constant(Xnew)\n",
        "\n",
        "    model.fit(Xnew,y)\n",
        "\n",
        "    theta_hat = ordinary_least_squares(Xnew2,y)\n",
        "\n",
        "    y_hat = Xnew2 @ theta_hat\n",
        "    ols = sm.OLS(y, Xnew2).fit()\n",
        "\n",
        "    \n",
        "    \n",
        "    #print('Personality tract:', t)\n",
        "    #print(model.score(Xnew,y)*100)\n",
        "    #print(f\"MSE = {np.mean((y - y_hat)**2):.2f}\") \n",
        "\n",
        "\n",
        "plt.figure()\n",
        "plt.title('Personality tract: %s - Fiber %s' %(t,f))\n",
        "plt.plot(model.coef_, 'r.')\n",
        "plt.plot(ols.params[1:], 'g.')\n",
        "#plt.xticks(np.arange(0,len(col),1), labels = col)\n",
        "plt.xlabel('Feature i ')\n",
        "plt.ylabel(r'$\\hat{\\theta}_i$')"
      ],
      "execution_count": 163,
      "outputs": [
        {
          "output_type": "execute_result",
          "data": {
            "text/plain": [
              "Text(0, 0.5, '$\\\\hat{\\\\theta}_i$')"
            ]
          },
          "metadata": {
            "tags": []
          },
          "execution_count": 163
        },
        {
          "output_type": "display_data",
          "data": {
            "image/png": "[encoded data removed]",
            "text/plain": [
              "<Figure size 432x288 with 1 Axes>"
            ]
          },
          "metadata": {
            "tags": [],
            "needs_background": "light"
          }
        }
      ]
    },
    {
      "cell_type": "code",
      "metadata": {
        "colab": {
          "base_uri": "https://localhost:8080/",
          "height": 283
        },
        "id": "qYZKIpOjNSKZ",
        "outputId": "40e300ec-f74b-4b16-cf5e-e2752ff92084"
      },
      "source": [
        "plt.plot(model.coef_, 'r.')"
      ],
      "execution_count": 164,
      "outputs": [
        {
          "output_type": "execute_result",
          "data": {
            "text/plain": [
              "[<matplotlib.lines.Line2D at 0x7f7482f6a6a0>]"
            ]
          },
          "metadata": {
            "tags": []
          },
          "execution_count": 164
        },
        {
          "output_type": "display_data",
          "data": {
            "image/png": "[encoded data removed]",
            "text/plain": [
              "<Figure size 432x288 with 1 Axes>"
            ]
          },
          "metadata": {
            "tags": [],
            "needs_background": "light"
          }
        }
      ]
    },
    {
      "cell_type": "code",
      "metadata": {
        "colab": {
          "base_uri": "https://localhost:8080/"
        },
        "id": "j22pvCytBLQm",
        "outputId": "4defd48a-4db3-4b54-ed0b-f027b704cf39"
      },
      "source": [
        "for r in np.argsort(np.abs(model.coef_))[::-1][:3]:\n",
        "          print(col[r])"
      ],
      "execution_count": 165,
      "outputs": [
        {
          "output_type": "stream",
          "text": [
            "radius of end region 1(mm)\n",
            "total radius of end regions(mm)\n",
            "radius of end region 2(mm)\n"
          ],
          "name": "stdout"
        }
      ]
    },
    {
      "cell_type": "markdown",
      "metadata": {
        "id": "D9LZrmsAlnAG"
      },
      "source": [
        "## Females"
      ]
    },
    {
      "cell_type": "code",
      "metadata": {
        "id": "gevWx-nuluPo"
      },
      "source": [
        "pval = []\n",
        "features = []\n",
        "coef = []\n",
        "intercept = []\n",
        "xs = []\n",
        "for file in sorted(os.listdir()):\n",
        "  if \"tsv\" in file:\n",
        "    fd = pd.read_csv(file, sep =  '\\t', index_col = 0)\n",
        "    males = []\n",
        "    females = []  \n",
        "    gender = np.array(fd[\"Gender.1\"])\n",
        "    for r in range(len(gender)):\n",
        "      if gender[r] == 1:\n",
        "        females.append(fd.index[r])\n",
        "\n",
        "\n",
        "    #for r in range(len(gender)):\n",
        "     # if gender[r] == 2:\n",
        "      #  males.append(fd.index[r])\n",
        "\n",
        "\n",
        "    #maledf = df.loc[males]\n",
        "    femaledf = fd.loc[females]\n",
        "    #print(len(femaledf))\n",
        "    for s in diff_labels:\n",
        "      for l in pers_labels:\n",
        "        x = femaledf[s]\n",
        "        idx = np.where(np.isnan(x))\n",
        "        y = femaledf[l]\n",
        "        idx2 = np.where(np.isnan(y)) \n",
        "        x = np.delete(np.array(x),idx2[0].tolist()+ idx[0].tolist())\n",
        "        y = np.delete(np.array(y),idx2[0].tolist()+ idx[0].tolist())\n",
        "        x2 = sm2.add_constant(x)\n",
        "        ls = sm.OLS(y, x2).fit()\n",
        "        pval.append(ls.pvalues[1])\n",
        "        coef.append(ls.params[1])\n",
        "        intercept.append(ls.params[0])\n",
        "        xs.append(x)\n",
        "        features.append([file,s,l])"
      ],
      "execution_count": 166,
      "outputs": []
    },
    {
      "cell_type": "code",
      "metadata": {
        "id": "Fd0yRRbcluPq",
        "colab": {
          "base_uri": "https://localhost:8080/"
        },
        "outputId": "42cf7865-8e63-4f80-aac6-49a721c88bd4"
      },
      "source": [
        "files = np.array(features)[np.array(pval) < 0.0007]\n",
        "files\n",
        "#p = np.array(pval)[np.array(pval) < 0.005]"
      ],
      "execution_count": 167,
      "outputs": [
        {
          "output_type": "execute_result",
          "data": {
            "text/plain": [
              "array([['Corticopontine_Tract_Occipital_L.tsv', 'dti_fa', 'NEOFAC_O']],\n",
              "      dtype='<U42')"
            ]
          },
          "metadata": {
            "tags": []
          },
          "execution_count": 167
        }
      ]
    },
    {
      "cell_type": "code",
      "metadata": {
        "colab": {
          "base_uri": "https://localhost:8080/"
        },
        "id": "z80TG5zDDPYD",
        "outputId": "a0171d73-87ec-4d27-ae97-ab00dc959d63"
      },
      "source": [
        "files = np.array(features)[np.array(pval) < 0.007]\n",
        "files\n",
        "#p = np.array(pval)[np.array(pval) < 0.005]"
      ],
      "execution_count": 168,
      "outputs": [
        {
          "output_type": "execute_result",
          "data": {
            "text/plain": [
              "array([['Cingulum_Parahippocampal_R.tsv', 'gfa', 'NEOFAC_O'],\n",
              "       ['Corpus_Callosum_Tapetum.tsv', 'dti_fa', 'NEOFAC_O'],\n",
              "       ['Corticopontine_Tract_Occipital_L.tsv', 'dti_fa', 'NEOFAC_O'],\n",
              "       ['Corticopontine_Tract_Occipital_L.tsv', 'gfa', 'NEOFAC_O'],\n",
              "       ['Corticopontine_Tract_Parietal_L.tsv', 'dti_fa', 'NEOFAC_O'],\n",
              "       ['Corticopontine_Tract_Parietal_L.tsv', 'gfa', 'NEOFAC_O'],\n",
              "       ['Corticostriatal_Tract_Posterior_R.tsv', 'gfa', 'NEOFAC_O'],\n",
              "       ['Inferior_Fronto_Occipital_Fasciculus_L.tsv', 'dti_fa',\n",
              "        'NEOFAC_O'],\n",
              "       ['Middle_Cerebellar_Peduncle.tsv', 'dti_fa', 'NEOFAC_O'],\n",
              "       ['Middle_Cerebellar_Peduncle.tsv', 'gfa', 'NEOFAC_O'],\n",
              "       ['Superior_Longitudinal_Fasciculus1_L.tsv', 'ad', 'NEOFAC_O'],\n",
              "       ['Superior_Longitudinal_Fasciculus1_R.tsv', 'dti_fa', 'NEOFAC_O'],\n",
              "       ['Superior_Longitudinal_Fasciculus3_L.tsv', 'ad', 'NEOFAC_O'],\n",
              "       ['Uncinate_Fasciculus_R.tsv', 'nqa', 'NEOFAC_N'],\n",
              "       ['Vertical_Occipital_Fasciculus_R.tsv', 'ad', 'NEOFAC_O']],\n",
              "      dtype='<U42')"
            ]
          },
          "metadata": {
            "tags": []
          },
          "execution_count": 168
        }
      ]
    },
    {
      "cell_type": "code",
      "metadata": {
        "id": "qhajTn1smdy2"
      },
      "source": [
        "for r in range(len(files)):\n",
        "  f = files[r][0]\n",
        "  fd = pd.read_csv(f, sep =  '\\t', index_col = 0)\n",
        "  males = []\n",
        "  females = []  \n",
        "  gender = np.array(fd[\"Gender.1\"])\n",
        "  for h in range(len(gender)):\n",
        "    if gender[h] == 1:\n",
        "      females.append(fd.index[h])\n",
        "\n",
        "\n",
        "  #for r in range(len(gender)):\n",
        "    # if gender[r] == 2:\n",
        "    #  males.append(fd.index[r])\n",
        "\n",
        "\n",
        "  #maledf = df.loc[males]\n",
        "  \n",
        "  femaledf = fd.loc[females]\n",
        "\n",
        "  s = files[r][1]\n",
        "  l = files[r][2]\n",
        "\n",
        "\n",
        "  \n",
        "  index = [\"Slope coefficient\",\"P-value\",\"R2\"]\n",
        "\n",
        "\n",
        "  if l == \"NEOFAC_A\":\n",
        "    l2 = \"Agreeableness\"\n",
        "  elif l == \"NEOFAC_O\":\n",
        "    l2 = \"Openness to experience\"\n",
        "  elif l == \"NEOFAC_E\":\n",
        "    l2 = \"Extraversion\"\n",
        "  elif l == \"NEOFAC_C\":\n",
        "    l2 = \"Coscientiousness\"\n",
        "  else:\n",
        "    l2 = \"Neuroticism\"\n",
        "\n",
        "  variable = \"Tract: %s, Variables: %s vs %s\" %(files[r][0][:-4],l2, s)\n",
        "\n",
        "  if r == 0:\n",
        "    table1 = pd.DataFrame(columns = index)\n",
        "\n",
        "  x = femaledf[s]\n",
        "  y = femaledf[l] \n",
        "  idx = np.where(np.isnan(x))\n",
        "  idx2 = np.where(np.isnan(y))\n",
        "  y = np.delete(np.array(y),idx2[0].tolist()+ idx[0].tolist())\n",
        "  x = np.delete(np.array(x),idx2[0].tolist()+ idx[0].tolist())\n",
        "  #x = np.delete(np.array(x),13) # outlier in Cingulum_Parahippocampal_R case\n",
        "  #y = np.delete(np.array(y),13) #outlier in Cingulum_Parahippocampal_R case\n",
        "  x = (x- np.mean(x))/np.std(x) # z-score\n",
        "  y = (y- np.mean(y))/np.std(y) # z-score\n",
        "  x2 = sm2.add_constant(x)\n",
        "  ls = sm.OLS(y, x2).fit()\n",
        "\n",
        "\n",
        "  table1.loc[variable] = [0,0,0]\n",
        "\n",
        "  table1[index[0]].loc[variable] = \"%.2f +- %.2f\" %(round(ls.params[1],2),round(ls.bse[1],2))\n",
        "  table1[index[1]].loc[variable] = round(ls.pvalues[1],4)\n",
        "  table1[index[2]].loc[variable] = r\"%.2f %%\" %round(r2_score(y,ls.params[0] + ls.params[1]*x)*100,2)\n",
        "  \n",
        "  \"\"\"\n",
        "  print('R2: ', r2_score(y,ls.params[0] + ls.params[1]*x)*100, '%')\n",
        "  plt.figure()\n",
        "  plt.plot(x, ls.params[0] + ls.params[1]*x, 'r-')\n",
        "  \n",
        "  print('Slope coeff and pvalue: ',ls.params[1], ls.pvalues[1])\n",
        "  ls.summary()\n",
        "  plt.title(f)\n",
        "  plt.plot(x,y, 'b.')\n",
        "  plt.ylabel(l)\n",
        "  plt.xlabel(s)\n",
        "  plt.show()\n",
        "  \"\"\""
      ],
      "execution_count": 169,
      "outputs": []
    },
    {
      "cell_type": "code",
      "metadata": {
        "colab": {
          "base_uri": "https://localhost:8080/",
          "height": 509
        },
        "id": "sGAlijlLmbd9",
        "outputId": "9750b1ed-f974-4c08-c30e-e6a5ae5cc4bb"
      },
      "source": [
        "table1"
      ],
      "execution_count": 170,
      "outputs": [
        {
          "output_type": "execute_result",
          "data": {
            "text/html": [
              "<div>\n",
              "<style scoped>\n",
              "    .dataframe tbody tr th:only-of-type {\n",
              "        vertical-align: middle;\n",
              "    }\n",
              "\n",
              "    .dataframe tbody tr th {\n",
              "        vertical-align: top;\n",
              "    }\n",
              "\n",
              "    .dataframe thead th {\n",
              "        text-align: right;\n",
              "    }\n",
              "</style>\n",
              "<table border=\"1\" class=\"dataframe\">\n",
              "  <thead>\n",
              "    <tr style=\"text-align: right;\">\n",
              "      <th></th>\n",
              "      <th>Slope coefficient</th>\n",
              "      <th>P-value</th>\n",
              "      <th>R2</th>\n",
              "    </tr>\n",
              "  </thead>\n",
              "  <tbody>\n",
              "    <tr>\n",
              "      <th>Tract: Cingulum_Parahippocampal_R, Variables: Openness to experience vs gfa</th>\n",
              "      <td>0.18 +- 0.06</td>\n",
              "      <td>0.0053</td>\n",
              "      <td>3.20 %</td>\n",
              "    </tr>\n",
              "    <tr>\n",
              "      <th>Tract: Corpus_Callosum_Tapetum, Variables: Openness to experience vs dti_fa</th>\n",
              "      <td>0.21 +- 0.07</td>\n",
              "      <td>0.0028</td>\n",
              "      <td>4.34 %</td>\n",
              "    </tr>\n",
              "    <tr>\n",
              "      <th>Tract: Corticopontine_Tract_Occipital_L, Variables: Openness to experience vs dti_fa</th>\n",
              "      <td>0.24 +- 0.07</td>\n",
              "      <td>0.0005</td>\n",
              "      <td>5.69 %</td>\n",
              "    </tr>\n",
              "    <tr>\n",
              "      <th>Tract: Corticopontine_Tract_Occipital_L, Variables: Openness to experience vs gfa</th>\n",
              "      <td>0.20 +- 0.07</td>\n",
              "      <td>0.0029</td>\n",
              "      <td>4.19 %</td>\n",
              "    </tr>\n",
              "    <tr>\n",
              "      <th>Tract: Corticopontine_Tract_Parietal_L, Variables: Openness to experience vs dti_fa</th>\n",
              "      <td>0.19 +- 0.06</td>\n",
              "      <td>0.0032</td>\n",
              "      <td>3.56 %</td>\n",
              "    </tr>\n",
              "    <tr>\n",
              "      <th>Tract: Corticopontine_Tract_Parietal_L, Variables: Openness to experience vs gfa</th>\n",
              "      <td>0.18 +- 0.06</td>\n",
              "      <td>0.004</td>\n",
              "      <td>3.40 %</td>\n",
              "    </tr>\n",
              "    <tr>\n",
              "      <th>Tract: Corticostriatal_Tract_Posterior_R, Variables: Openness to experience vs gfa</th>\n",
              "      <td>0.18 +- 0.06</td>\n",
              "      <td>0.0055</td>\n",
              "      <td>3.17 %</td>\n",
              "    </tr>\n",
              "    <tr>\n",
              "      <th>Tract: Inferior_Fronto_Occipital_Fasciculus_L, Variables: Openness to experience vs dti_fa</th>\n",
              "      <td>0.19 +- 0.06</td>\n",
              "      <td>0.0029</td>\n",
              "      <td>3.64 %</td>\n",
              "    </tr>\n",
              "    <tr>\n",
              "      <th>Tract: Middle_Cerebellar_Peduncle, Variables: Openness to experience vs dti_fa</th>\n",
              "      <td>0.18 +- 0.06</td>\n",
              "      <td>0.0053</td>\n",
              "      <td>3.20 %</td>\n",
              "    </tr>\n",
              "    <tr>\n",
              "      <th>Tract: Middle_Cerebellar_Peduncle, Variables: Openness to experience vs gfa</th>\n",
              "      <td>0.18 +- 0.06</td>\n",
              "      <td>0.0059</td>\n",
              "      <td>3.12 %</td>\n",
              "    </tr>\n",
              "    <tr>\n",
              "      <th>Tract: Superior_Longitudinal_Fasciculus1_L, Variables: Openness to experience vs ad</th>\n",
              "      <td>0.20 +- 0.06</td>\n",
              "      <td>0.0023</td>\n",
              "      <td>3.82 %</td>\n",
              "    </tr>\n",
              "    <tr>\n",
              "      <th>Tract: Superior_Longitudinal_Fasciculus1_R, Variables: Openness to experience vs dti_fa</th>\n",
              "      <td>0.18 +- 0.06</td>\n",
              "      <td>0.0051</td>\n",
              "      <td>3.22 %</td>\n",
              "    </tr>\n",
              "    <tr>\n",
              "      <th>Tract: Superior_Longitudinal_Fasciculus3_L, Variables: Openness to experience vs ad</th>\n",
              "      <td>0.19 +- 0.06</td>\n",
              "      <td>0.0036</td>\n",
              "      <td>3.47 %</td>\n",
              "    </tr>\n",
              "    <tr>\n",
              "      <th>Tract: Uncinate_Fasciculus_R, Variables: Neuroticism vs nqa</th>\n",
              "      <td>0.19 +- 0.06</td>\n",
              "      <td>0.003</td>\n",
              "      <td>3.61 %</td>\n",
              "    </tr>\n",
              "    <tr>\n",
              "      <th>Tract: Vertical_Occipital_Fasciculus_R, Variables: Openness to experience vs ad</th>\n",
              "      <td>0.19 +- 0.06</td>\n",
              "      <td>0.0032</td>\n",
              "      <td>3.56 %</td>\n",
              "    </tr>\n",
              "  </tbody>\n",
              "</table>\n",
              "</div>"
            ],
            "text/plain": [
              "                                                   Slope coefficient  ...      R2\n",
              "Tract: Cingulum_Parahippocampal_R, Variables: O...      0.18 +- 0.06  ...  3.20 %\n",
              "Tract: Corpus_Callosum_Tapetum, Variables: Open...      0.21 +- 0.07  ...  4.34 %\n",
              "Tract: Corticopontine_Tract_Occipital_L, Variab...      0.24 +- 0.07  ...  5.69 %\n",
              "Tract: Corticopontine_Tract_Occipital_L, Variab...      0.20 +- 0.07  ...  4.19 %\n",
              "Tract: Corticopontine_Tract_Parietal_L, Variabl...      0.19 +- 0.06  ...  3.56 %\n",
              "Tract: Corticopontine_Tract_Parietal_L, Variabl...      0.18 +- 0.06  ...  3.40 %\n",
              "Tract: Corticostriatal_Tract_Posterior_R, Varia...      0.18 +- 0.06  ...  3.17 %\n",
              "Tract: Inferior_Fronto_Occipital_Fasciculus_L, ...      0.19 +- 0.06  ...  3.64 %\n",
              "Tract: Middle_Cerebellar_Peduncle, Variables: O...      0.18 +- 0.06  ...  3.20 %\n",
              "Tract: Middle_Cerebellar_Peduncle, Variables: O...      0.18 +- 0.06  ...  3.12 %\n",
              "Tract: Superior_Longitudinal_Fasciculus1_L, Var...      0.20 +- 0.06  ...  3.82 %\n",
              "Tract: Superior_Longitudinal_Fasciculus1_R, Var...      0.18 +- 0.06  ...  3.22 %\n",
              "Tract: Superior_Longitudinal_Fasciculus3_L, Var...      0.19 +- 0.06  ...  3.47 %\n",
              "Tract: Uncinate_Fasciculus_R, Variables: Neurot...      0.19 +- 0.06  ...  3.61 %\n",
              "Tract: Vertical_Occipital_Fasciculus_R, Variabl...      0.19 +- 0.06  ...  3.56 %\n",
              "\n",
              "[15 rows x 3 columns]"
            ]
          },
          "metadata": {
            "tags": []
          },
          "execution_count": 170
        }
      ]
    },
    {
      "cell_type": "code",
      "metadata": {
        "colab": {
          "base_uri": "https://localhost:8080/"
        },
        "id": "rzyKV2cJOlXK",
        "outputId": "b943a8d3-4cc6-4d00-b0c7-7765ec3d1a31"
      },
      "source": [
        "fd[\"Gender.1\"]"
      ],
      "execution_count": 171,
      "outputs": [
        {
          "output_type": "execute_result",
          "data": {
            "text/plain": [
              "100307    1\n",
              "100408    2\n",
              "101107    2\n",
              "102311    1\n",
              "102513    2\n",
              "         ..\n",
              "971160    2\n",
              "973770    2\n",
              "987983    1\n",
              "990366    2\n",
              "995174    2\n",
              "Name: Gender.1, Length: 435, dtype: int64"
            ]
          },
          "metadata": {
            "tags": []
          },
          "execution_count": 171
        }
      ]
    },
    {
      "cell_type": "code",
      "metadata": {
        "id": "RhIyeLEQmlX8",
        "colab": {
          "base_uri": "https://localhost:8080/",
          "height": 313
        },
        "outputId": "469639b1-cd0a-47ad-a5e5-333348d7cd0c"
      },
      "source": [
        "#Multiple Linear Model\r\n",
        "for r in range(len(files)):\r\n",
        "\r\n",
        "\r\n",
        "  f = files[r][0]\r\n",
        "  fd = pd.read_csv(f, sep =  '\\t', index_col = 0)\r\n",
        "\r\n",
        "  #males = []\r\n",
        "  females = []  \r\n",
        "  gender = np.array(fd[\"Gender.1\"])\r\n",
        "  for g in range(len(gender)):\r\n",
        "\r\n",
        "    if gender[g] == 1:\r\n",
        "      females.append(fd.index[g])\r\n",
        "\r\n",
        "\r\n",
        "  #for r in range(len(gender)):\r\n",
        "    # if gender[r] == 2:\r\n",
        "    #  males.append(fd.index[r])\r\n",
        "    \r\n",
        "  \r\n",
        "  col = diff_labels + [\"Age_in_Yrs\"]\r\n",
        "  femaledf = fd.loc[females]\r\n",
        "  X = femaledf[col]\r\n",
        "  for t in pers_labels:\r\n",
        "    \r\n",
        "    \r\n",
        "    y = femaledf[t]\r\n",
        "\r\n",
        "    model = LinearRegression()\r\n",
        "\r\n",
        "\r\n",
        "    idx2 = np.where(np.isnan(y))\r\n",
        "\r\n",
        "    y = np.array(y)\r\n",
        "    if np.any(idx2):\r\n",
        "      y = np.delete(y,idx2[0])\r\n",
        "\r\n",
        "    X = np.array(X)\r\n",
        "    Xnew = np.copy(X)\r\n",
        "    #print(X.shape, Xnew.shape)\r\n",
        "    if np.any(idx2):\r\n",
        "    \r\n",
        "      Xnew = np.empty((X.shape[0]-1, X.shape[1]))\r\n",
        "      for l in range(len(X[0])):\r\n",
        "        Xnew[:,l] = np.delete(X[:,l], idx2[0])\r\n",
        "    else:\r\n",
        "      Xnew = X.copy()\r\n",
        "\r\n",
        "    Xnew2 = sm2.add_constant(Xnew)\r\n",
        "\r\n",
        "    model.fit(Xnew,y)\r\n",
        "\r\n",
        "    theta_hat = ordinary_least_squares(Xnew2,y)\r\n",
        "\r\n",
        "    y_hat = Xnew2 @ theta_hat\r\n",
        "    ols = sm.OLS(y, Xnew2).fit()\r\n",
        "\r\n",
        "      \r\n",
        "        \r\n",
        "        #print('Personality trait:', t)\r\n",
        "        #print(model.score(Xnew,y)*100)\r\n",
        "        #print(f\"MSE = {np.mean((y - y_hat)**2):.2f}\") \r\n",
        "\r\n",
        "\r\n",
        "plt.figure()\r\n",
        "plt.title('Personality trait: %s - Fiber %s' %(t,f))\r\n",
        "plt.plot(model.coef_, 'r.')\r\n",
        "plt.plot(ols.params[1:], 'g.')\r\n",
        "plt.xticks(np.arange(0,len(col),1), labels = col)\r\n",
        "plt.xlabel('Feature i ')\r\n",
        "plt.ylabel(r'$\\hat{\\theta}_i$')"
      ],
      "execution_count": 172,
      "outputs": [
        {
          "output_type": "execute_result",
          "data": {
            "text/plain": [
              "Text(0, 0.5, '$\\\\hat{\\\\theta}_i$')"
            ]
          },
          "metadata": {
            "tags": []
          },
          "execution_count": 172
        },
        {
          "output_type": "display_data",
          "data": {
            "image/png": "[encoded data removed]",
            "text/plain": [
              "<Figure size 432x288 with 1 Axes>"
            ]
          },
          "metadata": {
            "tags": [],
            "needs_background": "light"
          }
        }
      ]
    },
    {
      "cell_type": "code",
      "metadata": {
        "id": "XfBn1jazmlax",
        "colab": {
          "base_uri": "https://localhost:8080/"
        },
        "outputId": "12273dcf-ea9b-42d9-ddf9-7037e56df5fc"
      },
      "source": [
        "np.any([])"
      ],
      "execution_count": 173,
      "outputs": [
        {
          "output_type": "execute_result",
          "data": {
            "text/plain": [
              "False"
            ]
          },
          "metadata": {
            "tags": []
          },
          "execution_count": 173
        }
      ]
    },
    {
      "cell_type": "code",
      "metadata": {
        "id": "A6a6q3Nemld3"
      },
      "source": [
        ""
      ],
      "execution_count": 173,
      "outputs": []
    },
    {
      "cell_type": "markdown",
      "metadata": {
        "id": "Pj0_XqpGmmNo"
      },
      "source": [
        "## Males"
      ]
    },
    {
      "cell_type": "code",
      "metadata": {
        "id": "y2qbywbxmmNr"
      },
      "source": [
        "pval = []\n",
        "features = []\n",
        "coef = []\n",
        "intercept = []\n",
        "xs = []\n",
        "for file in sorted(os.listdir()):\n",
        "  if \"tsv\" in file:\n",
        "   \n",
        "    fd = pd.read_csv(file, sep =  '\\t', index_col = 0)\n",
        "    males = []\n",
        "    females = []  \n",
        "    gender = np.array(fd[\"Gender.1\"])\n",
        "    #for r in range(len(gender)):\n",
        "      #if gender[r] == 1:\n",
        "        #females.append(fd.index[r])\n",
        "\n",
        "\n",
        "    for r in range(len(gender)):\n",
        "      if gender[r] == 2:\n",
        "        males.append(fd.index[r])\n",
        "\n",
        "\n",
        "    maledf = fd.loc[males]\n",
        "    #femaledf = df.loc[females]\n",
        "    for s in diff_labels:\n",
        "      for l in pers_labels:\n",
        "        x = maledf[s]\n",
        "        idx = np.where(np.isnan(x))\n",
        "        y = maledf[l]\n",
        "        idx2 = np.where(np.isnan(y)) \n",
        "        x = np.delete(np.array(x),idx2[0].tolist()+ idx[0].tolist())\n",
        "        y = np.delete(np.array(y),idx2[0].tolist()+ idx[0].tolist())\n",
        "        x2 = sm2.add_constant(x)\n",
        "        ls = sm.OLS(y, x2).fit()\n",
        "        pval.append(ls.pvalues[1])\n",
        "        coef.append(ls.params[1])\n",
        "        intercept.append(ls.params[0])\n",
        "        xs.append(x)\n",
        "        features.append([file,s,l])"
      ],
      "execution_count": 174,
      "outputs": []
    },
    {
      "cell_type": "code",
      "metadata": {
        "id": "XECWeewJnvOS"
      },
      "source": [
        ""
      ],
      "execution_count": 174,
      "outputs": []
    },
    {
      "cell_type": "code",
      "metadata": {
        "colab": {
          "base_uri": "https://localhost:8080/"
        },
        "id": "iept6-xsmmNs",
        "outputId": "51a4df85-6836-4c15-c278-b878bef51f7f"
      },
      "source": [
        "filess = np.array(features)[np.array(pval) < 0.0005]\n",
        "filess"
      ],
      "execution_count": 175,
      "outputs": [
        {
          "output_type": "execute_result",
          "data": {
            "text/plain": [
              "array([], shape=(0, 3), dtype='<U42')"
            ]
          },
          "metadata": {
            "tags": []
          },
          "execution_count": 175
        }
      ]
    },
    {
      "cell_type": "code",
      "metadata": {
        "colab": {
          "base_uri": "https://localhost:8080/"
        },
        "id": "pvowYZR8DlMz",
        "outputId": "40a96eb3-423a-4d89-8522-9f01a0dd64c4"
      },
      "source": [
        "files = np.array(features)[np.array(pval) < 0.007]\n",
        "files"
      ],
      "execution_count": 176,
      "outputs": [
        {
          "output_type": "execute_result",
          "data": {
            "text/plain": [
              "array([['Cingulum_Rarolfactory_L.tsv', 'md', 'NEOFAC_N'],\n",
              "       ['Cingulum_Rarolfactory_L.tsv', 'rd', 'NEOFAC_N'],\n",
              "       ['Corticopontine_Tract_Occipital_R.tsv', 'dti_fa', 'NEOFAC_N'],\n",
              "       ['Inferior_Longitudinal_Fasciculus_R.tsv', 'rd', 'NEOFAC_C'],\n",
              "       ['Superior_Longitudinal_Fasciculus1_L.tsv', 'md', 'NEOFAC_N'],\n",
              "       ['Superior_Longitudinal_Fasciculus1_L.tsv', 'rd', 'NEOFAC_N']],\n",
              "      dtype='<U42')"
            ]
          },
          "metadata": {
            "tags": []
          },
          "execution_count": 176
        }
      ]
    },
    {
      "cell_type": "code",
      "metadata": {
        "id": "RpVF4IoiqJA4"
      },
      "source": [
        "for r in range(len(files)):\n",
        "  f = files[r][0]\n",
        "  fd = pd.read_csv(f, sep =  '\\t', index_col = 0)\n",
        "  males = []\n",
        "  females = []  \n",
        "  gender = np.array(fd[\"Gender.1\"])\n",
        "  for h in range(len(gender)):\n",
        "    if gender[h] == 2:\n",
        "      males.append(fd.index[h])\n",
        "\n",
        "\n",
        "  #for r in range(len(gender)):\n",
        "    # if gender[r] == 2:\n",
        "    #  males.append(fd.index[r])\n",
        "\n",
        "\n",
        "  #maledf = df.loc[males]\n",
        "  maledf = fd.loc[males]\n",
        "\n",
        "  s = files[r][1]\n",
        "  l = files[r][2]\n",
        "\n",
        "\n",
        "\n",
        "  index = [\"Slope coefficient\",\"P-value\",\"R2\"]\n",
        "\n",
        "\n",
        "  if l == \"NEOFAC_A\":\n",
        "    l2 = \"Agreeableness\"\n",
        "  elif l == \"NEOFAC_O\":\n",
        "    l2 = \"Openness to experience\"\n",
        "  elif l == \"NEOFAC_E\":\n",
        "    l2 = \"Extraversion\"\n",
        "  elif l == \"NEOFAC_C\":\n",
        "    l2 = \"Coscientiousness\"\n",
        "  else:\n",
        "    l2 = \"Neuroticism\"\n",
        "\n",
        "  variable = \"Tract: %s, Variables: %s vs %s\" %(files[r][0][:-4],l2, s)\n",
        "\n",
        "  if r == 0:\n",
        "    table1 = pd.DataFrame(columns = index)\n",
        "\n",
        "  x = maledf[s]\n",
        "  y = maledf[l] \n",
        "  idx = np.where(np.isnan(x))\n",
        "  idx2 = np.where(np.isnan(y))\n",
        "  y = np.delete(np.array(y),idx2[0].tolist()+ idx[0].tolist())\n",
        "  x = np.delete(np.array(x),idx2[0].tolist()+ idx[0].tolist())\n",
        "  #x = np.delete(np.array(x),13) # outlier in Cingulum_Parahippocampal_R case\n",
        "  #y = np.delete(np.array(y),13) #outlier in Cingulum_Parahippocampal_R case\n",
        "  x = (x- np.mean(x))/np.std(x) # z-score\n",
        "  y = (y- np.mean(y))/np.std(y) # z-score\n",
        "  x2 = sm2.add_constant(x)\n",
        "  ls = sm.OLS(y, x2).fit()\n",
        "\n",
        "\n",
        "  table1.loc[variable] = [0,0,0]\n",
        "\n",
        "  table1[index[0]].loc[variable] = \"%.2f +- %.2f\" %(round(ls.params[1],2),round(ls.bse[1],2))\n",
        "  table1[index[1]].loc[variable] = round(ls.pvalues[1],4)\n",
        "  table1[index[2]].loc[variable] = r\"%.2f %%\" %round(r2_score(y,ls.params[0] + ls.params[1]*x)*100,2)\n",
        "  \"\"\"\n",
        "  print('R2: ', r2_score(y,ls.params[0] + ls.params[1]*x)*100, '%')\n",
        "  plt.figure()\n",
        "  plt.plot(x, ls.params[0] + ls.params[1]*x, 'r-')\n",
        "  \n",
        "  print('Slope coeff and pvalue: ',ls.params[1], ls.pvalues[1])\n",
        "  ls.summary()\n",
        "  plt.title(f)\n",
        "  plt.plot(x,y, 'b.')\n",
        "  plt.ylabel(l)\n",
        "  plt.xlabel(s)\n",
        "  plt.show()\n",
        "  \"\"\""
      ],
      "execution_count": 177,
      "outputs": []
    },
    {
      "cell_type": "code",
      "metadata": {
        "colab": {
          "base_uri": "https://localhost:8080/",
          "height": 233
        },
        "id": "k6Y7lJTBgoCo",
        "outputId": "33058cfa-534d-41c9-abfb-3a07816cd822"
      },
      "source": [
        "table1"
      ],
      "execution_count": 178,
      "outputs": [
        {
          "output_type": "execute_result",
          "data": {
            "text/html": [
              "<div>\n",
              "<style scoped>\n",
              "    .dataframe tbody tr th:only-of-type {\n",
              "        vertical-align: middle;\n",
              "    }\n",
              "\n",
              "    .dataframe tbody tr th {\n",
              "        vertical-align: top;\n",
              "    }\n",
              "\n",
              "    .dataframe thead th {\n",
              "        text-align: right;\n",
              "    }\n",
              "</style>\n",
              "<table border=\"1\" class=\"dataframe\">\n",
              "  <thead>\n",
              "    <tr style=\"text-align: right;\">\n",
              "      <th></th>\n",
              "      <th>Slope coefficient</th>\n",
              "      <th>P-value</th>\n",
              "      <th>R2</th>\n",
              "    </tr>\n",
              "  </thead>\n",
              "  <tbody>\n",
              "    <tr>\n",
              "      <th>Tract: Cingulum_Rarolfactory_L, Variables: Neuroticism vs md</th>\n",
              "      <td>-0.22 +- 0.07</td>\n",
              "      <td>0.0022</td>\n",
              "      <td>4.82 %</td>\n",
              "    </tr>\n",
              "    <tr>\n",
              "      <th>Tract: Cingulum_Rarolfactory_L, Variables: Neuroticism vs rd</th>\n",
              "      <td>-0.21 +- 0.07</td>\n",
              "      <td>0.0034</td>\n",
              "      <td>4.42 %</td>\n",
              "    </tr>\n",
              "    <tr>\n",
              "      <th>Tract: Corticopontine_Tract_Occipital_R, Variables: Neuroticism vs dti_fa</th>\n",
              "      <td>0.22 +- 0.08</td>\n",
              "      <td>0.0067</td>\n",
              "      <td>4.80 %</td>\n",
              "    </tr>\n",
              "    <tr>\n",
              "      <th>Tract: Inferior_Longitudinal_Fasciculus_R, Variables: Coscientiousness vs rd</th>\n",
              "      <td>0.19 +- 0.07</td>\n",
              "      <td>0.0067</td>\n",
              "      <td>3.80 %</td>\n",
              "    </tr>\n",
              "    <tr>\n",
              "      <th>Tract: Superior_Longitudinal_Fasciculus1_L, Variables: Neuroticism vs md</th>\n",
              "      <td>-0.20 +- 0.07</td>\n",
              "      <td>0.0065</td>\n",
              "      <td>3.83 %</td>\n",
              "    </tr>\n",
              "    <tr>\n",
              "      <th>Tract: Superior_Longitudinal_Fasciculus1_L, Variables: Neuroticism vs rd</th>\n",
              "      <td>-0.20 +- 0.07</td>\n",
              "      <td>0.0047</td>\n",
              "      <td>4.12 %</td>\n",
              "    </tr>\n",
              "  </tbody>\n",
              "</table>\n",
              "</div>"
            ],
            "text/plain": [
              "                                                   Slope coefficient  ...      R2\n",
              "Tract: Cingulum_Rarolfactory_L, Variables: Neur...     -0.22 +- 0.07  ...  4.82 %\n",
              "Tract: Cingulum_Rarolfactory_L, Variables: Neur...     -0.21 +- 0.07  ...  4.42 %\n",
              "Tract: Corticopontine_Tract_Occipital_R, Variab...      0.22 +- 0.08  ...  4.80 %\n",
              "Tract: Inferior_Longitudinal_Fasciculus_R, Vari...      0.19 +- 0.07  ...  3.80 %\n",
              "Tract: Superior_Longitudinal_Fasciculus1_L, Var...     -0.20 +- 0.07  ...  3.83 %\n",
              "Tract: Superior_Longitudinal_Fasciculus1_L, Var...     -0.20 +- 0.07  ...  4.12 %\n",
              "\n",
              "[6 rows x 3 columns]"
            ]
          },
          "metadata": {
            "tags": []
          },
          "execution_count": 178
        }
      ]
    },
    {
      "cell_type": "code",
      "metadata": {
        "colab": {
          "base_uri": "https://localhost:8080/",
          "height": 417
        },
        "id": "Y248FetuQxl-",
        "outputId": "4b2c7b83-e9a8-4f9f-e741-58e5a3da0d1d"
      },
      "source": [
        "#Multiple Linear Model\r\n",
        "for r in range(len(files)):\r\n",
        "  \r\n",
        "  \r\n",
        "\r\n",
        "\r\n",
        "  f = files[r][0]\r\n",
        "  fd = pd.read_csv(f, sep =  '\\t', index_col = 0)\r\n",
        "\r\n",
        "  males = []\r\n",
        "  gender = np.array(fd[\"Gender.1\"])\r\n",
        "  print(len(gender))\r\n",
        "\r\n",
        "  for g in range(len(np.array(gender))):\r\n",
        "  \r\n",
        "    if gender[g] == 2:\r\n",
        "      males.append(fd.index[g])\r\n",
        "\r\n",
        "  col = diff_labels + [\"Age_in_Yrs\"]\r\n",
        "  maledf = fd.loc[males]\r\n",
        "  X = maledf[col]\r\n",
        "  for t in pers_labels:\r\n",
        "    y = maledf[t]\r\n",
        "    model = LinearRegression()\r\n",
        "    idx2 = np.where(np.isnan(y))\r\n",
        "    y = np.array(y)\r\n",
        "    X = np.array(X)\r\n",
        "    Xnew = np.copy(X)\r\n",
        "    #print(X.shape, Xnew.shape)\r\n",
        "    \r\n",
        "\r\n",
        "    Xnew2 = sm2.add_constant(Xnew)\r\n",
        "\r\n",
        "    model.fit(Xnew,y)\r\n",
        "\r\n",
        "    theta_hat = ordinary_least_squares(Xnew2,y)\r\n",
        "\r\n",
        "    y_hat = Xnew2 @ theta_hat\r\n",
        "    ols = sm.OLS(y, Xnew2).fit()\r\n",
        "\r\n",
        "      \r\n",
        "        \r\n",
        "        #print('Personality trait:', t)\r\n",
        "        #print(model.score(Xnew,y)*100)\r\n",
        "        #print(f\"MSE = {np.mean((y - y_hat)**2):.2f}\") \r\n",
        "\r\n",
        "\r\n",
        "plt.figure()\r\n",
        "plt.title('Personality trait: %s - Fiber %s' %(t,f))\r\n",
        "plt.plot(model.coef_, 'r.')\r\n",
        "plt.plot(ols.params[1:], 'g.')\r\n",
        "plt.xticks(np.arange(0,len(col),1), labels = col)\r\n",
        "plt.xlabel('Feature i ')\r\n",
        "plt.ylabel(r'$\\hat{\\theta}_i$')"
      ],
      "execution_count": 179,
      "outputs": [
        {
          "output_type": "stream",
          "text": [
            "435\n",
            "435\n",
            "351\n",
            "435\n",
            "435\n",
            "435\n"
          ],
          "name": "stdout"
        },
        {
          "output_type": "execute_result",
          "data": {
            "text/plain": [
              "Text(0, 0.5, '$\\\\hat{\\\\theta}_i$')"
            ]
          },
          "metadata": {
            "tags": []
          },
          "execution_count": 179
        },
        {
          "output_type": "display_data",
          "data": {
            "image/png": "[encoded data removed]",
            "text/plain": [
              "<Figure size 432x288 with 1 Axes>"
            ]
          },
          "metadata": {
            "tags": [],
            "needs_background": "light"
          }
        }
      ]
    }
  ]
}
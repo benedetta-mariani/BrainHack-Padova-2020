{
  "nbformat": 4,
  "nbformat_minor": 0,
  "metadata": {
    "colab": {
      "name": "ModelSelection.ipynb",
      "provenance": [],
      "collapsed_sections": []
    },
    "kernelspec": {
      "display_name": "Python 3",
      "language": "python",
      "name": "python3"
    },
    "language_info": {
      "codemirror_mode": {
        "name": "ipython",
        "version": 3
      },
      "file_extension": ".py",
      "mimetype": "text/x-python",
      "name": "python",
      "nbconvert_exporter": "python",
      "pygments_lexer": "ipython3",
      "version": "3.6.5"
    }
  },
  "cells": [
    {
      "cell_type": "code",
      "metadata": {
        "id": "j5nkVfOr73gH"
      },
      "source": [
        "from statsmodels.regression import linear_model as sm\n",
        "import pandas as pd\n",
        "import numpy as np\n",
        "import matplotlib.pyplot as plt\n",
        "import seaborn as sns\n",
        "import statsmodels.api as sm2\n",
        "from sklearn.metrics import r2_score\n",
        "import scipy"
      ],
      "execution_count": 221,
      "outputs": []
    },
    {
      "cell_type": "code",
      "metadata": {
        "colab": {
          "base_uri": "https://localhost:8080/"
        },
        "id": "3dviRXyA721I",
        "outputId": "84093d4b-34c1-4bbd-aca7-2425699661dc"
      },
      "source": [
        "from google.colab import drive\n",
        "drive.mount('/content/drive')"
      ],
      "execution_count": 222,
      "outputs": [
        {
          "output_type": "stream",
          "text": [
            "Drive already mounted at /content/drive; to attempt to forcibly remount, call drive.mount(\"/content/drive\", force_remount=True).\n"
          ],
          "name": "stdout"
        }
      ]
    },
    {
      "cell_type": "code",
      "metadata": {
        "id": "wDWg4hniXdqn",
        "colab": {
          "base_uri": "https://localhost:8080/"
        },
        "outputId": "ee988bc2-d210-4f3e-869c-4547640a44c0"
      },
      "source": [
        "import os\n",
        "os.chdir('/content/drive/MyDrive/Colab Notebooks')\n",
        "sorted(os.listdir())"
      ],
      "execution_count": 223,
      "outputs": [
        {
          "output_type": "execute_result",
          "data": {
            "text/plain": [
              "['Arcuate_Fasciculus_L.tsv',\n",
              " 'Arcuate_Fasciculus_R.tsv',\n",
              " 'BrainHack_Padova.ipynb',\n",
              " 'Cingulum_Frontal_Parahippocampal_L.tsv',\n",
              " 'Cingulum_Frontal_Parahippocampal_R.tsv',\n",
              " 'Cingulum_Frontal_Parietal_L.tsv',\n",
              " 'Cingulum_Frontal_Parietal_R.tsv',\n",
              " 'Cingulum_Parahippocampal_L.tsv',\n",
              " 'Cingulum_Parahippocampal_Parietal_L.tsv',\n",
              " 'Cingulum_Parahippocampal_Parietal_R.tsv',\n",
              " 'Cingulum_Parahippocampal_R.tsv',\n",
              " 'Cingulum_Rarolfactory_L.tsv',\n",
              " 'Cingulum_Rarolfactory_R.tsv',\n",
              " 'Corpus_Callosum_Body.tsv',\n",
              " 'Corpus_Callosum_Forceps_Major.tsv',\n",
              " 'Corpus_Callosum_Forceps_Minor.tsv',\n",
              " 'Corpus_Callosum_Tapetum.tsv',\n",
              " 'Corticobulbar_Tract_L.tsv',\n",
              " 'Corticobulbar_Tract_R.tsv',\n",
              " 'Corticopontine_Tract_Frontal_L.tsv',\n",
              " 'Corticopontine_Tract_Frontal_R.tsv',\n",
              " 'Corticopontine_Tract_Occipital_L.tsv',\n",
              " 'Corticopontine_Tract_Occipital_R.tsv',\n",
              " 'Corticopontine_Tract_Parietal_L.tsv',\n",
              " 'Corticopontine_Tract_Parietal_R.tsv',\n",
              " 'Corticospinal_Tract_L.tsv',\n",
              " 'Corticospinal_Tract_R.tsv',\n",
              " 'Corticostriatal_Tract_Anterior_L.tsv',\n",
              " 'Corticostriatal_Tract_Anterior_R.tsv',\n",
              " 'Corticostriatal_Tract_Posterior_L.tsv',\n",
              " 'Corticostriatal_Tract_Posterior_R.tsv',\n",
              " 'Corticostriatal_Tract_Superior_L.tsv',\n",
              " 'Corticostriatal_Tract_Superior_R.tsv',\n",
              " 'Dentatorubrothalamic_Tract_L.tsv',\n",
              " 'Dentatorubrothalamic_Tract_R.tsv',\n",
              " 'Fornix_L.tsv',\n",
              " 'Fornix_R.tsv',\n",
              " 'Frontal_Aslant_Tract_L.tsv',\n",
              " 'Frontal_Aslant_Tract_R.tsv',\n",
              " 'Inferior_Cerebellar_Peduncle_L.tsv',\n",
              " 'Inferior_Cerebellar_Peduncle_R.tsv',\n",
              " 'Inferior_Fronto_Occipital_Fasciculus_L.tsv',\n",
              " 'Inferior_Fronto_Occipital_Fasciculus_R.tsv',\n",
              " 'Inferior_Longitudinal_Fasciculus_L.tsv',\n",
              " 'Inferior_Longitudinal_Fasciculus_R.tsv',\n",
              " 'Middle_Cerebellar_Peduncle.tsv',\n",
              " 'Middle_Longitudinal_Fasciculus_L.tsv',\n",
              " 'Middle_Longitudinal_Fasciculus_R.tsv',\n",
              " 'ModelSelection.ipynb',\n",
              " 'Optic_Radiation_L.tsv',\n",
              " 'Optic_Radiation_R.tsv',\n",
              " 'Parietal_Aslant_Tract_L.tsv',\n",
              " 'Parietal_Aslant_Tract_R.tsv',\n",
              " 'Superior_Cerebellar_Peduncle.tsv',\n",
              " 'Superior_Longitudinal_Fasciculus1_L.tsv',\n",
              " 'Superior_Longitudinal_Fasciculus1_R.tsv',\n",
              " 'Superior_Longitudinal_Fasciculus2_L.tsv',\n",
              " 'Superior_Longitudinal_Fasciculus2_R.tsv',\n",
              " 'Superior_Longitudinal_Fasciculus3_L.tsv',\n",
              " 'Superior_Longitudinal_Fasciculus3_R.tsv',\n",
              " 'Thalamic_Radiation_Anterior_L.tsv',\n",
              " 'Thalamic_Radiation_Anterior_R.tsv',\n",
              " 'Thalamic_Radiation_Posterior_L.tsv',\n",
              " 'Thalamic_Radiation_Posterior_R.tsv',\n",
              " 'Thalamic_Radiation_Superior_L.tsv',\n",
              " 'Thalamic_Radiation_Superior_R.tsv',\n",
              " 'Uncinate_Fasciculus_L.tsv',\n",
              " 'Uncinate_Fasciculus_R.tsv',\n",
              " 'Vertical_Occipital_Fasciculus_L.tsv',\n",
              " 'Vertical_Occipital_Fasciculus_R.tsv',\n",
              " 'myf1.png']"
            ]
          },
          "metadata": {
            "tags": []
          },
          "execution_count": 223
        }
      ]
    },
    {
      "cell_type": "code",
      "metadata": {
        "id": "wbYygtnkoUjm"
      },
      "source": [
        ""
      ],
      "execution_count": 223,
      "outputs": []
    },
    {
      "cell_type": "markdown",
      "metadata": {
        "id": "Q-pMgbA9EqFJ"
      },
      "source": [
        "#**Association of Microstructural white matter and personality traits based on Human connectome project dataset**"
      ]
    },
    {
      "cell_type": "code",
      "metadata": {
        "colab": {
          "base_uri": "https://localhost:8080/",
          "height": 481
        },
        "id": "2qqVbcgK1wCR",
        "outputId": "370d2707-9e31-4a7a-f536-4208f2cd698a"
      },
      "source": [
        "csvfile = sorted(os.listdir())[1]\n",
        "example = pd.read_csv(csvfile, sep =  '\\t', index_col = 0)\n",
        "col =example.columns\n",
        "example[col[:]].head()\n",
        "# first column (index of the pandas DataFrame): subjects ID"
      ],
      "execution_count": 224,
      "outputs": [
        {
          "output_type": "execute_result",
          "data": {
            "text/html": [
              "<div>\n",
              "<style scoped>\n",
              "    .dataframe tbody tr th:only-of-type {\n",
              "        vertical-align: middle;\n",
              "    }\n",
              "\n",
              "    .dataframe tbody tr th {\n",
              "        vertical-align: top;\n",
              "    }\n",
              "\n",
              "    .dataframe thead th {\n",
              "        text-align: right;\n",
              "    }\n",
              "</style>\n",
              "<table border=\"1\" class=\"dataframe\">\n",
              "  <thead>\n",
              "    <tr style=\"text-align: right;\">\n",
              "      <th></th>\n",
              "      <th>tract</th>\n",
              "      <th>tags</th>\n",
              "      <th>number of tracts</th>\n",
              "      <th>mean length(mm)</th>\n",
              "      <th>span(mm)</th>\n",
              "      <th>curl</th>\n",
              "      <th>elongation</th>\n",
              "      <th>diameter(mm)</th>\n",
              "      <th>volume(mm^3)</th>\n",
              "      <th>trunk volume(mm^3)</th>\n",
              "      <th>branch volume(mm^3)</th>\n",
              "      <th>total surface area(mm^2)</th>\n",
              "      <th>total radius of end regions(mm)</th>\n",
              "      <th>total area of end regions(mm^2)</th>\n",
              "      <th>irregularity</th>\n",
              "      <th>area of end region 1(mm^2)</th>\n",
              "      <th>radius of end region 1(mm)</th>\n",
              "      <th>irregularity of end region 1</th>\n",
              "      <th>area of end region 2(mm^2)</th>\n",
              "      <th>radius of end region 2(mm)</th>\n",
              "      <th>irregularity of end region 2</th>\n",
              "      <th>qa</th>\n",
              "      <th>nqa</th>\n",
              "      <th>dti_fa</th>\n",
              "      <th>md</th>\n",
              "      <th>ad</th>\n",
              "      <th>rd</th>\n",
              "      <th>gfa</th>\n",
              "      <th>iso</th>\n",
              "      <th>rdi</th>\n",
              "      <th>nrdi02L</th>\n",
              "      <th>nrdi04L</th>\n",
              "      <th>nrdi06L</th>\n",
              "      <th>Family_ID</th>\n",
              "      <th>Release</th>\n",
              "      <th>Acquisition</th>\n",
              "      <th>Gender</th>\n",
              "      <th>Gender.1</th>\n",
              "      <th>Age</th>\n",
              "      <th>Age_in_Yrs</th>\n",
              "      <th>...</th>\n",
              "      <th>NEORAW_31</th>\n",
              "      <th>NEORAW_32</th>\n",
              "      <th>NEORAW_33</th>\n",
              "      <th>NEORAW_34</th>\n",
              "      <th>NEORAW_35</th>\n",
              "      <th>NEORAW_36</th>\n",
              "      <th>NEORAW_37</th>\n",
              "      <th>NEORAW_38</th>\n",
              "      <th>NEORAW_39</th>\n",
              "      <th>NEORAW_40</th>\n",
              "      <th>NEORAW_41</th>\n",
              "      <th>NEORAW_42</th>\n",
              "      <th>NEORAW_43</th>\n",
              "      <th>NEORAW_44</th>\n",
              "      <th>NEORAW_45</th>\n",
              "      <th>NEORAW_46</th>\n",
              "      <th>NEORAW_47</th>\n",
              "      <th>NEORAW_48</th>\n",
              "      <th>NEORAW_49</th>\n",
              "      <th>NEORAW_50</th>\n",
              "      <th>NEORAW_51</th>\n",
              "      <th>NEORAW_52</th>\n",
              "      <th>NEORAW_53</th>\n",
              "      <th>NEORAW_54</th>\n",
              "      <th>NEORAW_55</th>\n",
              "      <th>NEORAW_56</th>\n",
              "      <th>NEORAW_57</th>\n",
              "      <th>NEORAW_58</th>\n",
              "      <th>NEORAW_59</th>\n",
              "      <th>NEORAW_60</th>\n",
              "      <th>Noise_Comp</th>\n",
              "      <th>Odor_Unadj</th>\n",
              "      <th>Odor_AgeAdj</th>\n",
              "      <th>PainIntens_RawScore</th>\n",
              "      <th>PainInterf_Tscore</th>\n",
              "      <th>Taste_Unadj</th>\n",
              "      <th>Taste_AgeAdj</th>\n",
              "      <th>Mars_Log_Score</th>\n",
              "      <th>Mars_Errs</th>\n",
              "      <th>Mars_Final</th>\n",
              "    </tr>\n",
              "  </thead>\n",
              "  <tbody>\n",
              "    <tr>\n",
              "      <th>100307</th>\n",
              "      <td>Arcuate_Fasciculus_R</td>\n",
              "      <td>dsi-studio-atk</td>\n",
              "      <td>10496.0</td>\n",
              "      <td>131.378</td>\n",
              "      <td>39.5620</td>\n",
              "      <td>3.32082</td>\n",
              "      <td>9.19801</td>\n",
              "      <td>14.2833</td>\n",
              "      <td>21051.0</td>\n",
              "      <td>19849.0</td>\n",
              "      <td>1202.0</td>\n",
              "      <td>40748.0</td>\n",
              "      <td>18.6828</td>\n",
              "      <td>3617.0</td>\n",
              "      <td>6.91199</td>\n",
              "      <td>1746.0</td>\n",
              "      <td>7.73811</td>\n",
              "      <td>0.107740</td>\n",
              "      <td>1871.0</td>\n",
              "      <td>10.94460</td>\n",
              "      <td>0.201131</td>\n",
              "      <td>0.225301</td>\n",
              "      <td>0.248174</td>\n",
              "      <td>0.341782</td>\n",
              "      <td>0.577167</td>\n",
              "      <td>0.796892</td>\n",
              "      <td>0.467393</td>\n",
              "      <td>0.115883</td>\n",
              "      <td>0.403939</td>\n",
              "      <td>0.376176</td>\n",
              "      <td>0.251907</td>\n",
              "      <td>0.035318</td>\n",
              "      <td>0.0</td>\n",
              "      <td>51488_81352</td>\n",
              "      <td>Q1</td>\n",
              "      <td>Q01</td>\n",
              "      <td>F</td>\n",
              "      <td>1</td>\n",
              "      <td>26-30</td>\n",
              "      <td>27</td>\n",
              "      <td>...</td>\n",
              "      <td>A</td>\n",
              "      <td>A</td>\n",
              "      <td>D</td>\n",
              "      <td>A</td>\n",
              "      <td>A</td>\n",
              "      <td>SD</td>\n",
              "      <td>A</td>\n",
              "      <td>N</td>\n",
              "      <td>D</td>\n",
              "      <td>A</td>\n",
              "      <td>D</td>\n",
              "      <td>D</td>\n",
              "      <td>N</td>\n",
              "      <td>D</td>\n",
              "      <td>D</td>\n",
              "      <td>A</td>\n",
              "      <td>A</td>\n",
              "      <td>D</td>\n",
              "      <td>A</td>\n",
              "      <td>A</td>\n",
              "      <td>D</td>\n",
              "      <td>SA</td>\n",
              "      <td>A</td>\n",
              "      <td>SD</td>\n",
              "      <td>D</td>\n",
              "      <td>D</td>\n",
              "      <td>D</td>\n",
              "      <td>D</td>\n",
              "      <td>SD</td>\n",
              "      <td>A</td>\n",
              "      <td>3.6</td>\n",
              "      <td>101.12</td>\n",
              "      <td>86.45</td>\n",
              "      <td>0.0</td>\n",
              "      <td>38.6</td>\n",
              "      <td>71.69</td>\n",
              "      <td>71.76</td>\n",
              "      <td>1.76</td>\n",
              "      <td>0.0</td>\n",
              "      <td>1.76</td>\n",
              "    </tr>\n",
              "    <tr>\n",
              "      <th>100408</th>\n",
              "      <td>Arcuate_Fasciculus_R</td>\n",
              "      <td>dsi-studio-atk</td>\n",
              "      <td>10805.0</td>\n",
              "      <td>138.595</td>\n",
              "      <td>47.7411</td>\n",
              "      <td>2.90305</td>\n",
              "      <td>10.74830</td>\n",
              "      <td>12.8946</td>\n",
              "      <td>18099.0</td>\n",
              "      <td>17863.0</td>\n",
              "      <td>236.0</td>\n",
              "      <td>33748.0</td>\n",
              "      <td>17.4124</td>\n",
              "      <td>3536.0</td>\n",
              "      <td>6.01094</td>\n",
              "      <td>1310.0</td>\n",
              "      <td>7.72054</td>\n",
              "      <td>0.142947</td>\n",
              "      <td>2226.0</td>\n",
              "      <td>9.69189</td>\n",
              "      <td>0.132569</td>\n",
              "      <td>0.235542</td>\n",
              "      <td>0.288548</td>\n",
              "      <td>0.382923</td>\n",
              "      <td>0.529628</td>\n",
              "      <td>0.759137</td>\n",
              "      <td>0.415025</td>\n",
              "      <td>0.119219</td>\n",
              "      <td>0.406605</td>\n",
              "      <td>0.381338</td>\n",
              "      <td>0.252138</td>\n",
              "      <td>0.033855</td>\n",
              "      <td>0.0</td>\n",
              "      <td>51730_81594</td>\n",
              "      <td>Q3</td>\n",
              "      <td>Q03</td>\n",
              "      <td>M</td>\n",
              "      <td>2</td>\n",
              "      <td>31-35</td>\n",
              "      <td>33</td>\n",
              "      <td>...</td>\n",
              "      <td>A</td>\n",
              "      <td>D</td>\n",
              "      <td>D</td>\n",
              "      <td>A</td>\n",
              "      <td>A</td>\n",
              "      <td>SD</td>\n",
              "      <td>A</td>\n",
              "      <td>SD</td>\n",
              "      <td>D</td>\n",
              "      <td>A</td>\n",
              "      <td>D</td>\n",
              "      <td>N</td>\n",
              "      <td>D</td>\n",
              "      <td>N</td>\n",
              "      <td>D</td>\n",
              "      <td>N</td>\n",
              "      <td>A</td>\n",
              "      <td>D</td>\n",
              "      <td>SA</td>\n",
              "      <td>A</td>\n",
              "      <td>D</td>\n",
              "      <td>A</td>\n",
              "      <td>A</td>\n",
              "      <td>N</td>\n",
              "      <td>D</td>\n",
              "      <td>N</td>\n",
              "      <td>D</td>\n",
              "      <td>A</td>\n",
              "      <td>A</td>\n",
              "      <td>A</td>\n",
              "      <td>2.0</td>\n",
              "      <td>108.79</td>\n",
              "      <td>98.04</td>\n",
              "      <td>2.0</td>\n",
              "      <td>52.6</td>\n",
              "      <td>114.01</td>\n",
              "      <td>113.59</td>\n",
              "      <td>1.76</td>\n",
              "      <td>2.0</td>\n",
              "      <td>1.68</td>\n",
              "    </tr>\n",
              "    <tr>\n",
              "      <th>101107</th>\n",
              "      <td>Arcuate_Fasciculus_R</td>\n",
              "      <td>dsi-studio-atk</td>\n",
              "      <td>9692.0</td>\n",
              "      <td>137.519</td>\n",
              "      <td>37.6322</td>\n",
              "      <td>3.65428</td>\n",
              "      <td>10.43420</td>\n",
              "      <td>13.1796</td>\n",
              "      <td>18761.0</td>\n",
              "      <td>8926.0</td>\n",
              "      <td>9835.0</td>\n",
              "      <td>38338.0</td>\n",
              "      <td>20.6269</td>\n",
              "      <td>3121.0</td>\n",
              "      <td>6.73310</td>\n",
              "      <td>1449.0</td>\n",
              "      <td>6.89515</td>\n",
              "      <td>0.103079</td>\n",
              "      <td>1672.0</td>\n",
              "      <td>13.73180</td>\n",
              "      <td>0.354297</td>\n",
              "      <td>0.226054</td>\n",
              "      <td>0.254177</td>\n",
              "      <td>0.338129</td>\n",
              "      <td>0.562818</td>\n",
              "      <td>0.773395</td>\n",
              "      <td>0.457483</td>\n",
              "      <td>0.113139</td>\n",
              "      <td>0.420302</td>\n",
              "      <td>0.389329</td>\n",
              "      <td>0.258333</td>\n",
              "      <td>0.035142</td>\n",
              "      <td>0.0</td>\n",
              "      <td>51969_81833</td>\n",
              "      <td>S500</td>\n",
              "      <td>Q06</td>\n",
              "      <td>M</td>\n",
              "      <td>2</td>\n",
              "      <td>22-25</td>\n",
              "      <td>22</td>\n",
              "      <td>...</td>\n",
              "      <td>A</td>\n",
              "      <td>N</td>\n",
              "      <td>D</td>\n",
              "      <td>A</td>\n",
              "      <td>SA</td>\n",
              "      <td>SA</td>\n",
              "      <td>N</td>\n",
              "      <td>N</td>\n",
              "      <td>N</td>\n",
              "      <td>SA</td>\n",
              "      <td>SD</td>\n",
              "      <td>N</td>\n",
              "      <td>D</td>\n",
              "      <td>A</td>\n",
              "      <td>SD</td>\n",
              "      <td>N</td>\n",
              "      <td>A</td>\n",
              "      <td>SD</td>\n",
              "      <td>SA</td>\n",
              "      <td>A</td>\n",
              "      <td>SD</td>\n",
              "      <td>SA</td>\n",
              "      <td>SA</td>\n",
              "      <td>A</td>\n",
              "      <td>D</td>\n",
              "      <td>N</td>\n",
              "      <td>SD</td>\n",
              "      <td>A</td>\n",
              "      <td>D</td>\n",
              "      <td>A</td>\n",
              "      <td>6.8</td>\n",
              "      <td>108.79</td>\n",
              "      <td>97.19</td>\n",
              "      <td>1.0</td>\n",
              "      <td>50.1</td>\n",
              "      <td>134.65</td>\n",
              "      <td>131.38</td>\n",
              "      <td>1.84</td>\n",
              "      <td>0.0</td>\n",
              "      <td>1.84</td>\n",
              "    </tr>\n",
              "    <tr>\n",
              "      <th>102311</th>\n",
              "      <td>Arcuate_Fasciculus_R</td>\n",
              "      <td>dsi-studio-atk</td>\n",
              "      <td>11244.0</td>\n",
              "      <td>134.410</td>\n",
              "      <td>37.9741</td>\n",
              "      <td>3.53953</td>\n",
              "      <td>9.54367</td>\n",
              "      <td>14.0837</td>\n",
              "      <td>20939.0</td>\n",
              "      <td>18646.0</td>\n",
              "      <td>2293.0</td>\n",
              "      <td>39387.0</td>\n",
              "      <td>21.3915</td>\n",
              "      <td>3942.0</td>\n",
              "      <td>6.62299</td>\n",
              "      <td>1572.0</td>\n",
              "      <td>7.73086</td>\n",
              "      <td>0.119441</td>\n",
              "      <td>2370.0</td>\n",
              "      <td>13.66060</td>\n",
              "      <td>0.247368</td>\n",
              "      <td>0.268240</td>\n",
              "      <td>0.274683</td>\n",
              "      <td>0.386692</td>\n",
              "      <td>0.537020</td>\n",
              "      <td>0.771358</td>\n",
              "      <td>0.419721</td>\n",
              "      <td>0.123726</td>\n",
              "      <td>0.438493</td>\n",
              "      <td>0.414109</td>\n",
              "      <td>0.273624</td>\n",
              "      <td>0.036690</td>\n",
              "      <td>0.0</td>\n",
              "      <td>51679_81543</td>\n",
              "      <td>S500</td>\n",
              "      <td>Q06</td>\n",
              "      <td>F</td>\n",
              "      <td>1</td>\n",
              "      <td>26-30</td>\n",
              "      <td>26</td>\n",
              "      <td>...</td>\n",
              "      <td>D</td>\n",
              "      <td>A</td>\n",
              "      <td>D</td>\n",
              "      <td>A</td>\n",
              "      <td>SA</td>\n",
              "      <td>D</td>\n",
              "      <td>D</td>\n",
              "      <td>SD</td>\n",
              "      <td>D</td>\n",
              "      <td>SA</td>\n",
              "      <td>SD</td>\n",
              "      <td>A</td>\n",
              "      <td>A</td>\n",
              "      <td>D</td>\n",
              "      <td>SD</td>\n",
              "      <td>D</td>\n",
              "      <td>A</td>\n",
              "      <td>D</td>\n",
              "      <td>A</td>\n",
              "      <td>SA</td>\n",
              "      <td>SD</td>\n",
              "      <td>A</td>\n",
              "      <td>A</td>\n",
              "      <td>N</td>\n",
              "      <td>D</td>\n",
              "      <td>D</td>\n",
              "      <td>D</td>\n",
              "      <td>N</td>\n",
              "      <td>A</td>\n",
              "      <td>SA</td>\n",
              "      <td>4.4</td>\n",
              "      <td>122.25</td>\n",
              "      <td>110.45</td>\n",
              "      <td>1.0</td>\n",
              "      <td>52.2</td>\n",
              "      <td>98.31</td>\n",
              "      <td>99.06</td>\n",
              "      <td>1.80</td>\n",
              "      <td>0.0</td>\n",
              "      <td>1.80</td>\n",
              "    </tr>\n",
              "    <tr>\n",
              "      <th>102513</th>\n",
              "      <td>Arcuate_Fasciculus_R</td>\n",
              "      <td>dsi-studio-atk</td>\n",
              "      <td>8644.0</td>\n",
              "      <td>147.513</td>\n",
              "      <td>35.9243</td>\n",
              "      <td>4.10621</td>\n",
              "      <td>10.74340</td>\n",
              "      <td>13.7305</td>\n",
              "      <td>21842.0</td>\n",
              "      <td>2833.0</td>\n",
              "      <td>19009.0</td>\n",
              "      <td>49514.0</td>\n",
              "      <td>26.9380</td>\n",
              "      <td>3493.0</td>\n",
              "      <td>7.78148</td>\n",
              "      <td>937.0</td>\n",
              "      <td>10.86560</td>\n",
              "      <td>0.395841</td>\n",
              "      <td>2556.0</td>\n",
              "      <td>16.07240</td>\n",
              "      <td>0.317504</td>\n",
              "      <td>0.201666</td>\n",
              "      <td>0.265694</td>\n",
              "      <td>0.381381</td>\n",
              "      <td>0.558666</td>\n",
              "      <td>0.792176</td>\n",
              "      <td>0.441912</td>\n",
              "      <td>0.126351</td>\n",
              "      <td>0.321768</td>\n",
              "      <td>0.306851</td>\n",
              "      <td>0.204164</td>\n",
              "      <td>0.028040</td>\n",
              "      <td>0.0</td>\n",
              "      <td>56077_85897</td>\n",
              "      <td>S900</td>\n",
              "      <td>Q10</td>\n",
              "      <td>M</td>\n",
              "      <td>2</td>\n",
              "      <td>26-30</td>\n",
              "      <td>30</td>\n",
              "      <td>...</td>\n",
              "      <td>N</td>\n",
              "      <td>D</td>\n",
              "      <td>N</td>\n",
              "      <td>A</td>\n",
              "      <td>N</td>\n",
              "      <td>D</td>\n",
              "      <td>N</td>\n",
              "      <td>SD</td>\n",
              "      <td>N</td>\n",
              "      <td>A</td>\n",
              "      <td>D</td>\n",
              "      <td>N</td>\n",
              "      <td>A</td>\n",
              "      <td>N</td>\n",
              "      <td>A</td>\n",
              "      <td>D</td>\n",
              "      <td>N</td>\n",
              "      <td>SD</td>\n",
              "      <td>A</td>\n",
              "      <td>N</td>\n",
              "      <td>SD</td>\n",
              "      <td>A</td>\n",
              "      <td>SA</td>\n",
              "      <td>N</td>\n",
              "      <td>D</td>\n",
              "      <td>SD</td>\n",
              "      <td>A</td>\n",
              "      <td>SA</td>\n",
              "      <td>A</td>\n",
              "      <td>SA</td>\n",
              "      <td>5.2</td>\n",
              "      <td>108.79</td>\n",
              "      <td>98.04</td>\n",
              "      <td>2.0</td>\n",
              "      <td>54.3</td>\n",
              "      <td>84.07</td>\n",
              "      <td>82.37</td>\n",
              "      <td>1.92</td>\n",
              "      <td>0.0</td>\n",
              "      <td>1.92</td>\n",
              "    </tr>\n",
              "  </tbody>\n",
              "</table>\n",
              "<p>5 rows × 618 columns</p>\n",
              "</div>"
            ],
            "text/plain": [
              "                       tract            tags  ...  Mars_Errs  Mars_Final\n",
              "100307  Arcuate_Fasciculus_R  dsi-studio-atk  ...        0.0        1.76\n",
              "100408  Arcuate_Fasciculus_R  dsi-studio-atk  ...        2.0        1.68\n",
              "101107  Arcuate_Fasciculus_R  dsi-studio-atk  ...        0.0        1.84\n",
              "102311  Arcuate_Fasciculus_R  dsi-studio-atk  ...        0.0        1.80\n",
              "102513  Arcuate_Fasciculus_R  dsi-studio-atk  ...        0.0        1.92\n",
              "\n",
              "[5 rows x 618 columns]"
            ]
          },
          "metadata": {
            "tags": []
          },
          "execution_count": 224
        }
      ]
    },
    {
      "cell_type": "code",
      "metadata": {
        "colab": {
          "base_uri": "https://localhost:8080/"
        },
        "id": "sarRuMcut0fo",
        "outputId": "0b79b129-76f8-4684-97c7-004454ded831"
      },
      "source": [
        "example.columns"
      ],
      "execution_count": 225,
      "outputs": [
        {
          "output_type": "execute_result",
          "data": {
            "text/plain": [
              "Index(['tract', 'tags', 'number of tracts', 'mean length(mm)', 'span(mm)',\n",
              "       'curl', 'elongation', 'diameter(mm)', 'volume(mm^3)',\n",
              "       'trunk volume(mm^3)',\n",
              "       ...\n",
              "       'Noise_Comp', 'Odor_Unadj', 'Odor_AgeAdj', 'PainIntens_RawScore',\n",
              "       'PainInterf_Tscore', 'Taste_Unadj', 'Taste_AgeAdj', 'Mars_Log_Score',\n",
              "       'Mars_Errs', 'Mars_Final'],\n",
              "      dtype='object', length=618)"
            ]
          },
          "metadata": {
            "tags": []
          },
          "execution_count": 225
        }
      ]
    },
    {
      "cell_type": "code",
      "metadata": {
        "colab": {
          "base_uri": "https://localhost:8080/",
          "height": 273
        },
        "id": "NjS1ZdQYnAcf",
        "outputId": "90c7bd6b-60d0-4b3f-ca8f-f18ca1bb0908"
      },
      "source": [
        "example[col[30:]].head()"
      ],
      "execution_count": 226,
      "outputs": [
        {
          "output_type": "execute_result",
          "data": {
            "text/html": [
              "<div>\n",
              "<style scoped>\n",
              "    .dataframe tbody tr th:only-of-type {\n",
              "        vertical-align: middle;\n",
              "    }\n",
              "\n",
              "    .dataframe tbody tr th {\n",
              "        vertical-align: top;\n",
              "    }\n",
              "\n",
              "    .dataframe thead th {\n",
              "        text-align: right;\n",
              "    }\n",
              "</style>\n",
              "<table border=\"1\" class=\"dataframe\">\n",
              "  <thead>\n",
              "    <tr style=\"text-align: right;\">\n",
              "      <th></th>\n",
              "      <th>nrdi02L</th>\n",
              "      <th>nrdi04L</th>\n",
              "      <th>nrdi06L</th>\n",
              "      <th>Family_ID</th>\n",
              "      <th>Release</th>\n",
              "      <th>Acquisition</th>\n",
              "      <th>Gender</th>\n",
              "      <th>Gender.1</th>\n",
              "      <th>Age</th>\n",
              "      <th>Age_in_Yrs</th>\n",
              "      <th>Handedness</th>\n",
              "      <th>NEOFAC_A</th>\n",
              "      <th>NEOFAC_O</th>\n",
              "      <th>NEOFAC_C</th>\n",
              "      <th>NEOFAC_N</th>\n",
              "      <th>NEOFAC_E</th>\n",
              "      <th>3T_Full_MR_Compl</th>\n",
              "      <th>T1_Count</th>\n",
              "      <th>T2_Count</th>\n",
              "      <th>3T_RS-fMRI_Count</th>\n",
              "      <th>3T_RS-fMRI_PctCompl</th>\n",
              "      <th>3T_Full_Task_fMRI</th>\n",
              "      <th>3T_tMRI_PctCompl</th>\n",
              "      <th>fMRI_WM_PctCompl</th>\n",
              "      <th>fMRI_Gamb_PctCompl</th>\n",
              "      <th>fMRI_Mot_PctCompl</th>\n",
              "      <th>fMRI_Lang_PctCompl</th>\n",
              "      <th>fMRI_Soc_PctCompl</th>\n",
              "      <th>fMRI_Rel_PctCompl</th>\n",
              "      <th>fMRI_Emo_PctCompl</th>\n",
              "      <th>3T_dMRI_Compl</th>\n",
              "      <th>3T_dMRI_PctCompl</th>\n",
              "      <th>dMRI_3T_ReconVrs</th>\n",
              "      <th>fMRI_3T_ReconVrs</th>\n",
              "      <th>7T_Full_MR_Compl</th>\n",
              "      <th>7T_RS-fMRI_Count</th>\n",
              "      <th>7T_RS-fMRI_PctCompl</th>\n",
              "      <th>7T_Full_Task_fMRI</th>\n",
              "      <th>7T_tMRI_PctCompl</th>\n",
              "      <th>fMRI_Movie_Compl</th>\n",
              "      <th>...</th>\n",
              "      <th>NEORAW_31</th>\n",
              "      <th>NEORAW_32</th>\n",
              "      <th>NEORAW_33</th>\n",
              "      <th>NEORAW_34</th>\n",
              "      <th>NEORAW_35</th>\n",
              "      <th>NEORAW_36</th>\n",
              "      <th>NEORAW_37</th>\n",
              "      <th>NEORAW_38</th>\n",
              "      <th>NEORAW_39</th>\n",
              "      <th>NEORAW_40</th>\n",
              "      <th>NEORAW_41</th>\n",
              "      <th>NEORAW_42</th>\n",
              "      <th>NEORAW_43</th>\n",
              "      <th>NEORAW_44</th>\n",
              "      <th>NEORAW_45</th>\n",
              "      <th>NEORAW_46</th>\n",
              "      <th>NEORAW_47</th>\n",
              "      <th>NEORAW_48</th>\n",
              "      <th>NEORAW_49</th>\n",
              "      <th>NEORAW_50</th>\n",
              "      <th>NEORAW_51</th>\n",
              "      <th>NEORAW_52</th>\n",
              "      <th>NEORAW_53</th>\n",
              "      <th>NEORAW_54</th>\n",
              "      <th>NEORAW_55</th>\n",
              "      <th>NEORAW_56</th>\n",
              "      <th>NEORAW_57</th>\n",
              "      <th>NEORAW_58</th>\n",
              "      <th>NEORAW_59</th>\n",
              "      <th>NEORAW_60</th>\n",
              "      <th>Noise_Comp</th>\n",
              "      <th>Odor_Unadj</th>\n",
              "      <th>Odor_AgeAdj</th>\n",
              "      <th>PainIntens_RawScore</th>\n",
              "      <th>PainInterf_Tscore</th>\n",
              "      <th>Taste_Unadj</th>\n",
              "      <th>Taste_AgeAdj</th>\n",
              "      <th>Mars_Log_Score</th>\n",
              "      <th>Mars_Errs</th>\n",
              "      <th>Mars_Final</th>\n",
              "    </tr>\n",
              "  </thead>\n",
              "  <tbody>\n",
              "    <tr>\n",
              "      <th>100307</th>\n",
              "      <td>0.251907</td>\n",
              "      <td>0.035318</td>\n",
              "      <td>0.0</td>\n",
              "      <td>51488_81352</td>\n",
              "      <td>Q1</td>\n",
              "      <td>Q01</td>\n",
              "      <td>F</td>\n",
              "      <td>1</td>\n",
              "      <td>26-30</td>\n",
              "      <td>27</td>\n",
              "      <td>95</td>\n",
              "      <td>37.0</td>\n",
              "      <td>24.0</td>\n",
              "      <td>35.0</td>\n",
              "      <td>15.0</td>\n",
              "      <td>37.0</td>\n",
              "      <td>1</td>\n",
              "      <td>1</td>\n",
              "      <td>1</td>\n",
              "      <td>4</td>\n",
              "      <td>100.0</td>\n",
              "      <td>1</td>\n",
              "      <td>100.0</td>\n",
              "      <td>100</td>\n",
              "      <td>100.0</td>\n",
              "      <td>100</td>\n",
              "      <td>100.0</td>\n",
              "      <td>100.0</td>\n",
              "      <td>100.0</td>\n",
              "      <td>100</td>\n",
              "      <td>1</td>\n",
              "      <td>100.0</td>\n",
              "      <td>r227</td>\n",
              "      <td>r177</td>\n",
              "      <td>0</td>\n",
              "      <td>0</td>\n",
              "      <td>0</td>\n",
              "      <td>0</td>\n",
              "      <td>0.0</td>\n",
              "      <td>0</td>\n",
              "      <td>...</td>\n",
              "      <td>A</td>\n",
              "      <td>A</td>\n",
              "      <td>D</td>\n",
              "      <td>A</td>\n",
              "      <td>A</td>\n",
              "      <td>SD</td>\n",
              "      <td>A</td>\n",
              "      <td>N</td>\n",
              "      <td>D</td>\n",
              "      <td>A</td>\n",
              "      <td>D</td>\n",
              "      <td>D</td>\n",
              "      <td>N</td>\n",
              "      <td>D</td>\n",
              "      <td>D</td>\n",
              "      <td>A</td>\n",
              "      <td>A</td>\n",
              "      <td>D</td>\n",
              "      <td>A</td>\n",
              "      <td>A</td>\n",
              "      <td>D</td>\n",
              "      <td>SA</td>\n",
              "      <td>A</td>\n",
              "      <td>SD</td>\n",
              "      <td>D</td>\n",
              "      <td>D</td>\n",
              "      <td>D</td>\n",
              "      <td>D</td>\n",
              "      <td>SD</td>\n",
              "      <td>A</td>\n",
              "      <td>3.6</td>\n",
              "      <td>101.12</td>\n",
              "      <td>86.45</td>\n",
              "      <td>0.0</td>\n",
              "      <td>38.6</td>\n",
              "      <td>71.69</td>\n",
              "      <td>71.76</td>\n",
              "      <td>1.76</td>\n",
              "      <td>0.0</td>\n",
              "      <td>1.76</td>\n",
              "    </tr>\n",
              "    <tr>\n",
              "      <th>100408</th>\n",
              "      <td>0.252138</td>\n",
              "      <td>0.033855</td>\n",
              "      <td>0.0</td>\n",
              "      <td>51730_81594</td>\n",
              "      <td>Q3</td>\n",
              "      <td>Q03</td>\n",
              "      <td>M</td>\n",
              "      <td>2</td>\n",
              "      <td>31-35</td>\n",
              "      <td>33</td>\n",
              "      <td>55</td>\n",
              "      <td>33.0</td>\n",
              "      <td>29.0</td>\n",
              "      <td>34.0</td>\n",
              "      <td>15.0</td>\n",
              "      <td>33.0</td>\n",
              "      <td>1</td>\n",
              "      <td>1</td>\n",
              "      <td>1</td>\n",
              "      <td>4</td>\n",
              "      <td>100.0</td>\n",
              "      <td>1</td>\n",
              "      <td>100.0</td>\n",
              "      <td>100</td>\n",
              "      <td>100.0</td>\n",
              "      <td>100</td>\n",
              "      <td>100.0</td>\n",
              "      <td>100.0</td>\n",
              "      <td>100.0</td>\n",
              "      <td>100</td>\n",
              "      <td>1</td>\n",
              "      <td>100.0</td>\n",
              "      <td>r227</td>\n",
              "      <td>r177</td>\n",
              "      <td>0</td>\n",
              "      <td>0</td>\n",
              "      <td>0</td>\n",
              "      <td>0</td>\n",
              "      <td>0.0</td>\n",
              "      <td>0</td>\n",
              "      <td>...</td>\n",
              "      <td>A</td>\n",
              "      <td>D</td>\n",
              "      <td>D</td>\n",
              "      <td>A</td>\n",
              "      <td>A</td>\n",
              "      <td>SD</td>\n",
              "      <td>A</td>\n",
              "      <td>SD</td>\n",
              "      <td>D</td>\n",
              "      <td>A</td>\n",
              "      <td>D</td>\n",
              "      <td>N</td>\n",
              "      <td>D</td>\n",
              "      <td>N</td>\n",
              "      <td>D</td>\n",
              "      <td>N</td>\n",
              "      <td>A</td>\n",
              "      <td>D</td>\n",
              "      <td>SA</td>\n",
              "      <td>A</td>\n",
              "      <td>D</td>\n",
              "      <td>A</td>\n",
              "      <td>A</td>\n",
              "      <td>N</td>\n",
              "      <td>D</td>\n",
              "      <td>N</td>\n",
              "      <td>D</td>\n",
              "      <td>A</td>\n",
              "      <td>A</td>\n",
              "      <td>A</td>\n",
              "      <td>2.0</td>\n",
              "      <td>108.79</td>\n",
              "      <td>98.04</td>\n",
              "      <td>2.0</td>\n",
              "      <td>52.6</td>\n",
              "      <td>114.01</td>\n",
              "      <td>113.59</td>\n",
              "      <td>1.76</td>\n",
              "      <td>2.0</td>\n",
              "      <td>1.68</td>\n",
              "    </tr>\n",
              "    <tr>\n",
              "      <th>101107</th>\n",
              "      <td>0.258333</td>\n",
              "      <td>0.035142</td>\n",
              "      <td>0.0</td>\n",
              "      <td>51969_81833</td>\n",
              "      <td>S500</td>\n",
              "      <td>Q06</td>\n",
              "      <td>M</td>\n",
              "      <td>2</td>\n",
              "      <td>22-25</td>\n",
              "      <td>22</td>\n",
              "      <td>5</td>\n",
              "      <td>28.0</td>\n",
              "      <td>35.0</td>\n",
              "      <td>37.0</td>\n",
              "      <td>12.0</td>\n",
              "      <td>28.0</td>\n",
              "      <td>1</td>\n",
              "      <td>2</td>\n",
              "      <td>2</td>\n",
              "      <td>4</td>\n",
              "      <td>100.0</td>\n",
              "      <td>1</td>\n",
              "      <td>100.0</td>\n",
              "      <td>100</td>\n",
              "      <td>100.0</td>\n",
              "      <td>100</td>\n",
              "      <td>100.0</td>\n",
              "      <td>100.0</td>\n",
              "      <td>100.0</td>\n",
              "      <td>100</td>\n",
              "      <td>1</td>\n",
              "      <td>100.0</td>\n",
              "      <td>r227</td>\n",
              "      <td>r227</td>\n",
              "      <td>0</td>\n",
              "      <td>0</td>\n",
              "      <td>0</td>\n",
              "      <td>0</td>\n",
              "      <td>0.0</td>\n",
              "      <td>0</td>\n",
              "      <td>...</td>\n",
              "      <td>A</td>\n",
              "      <td>N</td>\n",
              "      <td>D</td>\n",
              "      <td>A</td>\n",
              "      <td>SA</td>\n",
              "      <td>SA</td>\n",
              "      <td>N</td>\n",
              "      <td>N</td>\n",
              "      <td>N</td>\n",
              "      <td>SA</td>\n",
              "      <td>SD</td>\n",
              "      <td>N</td>\n",
              "      <td>D</td>\n",
              "      <td>A</td>\n",
              "      <td>SD</td>\n",
              "      <td>N</td>\n",
              "      <td>A</td>\n",
              "      <td>SD</td>\n",
              "      <td>SA</td>\n",
              "      <td>A</td>\n",
              "      <td>SD</td>\n",
              "      <td>SA</td>\n",
              "      <td>SA</td>\n",
              "      <td>A</td>\n",
              "      <td>D</td>\n",
              "      <td>N</td>\n",
              "      <td>SD</td>\n",
              "      <td>A</td>\n",
              "      <td>D</td>\n",
              "      <td>A</td>\n",
              "      <td>6.8</td>\n",
              "      <td>108.79</td>\n",
              "      <td>97.19</td>\n",
              "      <td>1.0</td>\n",
              "      <td>50.1</td>\n",
              "      <td>134.65</td>\n",
              "      <td>131.38</td>\n",
              "      <td>1.84</td>\n",
              "      <td>0.0</td>\n",
              "      <td>1.84</td>\n",
              "    </tr>\n",
              "    <tr>\n",
              "      <th>102311</th>\n",
              "      <td>0.273624</td>\n",
              "      <td>0.036690</td>\n",
              "      <td>0.0</td>\n",
              "      <td>51679_81543</td>\n",
              "      <td>S500</td>\n",
              "      <td>Q06</td>\n",
              "      <td>F</td>\n",
              "      <td>1</td>\n",
              "      <td>26-30</td>\n",
              "      <td>26</td>\n",
              "      <td>10</td>\n",
              "      <td>29.0</td>\n",
              "      <td>34.0</td>\n",
              "      <td>38.0</td>\n",
              "      <td>18.0</td>\n",
              "      <td>27.0</td>\n",
              "      <td>1</td>\n",
              "      <td>1</td>\n",
              "      <td>1</td>\n",
              "      <td>4</td>\n",
              "      <td>100.0</td>\n",
              "      <td>1</td>\n",
              "      <td>100.0</td>\n",
              "      <td>100</td>\n",
              "      <td>100.0</td>\n",
              "      <td>100</td>\n",
              "      <td>100.0</td>\n",
              "      <td>100.0</td>\n",
              "      <td>100.0</td>\n",
              "      <td>100</td>\n",
              "      <td>1</td>\n",
              "      <td>100.0</td>\n",
              "      <td>r227</td>\n",
              "      <td>r227</td>\n",
              "      <td>1</td>\n",
              "      <td>4</td>\n",
              "      <td>100</td>\n",
              "      <td>1</td>\n",
              "      <td>100.0</td>\n",
              "      <td>1</td>\n",
              "      <td>...</td>\n",
              "      <td>D</td>\n",
              "      <td>A</td>\n",
              "      <td>D</td>\n",
              "      <td>A</td>\n",
              "      <td>SA</td>\n",
              "      <td>D</td>\n",
              "      <td>D</td>\n",
              "      <td>SD</td>\n",
              "      <td>D</td>\n",
              "      <td>SA</td>\n",
              "      <td>SD</td>\n",
              "      <td>A</td>\n",
              "      <td>A</td>\n",
              "      <td>D</td>\n",
              "      <td>SD</td>\n",
              "      <td>D</td>\n",
              "      <td>A</td>\n",
              "      <td>D</td>\n",
              "      <td>A</td>\n",
              "      <td>SA</td>\n",
              "      <td>SD</td>\n",
              "      <td>A</td>\n",
              "      <td>A</td>\n",
              "      <td>N</td>\n",
              "      <td>D</td>\n",
              "      <td>D</td>\n",
              "      <td>D</td>\n",
              "      <td>N</td>\n",
              "      <td>A</td>\n",
              "      <td>SA</td>\n",
              "      <td>4.4</td>\n",
              "      <td>122.25</td>\n",
              "      <td>110.45</td>\n",
              "      <td>1.0</td>\n",
              "      <td>52.2</td>\n",
              "      <td>98.31</td>\n",
              "      <td>99.06</td>\n",
              "      <td>1.80</td>\n",
              "      <td>0.0</td>\n",
              "      <td>1.80</td>\n",
              "    </tr>\n",
              "    <tr>\n",
              "      <th>102513</th>\n",
              "      <td>0.204164</td>\n",
              "      <td>0.028040</td>\n",
              "      <td>0.0</td>\n",
              "      <td>56077_85897</td>\n",
              "      <td>S900</td>\n",
              "      <td>Q10</td>\n",
              "      <td>M</td>\n",
              "      <td>2</td>\n",
              "      <td>26-30</td>\n",
              "      <td>30</td>\n",
              "      <td>50</td>\n",
              "      <td>26.0</td>\n",
              "      <td>39.0</td>\n",
              "      <td>27.0</td>\n",
              "      <td>12.0</td>\n",
              "      <td>27.0</td>\n",
              "      <td>1</td>\n",
              "      <td>2</td>\n",
              "      <td>2</td>\n",
              "      <td>4</td>\n",
              "      <td>100.0</td>\n",
              "      <td>1</td>\n",
              "      <td>100.0</td>\n",
              "      <td>100</td>\n",
              "      <td>100.0</td>\n",
              "      <td>100</td>\n",
              "      <td>100.0</td>\n",
              "      <td>100.0</td>\n",
              "      <td>100.0</td>\n",
              "      <td>100</td>\n",
              "      <td>1</td>\n",
              "      <td>100.0</td>\n",
              "      <td>r227</td>\n",
              "      <td>r227</td>\n",
              "      <td>0</td>\n",
              "      <td>0</td>\n",
              "      <td>0</td>\n",
              "      <td>0</td>\n",
              "      <td>0.0</td>\n",
              "      <td>0</td>\n",
              "      <td>...</td>\n",
              "      <td>N</td>\n",
              "      <td>D</td>\n",
              "      <td>N</td>\n",
              "      <td>A</td>\n",
              "      <td>N</td>\n",
              "      <td>D</td>\n",
              "      <td>N</td>\n",
              "      <td>SD</td>\n",
              "      <td>N</td>\n",
              "      <td>A</td>\n",
              "      <td>D</td>\n",
              "      <td>N</td>\n",
              "      <td>A</td>\n",
              "      <td>N</td>\n",
              "      <td>A</td>\n",
              "      <td>D</td>\n",
              "      <td>N</td>\n",
              "      <td>SD</td>\n",
              "      <td>A</td>\n",
              "      <td>N</td>\n",
              "      <td>SD</td>\n",
              "      <td>A</td>\n",
              "      <td>SA</td>\n",
              "      <td>N</td>\n",
              "      <td>D</td>\n",
              "      <td>SD</td>\n",
              "      <td>A</td>\n",
              "      <td>SA</td>\n",
              "      <td>A</td>\n",
              "      <td>SA</td>\n",
              "      <td>5.2</td>\n",
              "      <td>108.79</td>\n",
              "      <td>98.04</td>\n",
              "      <td>2.0</td>\n",
              "      <td>54.3</td>\n",
              "      <td>84.07</td>\n",
              "      <td>82.37</td>\n",
              "      <td>1.92</td>\n",
              "      <td>0.0</td>\n",
              "      <td>1.92</td>\n",
              "    </tr>\n",
              "  </tbody>\n",
              "</table>\n",
              "<p>5 rows × 588 columns</p>\n",
              "</div>"
            ],
            "text/plain": [
              "         nrdi02L   nrdi04L  nrdi06L  ... Mars_Log_Score Mars_Errs Mars_Final\n",
              "100307  0.251907  0.035318      0.0  ...           1.76       0.0       1.76\n",
              "100408  0.252138  0.033855      0.0  ...           1.76       2.0       1.68\n",
              "101107  0.258333  0.035142      0.0  ...           1.84       0.0       1.84\n",
              "102311  0.273624  0.036690      0.0  ...           1.80       0.0       1.80\n",
              "102513  0.204164  0.028040      0.0  ...           1.92       0.0       1.92\n",
              "\n",
              "[5 rows x 588 columns]"
            ]
          },
          "metadata": {
            "tags": []
          },
          "execution_count": 226
        }
      ]
    },
    {
      "cell_type": "code",
      "metadata": {
        "colab": {
          "base_uri": "https://localhost:8080/"
        },
        "id": "rGaYYLcT2BSc",
        "outputId": "03537a99-1b28-4af8-e45e-ea22b131e486"
      },
      "source": [
        "diff_labels = example.columns[example.columns.tolist().index(\"qa\"):example.columns.tolist().index(\"rdi\") + 1].tolist()\n",
        "pers_labels = example.columns[example.columns.tolist().index(\"NEOFAC_A\"):example.columns.tolist().index(\"NEOFAC_E\") + 1].tolist()\n",
        "diff_labels, pers_labels\n",
        "\n",
        "\n",
        "#same as doing\n",
        "\n",
        "#diff_labels = [\"qa\", \"nqa\", \"dti_fa\", \"md\", \"ad\", \"rd\", \"gfa\", \"iso\",\"rdi\"]\n",
        "#pers_labels = [\"NEOFAC_A\",\"NEOFAC_O\", \"NEOFAC_C\", \"NEOFAC_N\", \"NEOFAC_E\"]"
      ],
      "execution_count": 227,
      "outputs": [
        {
          "output_type": "execute_result",
          "data": {
            "text/plain": [
              "(['qa', 'nqa', 'dti_fa', 'md', 'ad', 'rd', 'gfa', 'iso', 'rdi'],\n",
              " ['NEOFAC_A', 'NEOFAC_O', 'NEOFAC_C', 'NEOFAC_N', 'NEOFAC_E'])"
            ]
          },
          "metadata": {
            "tags": []
          },
          "execution_count": 227
        }
      ]
    },
    {
      "cell_type": "markdown",
      "metadata": {
        "id": "Q2uAexxdKDKs"
      },
      "source": [
        "# Linear regression "
      ]
    },
    {
      "cell_type": "code",
      "metadata": {
        "id": "_9PTlE9TXitO"
      },
      "source": [
        "dic = {\"pval\": [], \"coef\" : [], \"file\" : [], \"diff_labels\":[], \"pers_labels\" : []}\n",
        "\n",
        "for file in sorted(os.listdir()):\n",
        "  if \"tsv\" in file:\n",
        "    fd = pd.read_csv(file, sep =  '\\t', index_col = 0)\n",
        "    for s in diff_labels:\n",
        "      for l in pers_labels:\n",
        "        x = fd[s]\n",
        "        idx = np.where(np.isnan(x))\n",
        "        y = fd[l]\n",
        "        idx2 = np.where(np.isnan(y)) \n",
        "        x = np.delete(np.array(x),idx2[0].tolist()+ idx[0].tolist())\n",
        "        y = np.delete(np.array(y),idx2[0].tolist()+ idx[0].tolist())\n",
        "        x2 = sm2.add_constant(x)\n",
        "        ls = sm.OLS(y, x2).fit()\n",
        "        \n",
        "        dic[\"pval\"].append(ls.pvalues[1])\n",
        "        dic[\"coef\"].append(ls.params[1])\n",
        "        dic[\"file\"].append(file)\n",
        "        dic[\"diff_labels\"].append(s)\n",
        "        dic[\"pers_labels\"].append(l)"
      ],
      "execution_count": 228,
      "outputs": []
    },
    {
      "cell_type": "code",
      "metadata": {
        "id": "gA3ki0mD7stS"
      },
      "source": [
        "for l in dic.keys():\n",
        "  dic[l] = np.array(dic[l])"
      ],
      "execution_count": 229,
      "outputs": []
    },
    {
      "cell_type": "code",
      "metadata": {
        "id": "qtrQ7cn0GGzw"
      },
      "source": [
        ""
      ],
      "execution_count": 229,
      "outputs": []
    },
    {
      "cell_type": "code",
      "metadata": {
        "colab": {
          "base_uri": "https://localhost:8080/"
        },
        "id": "1owFQ8rUgBrt",
        "outputId": "59c81929-4dd6-49d8-bcbb-156e646e4437"
      },
      "source": [
        "idxs = np.array(dic[\"pval\"]) < 0.0007\n",
        "print(dic[\"file\"][idxs], dic[\"diff_labels\"][idxs], dic[\"pers_labels\"][idxs])"
      ],
      "execution_count": 230,
      "outputs": [
        {
          "output_type": "stream",
          "text": [
            "['Cingulum_Parahippocampal_R.tsv' 'Cingulum_Parahippocampal_R.tsv'\n",
            " 'Inferior_Cerebellar_Peduncle_L.tsv' 'Inferior_Cerebellar_Peduncle_R.tsv'\n",
            " 'Uncinate_Fasciculus_R.tsv'] ['md' 'ad' 'nqa' 'nqa' 'nqa'] ['NEOFAC_A' 'NEOFAC_A' 'NEOFAC_N' 'NEOFAC_N' 'NEOFAC_N']\n"
          ],
          "name": "stdout"
        }
      ]
    },
    {
      "cell_type": "code",
      "metadata": {
        "id": "tp7RYxsR2Mea"
      },
      "source": [
        ""
      ],
      "execution_count": 230,
      "outputs": []
    },
    {
      "cell_type": "markdown",
      "metadata": {
        "id": "Zs3bz7EB2M4j"
      },
      "source": [
        "# Focusing on a particular combination of diffusion markers and personality traits to see which model describes better their relationship"
      ]
    },
    {
      "cell_type": "code",
      "metadata": {
        "colab": {
          "base_uri": "https://localhost:8080/"
        },
        "id": "K0DDTrwMteF6",
        "outputId": "dee1be63-d42d-4180-85fc-3e3942f55a8c"
      },
      "source": [
        "ind = np.argsort(dic[\"pval\"])[2]\n",
        "ind\n",
        "print(dic[\"pval\"][ind])\n",
        "print(dic[\"file\"][ind], dic[\"diff_labels\"][ind], dic[\"pers_labels\"][ind])"
      ],
      "execution_count": 231,
      "outputs": [
        {
          "output_type": "stream",
          "text": [
            "0.0005509443184185714\n",
            "Inferior_Cerebellar_Peduncle_R.tsv nqa NEOFAC_N\n"
          ],
          "name": "stdout"
        }
      ]
    },
    {
      "cell_type": "code",
      "metadata": {
        "id": "EWImRP0d8cFZ"
      },
      "source": [
        "plt.rcParams[\"font.size\"] = 15"
      ],
      "execution_count": 232,
      "outputs": []
    },
    {
      "cell_type": "code",
      "metadata": {
        "colab": {
          "base_uri": "https://localhost:8080/",
          "height": 306
        },
        "id": "WIidJonDtxQ1",
        "outputId": "d4035d11-1fe5-4fc8-d7e6-9b3815ef4a9f"
      },
      "source": [
        "f = dic[\"file\"][ind]\n",
        "fd = pd.read_csv(f, sep =  '\\t', index_col = 0)\n",
        "x = fd[dic[\"diff_labels\"][ind]]\n",
        "y = fd[dic[\"pers_labels\"][ind]]\n",
        "idx = np.where(np.isnan(x))\n",
        "idx2 = np.where(np.isnan(y)) \n",
        "x = np.delete(np.array(x),idx2[0].tolist()+ idx[0].tolist())\n",
        "y = np.delete(np.array(y),idx2[0].tolist()+ idx[0].tolist())\n",
        "x = (x-np.mean(x))/np.std(x)\n",
        "y = (y-np.mean(y))/np.std(y)\n",
        "x2 = sm2.add_constant(x)\n",
        "ls = sm.OLS(y, x2).fit()\n",
        "plt.scatter(x,y)\n",
        "plt.plot(x,ls.params[0]+ls.params[1]*x, 'r-')\n",
        "plt.xlabel('%s' %dic[\"diff_labels\"][ind])\n",
        "plt.ylabel('%s' %dic[\"pers_labels\"][ind])\n",
        "print(ls.params[1])"
      ],
      "execution_count": 233,
      "outputs": [
        {
          "output_type": "stream",
          "text": [
            "0.1651660284738083\n"
          ],
          "name": "stdout"
        },
        {
          "output_type": "display_data",
          "data": {
            "image/png": "[encoded data removed]",
            "text/plain": [
              "<Figure size 432x288 with 1 Axes>"
            ]
          },
          "metadata": {
            "tags": [],
            "needs_background": "light"
          }
        }
      ]
    },
    {
      "cell_type": "code",
      "metadata": {
        "id": "TpyCWFh262Cv"
      },
      "source": [
        ""
      ],
      "execution_count": 233,
      "outputs": []
    },
    {
      "cell_type": "markdown",
      "metadata": {
        "id": "aObqbVip62TW"
      },
      "source": [
        "# Fitting polynomial regression models with different orders"
      ]
    },
    {
      "cell_type": "code",
      "metadata": {
        "id": "DqeMUDL2vcfU"
      },
      "source": [
        "# Thanks to Neuromatch academy courses for providing some of these functions\n",
        "def plot_fitted_polynomials(x, y, theta_hat):\n",
        "  \"\"\" Plot polynomials of different orders\n",
        "\n",
        "  Args:\n",
        "    x (ndarray): input vector of shape (n_samples)\n",
        "    y (ndarray): vector of measurements of shape (n_samples)\n",
        "    theta_hat (dict): polynomial regression weights for different orders\n",
        "  \"\"\"\n",
        "\n",
        "  x_grid = np.linspace(x.min() - .5, x.max() + .5)\n",
        "\n",
        "  plt.figure()\n",
        "\n",
        "  for order in range(0, max_order + 1):\n",
        "    X_design = make_design_matrix(x_grid, order)\n",
        "    plt.plot(x_grid, X_design @ theta_hat[order]);\n",
        "\n",
        "  plt.ylabel('y')\n",
        "  plt.xlabel('x')\n",
        "  plt.plot(x, y, 'C0.');\n",
        "  plt.legend([f'order {o}' for o in range(max_order + 1)], loc=1)\n",
        "  plt.title('polynomial fits')\n",
        "  plt.show()"
      ],
      "execution_count": 234,
      "outputs": []
    },
    {
      "cell_type": "code",
      "metadata": {
        "id": "H9VW3jkHvchn"
      },
      "source": [
        "\n",
        "def make_design_matrix(x, order):\n",
        "  \"\"\"Create the design matrix of inputs for use in polynomial regression\n",
        "\n",
        "  Args:\n",
        "    x (ndarray): input vector of shape (samples,)\n",
        "    order (scalar): polynomial regression order\n",
        "\n",
        "  Returns:\n",
        "    ndarray: design matrix for polynomial regression of shape (samples, order+1)\n",
        "  \"\"\"\n",
        "\n",
        "  # Broadcast to shape (n x 1) so dimensions work\n",
        "  if x.ndim == 1:\n",
        "    x = x[:, None]\n",
        "    \n",
        "  \n",
        "\n",
        "  #if x has more than one feature, we don't want multiple columns of ones so we assign\n",
        "  # x^0 here\n",
        "  design_matrix = np.ones((x.shape[0], 1))\n",
        "\n",
        "  # Loop through rest of degrees and stack columns (hint: np.hstack)\n",
        "  for degree in range(1, order + 1):\n",
        "      design_matrix = np.hstack((design_matrix, x**degree))\n",
        "\n",
        "  return design_matrix\n",
        "\n",
        "\n"
      ],
      "execution_count": 235,
      "outputs": []
    },
    {
      "cell_type": "code",
      "metadata": {
        "id": "4O5qN-pjv-4m"
      },
      "source": [
        "\n",
        "def ordinary_least_squares(X, y):\n",
        "  \"\"\"Ordinary least squares estimator for linear regression.\n",
        "\n",
        "  Args:\n",
        "    X (ndarray): design matrix of shape (n_samples, n_regressors)\n",
        "    y (ndarray): vector of measurements of shape (n_samples)\n",
        "\n",
        "  Returns:\n",
        "    ndarray: estimated parameter values of shape (n_regressors)\n",
        "  \"\"\"\n",
        "\n",
        "  # Compute theta_hat using OLS\n",
        "  theta_hat = np.linalg.inv(X.T @ X) @ X.T @ y\n",
        "\n",
        "  return theta_hat\n"
      ],
      "execution_count": 236,
      "outputs": []
    },
    {
      "cell_type": "code",
      "metadata": {
        "id": "fJLLn1iF6rJQ"
      },
      "source": [
        ""
      ],
      "execution_count": 236,
      "outputs": []
    },
    {
      "cell_type": "markdown",
      "metadata": {
        "id": "QCGFe_nV6rXv"
      },
      "source": [
        ""
      ]
    },
    {
      "cell_type": "code",
      "metadata": {
        "colab": {
          "base_uri": "https://localhost:8080/",
          "height": 309
        },
        "id": "OHLZ6MqtvckS",
        "outputId": "142f841c-a97c-4789-b74d-65e1b947e06e"
      },
      "source": [
        "\n",
        "def solve_poly_reg(x, y, max_order):\n",
        "  \"\"\"Fit a polynomial regression model for each order 0 through max_order.\n",
        "\n",
        "  Args:\n",
        "    x (ndarray): input vector of shape (n_samples)\n",
        "    y (ndarray): vector of measurements of shape (n_samples)\n",
        "    max_order (scalar): max order for polynomial fits\n",
        "\n",
        "  Returns:\n",
        "    dict: fitted weights for each polynomial model (dict key is order)\n",
        "  \"\"\"\n",
        "\n",
        "  # Create a dictionary with polynomial order as keys,\n",
        "  # and np array of theta_hat (weights) as the values\n",
        "  theta_hats = {}\n",
        "\n",
        "  # Loop over polynomial orders from 0 through max_order\n",
        "  for order in range(max_order + 1):\n",
        "\n",
        "    # Create design matrix\n",
        "    X_design = make_design_matrix(x, order)\n",
        "\n",
        "    # Fit polynomial model\n",
        "    this_theta = ordinary_least_squares(X_design, y)\n",
        "\n",
        "    theta_hats[order] = this_theta\n",
        "    \n",
        "\n",
        "  return theta_hats\n",
        "\n",
        "\n",
        "max_order = 6\n",
        "theta_hats = solve_poly_reg(x, y, max_order)\n",
        "#print(theta_hats)\n",
        "#with plt.xkcd():\n",
        "plot_fitted_polynomials(x, y, theta_hats)"
      ],
      "execution_count": 237,
      "outputs": [
        {
          "output_type": "display_data",
          "data": {
            "image/png": "[encoded data removed]",
            "text/plain": [
              "<Figure size 432x288 with 1 Axes>"
            ]
          },
          "metadata": {
            "tags": [],
            "needs_background": "light"
          }
        }
      ]
    },
    {
      "cell_type": "markdown",
      "metadata": {
        "id": "uW4UoWr37MvY"
      },
      "source": [
        "## Compare train vs test errors"
      ]
    },
    {
      "cell_type": "code",
      "metadata": {
        "id": "eKqiQMIEvcpG"
      },
      "source": [
        "def evaluate_poly_reg(x, y, theta_hats, max_order):\n",
        "    \"\"\" Evaluates MSE of polynomial regression models on data\n",
        "\n",
        "    Args:\n",
        "      x (ndarray): input vector of shape (n_samples)\n",
        "      y (ndarray): vector of measurements of shape (n_samples)\n",
        "      theta_hats (dict):  fitted weights for each polynomial model (dict key is order)\n",
        "      max_order (scalar): max order of polynomial fit\n",
        "\n",
        "    Returns\n",
        "      (ndarray): mean squared error for each order, shape (max_order)\n",
        "    \"\"\"\n",
        "\n",
        "    mse = np.zeros((max_order + 1))\n",
        "    for order in range(0, max_order + 1):\n",
        "      X_design = make_design_matrix(x, order)\n",
        "      y_hat = np.dot(X_design, theta_hats[order])\n",
        "      residuals = y - y_hat\n",
        "      mse[order] = np.mean(residuals ** 2)\n",
        "\n",
        "    return mse\n",
        "\n",
        "def compute_mse(x_train,x_test,y_train,y_test,theta_hats,max_order):\n",
        "  \"\"\"Compute MSE on training data and test data.\n",
        "\n",
        "  Args:\n",
        "    x_train(ndarray): training data input vector of shape (n_samples)\n",
        "    x_test(ndarray): test data input vector of shape (n_samples)\n",
        "    y_train(ndarray): training vector of measurements of shape (n_samples)\n",
        "    y_test(ndarray): test vector of measurements of shape (n_samples)\n",
        "    theta_hats(dict): fitted weights for each polynomial model (dict key is order)\n",
        "    max_order (scalar): max order of polynomial fit\n",
        "\n",
        "  Returns:\n",
        "    ndarray, ndarray: MSE error on training data and test data for each order\n",
        "  \"\"\"\n",
        "\n",
        "\n",
        "  mse_train = evaluate_poly_reg(x_train, y_train,theta_hats, max_order)\n",
        "  mse_test = evaluate_poly_reg(x_test, y_test,theta_hats, max_order)\n",
        "\n",
        "  return mse_train, mse_test\n",
        "\n"
      ],
      "execution_count": 238,
      "outputs": []
    },
    {
      "cell_type": "code",
      "metadata": {
        "id": "NXk6PAAJxu69"
      },
      "source": [
        "idxx = np.random.choice(len(x),int(0.20*len(x)), replace = False)\n",
        "\n",
        "x_test =  x[idxx]\n",
        "y_test = y[idxx]\n",
        "idxtrain = np.array(list(set(np.arange(0,len(x),1))- set(idxx)))\n",
        "idxx, idxtrain;"
      ],
      "execution_count": 239,
      "outputs": []
    },
    {
      "cell_type": "code",
      "metadata": {
        "colab": {
          "base_uri": "https://localhost:8080/",
          "height": 309
        },
        "id": "IyVAOa7evcrb",
        "outputId": "dbf4b281-60df-455f-d640-74fa9975b845"
      },
      "source": [
        "\n",
        "\n",
        "x_test =  x[idxx]\n",
        "y_test = y[idxx]\n",
        "\n",
        "x_train = x[idxtrain]\n",
        "y_train = y[idxtrain]\n",
        "\n",
        "mse_train, mse_test = compute_mse(x_train, x_test, y_train, y_test, theta_hats, max_order)\n",
        "\n",
        "fig, ax = plt.subplots()\n",
        "width = .35\n",
        "\n",
        "ax.bar(np.arange(max_order + 1) - width / 2, mse_train, width, label=\"train MSE\")\n",
        "ax.bar(np.arange(max_order + 1) + width / 2, mse_test , width, label=\"test MSE\")\n",
        "\n",
        "ax.legend()\n",
        "ax.set(xlabel='Polynomial order', ylabel='MSE', title ='Comparing polynomial fits');\n",
        "#print(mse_test)"
      ],
      "execution_count": 240,
      "outputs": [
        {
          "output_type": "display_data",
          "data": {
            "image/png": "[encoded data removed]",
            "text/plain": [
              "<Figure size 432x288 with 1 Axes>"
            ]
          },
          "metadata": {
            "tags": [],
            "needs_background": "light"
          }
        }
      ]
    },
    {
      "cell_type": "code",
      "metadata": {
        "colab": {
          "base_uri": "https://localhost:8080/"
        },
        "id": "YrwwHyqDyjf3",
        "outputId": "0e572240-5ead-4f58-f371-5d802c443502"
      },
      "source": [
        "np.argmin(mse_test), np.argmin(mse_train)"
      ],
      "execution_count": 241,
      "outputs": [
        {
          "output_type": "execute_result",
          "data": {
            "text/plain": [
              "(6, 6)"
            ]
          },
          "metadata": {
            "tags": []
          },
          "execution_count": 241
        }
      ]
    },
    {
      "cell_type": "markdown",
      "metadata": {
        "id": "7OE4uibr7QDF"
      },
      "source": [
        "## Cross validation for model selection"
      ]
    },
    {
      "cell_type": "code",
      "metadata": {
        "id": "y0DDjR7TyjkV"
      },
      "source": [
        "from sklearn.model_selection import KFold"
      ],
      "execution_count": 242,
      "outputs": []
    },
    {
      "cell_type": "code",
      "metadata": {
        "colab": {
          "base_uri": "https://localhost:8080/",
          "height": 309
        },
        "id": "YH8RP9nOyjng",
        "outputId": "21ae2d25-a38c-40d7-bfff-85c3c04c34b3"
      },
      "source": [
        "x_train = x\n",
        "y_train = y\n",
        "def cross_validate(x_train, y_train, max_order, n_splits):\n",
        "  \"\"\" Compute MSE for k-fold validation for each order polynomial\n",
        "\n",
        "  Args:\n",
        "    x_train (ndarray): training data input vector of shape (n_samples)\n",
        "    y_train (ndarray): training vector of measurements of shape (n_samples)\n",
        "    max_order (scalar): max order of polynomial fit\n",
        "    n_split (scalar): number of folds for k-fold validation\n",
        "\n",
        "  Return:\n",
        "    ndarray: MSE over splits for each model order, shape (n_splits, max_order + 1)\n",
        "\n",
        "  \"\"\"\n",
        "  # Initialize the split method\n",
        "  kfold_iterator = KFold(n_splits)\n",
        "\n",
        "  # Initialize np array mse values for all models for each split\n",
        "  mse_all = np.zeros((n_splits, max_order + 1))\n",
        "\n",
        "  for i_split, (train_indices, val_indices) in enumerate(kfold_iterator.split(x_train)):\n",
        "\n",
        "      # Split up the overall training data into cross-validation training and validation sets\n",
        "      x_cv_train = x_train[train_indices]\n",
        "      y_cv_train = y_train[train_indices]\n",
        "      x_cv_val = x_train[val_indices]\n",
        "      y_cv_val = y_train[val_indices]\n",
        "\n",
        "      # Fit models\n",
        "      theta_hats = solve_poly_reg(x_cv_train, y_cv_train, max_order)\n",
        "\n",
        "      # Compute MSE\n",
        "      mse_this_split = evaluate_poly_reg(x_cv_val, y_cv_val, theta_hats, max_order)\n",
        "\n",
        "      mse_all[i_split] = mse_this_split\n",
        "\n",
        "  return mse_all\n",
        "\n",
        "\n",
        "max_order = 6\n",
        "n_splits = 10\n",
        "#with plt.xkcd():\n",
        "plt.figure()\n",
        "\n",
        "mse_all = cross_validate(x_train, y_train, max_order, n_splits)\n",
        "plt.boxplot(mse_all, labels=np.arange(0, max_order + 1))\n",
        "\n",
        "plt.xlabel('Polynomial Order')\n",
        "plt.ylabel('Validation MSE')\n",
        "plt.title(f'Validation MSE over {n_splits} splits of the data');"
      ],
      "execution_count": 243,
      "outputs": [
        {
          "output_type": "display_data",
          "data": {
            "image/png": "[encoded data removed]",
            "text/plain": [
              "<Figure size 432x288 with 1 Axes>"
            ]
          },
          "metadata": {
            "tags": [],
            "needs_background": "light"
          }
        }
      ]
    },
    {
      "cell_type": "code",
      "metadata": {
        "colab": {
          "base_uri": "https://localhost:8080/"
        },
        "id": "DkgbQDuo9QVw",
        "outputId": "e0e0924e-dc72-4e5b-b3c9-d2614816022f"
      },
      "source": [
        "len(x_train)"
      ],
      "execution_count": 249,
      "outputs": [
        {
          "output_type": "execute_result",
          "data": {
            "text/plain": [
              "434"
            ]
          },
          "metadata": {
            "tags": []
          },
          "execution_count": 249
        }
      ]
    },
    {
      "cell_type": "code",
      "metadata": {
        "colab": {
          "base_uri": "https://localhost:8080/"
        },
        "id": "A-0YEIZj01KU",
        "outputId": "8c270fb5-1560-4231-fba2-7795d0cd037c"
      },
      "source": [
        "np.mean(mse_all,axis = 0)"
      ],
      "execution_count": 247,
      "outputs": [
        {
          "output_type": "execute_result",
          "data": {
            "text/plain": [
              "array([1.00217548, 0.98009201, 0.97389027, 0.97441742, 0.97519303,\n",
              "       0.97798161, 0.99156974])"
            ]
          },
          "metadata": {
            "tags": []
          },
          "execution_count": 247
        }
      ]
    },
    {
      "cell_type": "markdown",
      "metadata": {
        "id": "lwiFww3s7rUi"
      },
      "source": [
        "## Model selection through Akaike’s Information Criterion (AIC)"
      ]
    },
    {
      "cell_type": "code",
      "metadata": {
        "colab": {
          "base_uri": "https://localhost:8080/",
          "height": 309
        },
        "id": "e4mL2S4syjqL",
        "outputId": "5a989079-1961-483e-a02d-64de1ec6f057"
      },
      "source": [
        "x_train = x\n",
        "y_train = y\n",
        "AIC_list = []\n",
        "order_list = list(range(max_order + 1))\n",
        "\n",
        "for order in order_list:\n",
        "\n",
        "  # Compute predictions for this model\n",
        "  X_design = make_design_matrix(x_train, order)\n",
        "  y_hat = np.dot(X_design, theta_hats[order])\n",
        "\n",
        "  # Compute SSE\n",
        "  residuals = y_train - y_hat\n",
        "  sse = np.sum(residuals ** 2)\n",
        "  n_train_samples = len(residuals)\n",
        "  # Get K\n",
        "  K = len(theta_hats[order])\n",
        "\n",
        "  # Compute AIC\n",
        "  AIC = 2 * K + n_train_samples * np.log(sse / n_train_samples)\n",
        "\n",
        "  AIC_list.append(AIC)\n",
        "\n",
        "#with plt.xkcd():\n",
        "plt.bar(order_list, AIC_list)\n",
        "plt.ylabel('AIC')\n",
        "plt.xlabel('polynomial order')\n",
        "plt.title('comparing polynomial fits')\n",
        "plt.show()"
      ],
      "execution_count": 245,
      "outputs": [
        {
          "output_type": "display_data",
          "data": {
            "image/png": "[encoded data removed]",
            "text/plain": [
              "<Figure size 432x288 with 1 Axes>"
            ]
          },
          "metadata": {
            "tags": [],
            "needs_background": "light"
          }
        }
      ]
    },
    {
      "cell_type": "code",
      "metadata": {
        "colab": {
          "base_uri": "https://localhost:8080/"
        },
        "id": "tqnbwVp6vct4",
        "outputId": "3d4e7bf0-358d-4636-9d75-d410d311b0de"
      },
      "source": [
        "np.argmin(AIC_list)"
      ],
      "execution_count": 246,
      "outputs": [
        {
          "output_type": "execute_result",
          "data": {
            "text/plain": [
              "2"
            ]
          },
          "metadata": {
            "tags": []
          },
          "execution_count": 246
        }
      ]
    },
    {
      "cell_type": "markdown",
      "metadata": {
        "id": "nhm7b7YR2IZz"
      },
      "source": [
        "## CONCLUSION: according to AIC the regression model up to second order polynomial best describes the data, however the errors on the validation sets are quite similar among the models (from the first order on), and it doesn't seem much reasonable to explore models more complicated than ordinary least squares"
      ]
    },
    {
      "cell_type": "code",
      "metadata": {
        "id": "Ji1tazlTvcwQ"
      },
      "source": [
        ""
      ],
      "execution_count": 246,
      "outputs": []
    },
    {
      "cell_type": "code",
      "metadata": {
        "id": "WPQlabV6vcy-"
      },
      "source": [
        ""
      ],
      "execution_count": 246,
      "outputs": []
    },
    {
      "cell_type": "code",
      "metadata": {
        "id": "crExQT6Gvc1b"
      },
      "source": [
        ""
      ],
      "execution_count": 246,
      "outputs": []
    },
    {
      "cell_type": "code",
      "metadata": {
        "id": "l7vOoj6hvc3f"
      },
      "source": [
        ""
      ],
      "execution_count": 246,
      "outputs": []
    },
    {
      "cell_type": "code",
      "metadata": {
        "id": "n3f69c3Uvc5m"
      },
      "source": [
        ""
      ],
      "execution_count": 246,
      "outputs": []
    }
  ]
}